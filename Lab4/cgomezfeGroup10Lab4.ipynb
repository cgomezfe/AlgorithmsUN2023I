{
  "nbformat": 4,
  "nbformat_minor": 0,
  "metadata": {
    "colab": {
      "provenance": []
    },
    "kernelspec": {
      "name": "python3",
      "display_name": "Python 3"
    },
    "language_info": {
      "name": "python"
    }
  },
  "cells": [
    {
      "cell_type": "markdown",
      "metadata": {
        "id": "view-in-github"
      },
      "source": [
        "<a href=\"https://colab.research.google.com/github/gjhernandezp/algorithms/blob/master/Lab4/gjhernandezpAlgorithmicToolboxWeek1.ipynb\" target=\"_parent\"><img src=\"https://colab.research.google.com/assets/colab-badge.svg\" alt=\"Open In Colab\"/></a>"
      ]
    },
    {
      "cell_type": "markdown",
      "metadata": {
        "id": "N1ok_-56OjB1"
      },
      "source": [
        "# I Solving the Sum of Two Digits Programming Challenge"
      ]
    },
    {
      "cell_type": "markdown",
      "metadata": {
        "id": "MMY7kmDSO0KM"
      },
      "source": [
        "## C++"
      ]
    },
    {
      "cell_type": "code",
      "metadata": {
        "colab": {
          "base_uri": "https://localhost:8080/"
        },
        "id": "2pGGf9BkPNIk",
        "outputId": "9b9dac49-e8bf-4e45-824e-f7299ae4d331"
      },
      "source": [
        "%%writefile APlusB.cpp\n",
        "#include <iostream>\n",
        "\n",
        "int sum_of_two_digits(int first_digit, int second_digit) {\n",
        "    return first_digit + second_digit;\n",
        "}\n",
        "\n",
        "int main() {\n",
        "    int a = 0;\n",
        "    int b = 0;\n",
        "    std::cin >> a;\n",
        "    std::cin >> b;\n",
        "    std::cout << sum_of_two_digits(a, b);\n",
        "    return 0;\n",
        "}"
      ],
      "execution_count": 3,
      "outputs": [
        {
          "output_type": "stream",
          "name": "stdout",
          "text": [
            "Overwriting APlusB.cpp\n"
          ]
        }
      ]
    },
    {
      "cell_type": "code",
      "metadata": {
        "colab": {
          "base_uri": "https://localhost:8080/"
        },
        "id": "0G3ZKOYAPXSU",
        "outputId": "7dff93fa-f091-4926-9f5c-3c19fd891dd5"
      },
      "source": [
        "!g++ APlusB.cpp -o APlusB -std=c++11\n",
        "!./APlusB"
      ],
      "execution_count": 4,
      "outputs": [
        {
          "output_type": "stream",
          "name": "stdout",
          "text": [
            "^C\n"
          ]
        }
      ]
    },
    {
      "cell_type": "markdown",
      "metadata": {
        "id": "iNkG2HqfTl9c"
      },
      "source": [
        "### Test input output files"
      ]
    },
    {
      "cell_type": "code",
      "metadata": {
        "colab": {
          "base_uri": "https://localhost:8080/"
        },
        "id": "aTzU2efzMxly",
        "outputId": "aa254a61-1152-42b5-a11e-a3981f96d972"
      },
      "source": [
        "%%writefile input1.txt\n",
        "4 8"
      ],
      "execution_count": null,
      "outputs": [
        {
          "output_type": "stream",
          "text": [
            "Overwriting input1.txt\n"
          ],
          "name": "stdout"
        }
      ]
    },
    {
      "cell_type": "markdown",
      "metadata": {
        "id": "pdkfsvs-T0Wr"
      },
      "source": []
    },
    {
      "cell_type": "code",
      "metadata": {
        "colab": {
          "base_uri": "https://localhost:8080/"
        },
        "id": "zBJ0Gc0NQRet",
        "outputId": "67219fb3-7e55-40af-8ee4-deada7384695"
      },
      "source": [
        "%%writefile output1.txt\n",
        "12"
      ],
      "execution_count": null,
      "outputs": [
        {
          "output_type": "stream",
          "text": [
            "Overwriting output1.txt\n"
          ],
          "name": "stdout"
        }
      ]
    },
    {
      "cell_type": "code",
      "metadata": {
        "colab": {
          "base_uri": "https://localhost:8080/"
        },
        "id": "IjEcIx63PJAN",
        "outputId": "3240ee72-df71-4592-8cb0-57fc8d1a7453"
      },
      "source": [
        "%%writefile input2.txt\n",
        "-5 9"
      ],
      "execution_count": null,
      "outputs": [
        {
          "output_type": "stream",
          "text": [
            "Overwriting input2.txt\n"
          ],
          "name": "stdout"
        }
      ]
    },
    {
      "cell_type": "code",
      "metadata": {
        "colab": {
          "base_uri": "https://localhost:8080/"
        },
        "id": "Up9gOrxURTmd",
        "outputId": "856b79e0-46b1-4c93-d4fa-eb0f3db7847d"
      },
      "source": [
        "%%writefile output2.txt\n",
        "4"
      ],
      "execution_count": null,
      "outputs": [
        {
          "output_type": "stream",
          "text": [
            "Overwriting output2.txt\n"
          ],
          "name": "stdout"
        }
      ]
    },
    {
      "cell_type": "code",
      "metadata": {
        "colab": {
          "base_uri": "https://localhost:8080/"
        },
        "id": "PST6G-s-Pwgc",
        "outputId": "1ffae13c-98c4-47d0-b3ef-317e4a855ec0"
      },
      "source": [
        "!./APlusB < input1.txt"
      ],
      "execution_count": null,
      "outputs": [
        {
          "output_type": "stream",
          "text": [
            "12"
          ],
          "name": "stdout"
        }
      ]
    },
    {
      "cell_type": "code",
      "metadata": {
        "colab": {
          "base_uri": "https://localhost:8080/"
        },
        "id": "cKxZOjSlRfIN",
        "outputId": "a132b940-176c-43fb-dc88-9d1b7a8b2607"
      },
      "source": [
        "!./APlusB < input2.txt"
      ],
      "execution_count": null,
      "outputs": [
        {
          "output_type": "stream",
          "text": [
            "4"
          ],
          "name": "stdout"
        }
      ]
    },
    {
      "cell_type": "markdown",
      "metadata": {
        "id": "Qw2TQWCCUwqk"
      },
      "source": [
        "### Comparing files with grep\n",
        "\n",
        "https://askubuntu.com/questions/546796/comparing-two-text-files"
      ]
    },
    {
      "cell_type": "code",
      "metadata": {
        "id": "WVIaAmMKU4QM"
      },
      "source": [
        "!grep -xvFf output1.txt output1.txt "
      ],
      "execution_count": null,
      "outputs": []
    },
    {
      "cell_type": "code",
      "metadata": {
        "colab": {
          "base_uri": "https://localhost:8080/"
        },
        "id": "MQU8gPPjQuYO",
        "outputId": "aa7bd22c-a990-4c3e-95a3-245a263f440f"
      },
      "source": [
        "!grep -xvFf output1.txt output2.txt "
      ],
      "execution_count": null,
      "outputs": [
        {
          "output_type": "stream",
          "text": [
            "4\n"
          ],
          "name": "stdout"
        }
      ]
    },
    {
      "cell_type": "code",
      "metadata": {
        "colab": {
          "base_uri": "https://localhost:8080/"
        },
        "id": "jYL9OuYBTD_l",
        "outputId": "971cb7af-db13-4a14-cf6d-a2d00149d320"
      },
      "source": [
        "!grep -xvFf output2.txt output1.txt "
      ],
      "execution_count": null,
      "outputs": [
        {
          "output_type": "stream",
          "text": [
            "12\n"
          ],
          "name": "stdout"
        }
      ]
    },
    {
      "cell_type": "code",
      "metadata": {
        "id": "Jlja0Xm4TX9M"
      },
      "source": [
        "!./APlusB < input1.txt> ctest1.txt\n",
        "!grep -xvFf output1.txt ctest1.txt"
      ],
      "execution_count": null,
      "outputs": []
    },
    {
      "cell_type": "code",
      "metadata": {
        "id": "g9OIUZA_QLCQ"
      },
      "source": [
        "!./APlusB < input2.txt > ctest2.txt\n",
        "!grep -xvFf output2.txt ctest2.txt"
      ],
      "execution_count": null,
      "outputs": []
    },
    {
      "cell_type": "markdown",
      "metadata": {
        "id": "3BgOaDjUVJk6"
      },
      "source": [
        "## Python"
      ]
    },
    {
      "cell_type": "code",
      "metadata": {
        "colab": {
          "base_uri": "https://localhost:8080/"
        },
        "id": "DBvl-T0CTN_8",
        "outputId": "8ef71119-5929-4ad6-e730-ea71d3cdf227"
      },
      "source": [
        "%%writefile sum.py\n",
        "# python3\n",
        "\n",
        "def sum_of_two_digits(first_digit, second_digit):\n",
        "    return first_digit + second_digit\n",
        "\n",
        "if __name__ == '__main__':\n",
        "    a, b = map(int, input().split())\n",
        "    print(sum_of_two_digits(a, b))"
      ],
      "execution_count": 16,
      "outputs": [
        {
          "output_type": "stream",
          "name": "stdout",
          "text": [
            "Writing sum.py\n"
          ]
        }
      ]
    },
    {
      "cell_type": "code",
      "metadata": {
        "colab": {
          "base_uri": "https://localhost:8080/"
        },
        "id": "QKoKM11_WGyF",
        "outputId": "36b54951-6977-4def-fa50-abfae035331a"
      },
      "source": [
        "!python sum.py"
      ],
      "execution_count": 17,
      "outputs": [
        {
          "output_type": "stream",
          "name": "stdout",
          "text": [
            "\n",
            "^C\n"
          ]
        }
      ]
    },
    {
      "cell_type": "code",
      "metadata": {
        "id": "cocFbPRTWrqt"
      },
      "source": [
        "!python sum.py  < input1.txt> ptest1.txt\n",
        "!grep -xvFf output1.txt ptest1.txt"
      ],
      "execution_count": null,
      "outputs": []
    },
    {
      "cell_type": "code",
      "metadata": {
        "id": "MorKTa-XXASN"
      },
      "source": [
        "!python sum.py  < input2.txt> ptest2.txt\n",
        "!grep -xvFf output2.txt ptest2.txt"
      ],
      "execution_count": null,
      "outputs": []
    },
    {
      "cell_type": "markdown",
      "metadata": {
        "id": "uvP-mOubW_5F"
      },
      "source": [
        "# II Solving The Maximum Pairwise Product Programming Challenge in C++"
      ]
    },
    {
      "cell_type": "markdown",
      "metadata": {
        "id": "C12yoFR6Xonl"
      },
      "source": [
        "## C++"
      ]
    },
    {
      "cell_type": "code",
      "metadata": {
        "colab": {
          "base_uri": "https://localhost:8080/"
        },
        "id": "YL4qJX3tXxdd",
        "outputId": "542db168-5ef6-4ae6-a705-08d79d027a89"
      },
      "source": [
        "%%writefile max_pairwise_product.cpp\n",
        "#include <iostream>\n",
        "#include <vector>\n",
        "#include <algorithm>\n",
        "\n",
        "int MaxPairwiseProduct(const std::vector<int>& numbers) {\n",
        "    int max_product = 0;\n",
        "    int n = numbers.size();\n",
        "\n",
        "    for (int first = 0; first < n; ++first) {\n",
        "        for (int second = first + 1; second < n; ++second) {\n",
        "            max_product = std::max(max_product,\n",
        "                numbers[first] * numbers[second]);\n",
        "        }\n",
        "    }\n",
        "\n",
        "    return max_product;\n",
        "}\n",
        "\n",
        "int main() {\n",
        "    int n;\n",
        "    std::cin >> n;\n",
        "    std::vector<int> numbers(n);\n",
        "    for (int i = 0; i < n; ++i) {\n",
        "        std::cin >> numbers[i];\n",
        "    }\n",
        "\n",
        "    std::cout << MaxPairwiseProduct(numbers) << \"\\n\";\n",
        "    return 0;\n",
        "}\n"
      ],
      "execution_count": 13,
      "outputs": [
        {
          "output_type": "stream",
          "name": "stdout",
          "text": [
            "Writing max_pairwise_product.cpp\n"
          ]
        }
      ]
    },
    {
      "cell_type": "code",
      "metadata": {
        "colab": {
          "base_uri": "https://localhost:8080/"
        },
        "id": "KGxaEjvWX__O",
        "outputId": "d178f33f-bc19-4ca3-de9a-cd9cbd22e92f"
      },
      "source": [
        "!g++ max_pairwise_product.cpp -o max_pairwise_product\n",
        "!./max_pairwise_product"
      ],
      "execution_count": 15,
      "outputs": [
        {
          "output_type": "stream",
          "name": "stdout",
          "text": [
            "^C\n"
          ]
        }
      ]
    },
    {
      "cell_type": "markdown",
      "metadata": {
        "id": "e7KhxHGNS3i0"
      },
      "source": [
        "### Test 1: Small numbers"
      ]
    },
    {
      "cell_type": "code",
      "metadata": {
        "colab": {
          "base_uri": "https://localhost:8080/"
        },
        "id": "e1mmTzBgShT-",
        "outputId": "43076bfb-d95a-4ff9-9beb-a7d02ac43c4d"
      },
      "source": [
        "%%writefile input1.txt\n",
        "10\n",
        "1 2 3 4 5 6 7 8 9 10"
      ],
      "execution_count": null,
      "outputs": [
        {
          "output_type": "stream",
          "text": [
            "Overwriting input1.txt\n"
          ],
          "name": "stdout"
        }
      ]
    },
    {
      "cell_type": "code",
      "metadata": {
        "colab": {
          "base_uri": "https://localhost:8080/"
        },
        "id": "vy_uI0x7TCId",
        "outputId": "2783453a-1f2a-4243-f377-e8eee0e53ff5"
      },
      "source": [
        "!./max_pairwise_product < input1.txt"
      ],
      "execution_count": null,
      "outputs": [
        {
          "output_type": "stream",
          "text": [
            "90\n"
          ],
          "name": "stdout"
        }
      ]
    },
    {
      "cell_type": "markdown",
      "metadata": {
        "id": "IeZ3kTjpYmR9"
      },
      "source": [
        "### Test 2: largest input numbers 200000 200000 in the input"
      ]
    },
    {
      "cell_type": "code",
      "metadata": {
        "colab": {
          "base_uri": "https://localhost:8080/"
        },
        "id": "LQNlZqaqYt7U",
        "outputId": "e82f56cd-f988-4ca4-92c8-56b33190da8a"
      },
      "source": [
        "%%writefile input2.txt\n",
        "6\n",
        "1 3 200000 9 200000 23"
      ],
      "execution_count": null,
      "outputs": [
        {
          "output_type": "stream",
          "text": [
            "Overwriting input2.txt\n"
          ],
          "name": "stdout"
        }
      ]
    },
    {
      "cell_type": "code",
      "metadata": {
        "colab": {
          "base_uri": "https://localhost:8080/"
        },
        "id": "2Wad2VZUZDxR",
        "outputId": "53715137-ffce-4884-c4ef-98932df16b39"
      },
      "source": [
        "!./max_pairwise_product < input2.txt"
      ],
      "execution_count": null,
      "outputs": [
        {
          "output_type": "stream",
          "text": [
            "1345294336\n"
          ],
          "name": "stdout"
        }
      ]
    },
    {
      "cell_type": "markdown",
      "metadata": {
        "id": "H2SC0Qt5HCzz"
      },
      "source": [
        "Changing the variables to long long"
      ]
    },
    {
      "cell_type": "code",
      "metadata": {
        "colab": {
          "base_uri": "https://localhost:8080/"
        },
        "id": "MPcmsxiQZSfE",
        "outputId": "1f8fd4f4-fe94-4e27-9801-6780c888c7aa"
      },
      "source": [
        "%%writefile max_pairwise_product_long.cpp\n",
        "#include <iostream>\n",
        "#include <vector>\n",
        "#include <algorithm>\n",
        "\n",
        "long long MaxPairwiseProduct(const std::vector<int>& numbers) {\n",
        "    long long max_product = 0LL;\n",
        "\t  long long aux_product = 0LL;\n",
        "    int n = numbers.size();\n",
        "\n",
        "    for (int first = 0; first < n; ++first) {\n",
        "        for (int second = first + 1; second < n; ++second) {\n",
        "\t\t\t       aux_product =  (long long) numbers[first] * numbers[second];\n",
        "            if ( max_product < aux_product)  {\n",
        "\t\t\t\t        max_product = aux_product;\n",
        "             }\n",
        "        }\n",
        "    }\n",
        "\n",
        "    return max_product;\n",
        "}\n",
        "\n",
        "int main() {\n",
        "    int n;\n",
        "    std::cin >> n;\n",
        "    std::vector<int> numbers(n);\n",
        "    for (int i = 0; i < n; ++i) {\n",
        "        std::cin >> numbers[i];\n",
        "    }\n",
        "\n",
        "    std::cout << MaxPairwiseProduct(numbers) << \"\\n\";\n",
        "    return 0;\n",
        "}\n"
      ],
      "execution_count": null,
      "outputs": [
        {
          "output_type": "stream",
          "text": [
            "Overwriting max_pairwise_product_long.cpp\n"
          ],
          "name": "stdout"
        }
      ]
    },
    {
      "cell_type": "code",
      "metadata": {
        "colab": {
          "base_uri": "https://localhost:8080/"
        },
        "id": "I5pCeOG1Zm7s",
        "outputId": "857e0e16-cbac-4276-b003-b1f485f21f1f"
      },
      "source": [
        "!g++ max_pairwise_product_long.cpp -o max_pairwise_product_long\n",
        "!./max_pairwise_product_long < input1.txt\n",
        "!./max_pairwise_product_long < input2.txt"
      ],
      "execution_count": null,
      "outputs": [
        {
          "output_type": "stream",
          "text": [
            "90\n",
            "40000000000\n"
          ],
          "name": "stdout"
        }
      ]
    },
    {
      "cell_type": "markdown",
      "metadata": {
        "id": "XPVHkHxH6_7s"
      },
      "source": [
        "### Test 3  stress tests 20  times  random n in [2, 20] "
      ]
    },
    {
      "cell_type": "code",
      "metadata": {
        "id": "PwqpBmYr69fu"
      },
      "source": [],
      "execution_count": null,
      "outputs": []
    },
    {
      "cell_type": "markdown",
      "metadata": {
        "id": "9z9yr5QkeyJF"
      },
      "source": [
        "### Test 4  time test  measure the execution time running with the the largest worst case file (200000 increasing numbers, 200000 and 200000 the end) "
      ]
    },
    {
      "cell_type": "code",
      "metadata": {
        "id": "oLiMjbAIfPlX",
        "colab": {
          "base_uri": "https://localhost:8080/"
        },
        "outputId": "a7589dc3-93ba-410d-cb72-cd05a590a6f3"
      },
      "source": [
        "%%writefile Test2Write.cpp\n",
        "\n",
        "#include <iostream>\n",
        "#include <fstream>\n",
        "#include <cstdlib>\n",
        "\n",
        "using namespace std;\n",
        "\n",
        "int main() {\n",
        "  // Create and open a text file\n",
        "  ofstream MyFile(\"input3.txt\");\n",
        "\n",
        " MyFile << 200000 <<\"\\n\";  // n \n",
        " for (int i=1; i < 200001; i++){\n",
        "     MyFile << i <<\" \";\n",
        " }\n",
        "  \n",
        "  // Close the file\n",
        "  MyFile.close();\n",
        "}"
      ],
      "execution_count": null,
      "outputs": [
        {
          "output_type": "stream",
          "text": [
            "Overwriting Test2Write.cpp\n"
          ],
          "name": "stdout"
        }
      ]
    },
    {
      "cell_type": "code",
      "metadata": {
        "id": "EH25TkOkZfD9"
      },
      "source": [
        "!g++ Test2Write.cpp -o Test2Write\n",
        "!./Test2Write"
      ],
      "execution_count": null,
      "outputs": []
    },
    {
      "cell_type": "markdown",
      "metadata": {
        "id": "JB6f03qO-lj9"
      },
      "source": [
        "Measure time\n",
        "\n",
        "https://askubuntu.com/questions/53444/how-can-i-measure-the-execution-time-of-a-terminal-process"
      ]
    },
    {
      "cell_type": "code",
      "metadata": {
        "colab": {
          "base_uri": "https://localhost:8080/"
        },
        "id": "6p2QLEr576zk",
        "outputId": "e2a4a6aa-3c0c-4d1d-8405-1562c263baf4"
      },
      "source": [
        "!g++ max_pairwise_product_long.cpp -o max_pairwise_product_long\n",
        "!time ./max_pairwise_product_long < input3.txt"
      ],
      "execution_count": null,
      "outputs": [
        {
          "output_type": "stream",
          "text": [
            "39999800000\n",
            "\n",
            "real\t2m9.177s\n",
            "user\t2m8.700s\n",
            "sys\t0m0.033s\n"
          ],
          "name": "stdout"
        }
      ]
    },
    {
      "cell_type": "markdown",
      "metadata": {
        "id": "AmZeB2wYjxy5"
      },
      "source": [
        "##### Calculate  the number of instructions executed by the algorithm as a function of n, add in each line a comment with the number of instructions that are executed in that line \n",
        "\n",
        "```cpp\n",
        " int main() {                         //N inst exec by line executed  \n",
        "   \n",
        "    int n;                            //1                      \n",
        "    std::cin >> n;                    //1\n",
        "                                              \n",
        "    std::vector<int> numbers(n);      //n    init vector\n",
        "    .\n",
        "    .\n",
        " }\n",
        "\n",
        "```"
      ]
    },
    {
      "cell_type": "code",
      "metadata": {
        "colab": {
          "base_uri": "https://localhost:8080/"
        },
        "id": "djGX3FL13g9b",
        "outputId": "270176eb-1660-419e-de67-2c8f8c3c7f74"
      },
      "source": [
        "%%writefile test_init_vectors.cpp\n",
        "#include <iostream>\n",
        "#include <vector>\n",
        "#include <algorithm>\n",
        "int main() {                                                               \n",
        "    int n = 10;                                                                                                                            //1\n",
        "    std::vector<int> numbers(n);                                            \n",
        "    for (int i = 0; i < n; ++i) {                                           \n",
        "        std::cout << numbers[i];                                             \n",
        "    }\n",
        "\n",
        "    std::cout << \"\\n\";                       \n",
        "    return 0;                                                              \n",
        "}  "
      ],
      "execution_count": null,
      "outputs": [
        {
          "output_type": "stream",
          "text": [
            "Overwriting test_init_vectors.cpp\n"
          ],
          "name": "stdout"
        }
      ]
    },
    {
      "cell_type": "code",
      "metadata": {
        "colab": {
          "base_uri": "https://localhost:8080/"
        },
        "id": "44gZcuE237-1",
        "outputId": "7f5f9c2a-bed0-4223-ee39-3290f70db610"
      },
      "source": [
        "!g++ test_init_vectors.cpp -o test_init_vectors\n",
        "!./test_init_vectors"
      ],
      "execution_count": null,
      "outputs": [
        {
          "output_type": "stream",
          "text": [
            "0000000000\n"
          ],
          "name": "stdout"
        }
      ]
    },
    {
      "cell_type": "code",
      "metadata": {
        "colab": {
          "base_uri": "https://localhost:8080/"
        },
        "id": "uG6Mv-Pwlkii",
        "outputId": "8b4b2a48-2fc3-4feb-81ab-088e183a49f5"
      },
      "source": [
        "%%writefile max_pairwise_product_long.cpp\n",
        "#include <iostream>\n",
        "#include <vector>\n",
        "#include <algorithm>\n",
        "\n",
        "long long MaxPairwiseProduct(const std::vector<int>& numbers) {              //N inst exec by line executed \n",
        "    long long max_product = 0LL;                                             //1                                          \n",
        "\t  long long aux_product = 0LL;                                             //1 \n",
        "    int n = numbers.size();                                                  //1 \n",
        "                                                                             \n",
        "    for (int first = 0; first < n; ++first) {                                //1+2n  \n",
        "        for (int second = first + 1; second < n; ++second) {                 //n + (n-1)n \n",
        "\t\t\t       aux_product =  (long long) numbers[first] * numbers[second];    //(n-1)n/2 \n",
        "            if (max_product < aux_product)  {                                //(n-1)n/2 \n",
        "\t\t\t\t        max_product = aux_product;                                   //[0, (n-1)n/2] \n",
        "             }\n",
        "        }\n",
        "    }\n",
        "                                                                             // -------------- \n",
        "    return max_product;                                                      // 4 + 3n + [2(n-1)n, 2.5 (n-1)n] \n",
        "}\n",
        "\n",
        "int main() {                                              //N inst exec by line executed \n",
        "    int n;                                                //1  \n",
        "    std::cin >> n;                                        //1\n",
        "    std::vector<int> numbers(n);                          //n\n",
        "    for (int i = 0; i < n; ++i) {                         //1 + 2n\n",
        "        std::cin >> numbers[i];                           //n\n",
        "    }\n",
        "\n",
        "    std::cout << MaxPairwiseProduct(numbers) << \"\\n\";     //1 + 1  + 4 + 3n + [2(n-1)n, 2.5 (n-1)n]\n",
        "    return 0;                                             // -------------- \n",
        "}                                                         // 9 + 7n + [2(n-1)n, 2.5 (n-1)n]\n"
      ],
      "execution_count": null,
      "outputs": [
        {
          "output_type": "stream",
          "text": [
            "Overwriting max_pairwise_product_long.cpp\n"
          ],
          "name": "stdout"
        }
      ]
    },
    {
      "cell_type": "markdown",
      "metadata": {
        "id": "0vTsUg8OwcHs"
      },
      "source": [
        "Count executed intructions in code and verify with inputs 1, 2 and 3"
      ]
    },
    {
      "cell_type": "code",
      "metadata": {
        "colab": {
          "base_uri": "https://localhost:8080/"
        },
        "id": "CuRKkqQc137V",
        "outputId": "58b72004-01f8-4734-96f8-5ff1a32cdd31"
      },
      "source": [
        "%%writefile max_pairwise_product_long_execints.cpp\n",
        "#include <iostream>\n",
        "#include <vector>\n",
        "#include <algorithm>\n",
        "\n",
        "long long MaxPairwiseProduct(const std::vector<int>& numbers, long long &execints) {              //N inst exec by line executed \n",
        "    \n",
        "    long long m = 0LL;                                                       //1\n",
        "    \n",
        "    long long max_product = 0LL;                                             //1\n",
        "    execints++;\n",
        "\n",
        "\t  long long aux_product = 0LL;                                             //1\n",
        "    execints++;\n",
        "\n",
        "    int n = numbers.size();                                                  //1 \n",
        "    execints++;\n",
        "\n",
        "    execints++;                                                                         \n",
        "    for (int first = 0; first < n; ++first) {                                //1+2n  \n",
        "        execints += 2;\n",
        "\n",
        "        long long m = 0LL;\n",
        "\n",
        "        execints++;                                    \n",
        "        for (int second = first + 1; second < n; ++second) {                 //n+ (n-1)n \n",
        "            execints += 2;                                                \n",
        "\n",
        "\t\t\t      aux_product =  (long long) numbers[first] * numbers[second];    //(n-1)n/2 \n",
        "            execints++; \n",
        "\n",
        "            execints++; \n",
        "            if ( max_product < aux_product)  {                               //(n-1)n/2 \n",
        "                       \n",
        "\t\t\t\t        max_product = aux_product;                                   //[0, (n-1)n/2] \n",
        "                execints++; \n",
        "                m++;\n",
        "             }\n",
        "        }\n",
        "        if ( (first <= 10) || (n- first <= 10)) std::cout << m << \"\\n\";\n",
        "    }\n",
        "                                                                            // -------------- \n",
        "    return max_product;                                                     // 4 + 3n + [2(n-1)n, 2.5 (n-1)n] \n",
        "}\n",
        "\n",
        "int main() {                                                 //N inst exec by line executed \n",
        "    long long execints =0LL;\n",
        "\n",
        "    int n;                                                   //1\n",
        "    execints++;                                                              \n",
        "    \n",
        "    std::cin >> n;                                           //1\n",
        "    execints++;\n",
        "\n",
        "    std::vector<int> numbers(n);                             //n\n",
        "    execints += n;\n",
        "    \n",
        "    execints++;\n",
        "    for (int i = 0; i < n; ++i) {                            //1 + 2n\n",
        "        execints += 2;\n",
        "\n",
        "        std::cin >> numbers[i];\n",
        "        execints++;                                          //n\n",
        "    }\n",
        "    \n",
        "    //std::cout << MaxPairwiseProduct(numbers) << \"\\n\";      //1 + 1  + 4 + 3n + [2(n-1)n, 2.5 (n-1)n]\n",
        "\n",
        "    execints++;\n",
        "    int M = MaxPairwiseProduct(numbers,execints);\n",
        "\n",
        "    execints++;\n",
        "    std::cout <<  execints << \"\\n\";                       \n",
        "    return 0;                                                // -------------- \n",
        "}                                                            // 9 + 7n + [2(n-1)n, 2.5 (n-1)n]"
      ],
      "execution_count": null,
      "outputs": [
        {
          "output_type": "stream",
          "text": [
            "Overwriting max_pairwise_product_long_execints.cpp\n"
          ],
          "name": "stdout"
        }
      ]
    },
    {
      "cell_type": "code",
      "metadata": {
        "colab": {
          "base_uri": "https://localhost:8080/"
        },
        "id": "Kuvm1C05ly2a",
        "outputId": "f8e2f872-e7d9-4732-acb4-5ffe2e6568d1"
      },
      "source": [
        "!g++ max_pairwise_product_long_execints.cpp -o max_pairwise_product_long_execints\n",
        "!./max_pairwise_product_long_execints < input1.txt\n",
        "!./max_pairwise_product_long_execints < input2.txt\n",
        "!./max_pairwise_product_long_execints < input3.txt"
      ],
      "execution_count": null,
      "outputs": [
        {
          "output_type": "stream",
          "text": [
            "9\n",
            "5\n",
            "4\n",
            "3\n",
            "2\n",
            "2\n",
            "2\n",
            "2\n",
            "1\n",
            "0\n",
            "289\n",
            "2\n",
            "1\n",
            "2\n",
            "0\n",
            "0\n",
            "0\n",
            "116\n",
            "199999\n",
            "100000\n",
            "66667\n",
            "50000\n",
            "40000\n",
            "33334\n",
            "28572\n",
            "25000\n",
            "22223\n",
            "20000\n",
            "18182\n",
            "2\n",
            "2\n",
            "2\n",
            "2\n",
            "2\n",
            "2\n",
            "2\n",
            "2\n",
            "1\n",
            "0\n",
            "80003672077\n"
          ],
          "name": "stdout"
        }
      ]
    },
    {
      "cell_type": "markdown",
      "metadata": {
        "id": "L_uaamxeAHK7"
      },
      "source": [
        "The number of instructions executed by the algooirithm with a list of size $n$ is  \n",
        "\n",
        "$$T = 9 + 7n + [2(n-1)n, 2.5 (n-1)n]$$\n",
        "\n",
        "It depends on the size of the lists and  the order of the list.\n",
        "\n",
        "For the input1.txt \n",
        "```\n",
        "10\n",
        "1 2 3 4 5 6 7 8 9 10\n",
        "```\n",
        "$$T = 9 + 7(10) + 2(9)(10) +  9 + 5 + 4 + 3 + 2 + 2 + 2 + 2 + 1 + 0  = 289 $$\n",
        "\n",
        "For the input2.txt \n",
        "```\n",
        "6\n",
        "1 3 200000 9 200000 23\n",
        "```\n",
        "$$T = 9 + 7(6) + 2(5)(6)  +  2 + 1 + 2 + 0 + 0 + 0 = 116 $$\n",
        "\n",
        "\n",
        "For the input3.txt that is the worst case (n=200000 and list in incresing order)\n",
        "\n",
        "```\n",
        "200000\n",
        "1 2 3 4 5 6 7 8 9 10 ... 199998 199999 200000\n",
        "```\n",
        "\n",
        "$$\n",
        "\\begin{array}{ll}\n",
        "T &= 9 + 7(200000) + (2)(199999)(200000)  + (199999 +\n",
        "100000 + 66667 +50000 \\cdots 2 + 2 + 1)\\\\\n",
        "&= 80003672077  \\\\\n",
        "  &< 9 + 7(200000) + (2.5)(199999)(200000) \\\\\n",
        "  & = 100000900009\n",
        "\\end{array}\n",
        "  $$"
      ]
    },
    {
      "cell_type": "markdown",
      "metadata": {
        "id": "NXW7QkoBL6xH"
      },
      "source": [
        "Calculate estimated time by instruction and number of instructions by second"
      ]
    },
    {
      "cell_type": "code",
      "metadata": {
        "colab": {
          "base_uri": "https://localhost:8080/"
        },
        "id": "pKqB3i7dIxnc",
        "outputId": "cec850f5-16e3-4cd6-bf9b-6f5f2fd7b076"
      },
      "source": [
        "# Estimated time by instruction\n",
        "\n",
        "128/80003672077 \n"
      ],
      "execution_count": null,
      "outputs": [
        {
          "output_type": "execute_result",
          "data": {
            "text/plain": [
              "1.5999265618308827e-09"
            ]
          },
          "metadata": {
            "tags": []
          },
          "execution_count": 34
        }
      ]
    },
    {
      "cell_type": "code",
      "metadata": {
        "colab": {
          "base_uri": "https://localhost:8080/"
        },
        "id": "18N1ouqeMhE1",
        "outputId": "d7d4d1bf-b899-4c01-8ecb-e30da3ae6468"
      },
      "source": [
        "# Estimated number of instructions by second\n",
        "\n",
        "1/(128/80003672077) "
      ],
      "execution_count": null,
      "outputs": [
        {
          "output_type": "execute_result",
          "data": {
            "text/plain": [
              "625028688.1015625"
            ]
          },
          "metadata": {
            "tags": []
          },
          "execution_count": 35
        }
      ]
    },
    {
      "cell_type": "markdown",
      "metadata": {
        "id": "CQufozXLNJwO"
      },
      "source": [
        "### Efficient solution"
      ]
    },
    {
      "cell_type": "markdown",
      "metadata": {
        "id": "nLcKBwbU0QsE"
      },
      "source": [
        "Add in each line a coment with the number of intstrcution that are executed in that line"
      ]
    },
    {
      "cell_type": "code",
      "metadata": {
        "id": "knls5Fh3NSt_",
        "colab": {
          "base_uri": "https://localhost:8080/"
        },
        "outputId": "582299bd-fc85-4030-afdf-2ac41551aee7"
      },
      "source": [
        "%%writefile MaxPairwiseProductEfficient.cpp\n",
        "#include <iostream>\n",
        "#include <cstdlib>\n",
        "#include <ctime>\n",
        "#include <vector>\n",
        "\n",
        "long long MaxPairwiseProductEfficient(const std::vector& numbers){                      \n",
        "  int n = numbers.size();                                                                 //1\n",
        "  int max_index1 = -1;                                                                    //1\n",
        "  for(int i = 0; i < n; ++i){                                                             //n\n",
        "    if ((max_index1 == -1) || (numbers[i]>numbers[max_index1]))                           //2n\n",
        "      max_index1 = i;                                                                     \n",
        "  }                                                                                       \n",
        "\n",
        "  int max_index2 = -1;                                                                    //1\n",
        "  for(int j = 0; j < n;++j)                                                               //1+n\n",
        "    if ((j != max_index1) && ((max_index2 == -1) || (numbers[j]>numbers[max_index2])))    //n\n",
        "      max_index2= j;                                                                      \n",
        "\n",
        "  return ((long long)(numbers[max_index1]))*numbers[max_index2];                          //3      \n",
        "}                                                                                         \n",
        "\n",
        "int main() {\n",
        "    int n;                                                                                //1\n",
        "    std::cin >> n;                                                                        //1\n",
        "    std::vector numbers(n);                                                               //1\n",
        "    for (int i = 0; i < n; ++i) {                                                         //n\n",
        "        std::cin >> numbers[i];                                                           //n  \n",
        "    }\n",
        "    \n",
        "    std::cout << MaxPairwiseProductEfficient(numbers) << \"\\n\";                            //1\n",
        "\n",
        "    return 0;                                                                             \n",
        "}"
      ],
      "execution_count": 21,
      "outputs": [
        {
          "output_type": "stream",
          "name": "stdout",
          "text": [
            "Overwriting MaxPairwiseProductEfficient.cpp\n"
          ]
        }
      ]
    },
    {
      "cell_type": "markdown",
      "metadata": {
        "id": "-JCijbWxNSii"
      },
      "source": [
        "Test with inputs 1 and 2\n",
        "\n"
      ]
    },
    {
      "cell_type": "code",
      "metadata": {
        "id": "TrTGAfqlNVXT",
        "colab": {
          "base_uri": "https://localhost:8080/"
        },
        "outputId": "6dc7092e-31fd-45c6-f5f2-4d57afde9501"
      },
      "source": [
        "!g++ MaxPairwiseProductEfficient.cpp -o MaxPairwiseProductEfficient\n",
        "!./MaxPairwiseProductEfficient < input1.txt\n",
        "!./MaxPairwiseProductEfficient < input2.txt"
      ],
      "execution_count": 22,
      "outputs": [
        {
          "output_type": "stream",
          "name": "stdout",
          "text": [
            "\u001b[01m\u001b[KMaxPairwiseProductEfficient.cpp:6:45:\u001b[m\u001b[K \u001b[01;31m\u001b[Kerror: \u001b[m\u001b[Kinvalid use of template-name ‘\u001b[01m\u001b[Kstd::vector\u001b[m\u001b[K’ without an argument list\n",
            "    6 | long long MaxPairwiseProductEfficient(const \u001b[01;31m\u001b[Kstd\u001b[m\u001b[K::vector& numbers){\n",
            "      |                                             \u001b[01;31m\u001b[K^~~\u001b[m\u001b[K\n",
            "\u001b[01m\u001b[KMaxPairwiseProductEfficient.cpp:6:45:\u001b[m\u001b[K \u001b[01;36m\u001b[Knote: \u001b[m\u001b[Kclass template argument deduction is only available with ‘\u001b[01m\u001b[K-std=c++17\u001b[m\u001b[K’ or ‘\u001b[01m\u001b[K-std=gnu++17\u001b[m\u001b[K’\n",
            "In file included from \u001b[01m\u001b[K/usr/include/c++/9/vector:67\u001b[m\u001b[K,\n",
            "                 from \u001b[01m\u001b[KMaxPairwiseProductEfficient.cpp:4\u001b[m\u001b[K:\n",
            "\u001b[01m\u001b[K/usr/include/c++/9/bits/stl_vector.h:386:11:\u001b[m\u001b[K \u001b[01;36m\u001b[Knote: \u001b[m\u001b[K‘\u001b[01m\u001b[Ktemplate<class _Tp, class _Alloc> class std::vector\u001b[m\u001b[K’ declared here\n",
            "  386 |     class \u001b[01;36m\u001b[Kvector\u001b[m\u001b[K : protected _Vector_base<_Tp, _Alloc>\n",
            "      |           \u001b[01;36m\u001b[K^~~~~~\u001b[m\u001b[K\n",
            "\u001b[01m\u001b[KMaxPairwiseProductEfficient.cpp:\u001b[m\u001b[K In function ‘\u001b[01m\u001b[Klong long int MaxPairwiseProductEfficient(const int&)\u001b[m\u001b[K’:\n",
            "\u001b[01m\u001b[KMaxPairwiseProductEfficient.cpp:7:19:\u001b[m\u001b[K \u001b[01;31m\u001b[Kerror: \u001b[m\u001b[Krequest for member ‘\u001b[01m\u001b[Ksize\u001b[m\u001b[K’ in ‘\u001b[01m\u001b[Knumbers\u001b[m\u001b[K’, which is of non-class type ‘\u001b[01m\u001b[Kconst int\u001b[m\u001b[K’\n",
            "    7 |   int n = numbers.\u001b[01;31m\u001b[Ksize\u001b[m\u001b[K();                                                                 //1\n",
            "      |                   \u001b[01;31m\u001b[K^~~~\u001b[m\u001b[K\n",
            "\u001b[01m\u001b[KMaxPairwiseProductEfficient.cpp:10:41:\u001b[m\u001b[K \u001b[01;31m\u001b[Kerror: \u001b[m\u001b[Kinvalid types ‘\u001b[01m\u001b[Kconst int[int]\u001b[m\u001b[K’ for array subscript\n",
            "   10 |     if ((max_index1 == -1) || (numbers[i\u001b[01;31m\u001b[K]\u001b[m\u001b[K>numbers[max_index1]))                           //2n\n",
            "      |                                         \u001b[01;31m\u001b[K^\u001b[m\u001b[K\n",
            "\u001b[01m\u001b[KMaxPairwiseProductEfficient.cpp:10:61:\u001b[m\u001b[K \u001b[01;31m\u001b[Kerror: \u001b[m\u001b[Kinvalid types ‘\u001b[01m\u001b[Kconst int[int]\u001b[m\u001b[K’ for array subscript\n",
            "   10 |     if ((max_index1 == -1) || (numbers[i]>numbers[max_index1\u001b[01;31m\u001b[K]\u001b[m\u001b[K))                           //2n\n",
            "      |                                                             \u001b[01;31m\u001b[K^\u001b[m\u001b[K\n",
            "\u001b[01m\u001b[KMaxPairwiseProductEfficient.cpp:16:63:\u001b[m\u001b[K \u001b[01;31m\u001b[Kerror: \u001b[m\u001b[Kinvalid types ‘\u001b[01m\u001b[Kconst int[int]\u001b[m\u001b[K’ for array subscript\n",
            "   16 |     if ((j != max_index1) && ((max_index2 == -1) || (numbers[j\u001b[01;31m\u001b[K]\u001b[m\u001b[K>numbers[max_index2])))    //n\n",
            "      |                                                               \u001b[01;31m\u001b[K^\u001b[m\u001b[K\n",
            "\u001b[01m\u001b[KMaxPairwiseProductEfficient.cpp:16:83:\u001b[m\u001b[K \u001b[01;31m\u001b[Kerror: \u001b[m\u001b[Kinvalid types ‘\u001b[01m\u001b[Kconst int[int]\u001b[m\u001b[K’ for array subscript\n",
            "   16 |     if ((j != max_index1) && ((max_index2 == -1) || (numbers[j]>numbers[max_index2\u001b[01;31m\u001b[K]\u001b[m\u001b[K)))    //n\n",
            "      |                                                                                   \u001b[01;31m\u001b[K^\u001b[m\u001b[K\n",
            "\u001b[01m\u001b[KMaxPairwiseProductEfficient.cpp:19:41:\u001b[m\u001b[K \u001b[01;31m\u001b[Kerror: \u001b[m\u001b[Kinvalid types ‘\u001b[01m\u001b[Kconst int[int]\u001b[m\u001b[K’ for array subscript\n",
            "   19 |   return ((long long)(numbers[max_index1\u001b[01;31m\u001b[K]\u001b[m\u001b[K))*numbers[max_index2];                          //3\n",
            "      |                                         \u001b[01;31m\u001b[K^\u001b[m\u001b[K\n",
            "\u001b[01m\u001b[KMaxPairwiseProductEfficient.cpp:19:63:\u001b[m\u001b[K \u001b[01;31m\u001b[Kerror: \u001b[m\u001b[Kinvalid types ‘\u001b[01m\u001b[Kconst int[int]\u001b[m\u001b[K’ for array subscript\n",
            "   19 |   return ((long long)(numbers[max_index1]))*numbers[max_index2\u001b[01;31m\u001b[K]\u001b[m\u001b[K;                          //3\n",
            "      |                                                               \u001b[01;31m\u001b[K^\u001b[m\u001b[K\n",
            "\u001b[01m\u001b[KMaxPairwiseProductEfficient.cpp:\u001b[m\u001b[K In function ‘\u001b[01m\u001b[Kint main()\u001b[m\u001b[K’:\n",
            "\u001b[01m\u001b[KMaxPairwiseProductEfficient.cpp:25:17:\u001b[m\u001b[K \u001b[01;31m\u001b[Kerror: \u001b[m\u001b[Kmissing template arguments before ‘\u001b[01m\u001b[Knumbers\u001b[m\u001b[K’\n",
            "   25 |     std::vector \u001b[01;31m\u001b[Knumbers\u001b[m\u001b[K(n);                                                               //1\n",
            "      |                 \u001b[01;31m\u001b[K^~~~~~~\u001b[m\u001b[K\n",
            "\u001b[01m\u001b[KMaxPairwiseProductEfficient.cpp:27:21:\u001b[m\u001b[K \u001b[01;31m\u001b[Kerror: \u001b[m\u001b[K‘\u001b[01m\u001b[Knumbers\u001b[m\u001b[K’ was not declared in this scope\n",
            "   27 |         std::cin >> \u001b[01;31m\u001b[Knumbers\u001b[m\u001b[K[i];                                                           //n\n",
            "      |                     \u001b[01;31m\u001b[K^~~~~~~\u001b[m\u001b[K\n",
            "\u001b[01m\u001b[KMaxPairwiseProductEfficient.cpp:30:46:\u001b[m\u001b[K \u001b[01;31m\u001b[Kerror: \u001b[m\u001b[K‘\u001b[01m\u001b[Knumbers\u001b[m\u001b[K’ was not declared in this scope\n",
            "   30 |     std::cout << MaxPairwiseProductEfficient(\u001b[01;31m\u001b[Knumbers\u001b[m\u001b[K) << \"\\n\";                            //1\n",
            "      |                                              \u001b[01;31m\u001b[K^~~~~~~\u001b[m\u001b[K\n",
            "/bin/bash: input1.txt: No such file or directory\n",
            "/bin/bash: input2.txt: No such file or directory\n"
          ]
        }
      ]
    },
    {
      "cell_type": "markdown",
      "metadata": {
        "id": "PRX51wADNR8b"
      },
      "source": [
        "Test and time it with input 3"
      ]
    },
    {
      "cell_type": "code",
      "metadata": {
        "id": "v4z7-Is_NRt7"
      },
      "source": [],
      "execution_count": null,
      "outputs": []
    },
    {
      "cell_type": "markdown",
      "metadata": {
        "id": "rpdfs0_TNZJf"
      },
      "source": [
        "20 stress tests"
      ]
    },
    {
      "cell_type": "code",
      "metadata": {
        "id": "Lu4tYcKzNcTT"
      },
      "source": [],
      "execution_count": null,
      "outputs": []
    },
    {
      "cell_type": "markdown",
      "metadata": {
        "id": "L8U4151JNbxk"
      },
      "source": [
        "Count executed instructions in code and verify with inputs 1,2 and 3\n"
      ]
    },
    {
      "cell_type": "code",
      "metadata": {
        "id": "dh85RM8vNhFz"
      },
      "source": [],
      "execution_count": null,
      "outputs": []
    },
    {
      "cell_type": "markdown",
      "metadata": {
        "id": "K6ybgCmpNygr"
      },
      "source": [
        "Calculate estimated time by instruction and number of instructions by second"
      ]
    },
    {
      "cell_type": "code",
      "metadata": {
        "id": "kwe3G1O3Nz1w"
      },
      "source": [],
      "execution_count": null,
      "outputs": []
    },
    {
      "cell_type": "markdown",
      "metadata": {
        "id": "sc9nOLQrfTm0"
      },
      "source": [
        "### Super efficient solution\n",
        "\n",
        "Whitout storing the list in memory and whitout calling a function, add in each line a coment with the number of intstrcution that are executed in that line "
      ]
    },
    {
      "cell_type": "code",
      "metadata": {
        "id": "hBLt_xBQLy8E"
      },
      "source": [],
      "execution_count": null,
      "outputs": []
    },
    {
      "cell_type": "markdown",
      "metadata": {
        "id": "683gc3roHqzb"
      },
      "source": [
        "Test with inputs 1 and 2\n",
        "\n",
        "\n",
        " "
      ]
    },
    {
      "cell_type": "code",
      "metadata": {
        "id": "b7d4LA8OIc2_"
      },
      "source": [],
      "execution_count": null,
      "outputs": []
    },
    {
      "cell_type": "markdown",
      "metadata": {
        "id": "36Ugn1odIeJz"
      },
      "source": [
        "Test and time it with input 3"
      ]
    },
    {
      "cell_type": "code",
      "metadata": {
        "id": "jDyMbCnxHqSN"
      },
      "source": [],
      "execution_count": null,
      "outputs": []
    },
    {
      "cell_type": "markdown",
      "metadata": {
        "id": "bhqiKQG6fjKM"
      },
      "source": [
        "20 stress tests "
      ]
    },
    {
      "cell_type": "code",
      "metadata": {
        "id": "2KsiXKhALzwm"
      },
      "source": [],
      "execution_count": null,
      "outputs": []
    },
    {
      "cell_type": "markdown",
      "metadata": {
        "id": "fEXj8GHJH5p1"
      },
      "source": [
        "Count executed instructions in code and verify with inputs 1,2 and 3"
      ]
    },
    {
      "cell_type": "code",
      "metadata": {
        "id": "LF1DHjKXIAsF"
      },
      "source": [],
      "execution_count": null,
      "outputs": []
    },
    {
      "cell_type": "markdown",
      "metadata": {
        "id": "yae7sSm2IG9U"
      },
      "source": [
        "Calculate estimated time by instruction and number of instructions by second"
      ]
    },
    {
      "cell_type": "code",
      "metadata": {
        "id": "suouY7BYL2dz"
      },
      "source": [],
      "execution_count": null,
      "outputs": []
    },
    {
      "cell_type": "markdown",
      "metadata": {
        "id": "LkVxxlhl9H98"
      },
      "source": [
        "# Codeforces problem https://codeforces.com/contest/1619/problem/A \n",
        "\n",
        "Solve the problem in Colab, submit the solution to Codeforces and add a screenshoot of the submission."
      ]
    },
    {
      "cell_type": "markdown",
      "source": [
        "![image.png](data:image/png;base64,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)"
      ],
      "metadata": {
        "id": "76ovfxIsTSUI"
      }
    },
    {
      "cell_type": "markdown",
      "source": [
        "Aceptado con el codigo:"
      ],
      "metadata": {
        "id": "XztI8LXTTawT"
      }
    },
    {
      "cell_type": "code",
      "source": [
        "n = int(input())\n",
        "\n",
        "for i in range(n):\n",
        "    word = input().strip()\n",
        "    size = len(word)\n",
        "\n",
        "    if size % 2 != 0:\n",
        "        print('NO')\n",
        "    else:\n",
        "        middle = size//2\n",
        "        if(word[:middle]==word[middle:]):\n",
        "            print('YES')\n",
        "        else:\n",
        "            print('NO')"
      ],
      "metadata": {
        "id": "RQPk49KjTeoZ"
      },
      "execution_count": null,
      "outputs": []
    }
  ]
}