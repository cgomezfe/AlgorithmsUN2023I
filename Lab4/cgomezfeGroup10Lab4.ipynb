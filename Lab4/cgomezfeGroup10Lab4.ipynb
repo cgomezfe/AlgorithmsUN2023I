{
  "nbformat": 4,
  "nbformat_minor": 0,
  "metadata": {
    "colab": {
      "provenance": []
    },
    "kernelspec": {
      "name": "python3",
      "display_name": "Python 3"
    },
    "language_info": {
      "name": "python"
    }
  },
  "cells": [
    {
      "cell_type": "markdown",
      "metadata": {
        "id": "view-in-github"
      },
      "source": [
        "<a href=\"https://colab.research.google.com/github/gjhernandezp/algorithms/blob/master/Lab4/gjhernandezpAlgorithmicToolboxWeek1.ipynb\" target=\"_parent\"><img src=\"https://colab.research.google.com/assets/colab-badge.svg\" alt=\"Open In Colab\"/></a>"
      ]
    },
    {
      "cell_type": "markdown",
      "metadata": {
        "id": "N1ok_-56OjB1"
      },
      "source": [
        "# I Solving the Sum of Two Digits Programming Challenge"
      ]
    },
    {
      "cell_type": "markdown",
      "metadata": {
        "id": "MMY7kmDSO0KM"
      },
      "source": [
        "## C++"
      ]
    },
    {
      "cell_type": "code",
      "metadata": {
        "colab": {
          "base_uri": "https://localhost:8080/"
        },
        "id": "2pGGf9BkPNIk",
        "outputId": "a2d71fd9-5633-447b-bc20-37c3bb68a612"
      },
      "source": [
        "%%writefile APlusB.cpp\n",
        "#include <iostream>\n",
        "\n",
        "int sum_of_two_digits(int first_digit, int second_digit) {\n",
        "    return first_digit + second_digit;\n",
        "}\n",
        "\n",
        "int main() {\n",
        "    int a = 0;\n",
        "    int b = 0;\n",
        "    std::cin >> a;\n",
        "    std::cin >> b;\n",
        "    std::cout << sum_of_two_digits(a, b);\n",
        "    return 0;\n",
        "}"
      ],
      "execution_count": 1,
      "outputs": [
        {
          "output_type": "stream",
          "name": "stdout",
          "text": [
            "Writing APlusB.cpp\n"
          ]
        }
      ]
    },
    {
      "cell_type": "code",
      "metadata": {
        "colab": {
          "base_uri": "https://localhost:8080/"
        },
        "id": "0G3ZKOYAPXSU",
        "outputId": "6580b5e6-0e48-4ef2-f874-1ff5a27e43f5"
      },
      "source": [
        "!g++ APlusB.cpp -o APlusB -std=c++11\n",
        "!./APlusB"
      ],
      "execution_count": 2,
      "outputs": [
        {
          "output_type": "stream",
          "name": "stdout",
          "text": [
            "6\n",
            "8\n",
            "14"
          ]
        }
      ]
    },
    {
      "cell_type": "markdown",
      "metadata": {
        "id": "iNkG2HqfTl9c"
      },
      "source": [
        "### Test input output files"
      ]
    },
    {
      "cell_type": "code",
      "metadata": {
        "colab": {
          "base_uri": "https://localhost:8080/"
        },
        "id": "aTzU2efzMxly",
        "outputId": "cc9ed8d1-16ae-4354-8a88-87b5e12936f2"
      },
      "source": [
        "%%writefile input1.txt\n",
        "4 8"
      ],
      "execution_count": 5,
      "outputs": [
        {
          "output_type": "stream",
          "name": "stdout",
          "text": [
            "Writing input1.txt\n"
          ]
        }
      ]
    },
    {
      "cell_type": "markdown",
      "metadata": {
        "id": "pdkfsvs-T0Wr"
      },
      "source": []
    },
    {
      "cell_type": "code",
      "metadata": {
        "colab": {
          "base_uri": "https://localhost:8080/"
        },
        "id": "zBJ0Gc0NQRet",
        "outputId": "9d46e0ee-c165-4e3d-cb97-5641c1a27008"
      },
      "source": [
        "%%writefile output1.txt\n",
        "12"
      ],
      "execution_count": 6,
      "outputs": [
        {
          "output_type": "stream",
          "name": "stdout",
          "text": [
            "Writing output1.txt\n"
          ]
        }
      ]
    },
    {
      "cell_type": "code",
      "metadata": {
        "colab": {
          "base_uri": "https://localhost:8080/"
        },
        "id": "IjEcIx63PJAN",
        "outputId": "ccd5516e-29eb-4c78-e60c-c10cd210c4ab"
      },
      "source": [
        "%%writefile input2.txt\n",
        "-5 9"
      ],
      "execution_count": 7,
      "outputs": [
        {
          "output_type": "stream",
          "name": "stdout",
          "text": [
            "Writing input2.txt\n"
          ]
        }
      ]
    },
    {
      "cell_type": "code",
      "metadata": {
        "colab": {
          "base_uri": "https://localhost:8080/"
        },
        "id": "Up9gOrxURTmd",
        "outputId": "2e681a7e-3172-4908-d0f5-2cd534084dcd"
      },
      "source": [
        "%%writefile output2.txt\n",
        "4"
      ],
      "execution_count": 8,
      "outputs": [
        {
          "output_type": "stream",
          "name": "stdout",
          "text": [
            "Writing output2.txt\n"
          ]
        }
      ]
    },
    {
      "cell_type": "code",
      "metadata": {
        "colab": {
          "base_uri": "https://localhost:8080/"
        },
        "id": "PST6G-s-Pwgc",
        "outputId": "7aa095b0-9196-42fe-aafa-9b6ddfaba2e4"
      },
      "source": [
        "!./APlusB < input1.txt"
      ],
      "execution_count": 9,
      "outputs": [
        {
          "output_type": "stream",
          "name": "stdout",
          "text": [
            "12"
          ]
        }
      ]
    },
    {
      "cell_type": "code",
      "metadata": {
        "colab": {
          "base_uri": "https://localhost:8080/"
        },
        "id": "cKxZOjSlRfIN",
        "outputId": "8d16ebac-62c1-4d1e-c163-75771896e196"
      },
      "source": [
        "!./APlusB < input2.txt"
      ],
      "execution_count": 10,
      "outputs": [
        {
          "output_type": "stream",
          "name": "stdout",
          "text": [
            "4"
          ]
        }
      ]
    },
    {
      "cell_type": "markdown",
      "metadata": {
        "id": "Qw2TQWCCUwqk"
      },
      "source": [
        "### Comparing files with grep\n",
        "\n",
        "https://askubuntu.com/questions/546796/comparing-two-text-files"
      ]
    },
    {
      "cell_type": "code",
      "metadata": {
        "id": "WVIaAmMKU4QM"
      },
      "source": [
        "!grep -xvFf output1.txt output1.txt "
      ],
      "execution_count": 11,
      "outputs": []
    },
    {
      "cell_type": "code",
      "metadata": {
        "colab": {
          "base_uri": "https://localhost:8080/"
        },
        "id": "MQU8gPPjQuYO",
        "outputId": "5d6c4886-cebf-4220-bcc5-993e8d9a2e29"
      },
      "source": [
        "!grep -xvFf output1.txt output2.txt "
      ],
      "execution_count": 12,
      "outputs": [
        {
          "output_type": "stream",
          "name": "stdout",
          "text": [
            "4\n"
          ]
        }
      ]
    },
    {
      "cell_type": "code",
      "metadata": {
        "colab": {
          "base_uri": "https://localhost:8080/"
        },
        "id": "jYL9OuYBTD_l",
        "outputId": "bfcf4a3a-424d-4cbe-e63c-f82d4193528a"
      },
      "source": [
        "!grep -xvFf output2.txt output1.txt "
      ],
      "execution_count": 13,
      "outputs": [
        {
          "output_type": "stream",
          "name": "stdout",
          "text": [
            "12\n"
          ]
        }
      ]
    },
    {
      "cell_type": "code",
      "metadata": {
        "id": "Jlja0Xm4TX9M"
      },
      "source": [
        "!./APlusB < input1.txt> ctest1.txt\n",
        "!grep -xvFf output1.txt ctest1.txt"
      ],
      "execution_count": 14,
      "outputs": []
    },
    {
      "cell_type": "code",
      "metadata": {
        "id": "g9OIUZA_QLCQ"
      },
      "source": [
        "!./APlusB < input2.txt > ctest2.txt\n",
        "!grep -xvFf output2.txt ctest2.txt"
      ],
      "execution_count": 15,
      "outputs": []
    },
    {
      "cell_type": "markdown",
      "metadata": {
        "id": "3BgOaDjUVJk6"
      },
      "source": [
        "## Python"
      ]
    },
    {
      "cell_type": "code",
      "metadata": {
        "colab": {
          "base_uri": "https://localhost:8080/"
        },
        "id": "DBvl-T0CTN_8",
        "outputId": "94a326d5-8fe9-4cef-b361-531ad9df497c"
      },
      "source": [
        "%%writefile sum.py\n",
        "# python3\n",
        "\n",
        "def sum_of_two_digits(first_digit, second_digit):\n",
        "    return first_digit + second_digit\n",
        "\n",
        "if __name__ == '__main__':\n",
        "    a, b = map(int, input().split())\n",
        "    print(sum_of_two_digits(a, b))"
      ],
      "execution_count": 16,
      "outputs": [
        {
          "output_type": "stream",
          "name": "stdout",
          "text": [
            "Writing sum.py\n"
          ]
        }
      ]
    },
    {
      "cell_type": "code",
      "metadata": {
        "colab": {
          "base_uri": "https://localhost:8080/"
        },
        "id": "QKoKM11_WGyF",
        "outputId": "6d5822ed-0e54-4d84-9dd3-eb9c33f2073e"
      },
      "source": [
        "!python sum.py"
      ],
      "execution_count": 17,
      "outputs": [
        {
          "output_type": "stream",
          "name": "stdout",
          "text": [
            "10 20\n",
            "30\n"
          ]
        }
      ]
    },
    {
      "cell_type": "code",
      "metadata": {
        "id": "cocFbPRTWrqt"
      },
      "source": [
        "!python sum.py  < input1.txt> ptest1.txt\n",
        "!grep -xvFf output1.txt ptest1.txt"
      ],
      "execution_count": 18,
      "outputs": []
    },
    {
      "cell_type": "code",
      "metadata": {
        "id": "MorKTa-XXASN"
      },
      "source": [
        "!python sum.py  < input2.txt> ptest2.txt\n",
        "!grep -xvFf output2.txt ptest2.txt"
      ],
      "execution_count": 19,
      "outputs": []
    },
    {
      "cell_type": "markdown",
      "metadata": {
        "id": "uvP-mOubW_5F"
      },
      "source": [
        "# II Solving The Maximum Pairwise Product Programming Challenge in C++"
      ]
    },
    {
      "cell_type": "markdown",
      "metadata": {
        "id": "C12yoFR6Xonl"
      },
      "source": [
        "## C++"
      ]
    },
    {
      "cell_type": "code",
      "metadata": {
        "colab": {
          "base_uri": "https://localhost:8080/"
        },
        "id": "YL4qJX3tXxdd",
        "outputId": "a985ea33-5703-49a2-8a34-8530ae0a0412"
      },
      "source": [
        "%%writefile max_pairwise_product.cpp\n",
        "#include <iostream>\n",
        "#include <vector>\n",
        "#include <algorithm>\n",
        "\n",
        "int MaxPairwiseProduct(const std::vector<int>& numbers) {\n",
        "    int max_product = 0;\n",
        "    int n = numbers.size();\n",
        "\n",
        "    for (int first = 0; first < n; ++first) {\n",
        "        for (int second = first + 1; second < n; ++second) {\n",
        "            max_product = std::max(max_product,\n",
        "                numbers[first] * numbers[second]);\n",
        "        }\n",
        "    }\n",
        "\n",
        "    return max_product;\n",
        "}\n",
        "\n",
        "int main() {\n",
        "    int n;\n",
        "    std::cin >> n;\n",
        "    std::vector<int> numbers(n);\n",
        "    for (int i = 0; i < n; ++i) {\n",
        "        std::cin >> numbers[i];\n",
        "    }\n",
        "\n",
        "    std::cout << MaxPairwiseProduct(numbers) << \"\\n\";\n",
        "    return 0;\n",
        "}\n"
      ],
      "execution_count": 20,
      "outputs": [
        {
          "output_type": "stream",
          "name": "stdout",
          "text": [
            "Writing max_pairwise_product.cpp\n"
          ]
        }
      ]
    },
    {
      "cell_type": "code",
      "metadata": {
        "colab": {
          "base_uri": "https://localhost:8080/"
        },
        "id": "KGxaEjvWX__O",
        "outputId": "34cbd243-af1f-4236-eb0d-259e7676b32d"
      },
      "source": [
        "!g++ max_pairwise_product.cpp -o max_pairwise_product\n",
        "!./max_pairwise_product"
      ],
      "execution_count": 21,
      "outputs": [
        {
          "output_type": "stream",
          "name": "stdout",
          "text": [
            "4\n",
            "41 50 23 65\n",
            "3250\n"
          ]
        }
      ]
    },
    {
      "cell_type": "markdown",
      "metadata": {
        "id": "e7KhxHGNS3i0"
      },
      "source": [
        "### Test 1: Small numbers"
      ]
    },
    {
      "cell_type": "code",
      "metadata": {
        "colab": {
          "base_uri": "https://localhost:8080/"
        },
        "id": "e1mmTzBgShT-",
        "outputId": "6ed37bf5-f269-4fd6-91b6-b175e7915884"
      },
      "source": [
        "%%writefile input1.txt\n",
        "10\n",
        "1 2 3 4 5 6 7 8 9 10"
      ],
      "execution_count": 22,
      "outputs": [
        {
          "output_type": "stream",
          "name": "stdout",
          "text": [
            "Overwriting input1.txt\n"
          ]
        }
      ]
    },
    {
      "cell_type": "code",
      "metadata": {
        "colab": {
          "base_uri": "https://localhost:8080/"
        },
        "id": "vy_uI0x7TCId",
        "outputId": "81b7b24b-8825-49bf-a230-11d1143ff5f9"
      },
      "source": [
        "!./max_pairwise_product < input1.txt"
      ],
      "execution_count": 23,
      "outputs": [
        {
          "output_type": "stream",
          "name": "stdout",
          "text": [
            "90\n"
          ]
        }
      ]
    },
    {
      "cell_type": "markdown",
      "metadata": {
        "id": "IeZ3kTjpYmR9"
      },
      "source": [
        "### Test 2: largest input numbers 200000 200000 in the input"
      ]
    },
    {
      "cell_type": "code",
      "metadata": {
        "colab": {
          "base_uri": "https://localhost:8080/"
        },
        "id": "LQNlZqaqYt7U",
        "outputId": "4530ec5a-c63e-410b-a7a1-57a5236431be"
      },
      "source": [
        "%%writefile input2.txt\n",
        "6\n",
        "1 3 200000 9 200000 23"
      ],
      "execution_count": 24,
      "outputs": [
        {
          "output_type": "stream",
          "name": "stdout",
          "text": [
            "Overwriting input2.txt\n"
          ]
        }
      ]
    },
    {
      "cell_type": "code",
      "metadata": {
        "colab": {
          "base_uri": "https://localhost:8080/"
        },
        "id": "2Wad2VZUZDxR",
        "outputId": "2dd53602-a820-409e-8712-d81056b8399e"
      },
      "source": [
        "!./max_pairwise_product < input2.txt"
      ],
      "execution_count": 25,
      "outputs": [
        {
          "output_type": "stream",
          "name": "stdout",
          "text": [
            "1345294336\n"
          ]
        }
      ]
    },
    {
      "cell_type": "markdown",
      "metadata": {
        "id": "H2SC0Qt5HCzz"
      },
      "source": [
        "Changing the variables to long long"
      ]
    },
    {
      "cell_type": "code",
      "metadata": {
        "colab": {
          "base_uri": "https://localhost:8080/"
        },
        "id": "MPcmsxiQZSfE",
        "outputId": "4ef8fa1d-e7d2-4272-c034-77cef93d9e4a"
      },
      "source": [
        "%%writefile max_pairwise_product_long.cpp\n",
        "#include <iostream>\n",
        "#include <vector>\n",
        "#include <algorithm>\n",
        "\n",
        "long long MaxPairwiseProduct(const std::vector<int>& numbers) {\n",
        "    long long max_product = 0LL;\n",
        "\t  long long aux_product = 0LL;\n",
        "    int n = numbers.size();\n",
        "\n",
        "    for (int first = 0; first < n; ++first) {\n",
        "        for (int second = first + 1; second < n; ++second) {\n",
        "\t\t\t       aux_product =  (long long) numbers[first] * numbers[second];\n",
        "            if ( max_product < aux_product)  {\n",
        "\t\t\t\t        max_product = aux_product;\n",
        "             }\n",
        "        }\n",
        "    }\n",
        "\n",
        "    return max_product;\n",
        "}\n",
        "\n",
        "int main() {\n",
        "    int n;\n",
        "    std::cin >> n;\n",
        "    std::vector<int> numbers(n);\n",
        "    for (int i = 0; i < n; ++i) {\n",
        "        std::cin >> numbers[i];\n",
        "    }\n",
        "\n",
        "    std::cout << MaxPairwiseProduct(numbers) << \"\\n\";\n",
        "    return 0;\n",
        "}\n"
      ],
      "execution_count": 56,
      "outputs": [
        {
          "output_type": "stream",
          "name": "stdout",
          "text": [
            "Overwriting max_pairwise_product_long.cpp\n"
          ]
        }
      ]
    },
    {
      "cell_type": "code",
      "metadata": {
        "colab": {
          "base_uri": "https://localhost:8080/"
        },
        "id": "I5pCeOG1Zm7s",
        "outputId": "1ffa7194-fd4d-48b9-911a-1b23d51fcec5"
      },
      "source": [
        "!g++ max_pairwise_product_long.cpp -o max_pairwise_product_long\n",
        "!./max_pairwise_product_long < input1.txt\n",
        "!./max_pairwise_product_long < input2.txt"
      ],
      "execution_count": 57,
      "outputs": [
        {
          "output_type": "stream",
          "name": "stdout",
          "text": [
            "90\n",
            "40000000000\n"
          ]
        }
      ]
    },
    {
      "cell_type": "markdown",
      "metadata": {
        "id": "XPVHkHxH6_7s"
      },
      "source": [
        "### Test 3  stress tests 20  times  random n in [2, 20] "
      ]
    },
    {
      "cell_type": "code",
      "metadata": {
        "id": "PwqpBmYr69fu",
        "colab": {
          "base_uri": "https://localhost:8080/"
        },
        "outputId": "66857acd-f5be-4c86-a800-08183d8bd139"
      },
      "source": [
        "import random as rd\n",
        "n = list(range(2, 21))\n",
        "for i in range(20):\n",
        "  random_1, random_2 = rd.choices(n, k=2)\n",
        "  with open('random_ex.txt', 'w') as f:\n",
        "    f.write(\"2\\n\")\n",
        "    f.write(f\"{random_1} {random_2}\")\n",
        "  !./max_pairwise_product_long < random_ex.txt"
      ],
      "execution_count": 38,
      "outputs": [
        {
          "output_type": "stream",
          "name": "stdout",
          "text": [
            "260\n",
            "85\n",
            "208\n",
            "126\n",
            "4\n",
            "285\n",
            "16\n",
            "234\n",
            "143\n",
            "171\n",
            "63\n",
            "72\n",
            "169\n",
            "10\n",
            "12\n",
            "95\n",
            "133\n",
            "324\n",
            "170\n",
            "162\n"
          ]
        }
      ]
    },
    {
      "cell_type": "markdown",
      "metadata": {
        "id": "9z9yr5QkeyJF"
      },
      "source": [
        "### Test 4  time test  measure the execution time running with the the largest worst case file (200000 increasing numbers, 200000 and 200000 the end) "
      ]
    },
    {
      "cell_type": "code",
      "metadata": {
        "id": "oLiMjbAIfPlX",
        "colab": {
          "base_uri": "https://localhost:8080/"
        },
        "outputId": "e51bb317-fba9-452e-df6f-e1f21f68f758"
      },
      "source": [
        "%%writefile Test2Write.cpp\n",
        "\n",
        "#include <iostream>\n",
        "#include <fstream>\n",
        "#include <cstdlib>\n",
        "\n",
        "using namespace std;\n",
        "\n",
        "int main() {\n",
        "  // Create and open a text file\n",
        "  ofstream MyFile(\"input3.txt\");\n",
        "\n",
        " MyFile << 200000 <<\"\\n\";  // n \n",
        " for (int i=1; i < 200001; i++){\n",
        "     MyFile << i <<\" \";\n",
        " }\n",
        "  \n",
        "  // Close the file\n",
        "  MyFile.close();\n",
        "}"
      ],
      "execution_count": 44,
      "outputs": [
        {
          "output_type": "stream",
          "name": "stdout",
          "text": [
            "Overwriting Test2Write.cpp\n"
          ]
        }
      ]
    },
    {
      "cell_type": "code",
      "metadata": {
        "id": "EH25TkOkZfD9"
      },
      "source": [
        "!g++ Test2Write.cpp -o Test2Write\n",
        "!./Test2Write"
      ],
      "execution_count": 45,
      "outputs": []
    },
    {
      "cell_type": "markdown",
      "metadata": {
        "id": "JB6f03qO-lj9"
      },
      "source": [
        "Measure time\n",
        "\n",
        "https://askubuntu.com/questions/53444/how-can-i-measure-the-execution-time-of-a-terminal-process"
      ]
    },
    {
      "cell_type": "code",
      "metadata": {
        "colab": {
          "base_uri": "https://localhost:8080/"
        },
        "id": "6p2QLEr576zk",
        "outputId": "d2ec6c26-31ec-48c1-dd54-5aa56daba217"
      },
      "source": [
        "!g++ max_pairwise_product_long.cpp -o max_pairwise_product_long\n",
        "!time ./max_pairwise_product_long < input3.txt"
      ],
      "execution_count": 46,
      "outputs": [
        {
          "output_type": "stream",
          "name": "stdout",
          "text": [
            "39999800000\n",
            "39999800000\n",
            "^C\n"
          ]
        }
      ]
    },
    {
      "cell_type": "markdown",
      "metadata": {
        "id": "AmZeB2wYjxy5"
      },
      "source": [
        "##### Calculate  the number of instructions executed by the algorithm as a function of n, add in each line a comment with the number of instructions that are executed in that line \n",
        "\n",
        "```cpp\n",
        " int main() {                         //N inst exec by line executed  \n",
        "   \n",
        "    int n;                            //1                      \n",
        "    std::cin >> n;                    //1\n",
        "                                              \n",
        "    std::vector<int> numbers(n);      //n    init vector\n",
        "    .\n",
        "    .\n",
        " }\n",
        "\n",
        "```"
      ]
    },
    {
      "cell_type": "code",
      "metadata": {
        "colab": {
          "base_uri": "https://localhost:8080/"
        },
        "id": "djGX3FL13g9b",
        "outputId": "3bc3814a-eca7-4385-ce13-2cf1247a6d3a"
      },
      "source": [
        "%%writefile test_init_vectors.cpp\n",
        "#include <iostream>\n",
        "#include <vector>\n",
        "#include <algorithm>\n",
        "int main() {                                                               \n",
        "    int n = 10;                                                                                                                            //1\n",
        "    std::vector<int> numbers(n);                                            \n",
        "    for (int i = 0; i < n; ++i) {                                           \n",
        "        std::cout << numbers[i];                                             \n",
        "    }\n",
        "\n",
        "    std::cout << \"\\n\";                       \n",
        "    return 0;                                                              \n",
        "}  "
      ],
      "execution_count": 33,
      "outputs": [
        {
          "output_type": "stream",
          "name": "stdout",
          "text": [
            "Writing test_init_vectors.cpp\n"
          ]
        }
      ]
    },
    {
      "cell_type": "code",
      "metadata": {
        "colab": {
          "base_uri": "https://localhost:8080/"
        },
        "id": "44gZcuE237-1",
        "outputId": "d91c3409-d664-4f70-bc43-3dd62e4d59a3"
      },
      "source": [
        "!g++ test_init_vectors.cpp -o test_init_vectors\n",
        "!./test_init_vectors"
      ],
      "execution_count": 34,
      "outputs": [
        {
          "output_type": "stream",
          "name": "stdout",
          "text": [
            "0000000000\n"
          ]
        }
      ]
    },
    {
      "cell_type": "code",
      "metadata": {
        "colab": {
          "base_uri": "https://localhost:8080/"
        },
        "id": "uG6Mv-Pwlkii",
        "outputId": "17c8c2ce-c307-4ce1-b1e2-076d44988d89"
      },
      "source": [
        "%%writefile max_pairwise_product_long.cpp\n",
        "#include <iostream>\n",
        "#include <vector>\n",
        "#include <algorithm>\n",
        "\n",
        "long long MaxPairwiseProduct(const std::vector<int>& numbers) {              //N inst exec by line executed \n",
        "    long long max_product = 0LL;                                             //1                                          \n",
        "\t  long long aux_product = 0LL;                                             //1 \n",
        "    int n = numbers.size();                                                  //1 \n",
        "                                                                             \n",
        "    for (int first = 0; first < n; ++first) {                                //1+2n  \n",
        "        for (int second = first + 1; second < n; ++second) {                 //n + (n-1)n \n",
        "\t\t\t       aux_product =  (long long) numbers[first] * numbers[second];    //(n-1)n/2 \n",
        "            if (max_product < aux_product)  {                                //(n-1)n/2 \n",
        "\t\t\t\t        max_product = aux_product;                                   //[0, (n-1)n/2] \n",
        "             }\n",
        "        }\n",
        "    }\n",
        "                                                                             // -------------- \n",
        "    return max_product;                                                      // 4 + 3n + [2(n-1)n, 2.5 (n-1)n] \n",
        "}\n",
        "\n",
        "int main() {                                              //N inst exec by line executed \n",
        "    int n;                                                //1  \n",
        "    std::cin >> n;                                        //1\n",
        "    std::vector<int> numbers(n);                          //n\n",
        "    for (int i = 0; i < n; ++i) {                         //1 + 2n\n",
        "        std::cin >> numbers[i];                           //n\n",
        "    }\n",
        "\n",
        "    std::cout << MaxPairwiseProduct(numbers) << \"\\n\";     //1 + 1  + 4 + 3n + [2(n-1)n, 2.5 (n-1)n]\n",
        "    return 0;                                             // -------------- \n",
        "}                                                         // 9 + 7n + [2(n-1)n, 2.5 (n-1)n]\n"
      ],
      "execution_count": 35,
      "outputs": [
        {
          "output_type": "stream",
          "name": "stdout",
          "text": [
            "Overwriting max_pairwise_product_long.cpp\n"
          ]
        }
      ]
    },
    {
      "cell_type": "markdown",
      "metadata": {
        "id": "0vTsUg8OwcHs"
      },
      "source": [
        "Count executed intructions in code and verify with inputs 1, 2 and 3"
      ]
    },
    {
      "cell_type": "code",
      "metadata": {
        "colab": {
          "base_uri": "https://localhost:8080/"
        },
        "id": "CuRKkqQc137V",
        "outputId": "e1466d62-b872-46bd-bfc6-d46496e9d501"
      },
      "source": [
        "%%writefile max_pairwise_product_long_execints.cpp\n",
        "#include <iostream>\n",
        "#include <vector>\n",
        "#include <algorithm>\n",
        "\n",
        "long long MaxPairwiseProduct(const std::vector<int>& numbers, long long &execints) {              //N inst exec by line executed \n",
        "    \n",
        "    long long m = 0LL;                                                       //1\n",
        "    \n",
        "    long long max_product = 0LL;                                             //1\n",
        "    execints++;\n",
        "\n",
        "\t  long long aux_product = 0LL;                                             //1\n",
        "    execints++;\n",
        "\n",
        "    int n = numbers.size();                                                  //1 \n",
        "    execints++;\n",
        "\n",
        "    execints++;                                                                         \n",
        "    for (int first = 0; first < n; ++first) {                                //1+2n  \n",
        "        execints += 2;\n",
        "\n",
        "        long long m = 0LL;\n",
        "\n",
        "        execints++;                                    \n",
        "        for (int second = first + 1; second < n; ++second) {                 //n+ (n-1)n \n",
        "            execints += 2;                                                \n",
        "\n",
        "\t\t\t      aux_product =  (long long) numbers[first] * numbers[second];    //(n-1)n/2 \n",
        "            execints++; \n",
        "\n",
        "            execints++; \n",
        "            if ( max_product < aux_product)  {                               //(n-1)n/2 \n",
        "                       \n",
        "\t\t\t\t        max_product = aux_product;                                   //[0, (n-1)n/2] \n",
        "                execints++; \n",
        "                m++;\n",
        "             }\n",
        "        }\n",
        "        if ( (first <= 10) || (n- first <= 10)) std::cout << m << \"\\n\";\n",
        "    }\n",
        "                                                                            // -------------- \n",
        "    return max_product;                                                     // 4 + 3n + [2(n-1)n, 2.5 (n-1)n] \n",
        "}\n",
        "\n",
        "int main() {                                                 //N inst exec by line executed \n",
        "    long long execints =0LL;\n",
        "\n",
        "    int n;                                                   //1\n",
        "    execints++;                                                              \n",
        "    \n",
        "    std::cin >> n;                                           //1\n",
        "    execints++;\n",
        "\n",
        "    std::vector<int> numbers(n);                             //n\n",
        "    execints += n;\n",
        "    \n",
        "    execints++;\n",
        "    for (int i = 0; i < n; ++i) {                            //1 + 2n\n",
        "        execints += 2;\n",
        "\n",
        "        std::cin >> numbers[i];\n",
        "        execints++;                                          //n\n",
        "    }\n",
        "    \n",
        "    //std::cout << MaxPairwiseProduct(numbers) << \"\\n\";      //1 + 1  + 4 + 3n + [2(n-1)n, 2.5 (n-1)n]\n",
        "\n",
        "    execints++;\n",
        "    int M = MaxPairwiseProduct(numbers,execints);\n",
        "\n",
        "    execints++;\n",
        "    std::cout <<  execints << \"\\n\";                       \n",
        "    return 0;                                                // -------------- \n",
        "}                                                            // 9 + 7n + [2(n-1)n, 2.5 (n-1)n]"
      ],
      "execution_count": 36,
      "outputs": [
        {
          "output_type": "stream",
          "name": "stdout",
          "text": [
            "Writing max_pairwise_product_long_execints.cpp\n"
          ]
        }
      ]
    },
    {
      "cell_type": "code",
      "metadata": {
        "colab": {
          "base_uri": "https://localhost:8080/"
        },
        "id": "Kuvm1C05ly2a",
        "outputId": "a877af08-12b0-48af-df35-4251572b0beb"
      },
      "source": [
        "!g++ max_pairwise_product_long_execints.cpp -o max_pairwise_product_long_execints\n",
        "!./max_pairwise_product_long_execints < input1.txt\n",
        "!./max_pairwise_product_long_execints < input2.txt\n",
        "!./max_pairwise_product_long_execints < input3.txt"
      ],
      "execution_count": 39,
      "outputs": [
        {
          "output_type": "stream",
          "name": "stdout",
          "text": [
            "9\n",
            "5\n",
            "4\n",
            "3\n",
            "2\n",
            "2\n",
            "2\n",
            "2\n",
            "1\n",
            "0\n",
            "289\n",
            "2\n",
            "1\n",
            "2\n",
            "0\n",
            "0\n",
            "0\n",
            "116\n",
            "199999\n",
            "100000\n",
            "66667\n",
            "50000\n",
            "40000\n",
            "33334\n",
            "28572\n",
            "25000\n",
            "22223\n",
            "20000\n",
            "18182\n",
            "5\n",
            "1254\n",
            "^C\n"
          ]
        }
      ]
    },
    {
      "cell_type": "markdown",
      "metadata": {
        "id": "L_uaamxeAHK7"
      },
      "source": [
        "The number of instructions executed by the algooirithm with a list of size $n$ is  \n",
        "\n",
        "$$T = 9 + 7n + [2(n-1)n, 2.5 (n-1)n]$$\n",
        "\n",
        "It depends on the size of the lists and  the order of the list.\n",
        "\n",
        "For the input1.txt \n",
        "```\n",
        "10\n",
        "1 2 3 4 5 6 7 8 9 10\n",
        "```\n",
        "$$T = 9 + 7(10) + 2(9)(10) +  9 + 5 + 4 + 3 + 2 + 2 + 2 + 2 + 1 + 0  = 289 $$\n",
        "\n",
        "For the input2.txt \n",
        "```\n",
        "6\n",
        "1 3 200000 9 200000 23\n",
        "```\n",
        "$$T = 9 + 7(6) + 2(5)(6)  +  2 + 1 + 2 + 0 + 0 + 0 = 116 $$\n",
        "\n",
        "\n",
        "For the input3.txt that is the worst case (n=200000 and list in incresing order)\n",
        "\n",
        "```\n",
        "200000\n",
        "1 2 3 4 5 6 7 8 9 10 ... 199998 199999 200000\n",
        "```\n",
        "\n",
        "$$\n",
        "\\begin{array}{ll}\n",
        "T &= 9 + 7(200000) + (2)(199999)(200000)  + (199999 +\n",
        "100000 + 66667 +50000 \\cdots 2 + 2 + 1)\\\\\n",
        "&= 80003672077  \\\\\n",
        "  &< 9 + 7(200000) + (2.5)(199999)(200000) \\\\\n",
        "  & = 100000900009\n",
        "\\end{array}\n",
        "  $$"
      ]
    },
    {
      "cell_type": "markdown",
      "metadata": {
        "id": "NXW7QkoBL6xH"
      },
      "source": [
        "Calculate estimated time by instruction and number of instructions by second"
      ]
    },
    {
      "cell_type": "code",
      "metadata": {
        "colab": {
          "base_uri": "https://localhost:8080/"
        },
        "id": "pKqB3i7dIxnc",
        "outputId": "3be6e5c9-3c73-41a3-c4a1-7bf48464daa5"
      },
      "source": [
        "# Estimated time by instruction\n",
        "\n",
        "128/80003672077 \n"
      ],
      "execution_count": 47,
      "outputs": [
        {
          "output_type": "execute_result",
          "data": {
            "text/plain": [
              "1.5999265618308827e-09"
            ]
          },
          "metadata": {},
          "execution_count": 47
        }
      ]
    },
    {
      "cell_type": "code",
      "metadata": {
        "colab": {
          "base_uri": "https://localhost:8080/"
        },
        "id": "18N1ouqeMhE1",
        "outputId": "9c770537-5d9e-498e-b1e4-98254f0906d3"
      },
      "source": [
        "# Estimated number of instructions by second\n",
        "\n",
        "1/(128/80003672077) "
      ],
      "execution_count": 48,
      "outputs": [
        {
          "output_type": "execute_result",
          "data": {
            "text/plain": [
              "625028688.1015625"
            ]
          },
          "metadata": {},
          "execution_count": 48
        }
      ]
    },
    {
      "cell_type": "markdown",
      "metadata": {
        "id": "CQufozXLNJwO"
      },
      "source": [
        "### Efficient solution"
      ]
    },
    {
      "cell_type": "markdown",
      "metadata": {
        "id": "nLcKBwbU0QsE"
      },
      "source": [
        "Add in each line a coment with the number of intstrcution that are executed in that line"
      ]
    },
    {
      "cell_type": "code",
      "metadata": {
        "id": "knls5Fh3NSt_",
        "colab": {
          "base_uri": "https://localhost:8080/"
        },
        "outputId": "99a4e545-22ae-43f0-9a25-74c3f79822bd"
      },
      "source": [
        "%%writefile efficient.cpp\n",
        "#include <iostream>\n",
        "#include <vector>\n",
        "#include <algorithm>\n",
        "\n",
        "long long MaxPairwiseProductEfficient(const std::vector<int> &numbers)\n",
        "{\n",
        "    long long max_product = 0;   \n",
        "    int n = numbers.size();  \n",
        "    int index_max_1 = -1;   \n",
        "    int index_max_2 = -1;   \n",
        "\n",
        "    for (int i = 0; i < n; ++i)                                                 //2n\n",
        "    {\n",
        "        int current = numbers[i];   \n",
        "        if (current > numbers[index_max_1])                                     //1\n",
        "        {\n",
        "            index_max_1 = i;                                                    //1\n",
        "        }\n",
        "    }\n",
        "\n",
        "    for (int i = 0; i < n; ++i)                                                 //2n\n",
        "    {\n",
        "        if (i != index_max_1)\n",
        "        {\n",
        "            int current = numbers[i];                                           //1\n",
        "            if (current > numbers[index_max_2])                                 //1\n",
        "            {\n",
        "                index_max_2 = i;                                                //1\n",
        "            }\n",
        "        }\n",
        "    }\n",
        "    max_product = (long long)numbers[index_max_1] * numbers[index_max_2];       //1\n",
        "    return max_product;       \n",
        "}\n",
        "\n",
        "int main()  //N inst exec by line executed \n",
        "{\n",
        "    int n;  //1\n",
        "    std::cin >> n;  //1\n",
        "    std::vector<int> numbers(n);                                                //n\n",
        "    for (int i = 0; i < n; ++i)                                                 //2n\n",
        "    {\n",
        "        std::cin >> numbers[i];                                                 //1\n",
        "    }\n",
        "\n",
        "    std::cout << MaxPairwiseProductEfficient(numbers) << \"\\n\";                           \n",
        "    return 0; \n",
        "}"
      ],
      "execution_count": 66,
      "outputs": [
        {
          "output_type": "stream",
          "name": "stdout",
          "text": [
            "Overwriting efficient.cpp\n"
          ]
        }
      ]
    },
    {
      "cell_type": "markdown",
      "metadata": {
        "id": "-JCijbWxNSii"
      },
      "source": [
        "Test with inputs 1 and 2\n",
        "\n"
      ]
    },
    {
      "cell_type": "code",
      "metadata": {
        "id": "TrTGAfqlNVXT",
        "colab": {
          "base_uri": "https://localhost:8080/"
        },
        "outputId": "b2ab58a2-21c1-47fa-cba7-c60943b8bca5"
      },
      "source": [
        "!g++ efficient.cpp -o efficient\n",
        "!./efficient < input1.txt\n",
        "!./efficient < input2.txt"
      ],
      "execution_count": 59,
      "outputs": [
        {
          "output_type": "stream",
          "name": "stdout",
          "text": [
            "90\n",
            "40000000000\n"
          ]
        }
      ]
    },
    {
      "cell_type": "markdown",
      "metadata": {
        "id": "PRX51wADNR8b"
      },
      "source": [
        "Test and time it with input 3"
      ]
    },
    {
      "cell_type": "code",
      "metadata": {
        "id": "v4z7-Is_NRt7",
        "colab": {
          "base_uri": "https://localhost:8080/"
        },
        "outputId": "bff798fb-ef19-44b4-cb58-98e80c4612c8"
      },
      "source": [
        "!g++ efficient.cpp -o efficient\n",
        "!time ./efficient < input3.txt "
      ],
      "execution_count": 60,
      "outputs": [
        {
          "output_type": "stream",
          "name": "stdout",
          "text": [
            "39999800000\n",
            "\n",
            "real\t0m0.105s\n",
            "user\t0m0.098s\n",
            "sys\t0m0.003s\n"
          ]
        }
      ]
    },
    {
      "cell_type": "markdown",
      "metadata": {
        "id": "rpdfs0_TNZJf"
      },
      "source": [
        "20 stress tests"
      ]
    },
    {
      "cell_type": "code",
      "metadata": {
        "id": "Lu4tYcKzNcTT",
        "colab": {
          "base_uri": "https://localhost:8080/"
        },
        "outputId": "f8e94cfb-d278-481c-bc76-6ccf2ab3c228"
      },
      "source": [
        "%%writefile 20StressTests.cpp\n",
        "#include <iostream>\n",
        "#include <vector>\n",
        "#include <algorithm>\n",
        "\n",
        "using namespace std;\n",
        "\n",
        "long long MaxPairwiseProduct(const std::vector<int> &numbers)\n",
        "{\n",
        "    long long max_product = 0;\n",
        "    int n = numbers.size();\n",
        "    int index_max_1 = -1;\n",
        "    int index_max_2 = -1;\n",
        "\n",
        "    for (int i = 0; i < n; ++i)\n",
        "    {\n",
        "        int current = numbers[i];\n",
        "        if (current > numbers[index_max_1])\n",
        "        {\n",
        "            index_max_1 = i;\n",
        "        }\n",
        "    }\n",
        "    for (int i = 0; i < n; ++i)\n",
        "    {\n",
        "        if (i != index_max_1)\n",
        "        {\n",
        "            int current = numbers[i];\n",
        "            if (current > numbers[index_max_2])\n",
        "            {\n",
        "                index_max_2 = i;\n",
        "            }\n",
        "        }\n",
        "    }\n",
        "    max_product = (long long)numbers[index_max_1] * numbers[index_max_2];\n",
        "    return max_product;\n",
        "}\n",
        "\n",
        "void coutInput(const std::vector<int> &numbers)\n",
        "{\n",
        "    int size = numbers.size();\n",
        "    cout << size << endl;\n",
        "    for (int i = 0; i < numbers.size(); ++i)\n",
        "    {\n",
        "        cout << numbers[i] << ' ';\n",
        "    }\n",
        "    cout << endl;\n",
        "}\n",
        "\n",
        "int main()\n",
        "{\n",
        "    srand((unsigned)time(NULL));\n",
        "\n",
        "    for (int j = 0; j < 20; ++j)\n",
        "    {\n",
        "        int n = 1 + rand() % 10;\n",
        "        vector<int> numbers(n);\n",
        "        for (int i = 0; i < n; ++i)\n",
        "        {\n",
        "            int new_number = 1 + rand() % 1000;\n",
        "            numbers[i] = new_number;\n",
        "        }\n",
        "        coutInput(numbers);\n",
        "        std::cout << MaxPairwiseProduct(numbers) << endl;\n",
        "    }\n",
        "    return 0;\n",
        "}"
      ],
      "execution_count": 71,
      "outputs": [
        {
          "output_type": "stream",
          "name": "stdout",
          "text": [
            "Overwriting 20StressTests.cpp\n"
          ]
        }
      ]
    },
    {
      "cell_type": "code",
      "source": [
        "!g++ 20StressTests.cpp -o 20StressTests\n",
        "!./20StressTests"
      ],
      "metadata": {
        "colab": {
          "base_uri": "https://localhost:8080/"
        },
        "id": "eCOJ-wCXTz-s",
        "outputId": "8d010a96-a1cb-4c78-a435-4ffe5bf38848"
      },
      "execution_count": 73,
      "outputs": [
        {
          "output_type": "stream",
          "name": "stdout",
          "text": [
            "3\n",
            "766 857 717 \n",
            "656462\n",
            "3\n",
            "350 743 688 \n",
            "511184\n",
            "5\n",
            "926 238 201 516 649 \n",
            "600974\n",
            "8\n",
            "149 606 179 357 81 324 535 374 \n",
            "324210\n",
            "5\n",
            "878 842 470 91 316 \n",
            "739276\n",
            "4\n",
            "128 621 889 984 \n",
            "874776\n",
            "7\n",
            "123 334 432 163 748 357 400 \n",
            "323136\n",
            "10\n",
            "224 400 909 372 5 87 729 86 762 615 \n",
            "692658\n",
            "1\n",
            "926 \n",
            "0\n",
            "4\n",
            "652 748 934 320 \n",
            "698632\n",
            "1\n",
            "414 \n",
            "0\n",
            "2\n",
            "112 397 \n",
            "44464\n",
            "8\n",
            "234 82 411 748 830 119 147 481 \n",
            "620840\n",
            "2\n",
            "899 390 \n",
            "350610\n",
            "6\n",
            "255 828 146 692 590 112 \n",
            "572976\n",
            "3\n",
            "867 955 154 \n",
            "827985\n",
            "4\n",
            "241 825 485 654 \n",
            "539550\n",
            "6\n",
            "596 50 744 181 132 506 \n",
            "443424\n",
            "9\n",
            "313 625 427 793 966 677 182 383 932 \n",
            "900312\n",
            "10\n",
            "528 623 951 639 125 817 946 631 783 186 \n",
            "899646\n"
          ]
        }
      ]
    },
    {
      "cell_type": "markdown",
      "metadata": {
        "id": "L8U4151JNbxk"
      },
      "source": [
        "Count executed instructions in code and verify with inputs 1,2 and 3\n"
      ]
    },
    {
      "cell_type": "code",
      "metadata": {
        "id": "dh85RM8vNhFz",
        "colab": {
          "base_uri": "https://localhost:8080/"
        },
        "outputId": "879ff2b5-72a6-4d48-c587-102538379219"
      },
      "source": [
        "print(90+40000000000+39999800000)"
      ],
      "execution_count": 74,
      "outputs": [
        {
          "output_type": "stream",
          "name": "stdout",
          "text": [
            "79999800090\n"
          ]
        }
      ]
    },
    {
      "cell_type": "markdown",
      "metadata": {
        "id": "K6ybgCmpNygr"
      },
      "source": [
        "Calculate estimated time by instruction and number of instructions by second"
      ]
    },
    {
      "cell_type": "code",
      "metadata": {
        "id": "kwe3G1O3Nz1w",
        "colab": {
          "base_uri": "https://localhost:8080/"
        },
        "outputId": "d27466cb-2d8b-45cf-96a8-d38cca48141d"
      },
      "source": [
        "print(str(39999800000/0.105) + ' instructions per second')"
      ],
      "execution_count": 78,
      "outputs": [
        {
          "output_type": "stream",
          "name": "stdout",
          "text": [
            "380950476190.4762 instructions per second\n"
          ]
        }
      ]
    },
    {
      "cell_type": "markdown",
      "metadata": {
        "id": "sc9nOLQrfTm0"
      },
      "source": [
        "### Super efficient solution\n",
        "\n",
        "Whitout storing the list in memory and whitout calling a function, add in each line a coment with the number of intstrcution that are executed in that line "
      ]
    },
    {
      "cell_type": "code",
      "metadata": {
        "id": "hBLt_xBQLy8E",
        "colab": {
          "base_uri": "https://localhost:8080/"
        },
        "outputId": "45591c61-51cf-4975-b1a0-9d58ff7a0542"
      },
      "source": [
        "%%writefile super.cpp\n",
        "#include <iostream>\n",
        "#include <vector>\n",
        "#include <algorithm>\n",
        "\n",
        "int main()\n",
        "{\n",
        "    int n;                       \n",
        "    std::cin >> n;               \n",
        "    int first = 0;\n",
        "    int second = 0;\n",
        "\n",
        "    for (int i = 0; i < n; ++i)                 //2n\n",
        "    {\n",
        "        int current;\n",
        "        std::cin >> current; \n",
        "        if (current > first || current > second)   \n",
        "        {\n",
        "            if (current > first)\n",
        "            {\n",
        "                int t = first;\n",
        "                first = current;\n",
        "                second = t;\n",
        "            }\n",
        "            else\n",
        "            {\n",
        "                second = current;\n",
        "            }\n",
        "        }\n",
        "    }\n",
        "\n",
        "    std::cout << (long long)first * second << \"\\n\";\n",
        "    return 0;\n",
        "}"
      ],
      "execution_count": 79,
      "outputs": [
        {
          "output_type": "stream",
          "name": "stdout",
          "text": [
            "Writing super.cpp\n"
          ]
        }
      ]
    },
    {
      "cell_type": "markdown",
      "metadata": {
        "id": "683gc3roHqzb"
      },
      "source": [
        "Test with inputs 1 and 2\n",
        "\n",
        "\n",
        " "
      ]
    },
    {
      "cell_type": "code",
      "metadata": {
        "id": "b7d4LA8OIc2_",
        "colab": {
          "base_uri": "https://localhost:8080/"
        },
        "outputId": "64e27fe8-adbb-4aa4-e9c1-65bf50ad5e4c"
      },
      "source": [
        "!g++ super.cpp -o super\n",
        "!./super < input1.txt\n",
        "!./super < input2.txt"
      ],
      "execution_count": 80,
      "outputs": [
        {
          "output_type": "stream",
          "name": "stdout",
          "text": [
            "90\n",
            "40000000000\n"
          ]
        }
      ]
    },
    {
      "cell_type": "markdown",
      "metadata": {
        "id": "36Ugn1odIeJz"
      },
      "source": [
        "Test and time it with input 3"
      ]
    },
    {
      "cell_type": "code",
      "metadata": {
        "id": "jDyMbCnxHqSN",
        "colab": {
          "base_uri": "https://localhost:8080/"
        },
        "outputId": "f70812bd-e1db-48f8-b48d-4c7e78797024"
      },
      "source": [
        "!time ./super < input3.txt"
      ],
      "execution_count": 82,
      "outputs": [
        {
          "output_type": "stream",
          "name": "stdout",
          "text": [
            "39999800000\n",
            "\n",
            "real\t0m0.057s\n",
            "user\t0m0.051s\n",
            "sys\t0m0.005s\n"
          ]
        }
      ]
    },
    {
      "cell_type": "markdown",
      "metadata": {
        "id": "bhqiKQG6fjKM"
      },
      "source": [
        "20 stress tests "
      ]
    },
    {
      "cell_type": "code",
      "metadata": {
        "id": "2KsiXKhALzwm",
        "colab": {
          "base_uri": "https://localhost:8080/"
        },
        "outputId": "a328dfe9-feb6-4c7b-fe37-e51dd20e2522"
      },
      "source": [
        "%%writefile superStressTest.cpp\n",
        "#include <iostream>\n",
        "#include <vector>\n",
        "#include <algorithm>\n",
        "\n",
        "using namespace std;\n",
        "\n",
        "int main()\n",
        "{\n",
        "    srand((unsigned)time(NULL));\n",
        "    for (int j = 0; j < 20; ++j)\n",
        "    {\n",
        "        int n = 2 + rand() % 8;\n",
        "        cout << n << endl;\n",
        "        int first = 0;\n",
        "        int second = 0;\n",
        "\n",
        "        for (int i = 0; i < n; ++i)\n",
        "        {\n",
        "            int current = 1 + rand() % 1000;\n",
        "            cout << current << '\\t';\n",
        "\n",
        "            if (current > first || current > second)\n",
        "            {\n",
        "                if (current > first)\n",
        "                {\n",
        "                    int t = first;\n",
        "                    first = current;\n",
        "                    second = t;\n",
        "                }\n",
        "                else\n",
        "                {\n",
        "                    second = current;\n",
        "                }\n",
        "            }\n",
        "        }\n",
        "        cout << endl;\n",
        "\n",
        "        cout << (long long)first * second << \"\\n\";\n",
        "    }\n",
        "    return 0;\n",
        "}"
      ],
      "execution_count": 83,
      "outputs": [
        {
          "output_type": "stream",
          "name": "stdout",
          "text": [
            "Writing superStressTest.cpp\n"
          ]
        }
      ]
    },
    {
      "cell_type": "code",
      "source": [
        "!g++ superStressTest.cpp -o superStressTest\n",
        "!./superStressTest"
      ],
      "metadata": {
        "colab": {
          "base_uri": "https://localhost:8080/"
        },
        "id": "tVAuKEtbYFvz",
        "outputId": "2176a9cf-92e4-4af5-fcf1-0d7a5922f835"
      },
      "execution_count": 84,
      "outputs": [
        {
          "output_type": "stream",
          "name": "stdout",
          "text": [
            "7\n",
            "175\t169\t419\t250\t188\t444\t39\t\n",
            "186036\n",
            "8\n",
            "349\t184\t463\t21\t835\t118\t843\t459\t\n",
            "703905\n",
            "8\n",
            "406\t534\t103\t425\t673\t545\t198\t111\t\n",
            "366785\n",
            "4\n",
            "78\t290\t147\t649\t\n",
            "188210\n",
            "8\n",
            "673\t170\t433\t274\t357\t876\t312\t675\t\n",
            "591300\n",
            "2\n",
            "495\t137\t\n",
            "67815\n",
            "6\n",
            "681\t255\t439\t139\t429\t845\t\n",
            "575445\n",
            "9\n",
            "883\t269\t49\t779\t818\t159\t62\t247\t800\t\n",
            "722294\n",
            "9\n",
            "248\t462\t232\t417\t895\t505\t125\t122\t816\t\n",
            "730320\n",
            "8\n",
            "698\t663\t288\t295\t343\t894\t733\t834\t\n",
            "745596\n",
            "3\n",
            "929\t209\t556\t\n",
            "516524\n",
            "6\n",
            "609\t334\t366\t768\t747\t965\t\n",
            "741120\n",
            "8\n",
            "306\t564\t381\t537\t980\t627\t41\t456\t\n",
            "614460\n",
            "5\n",
            "209\t254\t798\t871\t541\t\n",
            "695058\n",
            "5\n",
            "565\t786\t824\t750\t459\t\n",
            "647664\n",
            "2\n",
            "959\t14\t\n",
            "13426\n",
            "6\n",
            "567\t700\t371\t686\t798\t687\t\n",
            "558600\n",
            "6\n",
            "104\t250\t337\t992\t229\t963\t\n",
            "955296\n",
            "2\n",
            "36\t414\t\n",
            "14904\n",
            "2\n",
            "289\t211\t\n",
            "60979\n"
          ]
        }
      ]
    },
    {
      "cell_type": "markdown",
      "metadata": {
        "id": "fEXj8GHJH5p1"
      },
      "source": [
        "Count executed instructions in code and verify with inputs 1,2 and 3"
      ]
    },
    {
      "cell_type": "code",
      "metadata": {
        "id": "LF1DHjKXIAsF"
      },
      "source": [
        "print(90+40000000000+39999800000)"
      ],
      "execution_count": null,
      "outputs": []
    },
    {
      "cell_type": "markdown",
      "metadata": {
        "id": "yae7sSm2IG9U"
      },
      "source": [
        "Calculate estimated time by instruction and number of instructions by second"
      ]
    },
    {
      "cell_type": "code",
      "metadata": {
        "id": "suouY7BYL2dz",
        "colab": {
          "base_uri": "https://localhost:8080/"
        },
        "outputId": "43b645ad-43ae-4208-afdd-1909e3750ee7"
      },
      "source": [
        "print(str(39999800000/0.57) + ' instructions per second')"
      ],
      "execution_count": 85,
      "outputs": [
        {
          "output_type": "stream",
          "name": "stdout",
          "text": [
            "70175087719.29825 instructions per second\n"
          ]
        }
      ]
    },
    {
      "cell_type": "markdown",
      "metadata": {
        "id": "LkVxxlhl9H98"
      },
      "source": [
        "# Codeforces problem https://codeforces.com/contest/1619/problem/A \n",
        "\n",
        "Solve the problem in Colab, submit the solution to Codeforces and add a screenshoot of the submission."
      ]
    },
    {
      "cell_type": "markdown",
      "source": [
        "![image.png](data:image/png;base64,iVBORw0KGgoAAAANSUhEUgAAA+wAAAHZCAYAAAAc8bG/AAAAAXNSR0IArs4c6QAAAARnQU1BAACxjwv8YQUAAAAJcEhZcwAADsMAAA7DAcdvqGQAAP+lSURBVHhe7J0FYBTX1sf/q8nG3ZWEBEJwd/fitKWUutur26u377Wv3lehTo0K7u7unkCIu3s2Wd/97pndQIBASaD96Ov5vTdld3bmzrWZzP+ec8+V2QRgGIZhGIZhGIZhGOaaQu74l2EYhmEYhmEYhmGYawgW7AzDMAzDMAzDMAxzDcKCnWEYhmEYhmEYhmGuQViwMwzDMAzDMAzDMMw1CAedYxiGYRiGYRiGYVoMSUmLxQKlUunY8+dA19VrtTCZzTBYbKiqrIfVahW/yOwHwIZAf3dYK8ohc3VDtcEGo9Es9tt/l8llcNOooDHpoBa/a/x8oFAopN8ISt9gMMBkMjnSbT0qlQpqtbrVdcSCnWEYhmEYhmEYhmkxDQ0NKC0tRVRUlGNPC7HUI+twOkzB0Wgb5nFGbv8eJKRr9x+GixDD5QHhmLfoCFJPFwqRTeLaIm2fvT0NNa++BM2ESfjiuAmnU4rFfqUQ5nIE+btgZJw7OtXlQtExAcreXeHm5kZJS5hpIEAIdldXV8ee1kMDGjqd7pz0WwK7xDMMwzAMwzAMwzAtpqSkBDU1NY5vrcBQjm1f/4q1BwrQEjMyWb2za83IT8mDb0YyHpzZDXfdPRhdu4YjIsJHbH5QqJRQhYdD6eGBoEBPaX9MXCAmDGmDu7u4oXe0G9xnTEGGVziMRqMjZTskss/f11oor1eSFgt2hmEYhmEYhmEY5rIgB+3a2loUFhZKlmNyJS8vL4der3cc8cdDeTherMeSXBlyy42wrlmDRFcjRo1OhMbFGZXkIm+xwlJVBavIY02tHtUNNvSL0KCvLhfBkX6wdOyItQeK8PPPO6T0zof2XQ1ndBLsV+JWz4KdYRiGYRiGYRiGuSzIon7q1ClJtPv5+SEoKAg5OTk4fvz4VbNKXw4NDUYcP12AD7aWYYcsFPUr1iGyLAt33d4fFiHWhWKHVeTRJvLUUG/Abe2U6J57FN79u6MwMBrvfLIFG9YfRUVFvSPFc7kaYp240nT+3+ew08V1JqsULKApTgoZNCr5Zc9jYBiGYRiGYRiGYf5YKisrkZmZKYl1sq67uLiguLgYRUVF6N+/PzQajePIy6AhB98/9jlqx96Ghye3h/wyxR9Z8+fP34MDB+2u9Gq1Enfc2AMxinqo2kSh0qqCi74WVY//Ay43zIBrrz6wlpRCHhmGQp0cK5cfRmpKATw8nGEyGfH88+Pg6+vrSB3S/PUf1idjfVKt+CaD1do6yezpqobRoMd/7+ok1Vdr+H8V7BZx6QPF9diUXYfiejMa64EaKsxDhdFRHkj000B5uS3HMAzDMAzDMAzD/GFUVVUhPT0d/v7+kmCnYGok2EnEDx06VBLwl80VCPayY8fhVFouBK3VbgU+D1tdHep//A7qvv2g7tbDsfdc5GoVdOJfTa8eFwj279YmYcmhSpgtEDq1dZLZw0UNJ7kJs+/t+tcT7HTVlEodHtqYj7Qqg2PvWVSitQaFueHFvkGI9XZy7GUYhmEYhmEYhmH+vyALe1paGnx8fODs7CxFUqfgc+QmP3z4cHh6ejqOvAyuQLDnf/MNrL/+Cmi1NFHc8UvLUIi8miIi4P/JJxcI9m9Wn8B324tRr7dIhubW4CkEe6iXAt882P2vJ9jNVhu+O1GBN/YUNzcgIuGrUeD9IWEYHunu2MMwDMMwDMMwDMP8f0DB0yjAHAl2Wl+crOzu7u7S0m40h33QoEEICQlxHH0ZXImFPSMTTg16KC4iZy0in5UP3AvXm2fBZfJUx97zUCigs1mhiY68QLB/ueIYPt9YgFqdEOytdIknC3tcgBLfP9q71YL9/zXoXKWeFq+/OEazDUZROf8vIwoMwzAMwzAMwzDMGUiw19fXS4KZ1mCn9crps1arhVwulyztfxa/rDyJHtO+Q+zoL9Fpyvc42uAB7w7t4aRtgMZghCouHjaLBfKAQGjD2sK7RzeoCopRVm3BHW/tRJuRX6DL5G9x1wurHSmeC7nBmy02Idbpc+s2Evqm82K1tZT/Vwv7+wdK8NmR8osKcneVHO8PC8OY6MtfRJ9hGIZhGIZhGIa5upBspMjwKSkpkls8ucMHBARIc9YLCgokKztFiR8zZozkFi+TXYaCuwIL+wcfrMAXX+yEn583nn5mPKa0c0bVTwtwrFCPO9dXIXnfCyge1A8eTz+Lu9YbMOuWIRjf3Q/6z75BWp0Mn+W64VBeJSLCPLFgwQMXWNjzvvgKss+/hqK+wa6+W4HM1QW6NlHwm/vdX9PCzjAMwzAMwzAMw1zbkGWdBHlGRoa09jqJd7KoN9p+SZzTRlb3tWvXSpb2P9ou7ObmhPETemDut7djglMpCmb/iBX5MjyfrEaVziJdnyzsJLYtFhvuv/cbvPfTcVTfdAs6947FW7HVeKhfEMJDvRwpngfNi6eIc2Rip3RascnEuTbTpb3Kfw8W7AzDMAzDMAzDMMxFqa6uxsmTJ1FYWCi5xNP8ddoo4BxBYp0EPEWNLysrw759+yQ3+T+SAQPi8PSszghZvRD5a3fi6wp/fHDMgszcCqiUQubSIILIIxRyKMV3udyGr77Yipc/2orDbXrA78brMMOrArd4VzlSPBebQ7DLlEopndZsJPpt5isT7IpXBY7PVweLFraGTECXBxiK7JuxXFSYyLTi7Jp85FWwp7AeB4obHHsuhNZiHx3tIUWJ/7Nd4k0mE/Lz83HkyBEcPHgQx44dk0aUyA3EyclJcgG5LDcPhmEYhmEYhmGYvzAkxtVqtSTI6V8vLy9pH+khsriTPiLxrhTiNjw8HG3btoW3t7d0/CVRuCCye2d0bBcCV2elY+fvY7FYYD2dAsOcH3DS4ooXTyiw9kgBKiuFFrWZxBFm3H1zD1TN/Qno3h2rMg3Iz6uQDOZZmcXYuScV6uhwdL5+CNxMOrh0iJf0XSPkUVC7/yAadu6GUXw22Gy/v0FsQuSe+Uz/0gW9POF584yWrU/fhKs7h11fDGvJYiHWcxw7miDEuix4BmRu7aSv1+IcdgqaQCL9t99+w/fff4/U1NQLXDmoU9KcjJEjR+L+++9Hv379pA7K4p1hGIZhGIZhmP91JFfzJhtBWqjp9kdDuo3Wfi8qKpLmzV8JFOmeBhmaCmoaEKD0yaPgj0i/JVw9wW4zw1a2AbbKrY4d5yMaTuUFefSTgFx1RrB/KgS7xDm5sH9xE4L9g+HhFwr2xs7RNOvUOeSt8/CntChwwrx58/DJJ5/g9OnTZzrfpXBzc8OwYcNwzz33oEePHtKSBjQy87sjSX9BqNPSzUcjaa3FXqW2P+Um/itirx6uH4ZhGIZhGIa5FKTVyCOahPuVylnyCiD3/qY6h9KktOkaV5p+o1dCa3XU1RPsVgNshb/Bpk127GgOFWRtnoRM7SMJ9vfIwn6ozCHPxX/P5MT+wU2lwIcjhGBv42kX7CKrhtJS1Bw4BEN+gd2vnhA/Ktxc4ZbYAe5dOrdI8FDxKSjCBx98gK+++go1NTXSfkrDw8MDsbGxCA4OlqIfUqNVVVUhJydHioRI0QPpOIqOOHz4cIwYMQKTJ0+W3D+agxqczqeADTSngxqPrPWBgYHStS6Wb4qCSK4ml6LRTaWxM1xJWudDLiE0LSAoKAidO3eG2WKFwUg3h+OAy8Aq2qpGq4dc5CvY313k8cL86fQmVNfqUddgAAWGUIv29/JwhoebE1TK5gdBqP30BvNlrY1Il1SKdJQKmsPy+32EymcyW1BTp4e23iAt60DzX1w1KpEvjZSn5qrZItWPRXTPFlSQoLpWJ10vLMjzgvJaRBtU1uhQK/JCaVM9Ojsr4eOpgZurk/SdYRiGYRiGYZj/La6qYLcWzIWt7hKCXaaEvM3TkDn52wX7vmJ8eqi0GcFuhwT7RyMjMCbGLthNFRXI//5HFP+2EKbKSruiciBzcoJb+3hEPvEofAb0d+z9fUigz549G//617+kqIYEWc7J5X3GjBnS/AsKwU9u72Rlrqurk8Q6Cdhly5Zh7969kqANCwvDiy++iFtuueUCdwe6xo4dO7Bp06YzyyCQaCZhTVb50NBQybV+3LhxiImJOUdsU/PQPHpy0c/KynLsvRA6h8S6j48P4uPjMWTIEHTp0uUCaz/lm9KiQYfLhcqXnZ2Np59+GrfffjuKSmuxflc6UrMrHEf8PlQOlUqOwT2jMUhsJJoJEvIFJTXYfzwfpzLLUFHVgAYh3Gk/iWMPIUYjgj3Ru3M4EtoGwsVZJZ3XiNFkwbodaThyqlASspeCNLpK9Ck/bxd0iA1E1w7BcHehWASOAxxQt6qsacCBE/k4froYpRX10mACCXGFyLfGSQlfLxeRnwD07BiGQD93KJoMANDAxPqdaUhKLZUGNy4PG+objFJ6k0ckwNVFLe01Gs04kVqC3UdykVtUDW29URL11N5OaiU83Z0QHeaD3p3CEBct+qnYxzAMwzAMwzDM/wZXUbDrYcn/QQj2JMeOZhCCXRHzzzOC/d29Rfj0IIX8d/zeiPTdBne1Ah+OjsTYGC/KKGoOHkbqiy+jPi1DOux8KIJf4KQJaPfOm6RgHXsvDlnM9+/fj9tuuw3p6enSPgqgcN999+GRRx6RLOvNuS5QldFcBprv/sMPP+Cjjz6ShPpLL70kWaEbofSTkpLwzjvvYP369ZLYb24OBF2DLPjt2rXDE088geuvv15yzWiELPLPPvusJLR/DxLojWsizpw5Ew8//PA5eaIIj1S2uXPnOvZcHuQm8sUXX+DOO++UBOPi9Sfx9fwDUl1cLkF+bpg1uQtG9m0riXGyWm/YnY4129NQWForWcqbS69RuPfrFoGbruuMQF/3M81LxycJQfvBdzuFoLV7R/weNFigEcK/a4cQ3HN9TwT7u0kCuBFK76dlR3A6qxz1OqM0eHA+dDwJ95BAD4wbHI/hfdvAzcVJ+o2s/Wu3n8a3iw6hplYv7btcrh+biFsmdpUEe4POhGWbTmL55lOorNZdVPyTNd7NVY2EGH90SwxFl3YhiLrY8hQMwzAMwzAMw/xluHpR4mkOe/VBe1R4m6X5TYhwue9gIaxdJW/23Xla7MunSH70k/jPORuglsswJtYLbX2cJQt7fWoaipethMVhCT8fcQqcggIRcN24y5rPTu7pH3/8MbZu3SpZz0noTpw4URLHERER54i4ptB+EtRkzSYLPAUSIJf4jh07Oo6wi3VazuCxxx6T1iIk6z2JS7K+06L8ISEhZ5ZBoGuTez0FNdi+fbsk3sk63ija6fctW7bg0KFD0ncSz+RCT+fTsZQmeQDQ8XQNSovKtmvXLskNn9IirwGC8r5u3TrJak80LsdAZac0mtsa3ezHjh2Lrl27QiE+Z+RW4sDxfKnOybqscVLBSa2CWqVsdiPLNonujnGBaBPmI4nzBWtPiC0JRWV1or6sDiFtd/Mml3NK1yb+ZzbbJAs3WfRzCqrRNtJX+p2ah8pDonrXkVzJpZxwFkLaRUP5UZ6zScs7iJ5Eru3k0k9pebo5ISbCR5SR6o7EejHem7NDiPUK6RiCXPOdRfncXEVdiXQpHbouWfcrqhuw71geDiUXSJ4BbcJFWuL4vKIaHE4qgE6Uk/JJ+6Q8iH8vtpH1vn0bf3SKD5KuQenSoEhVjRD9Ig2q45AAD6n8AT6u4niZNJhgERlvEHVAAxbZ+VW4eULnC1zqGYZhGIZhGIb563FVLezmnC9hqzvq2EFil5JuFL3is0wFZdwbkDkFwkQW9t2F+GR/sSTQm8uFu1qO/46Nxti23pKFvXzrdpx8+nnJNb45SKT7Dh2MTl9+BtnvBH6jYpNVnSK9b968WdoXFRWFt956S3KFv1xITJMoJmHbVOBT2i+88AIWLlwouZSTsCY3dbJQDx06VJrnTufReoa//PKLdBy5qVO+EhIS8O9//xvjx4+XRDgtJffMM8/gyy+/lNIm9/l3331XOo6gc2huOp1PYnzRokU4deqUNGhA1nVy97/55pslUU5i/qGHHsK3334rnTtlyhTJlZ8GAC4GpbNq1SrpeiTaiWWbTuHTn/ZI87Tjovxwzw09EBXqLRrhbB00xWy2oKC0Fk5CvJPr9qbd6fhx6REUl9vXZyTr+7A+MRjapw3Cgz1FuRWo0xpwKCkfa3ekIjmt9Iz4nTisvWRp9xeilcjMq8SbX25DlviXeOjmPhjRP1ZygW8KDRLsO5aP+WuOo7CkTsp7+5gA/PO+wZKlnET2219vkyzrJIRJ+MeLsg3vF4Mu7UMQ4CtEsuhjdfUGpOVUYNehHBw+WYjisjoEB7jj5YeGSXVA8+M37cnAF7/uk+adkxv/tNGJGNo7WpTrIgNJov8XinQoT52FYKfy//uLrdh1MFsa3Boizr1xbEdpQICEPUF5LCqrxcGkAmw/kI10kaeHZvXByH6x5/RFhmEYhmEYhmH+mvy+GbpFmGGzmhybscm/TT43Febii81iFfutpD4u2GykVM45QdI152ziyAu2y4FENC3qT2KYIIETHR2N9u3bS98vl0YX9KYCiUQ8zVmngQC6Dol5mhP//vvvY9q0aZJlno4nyzVZv59//nnJEk8insQ3zRdfsWKFtJRAc5CIp7nv5L5PG51H7vt9+vTBU089JW00L56g+fIrV65Ebm6u9P18KB2aN0/B9S62kav+Aw88IA00NAcJSAoM5+2pkazjzW0Bvm7oFB8siXUSsSQwSyrqpfNJoN8xtTtunthFEqRSMDexn9Ic3KsN7rmhF3p2CpOs1NQdyPKckVsBk7n51iZLtpuLWnJRb7r5ebuiY3wgQgM9IVfY26tWq4PBZJbc/DfuTkdWfpVoM7tYH9gjCv+4rZ/k8h4qBD3li8S4p7szeiSG4oGZvXHvjT0l1/pZIu9UjuaC2dE+bw9nhIjr0rWb3YI80b1DqLSRpwL1gxJJwNtd+McNikdspN8ZsU5QunTuxGEJePTWfpg6qgP6dY1ksc4wDMMwDMMw/yNcPcFO4ttqcQjzJput6UYuxiSzHUjnWCWBRJZF6V/p+1kR3+ToZgX6+fuaHn8p6BokZilaO0Eih1zbSfheKfX19dLScOXl5VK6FATun//8pyR8m4MEN0WXnzp1qvSdAtKdOHFCcmtvKeTeTtHqyXJO0Jx5Eus0f/5ikDg8f6My0FQBmqdPkIcADUw0D51D6ZyblslkwbHTRcgutJeDXNxJfB45WYiMvErpGPreIzEMvbuESyL5fEiURod5o2+XCCF67cH8arQGHE8pkdzAm+dsHppu5HZPlvWyynqprxHk6k7W7OIyLVKzy8+4wVMgtwlD2yNcCOmLCWAaQCDhfvf1PaSgeJdyQ5eu1kyejp4qRHmVfboElZXqw345mVQf9JHmrpM3wveLD0neBjRgkZxeKnkEUBA6ggYLpo3uILnsMwzDMAzDMH8ljDg5rwALljVAT7OI/0cxVTTg27cyhU7JwJS5jqW9Lxd9IVa9OwfrTrTwvP8BrqqFXRLkQpifswnRfmY7T7BLFnSLEC4UTMthaad9NrHPSvvpdyFkzmIXOZK4b7I1ip/Gz5fL+cc2DhZcKRTYLTMzU/pMFnhytad12i8FDRQMGDBA+kx5oIGEioqKVuWHlolrOp++cY58c3WzevVqaf597969z9n69u0reQTQoMPvQfPZX/l4I+54fiFuf+7sdsfziyS38IrKc2MOlFRopaXSiEA/N7SP8YeLxh4VvTnIqkyiPTTI7ravN5iQU1QFnfi3OX5ZeRz/eH0FHn59+ZntwdeW464XFkku7zkFdis6QdHVPd2cpaB3pSJfVEUkvGMjfBAmrtfUot0cZM2PCfeBu6s94Fxz0Nz2+atP4NF/rzwnTw+8sgz/nr0VldUk2B0HO6DBjS7tgsX1ZVK70dz6eSKNT+fuxZtfbMWLH67HY2+ulMr0mEh37rKjdvHO1nWGYRiGYZi/GFZUpGiRmm4iSXRVqD2Uj/5PZuLsm7wWq+89jYe+v/xVnq4qQo8krS1AdrkzXnovHJ9MaH4Z7Iti1iJzfxKyyi8S0NlqwYlF6Xjx6RJkXV4c6j8QE5IWZ+O570pgEJr2Srm6LvE2ixAXFOn7Ytu5AotEit2S7hDnjZvNLt6t1GPPKyP14YttdOh5h18UsprSGuiNS7CRKCIX+aKiIun7lUAB5khsEyTYyTrdXLT5ptDv5DrfCAls8gBoyQBEI1S2psu5kegnS3tzaZEgP3z4MA4cOHDOlpycLC1HdznXp+Br5N6eX1x7zkbB5BoaTDTM4jjSDrUrDa4QXu7Okru80KeXxEOIag9Xu4WfTiVrOQ3qNAfNKU/JKkdK5tktVXynPNVqaeDCHpiOrOOjBsQJsa2WLOsmE/Uiu+Wc8kSB4C6Hi1ngG6HBARqkoLnxTfNE8+Ara3XN1jFZ24f2iUFCbIA0gEBHkNs+Bd/TNhilctCa9WSdT0orwfdLDuOh15Zj79Hcy2ozhmEYhmEY5kIsBgsqi0xCE9g3vXg9tIr3zuqKs/tKyyyw+2SK3wxmFFebYdSZpd+q6uzvubqqs8eX11jIRilhMTZJv9IsaZizWFFf4rhGuRl6c+M7nQW1jefQJtI7g7hWg7h+ieO3MnEeTRul/BYU2veVlJmhM7lg2NsxeHuGj3QalammaZlKzY4y2WCoM6NKZ4Wu1vG7SNNwJi/iiPPqw55+4+9WNDQpu1ZvVwIWoQmOVplRnaCCr4sMPq7iPZvy3ngNOvZizrOXialepF8l2ubcSrUjBH11seNaojz1Z/IrEO/q9TVn80FbncHxu9BRtaWO/aKOzuynclZTns+mY6oX9Vgv2p/qp9yEwgKjdF6pqB9jc3m6TK66YL/Awn7Odq6FnRrJ6hDn0kZWdmkTx0jC/VyLOX2ijcp7se3s0ZeGBC1ZtSliO0HXoUBxFD2dgqxdLhQ4joQ1CexGSHjT3HCC0r2YdbspJKoprUZonjoNJvyeGGwOulZTyzwNBjRGnD8fWv6NLOoUyK7p1r17d8lV/3KgiOwUeK5zu+BzNooI7+fjCtmZwIN2SIzKHeWqFwK0VqsXeZa+XhSKBE9bI5TGxarG19sFUWHeklU+LMjzHDdxV40avTuF48GZffD8fUOk36mOyRW9cV47uaBTYDlpwOgqQFb6kAB3SXx3aNtkE98pcN7F2pgs/P+4tR8mj2iPLu2DERvhK+WXgt95eThLS9M1Pbe6To//fLkNmbn24HsMwzAMwzDM5WMxNWD77Ew8PTML99+fi/tnpGBxjnjHSq/FO8+k4fZ7xD6x/9br07Eq0yBktPhtRxYiJ6Xhy/n2c2Yv1iIvrRQvPnXansb9mXj0zXzkCbFqNTdg79fZePlWezoznkzHgqMNaFQA+cllmP+Y+O2+bNz7QBrmrteiQZIlxXh7QAruktLLwHiR5r48ei8Woju1HN88lYUH7qbzcvDEk1nYeboWv67UoWy3Hk+Lc55+vQj78iux8u4U/Hed/Wo1mXV499nUM2W6ZXo6Vkpl0mHH+6cx6cUCLPiKfsvE1Bmp+GmXfRqxzWjByQ2FeOqxTNwjzrvv3nRMnXIa85JotSYzik+U4IUnU6U0756Zidc/KUOBEO1VySX4+As91n1Zjofvz8POQivKUyvx3pvpuJvKdcdpvPZhNXLs4cWuLiYjTq/NxXM354h85eDWxzPw5ooKaVCCKD5Wjn8/lYY7KB+ifif0PoG3tteJ4piQuS0fr95pP+/2RzPw4oJSFGmp5Wvx2z+S8clee70QR784iT5zSlFfZMCG7Tpsn1eDhx/MxbMvFyOr+UXOLourKNhp9KSZOeznbXTcGUilCWEuucHTJr6fvzWFvjUK84ttv6P7zkBCh8Q6BX0jCzhB1mYK0JaWlnbBtZuDjqH54f/973+lJdQazyHLPQWwI0iE03JtjS7yF4Os+2TZJihvlCeaU38xMXcpyDJOEeMbabTeN2flHzhwIL7++mspUn3Tbc6cObj11lvPDGhcirBAT9xzQ0+89NBQvNxke+GBofZo7kJgNoXmojeK6JJyreRSTxbzS1FQUiu5rRNk+SZRTkuxNQdFSX/yjgF46q6BePz2/hjYM/rM/Hi67oAekRjeN0YSvY3V6yfSI2s/QR4DuUXVqJYGEi7dD0jcV9XopHMuBg1ojB8Sj+fuHYwX7hf14tj+ef8Qaf67t+e5QQsboX0Udf7eG3uJuhyCZ+4ZiCfu6I9/3NIPD83sg/tu7IlbJnVBr85n5/+T9X3jngyRb+krwzAMwzAMc5mUHszDNwcVeGheNJYti8Gy30IRK14PNf4a3Pl8JBYtFfvE/tfuMGP1F5U443ldY4WlY4j02wu3aZC/pBzru/vb01gWjVeme8JNJUPF0XzMOaXGUwvt6cy7RY4PH8pDukPMVRVpMGyOuLa4zrv3uGHftkqcLifF7oHJn0dgiZReFGbHmHDnskrAYkbSukrURXjjq0X0Wyw+et0X3j6uuO8mVwQN1+AHcc6Pn4RjSPS50zc1fs64/dlILHSU6d/3WLDq0wpUO36vzTMi8Rb6rQ0+meiE37ZXSzqrNq8Cy+fqMPz+SCk/SxYH4MbGmbi6WvzyZBmqZ0RIaS6Z7w/VmlKsSTLDu3MIHr1ThWnPBWGhSHNURD02/qsIrmPCsZTKtSgCYVsy8caOswL4amEoqMa/5zRgzBdtpHwteMEbOavKsS2TBj1qsfatErgMjsAiyseyYDzWz36eqbQOn86tQ5eXwsX+WCx6xw/yPZVYcVgvDdZcDPdwZ0we44Ix9/pg0eIYfPd5GOLtK2y3iqsm2CV9IFnYRae61NYUUhUtFBaNory5rSWCnaClzCZNmiQtfUaQJXzTpk3Skmok2i8FHbt7924pmNzs2bPx3XffnRHllC4JdgrSRoKPllj79NNPLxr4jYLM7dy5E0uWLJG+09rotE47RYBvqWCn+erHjh3D0qVLpe/kSUDW/osFjKMgdbTmfGRk5Dlbhw4dpGXlKB+/hz1KvFoSvLQ+euNG1mOyDFOE9aZ06xAqBXUjyMWb3LhPZZReVByTa/2eI7mS+zdB67nT/G5Xl+bnvdO8+PhoP7Rr4y9df9qoDtJ3qsvy6gZpyTWKBt/0cuHBXpI4prJQPk5nlktLwDXoz+uz50EDDvPWHJeWVLtY/smbwN3NGYG+blLeGrcgf3cM7hUNXy+ysjsObgJZzE+kFsNotsDH0wUxEb6S50LfrhEY1jcGE4a1F4K9K26d3FWyvjcmQUH1WnYnMAzDMAzDMFm7dfCf7o3OAQ7vzGAf9AoW4tZXAXl+LZ6+JQ1jx6bh+c/NKMw0oZKMykQ7J8zq1migkiM4XIGyryow9oZMfLheh6ieXvBzVyBtoxZLt9figRn2dO74lx7lp00ocQj2jiM8EKkR8kwuR0icOxRODcitMom3OndEB9XhaXHO2LF5eGGdCacON6BWJt7Bw1Q4urkUMyal4c3tdfCN9EGX4N8PQuzso4CiqA7P3WrPyzOzzy1T3EQvdAukTyr4tlWhyOEwX5VVgzo4o3tHZ/HLeZToMd/NCc8Otnsaq/09MGWiGkfSmxHhFUL4LzJjgRDtE6lc00vwW5YNB/Ltq0hdTSrzTFD1F+/dkfS2LINXG1eMFTKiMs8KW3kFDiYrMWSUG841MYp38WIzbIku6BdnnybrFuyKEf4KmDKvzMW9pVxdl3iysAtRLm20xFvTfx2fr0RI0JkkihqDzZ2/0W/i/5cNuYmThf3xxx937IG0zNv8+fMxYcIEvPfee9ISa03dy0l0b9iwQVrmbPr06dKa52SZpyXcNm7cKK2HTukOGzZM2ghKk6zYtHxbY9T1Rmi+Own1V1555cxv5KZ+ww03SEK6JdAgwtq1a6X132kOOkFLyFFabdq0kb5fLiRuSeQ3utJTuSmYHg0ItARyNae1y5sSEuCBDnGB0txxIi27Ap/8vEcI97wLLNW0zvjPy49i5+GcMxHcI0O80DbSF06XOcecXOOvG9JOsqLTfPJjKUVYvysVNXWNT1nxIHZWoWfHMCGe7TENqmp1+GXFUSzffOocV/xGqK+dzCjFF7/tw4rNKfhZHFtVe5EgGJegcam4RvKKqiUrOVFUUovPft6HRWuTpTnrzSET51osVvvcfMc+Kic9jBiGYRiGYZjLx6C3wddbiXPeMC1mHPopEze+V4sxz4Zg7txofPqSMyItQtk0+1qsQPT1bZG8MQ63t63B89MyETwqFXuKTNCLV7yEB/ykNKRtQQL2p7ZH/2YcWikclVK8t9Krcdnyk+g7swb93rCf9+VzGsjrrTDJlUiYEIVvl4Thnjg9XrsuHW17i/fSY2ffcZvFasHRX0WZ3q7FsKfsZZr9ijOiqEyXtlXBIsrg5KGEp12Tn4vJhnI/OXzOGPOVcA9WoN7UTKIGKxT+arzyhaMuxLZyd2dsu83fccDVg2Yde3gq4Nz4eqyWwd9JBhnNR9dbYVGrEdTMZaku3FwVcHFMm4VSBm+RiNrYMs15pVxdwS5lnHqu2Mja3vTfM5/PXvL3rMf06zlHiONttImPzW0kq62U5u+k2xQ3NzfcfPPNePHFFyXLOOWJ3NhTU1Px9NNPIy4uTrIy05JsJHrp8+jRoyWLOq2TTsLNz89PskiXlpZKopag9cvJpTwxMVFyRadl0r744gsMGjQIt912G1566SVp7XVagu3uu+9GSkqKlBa50994443SflqnvTnoWLLs33LLLdJG+Z84caI0+EDrvO/Zs0eah0+WepqPTtHnyZLeHGTZv/fee8+k1dw2a9Ysqcy//fablO6VQs0zdaR9zXAXIZRpsCUrrwqvfbYZz767FrN/2Ys5iw7hX7O34JE3VmLtjjTUCxFLlupgf3fMnNgFYcGX731Ax1EAN7Jmk1XeIh5+q7elYduBbOj1Z+MG9OsWIbnTe7o5SXmkoG7fzD8gRXP/+MfdWLrxJFZtTcF3Im9PvLUGT761GrsP50qDDCfTS3HgRH6zrvEUJX7NttN4+5vteOvLrRfdXv1kE76cd0CKGk8ifMehHFEvlaIuDmLWU/Pw4kcb8OOSw1i3IxU7DmZj7fZUfPT9Lrzy342SCz9Bc/RH9I+V8s8wDMMwDMNcPmExCmxdX4OSxkBiBhNqGoBc8V42ZJY/RnV2ha+vHCohOi5842vECm2pFa5+Stz4767QnY7EOBcL8mttiGmnhC3DiHoXuUhHKaWlpphJ57+3iXfjilIzatQqBAmhmX3KiMGvhuCGHuIcbxnkjQHgxHH1RgtkLu648ZOO0Fd3wlNjjDhWZoSXvxJK8ZrbrLOoEOZ5JisGzPTDuK72MqkvWaazyFVAbQMF0rPnwaa3oKrRZuWvwuSdOixOtadkNdZg1086JAZ6Sd/PIcQVHTUUuFqIaW+qC7G52a5alPym+AbKkbynDilae57NhQYsFW0kDxG6VCmHTW5ETrHjwkYryhwOAV6iXrKS65Fcbi+PpcKIjXmiXYIVdqOkkryFbZIGhcmM4ipHu0ANnyBnQGF1+CVcGYpXBY7PV4RMZNVanwarNsmx50JkTiFQhdwEGbW0KE+WaN31qc0HyKJ+6+OqwqQO/oj2sVs9jTW1KD9wEDohjKk6zt9kQqD69+uD4GFDxbfLh4K7UZA1Wg6NoruT6Kao6gRZ10lsn7+fXM3JlX7o0KF46qmnJAFNopYGAAiyTJNrOaVJ89NJzNO5lAa5rG/fvh379u2TrOqN4jomJgZ33XWXZL0PCwuT0iHIZZ6s+ocOHZK+U35oQOH48ePSRmu203ey9JMFvDFv5NL+zDPPoFu3btJ5BA1G0FJuFFyPoLXeyRrfmFZzG6VP+aTl33r27CmlTy7sB04USPVO88kp4rqf98UDqJ2PWqWULN9k8a4UT0IStSRSKZr6qYwynDhdjOyCKugN9m7uJoQ2uYPfN6MXEtsGSjdJI3TOLiFuyYWc6NkpDHHRfudYrilbtFY5CevyqnrpWrQWfHCAOwL93KESNyvlvYNImyBrOVm6KX8UgI4ivO8/no89R/NwXOSNrimV3ctFsszPmtRFcvP3dHeWrktR6Q8lF0j5pzTInZ/c8DPzLr7lFlZLXgMDekTBxVmNLXszJa8CSoO2/OIaHEspxq7Dudi6Pwu7j+RKa8frxTHkxRAe5IE7pnaX8nO57cAwDMMwDMPYcfWwInteLfbnWVCWb0Lymlwc8fdDTJUW27YbUVltQ8apShzdpMXROmeMmuoF1/xKvH9Yhien+8AeFasBq+/JwTKrAkXJehzeV48CXwUmDvFEVAiQOr8WG0+a0FBmEe/glZj3WxUSR7ujalsNtp0U7/lCgKecqMfm9eXwbR+ECX1cYauuxW8rdTDr5UhNr8T2eXXYIkTh05PcsGlJLuavN6KiwIyk5HIkF8sxboQvol1tOPRzJY7p1DCUm6Dxs6BweR0qOvtiULwctWn1UpkqpDJV4djmOhyqdsKoaa6o21ONQz5uuL6TvUTV6TX4pdCGBwd7Q+UmQ0p2LQ6nmVCaJa6ZWY6F62zoOsYbXaKd4euiw4cbaqCplOHIxhpsqVPhhru8EKy04fjBClR4eWBIew2UcINcU4dff61CQb0cuaf1SF6Zjc2u7hgQ1oxLv7EC+5cdhKJnX/SIPne6rYTNhqLjlVi3xQaDGshJFemJ+s8X9RwQo4bvkTqsPSxHVYkO2/dXIzdYg5uGecLP3wkNNXVYcUyPhgIrkjMrMWeuAVETfDAm0QmaJC227AcqygzYc1DoJrUKU0VZIz1cYNJWY/lWA03dx+n0csz5sQFlndzxaG83mOobsPTHalSalCgWfckv0gkul+ccfAFXTbBDphD/d4XVUAibkVb8azpGI37TREEVficUbu2kPRQ53NtFieSSeuTXnHXnbcRFCJex8b6YKAS7h7NSUlwKIazJCl2XkQVT0/ng9JuLCwL69UXcPXdCExDg+OHyIffvTp06SRHTyZJOlm4S0XS9RihwGwVhS0hIkMTwfffdh4ceekiyYjc3R5yOj4+PR69evST3dppLTumRQKd/6RwS9GQZnzp1Kh555BHMnDlTstg3QsdR9HoKSEeDACTkL7aR4CdxTnm78847cc8990jXbwqJ8x07dkif6dqXs5GLPnkJUIA6Wk++vEqPA0K8Vtfq4OYqOp9GhQBxU9M8cKUQvpcD6UkPNycpunxkqLe0bBvNHydxSwEISXBqnFRSdHWahz52YDwmj0xAbKSfOO6sGCWxSq70OUIM03JstB66uxD3bSJ8JJHfFFqnPDWrDAaTVbJE01rnFDCOArbRfHsKZkd5ILEfHe4NL3eNJL5pDjkJfPIEoN893Z2k+e79ukZgwtD2uG5Ye7QV+fL2sIt1sswfOVkoDSBQfijI3uVslF+qT5qjTvEAqAwd44OEEPeEp/hdqRR3ueiOtLIC1Q+V19tTI00PGNwzClNHJ0rnNhdckGEYhmEYhrk0Sg83JCYqUJFmRXGtBbVyF4wZ5Y4ObV3gJbcgJ1fsq1Vi+G1CnIa5IKadeA9Wy+EVRPOcNY453Wr4tZMh+bBJHGtBvVWFCZP80DlCDZW7G/r0UUOWbkUOpV+rgP8EbwwPEe+l4n2U7ILldWK/1obwzt64aaonvMXrrE+8K+LNwKkc8ZvKCeOmuyE22h39ElwQbJOjLsuKQkpPq0T8ZD9MiNcAbhr066hAVopZWpouLMYZwT5OCO7ggjA/BYIiXeCjsCBbKpMCw6hMoaJMQky7a5QIihbX9LeXSE6u4AEadA13hlq8vyeIstSJvOSVWqBtp0L3CiN8+/ujvZ8TQrq6olu9FUeyRdlFXVx/nz+6h6okT1mVkwLhEa6I9FVKPtehiZ5o62dFegblQWxKV1x/nRe8m9HrvyvYhbaUq0kRK6DVOdITm1UlR1R7T/Qe6gzzSQMyqqww+7lgxiQfJEqxCtSISdTApciCtEJxTqSoi1ItMCQEfaOc0ban0AO5RpwWZTW4OuO6Kb7oF273+Q+Md0FQnQ1p+eK8EFc8OdkVoW3c0D1YDddAFRKsSqSKNA1mGWI6inq1zzRuMTIhCM/Xyq2H5qkbSmDVFwpV0WQ+r1wFmdoPciHaITubUxJA2ZUG7MurQUGNXny37yfjaZSXBr0jPRHi4XR2jW5xvKlOC21ODvTl5WT+dvwgg1IIdpewULiKTVKDVwBZocmiTtZnmrtNc8NJZJMQIms8iXmK4E7/krX5ciDrOlnAaaM06Rp0LkWDp+BylB4J+uYso5QPOu/3morSo/yRa//F1n6ncpG1v+m8/MshLy9PEu/k+m+2yCQrNa0LbkcmhKZ4OHm5SIK2pVC56nUm1AiBq20wSFZlKiql5eqslgQyCfrmBgMoSntphRY6yd/HXj9kbQ70d5MEf1N0BhPKKprmmxB5F0LZR+SdrOyN0PXpeBqUqK0zQC8+m8S1KE8a8UAlYe0tRLWLEP5NLfkE5b+y2h453nbBUNTFoUEBWpKtc/sQaem2RiiCfp2olzqtQfJEMJrsVnsqp5PIi7uLkxTx3lmU9wq7PsMwDMMwzN+SNWtq8fbbxY5vzMXYuDwSJ5Jr4d7eH7Fe4r33aDqm/lOB9xZHY8E7Rdi8ufkg25eLn58SL74YhC5d7Nb9M2hT8ckdX0D14BO4f+hZT+RGFiyowmeflTm+XT6bNrVF3q58FLcNR59gsSMzD4kDavF1WgcUrq3CJ5+0PM3z8fJS4KmnAjFgQOtCxV9dwX4OTZO9tIogoX5+Nki4nqeDzuX8bLNS+UNpbJ/mBhSYqwcJcapjrmaGYRiGYZg/D7PZBmPj3HXmoqj0enz0XCpenmuTtJpapcGm4nh0dZbBaLDBYrmyOqR3YLVahqYetRK/I9hb234uLnJsevsoxr9mg3RJqxqrKtpjkNhvvUp94qJlukz+QMHO/B0g7wOaU08eCOTiT8HtLtfr4FqGbgvybKDAf41xCRopKSmR9pEXQ2sGMGjVAIo1cP6tR/VG9UdTH+g3qldaRYCuQfvpeo1QXAPy0jjfK4PSpu+0n2EYhmEYhmGYvzYs2JlWU1hYKAXDo6XvSICSO3779u2lue401/+vDA1EfPzxx1IMgOuuu+7M9AK6XSjWwOTJkzF48GApzkFLoPNpCT+aYnD+tITQ0FApKj+tMLBr1y4pOCAFE6RrU9wEWmqQYgiQsF+2bBm2bduGf/zjH1JwQxLplPbrr78uifsnn3yyVYMJDMMwDMMwDMNcO7R8wjHDCEig03r1FMSuT58+UqC7jh07SvPjKyubj/z/V4LEL1m4aV3988e0ampqmt1/uZAgp1gAJLxXrVolWdRJkLdt21YS27SePwlxitBPdUsrGGzatAmPPvoo9u/fLwl9Wmngyy+/lMR/0/qm9Oh8hmEYhmEYhmH++ly9KPHM3wqtVot58+ZJYpKszeHh4ZLgJOHp7e0trVGfkZEhWd8XL14sfabo9+RKTpZfEplkQV63bp3k3k0B7UjA5uTkICsrS1prns7Lzc2VfiN3cBKqu3fvxqJFi6TfKS0K2EfpnTp1CkuWLJEELbmDUx7InZz2FxUVSZ4A5OJOwf3Iuk3HkoWaBLKPj490bXInX7lyJdavX39m6Txad5/K1DSAH51LZT158qQkpClfFEmfhDwt1UfXaFxDn8qdlpYm/U7XoLzS2vwkxClNygMJcVpLnyL8k3inJQLJe+Hbb7+VrOq0CgGtNEDr+FO9jxo1SqoHWjmAykLQ6gaU/jfffCN5OtDa+WxhZxiGYRiGYZi/NmxhZ1oFCV3aaI12EsRkbSaBSMKaxCoJ6scffxw//vijtCY8rSH/9ttvS4KcRCeJ0p07d0oR7clSTBtFzycR/Pzzz0vCmZbCW758Ob777jtJ4M+ZM0fayHWcBPXmzZslkXzw4EHQuBOlSyL9sccek9Kmc3777TfJCk3zzulaZLX+4IMPpLzGxcXhrbfekoQvpfPyyy9L16OBhb1792Lr1q1SdP/meO+99ySxTPP26do08EDz+H/99VckJSVJHgjE559/jszMzHOs8SSsSZg3Cvim32mwgkQ+eSzQoADVJS0P2LVrV0nkk0cDDYZQejQwQdf+4YcfsGbNmlZb/BmGYRiGYRiGuTZhwc60ChKXDz/8sCQm7777bmnuNYnfPXv2SKKZrMckMGku9Y033ijN+yZrOAlyEphk1SZhfdddd0n/HjlyBIcPH5ZEJ4lTcgm//vrrpWvQgABZx8ndvnPnzujfv790Hq0zT+l8//33kpWf1sV/4oknMHLkSGmteVrCjgKz0Rx0un67du0kcU/r1VMatP49CWMaTFi7dq0knkm0k3X6jjvukNzWm1rWm3LDDTfg/vvvl65JeSFLO4l7WsufrPzkNUDeASS+yTreaHH/PWjQgfJMgwbnW8hpHw0EkDt+I1RussKT9Z0GTxiGYRiGYRiG+d+BBTvTaijY2WuvvYa5c+dKbt1kXf/vf/97Zp41WYBJpBPkvk4WbhLf5O5N1nMSoAQFdqMBgLIy+zqHZLWmjaBzSLhSekOHDpWs5j///LN0TRLaJIyrq6ultGjwgI4ly3RBQYFksSfXeHJHJws2CWpy0SdrO7mik1WczqX19Mkdniz3jfmlc6h8dF5zUHC9RhHepk0bqUw02NCzZ0/JAk7lJO8CyjN5GJwvvi8GBeujspPQb7TSE/SZvBPI3b1pBHjycqCBAzrn008/lcrBMAzDMAzDMMz/BizYmVZB4pRcwAkSmSRUydJOFm8SxPQ7CeRGazBFXSfLOwlwEpwkvMmtnSDLOQlSEp+XErZ9+/aVLOUjRoyQ0qV56STyScRS2o0Cl9Ij4d0o+hvTpEEBml/eGPl96tSpkjV9+vTpZ+ag0wAAQZZustA3Fc1NacwzUV5eLol+ihhP1nsauNiyZYs0oDBs2DApf5cLDWRQ8D5y9ydvALoGbeQBQIHmKGbA+dZ3uiYNmBw9elSy6jMMwzAMwzAM878BC3amVZBl+p133pEs7CQuac73J598Iu2Pjo6WXMnJ0k5zuinwG1mzSVyTZXrKlCnSvO6lS5dKbvBkiaagdeROfjHBThZ2cjun40mwkuWcBgzoeBLwFChu+/btZyznFMCt0YLfCAlp2k9CmsQtudnTXHf6ToHgSIT/8ssvkms5CWQ65mKCnQLukds9lZGi5ZP7Pw0S0OAFWfjJA4DKQwL8Ym71zUHi/tlnn5UGAMjlf8aMGdLAwgMPPCAJc/qXPAmaQgMRAwYMwEMPPeTYwzAMwzAMwzDM/wIcJZ5pFSQsyRWchPeCBQskazeJaJqPTkKVXM/Jqk4i9quvvpKs6TQvnIQxWbNpaTM6hyLBk8WbrPPBwcHScSRAKSAcWcgpDbJ6U6R2stovXLhQEvhkUZ82bZp0HM01p9/IVZ4GDm677TaMHTtWcmen9MjVnaK9U7okoMnCTwMJJM6JQYMGSYMMlG8KNEdinNzYac1zmvceFhZ2zkACudvT3HEaGKBBB7Ki03x7SpeOI0s75YPm9VMdXWwQglz2KX+0bj1dr1HYU1R8mvdPXgQUYZ7KNnPmTHz44YdSHVF6NLhA1xk3btyZgHU0v5/20eAHpXmx6zIMwzAMwzAM89dAJsQAh5ZmrjpkdacAdBSU7XxL9/8qdCuRKz2JeHJNJws5DU4wDMMwDMMwDMO0BnaJZ/4QyG2b5qu3xB38rw7N2SexTkvakdWd5vMzDMMwDMMwDMO0FrawM38IND+cgriROzq5af8doOXYaJ13mhpAbul/l3IzDMMwDMMwDPPHwIKdYRiGYRiGYRiGYa5B2CWeYRiGYRiGYRiGYa5BWLAzDMMwDMMwDMMwzDUIC3aGYRiGYRiGYRiGuQZhwc4wDMMwDMMwDMMw1yAs2BmGYRiGYRiGYRjmGoQFO8MwDMMwDMMwDMNcg7BgZxiGYRiGYRiGYZhrkD9kHfby8nLU1NSAl3hnGIZhGIZhGIZh/m6EhITAxcXF8a31XFXBbjKZkJeXB7lcDjc3N8dehmEYhmEYhmEYhvn7UFpaCr1ejy5dukj6uLVcNcFOyVRVVcFgMCAwMPCKMsUwDMMwDMMwDMMwf1XMZrOkkY8dO4auXbtCoVA4fmkZV1VVk4VdpVKxWGcYhmEYhmEYhmH+tiiVyjPamHRya7lqypoyUVhYCD8/P8cehmEYhmEYhmEYhvn7EhcXh/T0dMe3lsOmcIZhGIZhGIZhGIa5BmHBzjAMwzAMwzAMwzDXICzYGYZhGIZhGIZhGOYahAU7wzAMwzAMwzAMw1yDsGBnGIZhGIZhGIZhmGuQq7YOu9FoRHJysrTGHMMwDMMwDMMwDPPnUlRU5PjE/Fm4u7vDzc3N8e1CtFotsrOzkZiY6NjTMliwMwzDMAzDMAzD/MUhWUfLh/n6+jr2MH80er1eWmvd39/fsedCWLAzDMMwDMMwDMP8zSFZl5GRgeDgYMce5o+moaFB+vePFOw8h51hGIZhGIZhGOZ/GKvViqrqGuTkFyA9OwfZefkor6iQLMRXyX7L/EFcIxZ2C7QVxajUaxAc5AOV3IbqwgzUqQIRGuAujSroyjORUVAPtac/wkMDoFHJYbOYUZ6bBq1zIMLoPBmlZUVDdRHySm0IiwyGq1MDso5loY5+klAhsH17BKodX1vI8WPHHZ8cOAWgXbsgKHS1KMjLQ7VBicCYOAS6iMzYzKgtLUR+aTXMVnGoZyAiwwLhrHSc2yqsqMtPR1aFHnKVKwLDwuDn4QQZjMg/eRo6V3+EhQdBWZWFU/lnSy3hEYZOUd6or8xHdrERQZFh8HFzEkmaUVmYA4MmCEG+rmdHcWwW1JQVoKCkGjZNAGJiguAs1TH9pkdJRgZK6i1QarwREh4MT41S5KO1WFCZnYr8GhMUzl4IjwyBh6ioupIM5BTr4OwbhIhgX6gVMhjqy5Bf0ADfsFB4uShhrc5FeoUaft42lBWWwWBxJClw9gpEsKsJuUWVsIg2kBD5bRMRAje1EQXpGajQWcU1vREe5YnqlGxUOw6zo0KQ6C/e5irk5+SjzmiDyi1Y1IU/WtmFBFboaspFGUqgM8ngEtgG4V5WlJVUwj0gTNSj6Nuifgsy8qD0CwSqS1CpCEBCuKfjfMBcnY/UPC3849vBv5UZsVlNIul8FJbVwSKeAs6+0YgOc4dK9Nua4nzkl9WKVpFB4yXqPtQfTgr7eRZjLXLTs6GVuSGU+pCLWnQVEyqLs1BUrhelk8MlqA1iA13EwToU5xfD6h2CENFPG9GV5yK7qBomR5so3HwQERYCZXU6MspViGgfDY8zHbEG2ScKIAuKRqS/BjBUISM9H/Vm0TrivNCwIHFsDVJO5ou7oBEXhIaqUVBwbmvCyQ+d2oU4vrQcq9mAsvwslNYYIdP4oE1MGDQ2A8qLslFSaZDK7hocg5gAkU8HetGHU4sboHb3Ffem6HcqsbOuAEl5eoTHxcBTPA8aSsTzTe+LxHBX1Jbli3uuFmbRJmrvKMREeIheKNpcV4nc7CJojRaoXL0RFhEKd3XrxlwprfzcItTqRQsrNQgIj0Sgx9mOpBf9KyNfB//wMPh7WpF3LOPC+yI+DjaRb5tnBILcdEg/nQ9lSHtEeStg0ZYhu8SAkKgQaBRyWPR1KMrPQ6VoNIWreJZEi2eJoz+1DBt0taXIyyqB3rGHnoNhbaNE3ylCfkkVjKIzO3uFICrCD2p6INWX4Hh6FUIT2sFXVKS+Qjz/tM5oF+lnT6BV2KCvrRB1WAKn0GiEebuIO8UGo1bUax61kejYCheExcbCx5mumYcsrQvaR16Bi6KN/raVIK+AnnEquEeI+9VbJC7dY/koa9Agvn2Y/blkaUBRXjFsvqEIcW+874woz8lDcXW96KeE6Kt+QQjzVyIv7dy2yyoxIjQ6BCpxrxdk56HGIHo29ffYMLic6XJmVGRloED8mQlrHw8f6qRiX22+eAmsqBdvFyJ9n2CEied247OjNRhLU5CtC0CbSB8oRasXnc6GObgdQpzqUZSTgUqd40C5HN7hsfA0lKHa6oHQQE+IridhNWpFfeSjQivuW7kS3iHRCPbV4AqyxTAMc01yMQs7ifWi0nJkFFeKZ7M3vN3cSARCV18LfVUFYqIi4Ol59j2TuXz+DAu74lWB4/MVYbFYUFZW1koXDD3S1/6MjQdrEdspXrzgWbB/xadYVRqG3u0CYE5Zjuf/vRZW8Qc2c/sGpDT4oF2UP2TGKiz7eBZ+O+mGrl06w9NJvJ2Z63F0+ef457zT6NKzK4LcM/H9zKexs0GG0rxMZGYUw61Td4SL95zWMPenH3Fs+2psXLcfRTW1yKvSoEO8OzbN+wJr0w1wqj6Kn+ckIaR/dwTKSrD+s7nYnFMNmakOx3eswZECN8S1D4Fz696zUXroZzz2xiI0iBvNrNUJ7ekHH08N5KZkfDT9PiwpMiGxR1+4FmzDgvUHcWzbeqxdcwwldRXIMwagX7wXDi99H4+8vBbu7bugQ6S3qMc6bFn+LfbUR6JrjK/jJcaM4lNrMffXNdCq1Mjd8itWloWge0IgnKDF0YUf4rXFmXBzsaCu3gYvvwB4uapaLdjzt7yPZz7ZAbOrM4z1VniHBkKdugivfrIbMg8rTqxdj1ynaCFoPFBxeh3ef+Zn1LfrjPZhnjAe/RXPflmFuHgdDm/ZgQPbF+GTNamwNpSjxuIKn5pdePSTddDXVyA3Q/SBSpl4MPkjf/lLeHd9JZyFcK+pscAnRI7khWuwK/kglq9bgKTcOlQWlMMtMQ6nfn4VS0/oILM2oKZOLQSCEByOvLeUhopT+PWL2dhXYITVoEUdAhHmXo1lixYiX9MG7YLdYa05hB9fXA7XHpE4MPttvLndhuvGJQoZSpiQtvotPPrKTsRMGI+Yi8e4uCSWuiIsXfg9tqXXiT5QjoPLv8dBtEf3kHqsevcHbK8QkkjU4eFtG3C6ygdtY0Xbywuw4j/PY0uFO2xFh7HgYAXad4mFc0MRFv72BnbkCHFQehTzvpkPeYfhaOtWipUfzUeWdyw6hnk4rgwU7v4AT8zdA0tFhbgnM5GvVQoBGoHKDffhobc3ImLQNLT1ctwkBWvx6H1vIz16MIaF67Dxkw/xc6oeLlYtqvQyePsHiJf0o/jXTe8hSYjn0hy6z2vh51uLjRv3ImnfemxYug35tfUoqFSjX7doe7qtIHnlJ/hy8QkYFDZo66wIFH/glLVp+Hne+zhc5ARZbS62LPwcBb790DHEFeXHl+CfX+2A0s8N+bvW40ShM9q0Ffd/5hLMenY7ul43BCGiI+VuehH3HQrFrYkuWLvka6xOqoHSUoEj4r7cbmyP3sENWPvlD1h7uhxySz1qdBZ4B4TAs3WqF2UnfsSri/bCTYi2oqxD2Lx7P1zDExHiaRd3p9d8iHufXwpVREd0jLNh70/LsevEfixZvxSn8+pQnl8hnh9xOLzsRRxX90MPj2z8976n8bOlCyb1CIIxcytenZ+Ezr0T4WHRYvu8z7FgVw7MViNq6+QIjgqFS6sGLi0oOrQcP7z3K07X1CE/W/SdIi0C44Jwcu6vWJskRKqtBke2LMeeSl90jA+CU+5GTL1rETpNG4NIcQMV7f8Mz+424YaecY40W4HNhOwdC/Dmk68jzb8HBiaEQCEzImfbAiyYtxO1SiUqRR2sXpyFwB5dYDr6CZ7ZY8GNV3DNhqqj+OH9D7C32Cour4PWJQRt/TWwVqXjiw/+jXc+z0bfW4YgkLqEPh/LP1iAPP94JIY2PiAqsOud/2Du/nxUleWJeyRXPNs9EeFVhi/ufwq/2bpiYndqu814ZX4yuom2s6ZuxNcfrEe1qwzFh9fg460N6NcvDm50a1oKseLJZ/Hi9/MRPGQWEnxpZzHWP/oUVpmCoKrLwf61W5BlDER8Gz8oW/k3r3LLv/H8Ll+M7RsJNYqw9tFnkNThRrSXn8IP37+Brcl1qMjPQVZ2PhAUDcOWH7E1Q4UOiVFQO24Pfc5OvPH9GhhsVtQUp2Lzlp0w+MWhjT8NtDAMw/xvUVVVJQVBa0p9gw4peWWQe/kiPCQEbhoXuDhr4OLmjpr6Bpw+fgSxsbGOo5mWYDKZpH9dXV2lf5uDDNvV1dUICAhw7GkZrfwTerWxQV9agIrCMsnSR99rqguRU2MQnyqx9ZtXkRE/DpNHDcfInt5YvH4jMrUGWC1GFGbtxE9rd+JEcbU4VlRaQy12b5yHdfuTkF+nE/vEi01WHrqOvxW33kbbNHQ+tw+3iFtvm4nRXYLg7xyI8TeK9CZ3g7VgBw6uT0e3gWMwcsJ09LS8gDfXpooXGiEQTpbCI6Y3xo4bi2F9fJG38zdkldsbtsWY87Dls1+gGHgXbpk8FqNH9EdssKddYJ/ejJXFQdArDyGrtBauccNEXm/BqK7hcFe3xXUzRV5HtIXFbERq9hZRUVUoPFFgt0bbLKioLBH1RfVtxyaE5MH1+5Gt6IKBw0Zi8sxeKH/zDRzIE9nI2Yd338vFgLtvxaSxYzFyUFeEeZOVv5WYUrD4xTnwG3M/bpo4FqOGdkOIey3WfvgEKjqMwYTRo0Wd2/DJ/A3ilVNcX1uB9HW/YeXGQ6jT22BpqEBySj2823bHRFHOaV2USFZ2wvWivScO7gxPmxCdphhMk9pfbBP7IcgpCwueE4J3zM2YIMpA1wx2D0d/UWc3ThkKjwA9YoZNkfpLomU/tv1UjG5jr8d14tgRA+OF0Gk9OZuXYmNSGMZMn4JxY0djcEc/uIoHZnB9PTJ3pkIrukfV7gVY5hyLSF8rylJPYv93n2J1uiMBfR52/rYDu3fORUaJY18rsBkbkFNWC492fTB67ERM6+2OHf/djLx6LXKOl8E3cRDGjR+LgYmiPrcvRm6VEcYjS/HeMh/0mzQeY67rB89l32HxIQMsxnpkVxbAs9NAXDftNoz0XYZ3tqYKgWZCVWYJamrP7fPGugwc9Uy0t4fYbhzTW4hFJbRlh7B9z1b8uD3ljLU8bf0PmL//IJIzilGddwQf7rRi8IyJGDt2DEb064RgsgybG5C/X4ce0xxtfNtYxLUfIP69BRP6R8Pf5oaR14v9U3s6Um0FxoNY9vHPCBt5C6ZeJ+6/oV3hJ/St2VCDjJpyBHUbhLETpmJ8jBFffr4TpZYi7P5+HqxRQzBxyCAM7h2Mo8fmCtFeK3kJHD5aCKG7JQy1KThYoYXNbEBBaQWcYnpi1NhJmDnUFzveXoOj6ccwL78GXUePEeUei+EDuiHIvfWuOvrKdBy2eWG4SG/86FFwKszGql1ZZ6zWqadXwaTQofx4FuqNARgo6vQGcd+4BFiQMGqaqNepSHAxo7TiJPJ1om0tOhQeOYwtH83BoXKyaNbgVHEVjFYb6gq2YPOqQ+g8+kZMFP1p1OBEeLXaPcUGY3UpZEpfjLnB3tYzbhiNKLUexaml0IR2FfV2HcaPikb+is9wMFcn2q0G+8WDizwyCKM2C8crKu1fWosQzOmn81Cs1uJATjIskvuOFVpRj3qLFwaMGIvrpl8Pp+LPsC65GKZ6umaV/dxWUrRrNbbkxWHCjdMxfuwIDIy2W0Jqi0/htKIKYad3YWfjM0Lcd5XpJajWOgotYUZdRgq8u4x33CPib1nv9vAQfyMLDx/C5o++w2FqO9GfTxaJtrOJuq4qQkW5B3oNH48pN49EyLL7MWevw9eiOAXzU4KQmLgDm5KEWJYQf/P27IdHp7EYd911GJRQh2X7NqGqoZV/8wQWbR6SShocXgHihSfpOGgs0WquQ57Vgg5Sf7wVt8yagf5tnKArzEFFaRVE1zuDRVuCoxVO6DF8FMaPGY04Qzl2r01BXRNvLIZhmP9VyOpeXVcv/q47w8fHF0aLHPSnWy/+RNjkcgSGRSM7Jw+1teL9hLkmuUYE+yWoz8HeJeLlbFQveLm6Iio+EYpDxUiqFOLSZoDRIwjhRTrkHi+SXEi1FQdRfMQX7dtFw2J1OP4plPD09Yd/AG2+cGmdUUqC0vDxcIWrxhU+fiI9H1fUnzyFXMtAJMZ6w8UjDMOGDsWxrckQ7z4COdTiWDchyAJC2ojfq1FLd0hrKM3CxhMdMGlCAvw93ESaLnBSKSShnLlnBQw33IiuPolIKqiA2dlTcs3w9nSDi7MbfMRnf09nWEwZqMhQ4vqbY4SgOAm9sfm8GHVaJNXmwL97RwS5ucJLiI72XY7hYGYZijL241j/HrixQyA83EQ+XDVQtdZ8QuSewILjIzFxbCx8HeVSNWRi2y9hGDqoCzxc3RHXqRsMa0/jmENRBPs7YcvhE0ir1Np3iFpQOtvbxE+UUy7K7yfaylu0lZQ1tbv0XeoDPu5QmeqRX+mLyHBfuFMZ6JoKNTyonnxFO7o4wd3bT+ovGr1oM6MfggO9Hcc6X5ErZVLGdijGDEHHYEd6LkrInXyQ0MsdxfX7UVVXhk0LP0fPiYMRDBO0lvYY0jsfc9YdkwZU6tIPYkGbOExyNuMizXf5yBRwEvXm5uaJoPaiX1XmoUaqYzmcqN+6eyI4LBwurlVSXzm9bzFyRo9Fj0B3uPm3Q+/+5Vh5JENKStxo4hwXUW8Bol6DUVNVJ3J/CTSijzraxM/LHWqFCXqtDU59BsB33nbkkKur7SSWvVeJSdePEhrEDH1DDao9fBHj5ynyTHUn+p6icahIDS+6J6U0vaHReEiffUTark4ujvv1CoZaTu3EzuJpGNIvHF7u9j6jbLy0XOmoL2/EtWsPbWY1dBX52JkUiQH928LT2RnBkR2gMTohtbgal9QJok3Uzi4ifQ8EduiI4AohQKpEei4yBPh4SeV2daH+eoW2QaWTlJa3bwD8XfxQW6ETko7IRN4JI66/qQvqnZOgbbDBg9rI1wsacV94iD/2zT9HE9EudCsWbnf0Bwd1J1OQax2HHp2D4SnVm+ZsvbUSVePz15EvJ+nxI4dKtLObqwciYofCP7Iah/PLHULv6mI2NCC9oRhdp92O2qwGZJyZbyOqVeUk7hc3UU/tEBSrRWqt3VXuSkk+tQVW8bclMcTx3JC8K4wozUtHmEcfTLu7BBsPZNoPvgQaTx/HPeIHL9EW9m7UCfEhou12ZJwZtG1EoVRLFhjvoEGYOV2BeQdSpfu6LOMYUvt3x7MTHsT+faelwdRGnDRucPfwQ0iEFypRA5Pjb/FVR9S1uzf1R1Eefz+42ztC88hFOahdvPwQKp4P8qpKGK70+ckwDPMXwWy2QqFyhpOTChonmXgvsW9uKhl8XVRQKBSSBZi5NrmmBHtteSFSTiVJc+HzSh0vObp6lFqDEehj/wp3L/TWaFFXaYHVUgNndVvMuNkDSUL01RutKNq3DRk9R6Odr9D6Jvurh0lfj1OHd2HXLrFllEr7riYGvQlFavHS6JgqGBjVBeZ9FeI15VxsNitsZvGqLv5tFSYTMqye8PA8723XVop9aw9gyqBu6G5TwpaUK42cNYch9zgyCiagX+/eSM9uQO5FDqTBEAMK4ezqBLsdL1CIdjNSamph1OfD6qWAF+2muctF+Sgo1zq8I1qB3oATIn2Ppp4PDbUotEUKIef47uWLoapylNhHQRDVow/ukZVh3d4C+47fozID+6n9dx1Aak4lTF7tMe3eCnz+9vtYfygNFdqz3gXnIw/piYQex/Dt1z9hz6kCNDROvG4lekMa1J6u9rmmDeVISs5GrVmBsHYDYMnXYc+2n/HN+psxrnuw6P8NOGmMwc3/eACGn5fhREM9Ug4eQ6+o9ugc7IzqizV0axD9UmrDc4png9Uq3mptKsiFINdpkyD394Td6ccdQdFq7Cx33FP1Vcg6fgC71n2Hr5bJ8MCIrjg7k7sZCk/b78ldh5CWUyPEYgPK8q2YevO9aBu/AUfSalF/aCt+jJmJSf2cYK4xQx3ZGTcYd+KNf/2CXclZqGo0UUtUIHm//T4/llEoXsZb2yEvQoMQaQo/CK0sMKA8Mw3ZlWdnzTdiNhkhEwJdJu7XbLM7nD3sytbJxQOuVe6oKqe57pcJtYn4xyukG/qUFuHLz+bj0KlsVOuvnmmQRt6tMhtkKvudbs3fh6TMKejfuwfyS2zIrGucJPx7hOOO+x5Cw4qVOKU9W0KD6KP0fHSWno86FJ9MRkHNlfXbmpJcHN5nb+uDhY2DdmdRKDXw0oRBJ8Ty1aups+jrc2EqqsCAPr0wIvkkjhc0dxWr+Bsl/XNV0OlOS88Nx58ZO6YG5J2Ww8WpH7r3HYVVqw85BoovTkHKIft9d/g4cmsMjr2i7e59AA0rV+F0k7Y7n6DI3rCIcjfY6pGVlIyh7cIR3bkvum/bhbwLDDM2yfNALZdBJruyERp9eTZOJSeJZ2UaCvVN7rm6cqQe3S+VZ+8+8Wx27L40Nnufv0rtwjAM81fAxVkFV/FnXi6egUq5TbzTib/7YiOjlk2vh9GoFzrmnL8wzDXENSXYSzKTsXXTBqzfuBFHMxxyt1FENIPNqoOx3gUxXQaj8mguUmvyJOE6cPwAhJfKUVtjlESYXluLnasXYuFCsR3Osp98NWliXWkOi9EIg8EepK2qjuaNtNIflN4wmquLiuNYtnQYenaOQmR7BarrT6K2oXnTQcHB9TjWpyvi2sWiS04BkgobnWDPRbzPXHRcgfafyYa+Amu++xKfrziO+ta+GTdXLrHvkrXqHILBMyOwf/VOFFyomS6k8DCWU/svXIW9SQXQW30x9sW5uLttJRZ9/S7e+XIRkksvfPEn5Ipw3PT4v9DRdAjfffwfvP3TVpRfgQo450Uxax2mTnsTh6sBVWBbTA4oxs/vzUHVPXeih7/oO2YTLAozNB2G4Wafldi4MwX7050RHjkIUYOVyC+/0tFQG0xCYBoMdcg6dhjFFMBNUtlCCKQcx6ED+7Fp52E0qGPhLZ70lkuVu7oYRzetxMK1h1DXoT9qCvNR7/ipWdL32u/JhWuw/0QpjNCjodYGjUscIqLbI2n/IWxfvQvdrh+I3l5hMJyqgt4zAXe89QyGq/fihw/ew6ffLUJqKU19IQqwY4X9Pt94KA0NjgG7q8Y5hS/GuqcfxltbHa7V9VXIPnkch/duweIV+xE7LBKe0k3UmjzYhOg3SW2SfegA8sJD4BMej7ufvh09ZUcx+6M38f7sBThVdjkd/xJU5OLo4cPYu30TUsrLEN3WRxpEKt65DHv79UC7uEh0Kq5CWu55wSsvgXvHIegcfAhbj5ac9a44p8PnYN6MG/DNwfOHM1tGadZJrF1mb+tV6X++RaAhJwk5aT0QEZ+APt1Piv5W7PhFFNdshtFgQH3ZEWQnuyPS5wrmYDXhnGp0YKqvxbH6YpgSQhHZfSD6rVmNE7/jeZ+6Z7X9vluzGcllZwdj3DsNRsfAQ9h2rMThaXEJdOJe3+2NuJBoyMJ6I6HNNpzMPvv8LDh5GAf37sT6bfmIcouEq+pKfJIAbc5hbNmwARs27ESytoksrxB/89cvl8qzdFlqk+CyzWCziHtKtEtdBTJKRJ0Fep6Z484wDPO/DA2aurk4Q0MT3ww6SaSrxEZxaxXipf50SjJ8vL3h49NoHWWuNa4pwR7TbRjuuvchPPzAgxjTyxG8TqGAsunovFX80bXKpc5mNVXCnKdCcLteGOu0F4u+/wrL8odjYCc/0TvNMJE1W+DuF4x7XvwQH34otut7S/uuKspz55Ka9A2QuYmsS99KsXXRF3j24Ucwe00xEkZORxyFKm4Noi4gv1AxVaUcwkbPemz+7j38uG4HNp5MRWHTl5ozVOL4zo2oPb0On33+K06nrse2I81PgqYqp8udxQSrQQaNXCHtlzW+PIobvbqqDuXVNEXBsa+lUP3JzrO4KZQOy74DIZZ0NgXOvvfJEdj9Ogyp+Q0/7/g9m5Ig8Xr8i9r/w1dx6/iOkKb/erfDzMdew+uP3QC35EVYui31ImWQwSd+EB5+9jU8e1svZH39Mpacar2FUEllOFN/BqSdrhB9WnyWe6HrqASk5wbg7hu7SQHmDLpamMKV8HaJxZDpcVj+3Vc4oWhAfLtwUW0y6AxXKNqqMrH55/fx5OPPYfYOGyY8OMkRkLEOaQd2Yf2iH7BkVR16XDcFIe6i/s/puhaYjFZ4yB07Q9tjyuOviTr+Lz6dGYgd7y1G9qUU+6Db7Pfkhy/i5uvaivLWoeq4FRHBgUhoGwbLrtn4YmcgJg2MFE0gF4JFL42NeUT3x32vfIiXHpoA66FNWLoxXfQNSrAT7n/Dfp8/ecNgeGuu8uNNKnxju1ugz8lBRWP115Uh5cBOLPrmGbxeOgDPzeoGT7m4Pm0ObKIPW5VGKH/v9q/Nw875H+HpJ57He+v0mPTE9YhykcO77UA89NrbeO2RmVCcWowft2acmXPeKopTsW3LVvzw43vICRuEST0owngVjmzdAGPOZsz+9EccPbkRe45fpheLQO0ajk6JCcjZvBdnxr+kDt8oAc3Qpaah5gq7bds+Y/DPN+1t/cqgMMfes5A3k9ki2qpJ/V9NCpJ3Y1v5Ufzy2Wysz83Cis0Hz4jFtAMb8NEr9+LJf30LU+KjmJF4BZHhm3DOc8OBvj4PxcnbcWT1T3jv+02w1i3HvpPNDzw2MvSOl+z33QuPYWxsowuTo+0S2iF7y36UXuS+pb9t9LzWlxfhSH0W9q37Bv955yfsrinFodM5Z+JOZB7YjJW/fYP1By0YN2QEPFoZHLER364TcfeDD+GhB2/GUN+zwSsR1RW3PPMvqTz/eXMoAh27myV/D+a8/wIef/YdHJNHYcTozva/AwzDMH8D5OLvoczUgPLsNNRWVQiNZERdTTUO7NmLtLQUDBw4ULzmtFKfMH84f8zbTCuRizcSlVotNtVZYebpi7b+e5FVaP9qqanECV9f+AephFa0QqFTwMktAiMmx+HnDz+HceJ16OCnQZyLEJA1tK6g/bw/Ehd/H8Q05EPreE8qzjkG9eA2sL+meaPHyOvx2PPP4/kXnsasCZ3g3tr7wcMHfdW5yMlr+tamR/qh1Qi65wHcNWUyZt10G/pWa5DdOKWgKdoUHFgWjtvvuANTJt+Ke+7vjo3i5bnRKbIpSqULfNSxqKnQOn4vQV2OCl2DfOHllwh1dh0awwxdMX7BGCM7hlxHG0v4+iPBfyPyHN7W5soSHAoNR2TTFRNc22LWzA74+NOfHTtajkyhRlB8L4zs4SKuVXKBob8pSo0XYnqPwKQO+diT1noLYaBfX9TnluDC12qKeB4h+v9AdGpr98KwWc2wuangrFAiatQ0BG3ZhFpdN8QGhyCkjRz7Ssuk41qNRyj6jL8VTz79NJ576XXcNiDE7qovem+fyTfhjvtuR4eIbJQ3CKEpA4LDhsCcVuSYr1qHkkwjxsWES9/OooR3VBT8KitQ3yJhZoW1xgYPF3eEte8IfU0yToZGoX+gEzT+fogzlKKh0SAoc0Z4Yh/0iwsXwrlICpzyhxPaBn2MJ1HadLJuI37RGDRlJh67/QZ478xCtUwj+qc7OjlXoLrYXgk0+KINsMA/0B2KgBAMkvY6aDoO5xqIbqNvxhNPPYXnXvk37h0aftYNWuWCsA4DMaxLDLIPFF7ag+H3aNsPt915B+4cOQTK01XQ0eJx9WnY+ksQ7rjzLkydPAt339MH+wqym31GNItSg3adu8JUtR/ZefaKcg0MRNv6TFT/ibFsTIYy6GrzEe7nAaVPAEY69kvQ4/OK/i7UITV5C7rfdhdunjwF99z9AMIWHkaao69HdOyLWQ++hGeffBHPPHk9Is6uT3hFBAUOREN28ZmBAUJbkAFbVS/MvOkmTJ5yLx59PAhrkzJ+30LeDDLxzG/XpYsQ4/uQm9dcUL56pJ7YgbjYQBgLk2CODceM66/H5EnTcdOg8TDuy0a1409Tjyl34Y7bboJ/CFBpNkgDwFcCLcWmFu8GtCllrazPwM6YetsjeP755/D8o3djUKwXL+vGMMzfApoGpNU2oEb8Ic5MScaRbVuxcO5cLJ4/H3W11Rg8aBBCQ0MdRzPXIteUYG8WRQz63xKKH39ZjmJtOQ7vWQ5VnDd6ejiLl/t61IjfVULoBw+4He+/8ib+OaU7VOIPupPcBpvDVd1mtaChrgY1NbTVn1n7+WrhEZ8Af/+12Hc8G9qyffhi9jbMHNULdkdIFTyFII1q0wbhQuy6XIkPnlcsRk3IwTc/rkRBnRb19Q0wGHNxbF0tpk2cjIT2CUjo0xeDg3Nw8tSFqsKaegiLMRVjR4vjxLFDhgyDYvEhpFB9kOdCvRa1Uh3VQCfXoIt7IOo27UVuqRblG7/EquRZ6NHOHd4JA3Bz2iI8881x1Ik8GB2eDK3GvwtmzNyLOb9sRom2XpRLByPaYdgDQViwZD1KtcXYtWEBAga1Q89zLCIKBI2fhYc8L21RkjDpzpStRqRvtlAAM7pWPepKsnB4nwoRPhHNR7q3maATx9VT/WQfxaYd7dAnvvVrOCd0GQiPpd9iy5FCaIUQbvo2K5NeRpV2a5qgvr4aerVNCHY5nP3H4h9fvYL7bu4Lf2cFlEJZ60xC0NsPbR0KZ3j6hyI6Ogqhgd5wOlO/Sri4eyEwrBNGduqD1MXbUdhgQ2jv6Ri0ag62JGtRnbwdCzb1wNh+Dm8YqxVGvQ712joc37gK6ZFx8JZivFmgr69z3H91aBDqWsqzQfzxcLRJnVDiFtGni62J0JDWDU7ELQ//Cx/ePwneaiXkSiWcRDtYTKItdA1Su1WVFuJgeRHMccFwlgbBzKivdbRxTQNMrQ6qcBHCRqP/4PX49rctKKoV/V7cN2daTqmCi4cX/AfciaeGL8aPK4/B4BGBQUOzsXDDDtRpq3H66GbY6mXoHOwHeXhb9AzcgCMnSkSe07B3px73d2pnT0vhBA+/EESJNgkTzwxn0SY0cKPX2ftrbU0uDuaeRmDPIDSxNbYctQu8vL3RbuRktNGswu7kQpjTj+Mn43SMH2d/RgwcNATO608h+bKfmTL4RrXH4A6d4eOYQuDRrhf8A1ZhwcZDqNDSvS1v/j5rAWajHlpHW9fWiftZamqrEOqi/4m+lrFlCTJTe6NLVCBkwZEYHrMWew4Wob5OPC8PVmJS+BUsXWM9iZQNKowePlyqow7DR+E661zslR6kgMbNCyERsYiOCIGPm/qKy9pIXKeh8F+/BPtTyqGl55HehMrULBSFjcSAftReHTB23ATULj2AQqk+6L6rddwPZ+87Q0PjvVgr9pmaGO1l8IvuINquE7ylyfd2rGYjGsSzr+LoQnzyVS/cMDAGZWm5CHXrhG5duyIhIQHd+8XDs2gPih06X+PhjciEbhjt74ITG4+iznCV78VGLOJ5oHWUsbb2TNwK8gRofN5r6w32aXVqdwSGRopnXQQCxIPpSuKkMgzD/JWorq5Bbm4xSkoK0aNHD0ycMAG3zpqFO26/HcNHjJCWGrvSWCPMH8s1sg67FdrifDQ4haFd51hohFipLM6EwacjesX4I6LzEAQc/AxfLN6FY6V+mH7zLegY5glLVT6yy3zRbVQivNz8kCg6YQStdGM1oDQ7C+aQBHSKVSF51U78smE+5s+nLQUR40Yh+uJL5f0OVugqClFr8kJcj44Q72Nw0gQhzEOG9Ut/xfIVO6Ec/zH+MT0GLlY9ijPL4d4hEfFn1sK9EtSI6tATsj1f4+15O3HiwFHU6C0oKumEUbd2RxitQy93hsYlS7xgh2JQuxCR12JUGX3QoXcs9Blbsa/TSNzVI4RsaVB4usBjzzGo+w+Ea95WLP11PhZJdTQf2/2G4b6xnVGftQFLly/Dou0KzHj/UQyPcBHZCES3/sE48fOr+GlLOkr1SnQdOAg92gZIc2Jajgbteg1FwepP8eWy3Tiy/6QQR+0wfPz1kO2Yje8W78BxfSIeuOt6RHo5w1hXgsoKBWL69YK3aygCA4pQKOuJkaPaSMHQTBXpOGaIxdS+kZJl0lybhyPrF2LRz7/Z+0BaPbrEqrH+ky8wf91qLF6yCeVtR+PBmf3h7aKE1aRFQXkJQmMGoK2PM6xVBzD737OxdP0K/LjgEILvfg6PjwxttXXG1S8W/k4p+O3XhdhyIh+e0T0wZSotNSd+1FfiSCowdEpH0JCAviYN6RZXjEjsCA+NE8LjOyMqyEO6trZwPzIwGBO6Bp07feAysZl1KCithF9kB8QH0orcDiwNKEirgG/ProgLdIWrtwUFFTkIiemEgLAu6JhQgmVzfsCKPQWInXUz7ugdAZnViJKkvdi94xj2rp6PuRlRePr1h9Hb34zijP1YsuBH/Cz1LSF2DW0Q36YO2SuW4/uf7P1tV44O7dqGoTAd6HLDAES4OyMouj3iwrygEBkz1RYiu8iC6HALlvz6LRatWIeVyxdC33YKHpw+CAGKGpw6uBaLV9nTmz8/H+GDu6CN6C+GWnEPVKsR07cHvK4onoozYtu1w8kVP0jz9PPlvughBFLvQDPyKioQEdMPMUIAR4UGYO/mOnQY0g2dO3WHbP8v+GzldiRlmDF45kPoE+cl2isY8Z3dsPKb77Fx2x5kh92Ep2/vBU+YUFJaApeQDkgM9TzTJnW5hzDvx9mYt2IjFv40B8b2d+PxGwbBp5XlMVRnI80cgnEd4+Di7AVbuQFFOm8EqtKxr+NQPNQ7zP6M8HCG+6FkoOcgRKlrkVdZhTax/RAlKtJmE21bmAKXyOHo6mtG+rEaxE8eKJ7BrvB016JM4Yfh/bvCz90XUaJ/bZk/F+u2JqHILRL9p0yWgia2Bn1VEXYsW4Gfltvbeu3GWiSO7A5VSQp2H9iKHTtXYmtqAG76533oHeki6tAfPUZEY83sr7B+916kagbijltGItjV7kvSYkpOY+vRzhh9axf40I2n8IS7xzakeYxEZ00V6uWBaNe1HVyaeFLpK9Nw2tYWUzq1cexpORr/WHjK9uPXn+dhy56D2JXvhQjvbBi6jcCwNt7SM0EV4A75vhwE9e8Ec/4+LJn/g+O+24ZSczjC3HRYs+wHzJX2bUCeIVDczz4oTBJtN8XRdm51KFP6Y2T/LnDWleDAjm3YfXwzlm2swLD//Bs3d3ZGwak6KENF/+4onvniJU8hqrICRfCNbA+kZcJt+DR0CNTAy7cBuwqrxXEJ4t5rzVMKMJalIEXWCWO7hYq/gHqUiAekZugUtHcX/XHXciyYu1LqB4uXr4IicSyizcVYt2w+flhEZVyKw2lqJHQJRLHWCQO6t4PnFc6nZxiGudZpXIfdbLagoqJWiPUSaLVl8PT0QLt27aWI8MzV489Yh11mIz+JqwBlhKK7d+3a1bHnamOD1WiCVbwZNFofrzWsosGM4rXJuXWqtUWYdHrJqqf6w18+rKJtTZCrG6PFn4s9H2qRjysvM3VFk94IuUoFZaP5w2aFxWQRL8W05IR919XkcuuRpl+YDCbxYqoW+bg6o5BkLTaZhQzUNHmz/0tA0Z9NsNjkUCmVZy2Ioq3ooWW2yKH5Q8tkgV5vgkzhDKf/j6qzWmASzzuIe0J1mXOkTXo9bCrnC4Jc0bx2o8Um+p8S8t/rVhQ0S9yLNlFusrr/5TCbYDCboXDWtGqA6XKgAJ8mi6zZe0q6h8WzRCGeLzQI9NfEHiTSDBU0f8LfGcIq+qjJaIFK3Gzy3+2kDMMwzP8n9C6dkZEhGVCrqkis09zSehQVFaFfv37w8Lgi3zymGRoa7NOQaTnti6HVapGdnY3ExETHnpbxF3ptkQnReO2KdYKE5p8h1gmVxvl3RebVQQ71RcQ6Yc/H1SkzueOoNeJaTX0VZXIhkv8YsU5cbj3KhDCjvF0tsU6QcPjriXVCJupBDXVTsU6ItlKJvvLHinVCAWfn/yexTsgVUAnReblinVCJ/DY3G0YmOrYTufxfTreiNfOd/qJinVCq4PQHinWCBtQudk9J97DoNH9dsU7IxPNK3GN/0t8ZQk59VKNmsc4wDPMXg57bDQ3lyMrKROfOnVms/4X5C1nYGYZhGIZhGIZhmOYgWXfq1CmQ27uVYgsJfUbTll1cXHie+h8E1bkvBUT/Ay3sLNgZhmEYhmEYhmEY5g/gb+QSzzAMwzAMwzAMwzB/H1iwMwzDMAzDMAzDMMw1CAt2hmEYhmEYhmEYhrkGYcHOMAzDMAzDMAzDMNcgLNgZhmEYhmEYhmEY5hrkqgl2uVwuLRmg1+sdexiGYRiGYRiGYRjm70ttbS3c3d0d31rOVRPstN6fn58fampqHHsYhmEYhmEYhmEY5u9Lbm4uwsLCHN9azlUT7LQYv0ajQWVlJUpLS6VF5BmGYRiGYRiGYRjm70ZqaioOHjyI+Ph4yRu9tciEsL6qytpqtUqZKywsZNHOMAzDMAzDMAzD/O3o1KkTfHx8JE/0K+GqC3aGYRiGYRiGYRiGYa4cjhLPMAzDMAzDMAzDMNcgLNgZhmEYhmEYhmEY5hqEBTvDMAzDMAzDMAzDXIOwYGcYhmEYhmEYhmGYaxAW7AzDMAzDMAzDMAxzDcKCnWEYhmEYhmEYhmGuQViwMwzDMAzDMAzDMMw1CAt2hmEYhmEYhmEYhrkGYcHOMAzDMAzDMAzDMNcgLNgZhmEYhmEYhmEY5hqEBTvDMAzDMAzDMAzDXIOwYGcYhmEYhmEYhmGYaxAW7AzDMAzDMAzDMAxzDcKCnWEYhmEYhmEYhmGuQWQ2geMz8zfFYDBAr9fDYrE49jCNKJVKODs7Q61WO/YwDMMwDMMwDMP8ObBg/5tTU1ODnJwcVFZWwmg0OvYyhEwmg5OTE3x8fBAZGQl3d3fHLwzDMAzDMAzDMH88LNj/xjQ0NCApKQnV1dWOPczF8Pf3R/v27SVrO8MwDMMwDMMwzJ8Bz2H/G1NcXIza2lrHN+ZS0KBGeXm54xvDMAzDMAzDMMwfDwv2vzF1dXWwWq2Ob8ylMJlMkkcCwzAMwzAMwzDMnwUL9r8xPBuiZXB9MQzDMAzDMAzzZ3JV57BXpqZixa+/Ilv61hYzHp8Ol9TNWLpqHyppV7uJePrGrnBpKMHqlStw4FSB2DkU97/SB9aD27Bi1W4UiT0yuQKT7nsafhmbcajaH8OGd4ObGqjK2I+Vc9chk9ISjLztCdgOfYVCj7EYMzQB7kpxzMl1+O1QHSaO7Y/TSxdhZ0EFbK7e6DJhFibF+zjOvFysqEzfh5U/r0cWfY0bhwcH2bB7Qxa6TbsRfuVb8dEvMsy43w8HP12Ik9I5wJA7XkRn027M25SPHhMmonuwqxB7tdi+8AfUxI5Gm+z9OB3YE23yfsPyFMdJRN8b8cqodtJHY0kSfluyFlkl9XDx6I5pN3VGypalOJAqalKqx0TUHduJlUu3I186ox1ufupGRBoysHz5CiTl1FBFInzgzbhzaBvpiPM5evQoSktLHd/OpfzUJuwtUKNP/4Hw04gdDTnYtvYwnELDUZWqFVXRGzG+wImNa1Dl0Qe9eoWAZneXHPsJ649TCh5o1zsRLklHUdNjPPoFmXDicAqM/n5wPnIAh3UGOgghcV3Ru1s4chevQWrMAIzrEQaKx16dsQ6r9gZjxOQAZCWlwLdtH/hVbMbKvRXiVyeExHZDt2gztu86itoGE9x9g9CjSzukHStF7KBOCBOZyT62GTuTRfkCOmDCsM5wrknDkSPi9/6D4C8vxs4lmxE46np4lB3GngOpqKMMdR6DWzr506cLoMBz8fHxjm/nU4SNr32FXfTRPwFTB4WJPr4ZeoNZ+lVkAoOun44etm2Ysy0at9wWhj2rVuCgdA8QzmjTvhsCLAVQJY7DsA6+SNm2HMmmzugVfhgLliejTi9HYORgTLlpEAKdHKddJiZtiairtXBuOwF92zgjacF72B97P+7u6o28/UuxQNseTwxLlI41lqVg0bLVSC2og9o5EUMGe6CqVIU+o3qjZP0nWJGegOkzuzj6I7UHMP6+V9AjSPrYIkyi7ufOXoFc+pI4AGNxGGuSmngydBqNZ67rgGMrvkZ++9swvb0vdJlb8MEvctz14mD4VmWLek5BRO9ApP26HKekk0IxcNIEDOwSiPpj8/Hb4XiMH9mALUeqMWzocIQ4W7B/y/eoDp6KEYmeSF/5KeYdqgfcQzBg7CR0MK3Dd8szYbSokJg4DNOm9ZFSbRkWlJ3ejmWrt6OgVrRux0kY5p6DIlUXjBoSiKwVn2BtwAzc4p6NFQs228sv7usZ4eK+39D4hCOG4N5nOiFrw3xsOFIMtBmGJ28ZAH3KNizcVY7+E8ahY4ALLKYKbF06D8Z2UzGyYxDEoxAlBxdiVVoUegYVINPSRjwjE2GrTcH2+TtQpXFGrjUcd98yGG76CuxY+TNqg6/DwKBsfPqr6MXOXug8cjrGdwuFCg04Ov9dLKPK9YnF+Mnj0U2Vhv98X4Cb/jEGioMbsGLLYTROGHELjkK3WB+kWPxx+9BegLjmyk8WSM/HbtfdIdKMQM6uxdhbmYgJE+MgT9+Ad392xiuvDLQnwDAMwzAMw5zhqlrYK4Rg37LhOLzbxMC4+2U8cu8S7Du0BrsP5iIyTIktz96DOXuLcGLld5i7Igkh8V3hlnEfnvl+LzIObsTmvfmIaN8Vzmmv49+L9iFtz1osX30QWgONKViFYN+HzUI0ekR3Ro8ePeCnrMOuxS/g0S9+RpIQtkAafrrlAXz+4yIc3vUL/rP2GCK6dBNCriOivVoeLMxm0mHv4t+w9rQz2onr9WgbAFPBPiz/YT7yxEu4Lnsb/vPmNmRWJGPr/PWwBXeEf/U8PPDZVuSm78RXz/wHv65JglZotoot7+LeFz/B8qOpSF7yMxbvKYBfbHfE+huw+cA2GALj0SPcy35hbSF+/fo9fLO/Ggmdu6NLgj+Or5yNbzamIiKhHfTL7scjq1NRemwLNu3IlESvW8bjeOKxOUjOzcCiH/ajzq+tVEftQz3sabaQ8pTN+HbeSuxJLxPSQ4ekpR/gu8UrkF3VgOOHV2LbSSEe8nZhzpL1qFe5QkEnaVOx/NN50HnHC2EbjQAvE9KWLcLuXL1QgVqc2LcfhzIyhVhcgBRrGMJ9LNh3YCNOlxUged6v+O3HbyDpv+oM/PjTfPz00wmUaouxd+8WpBWkY+vchShxobRjERakQNZqIXiL1JKIjo4Mh7o+D1vWHEae1oj69E34buk2OAVFQ529Cu9uTYehPAXLvlqMTXvzYDAUYddvv+JkQQX27F2BPLkvYkU68b6tCypXs/dbPPNxIYKonyTGwNcnCF27dUeY8TR+W5OHoA4dEOqjQebGp/HOR6/ieLkGkTHt0cO/Cq++uh7y2K6IC5Xj2KLvsflEKWw2C1K2LhXCeTsWfzIbJ3RhUnt2aBcCjVTZLcNYX4xNa7/H7sxKqT2PL3gN3x4pEb/UIHnuj3jnvoVIpQMbSrH0+w/x+c5itO3YDd26hEObtAGrl29D7oFFeOiZNTBEhKLmyCqsWnIU/rFdpHz5u9DJLefYkvvwXboKHaje2oQhIKYLOrXzxbHdC5CuiRL7AqGQZ2PlP97CnK+OSAN/uqwt+Pcb9+Op1ZkwV2dh6U9rcTj1KOa99hqq/LsiRJ6MT575ENtzalB9dAG+/P448vN346d3H8Tbq9Ngpft6wxdYl1SCnB1v4sGnjsKLrt+5PcKcirHsnY9xWiHapkd3tBHXbw0NJSfw/fuvYUeBGxK79UCXcBec3LgUy7bmiNrX4dTyd/HBtlRsX7gAW7LdkEDXj/WDV1AcOoU7Y/fyw6hwixZ5CEHxtjl4e+5m+LRNAHb9C9PnpaDi9DZ8/vR/MG/jaegsQNHGd3DfK59jzYliNA4RlRxYiO9+PYTjW5fhrfv/g/U5OuirT2L9nIU4lboJc95ZhNNGK3Q16Vi6djFOZh7AP59/ARluPRAfbMbyef/FpswaZK15DHc9tRnKtiKPHeMQ4OaE2hML8fqbz2H1KR3cQqKQ2CMIhR9/gD3mtuJ51QbGjPX4fOM+6M2VWPnhI/it0BUdI5SY/fpX2FxsQdaub/HYhx9jY3o1dOLY11/f4cg1wzAMwzAM05Sr7hLvFtwGA4ZPx4N39EbSrmxoxT7/qHYYOm0iRpUn48udR7FjxyGoYodj8pSJ+MfdU7Hzs8VIqQE8IhIwbFQfhIgX0EK1QrLYno+bEGD9h43B+PHjEeVJewwoWrkKa3ZlonDF+3jDOwrdoEdhajry9ioQM3osxo8Yik6BLVcUFpMeaSeXwiiuOXD4eIzvESlZf5vD2TsIPQb3R7ynG1KdFHCjnTXJmL16FTIrD+L7qe/Br30/6Vg7aoR3H48Rg7ohJDIU3QaPxPj2dhNldclx7Nqah7GTZmHSpOswqE+QEG9rEdj2ekyZfj0eGheOzS9tkaz+HmHxGDxyLP7x8iuQbf4cO1PJThyEzgNHYPy4segb5yel2Roa8pNwcO8eVKXuxxsLvBDZWQ6XiDYYFO2O7cczkLr7E+g734L+nT2hohPKMrGiSBwTloBevTohMsAdCpmU1AUEtO2CxNgQmORyyMQxdFh1XipW7k1CypF1MCto8KLJyTXF2Jqvh8k/XqTdTQgKNfILi5Gi9BPfe6Fzh3bwaGJ1Tt07B7XWoRg8vD/G9IxG6reHpfrS1abil61rkFamk44z6iuQf7wKzh5CaIh0eoW2bum2rAPfIUspQ0Jf0U+oTUOiMWrUGAztFguvgAQMHj0IcUH52PyvzojrfgrzkiuR2L2/OLaTODsIvUaOQu/OEXA9X4xXF2JtWgXKfTuJPj8WA/vEwoPMp1eL0lws9gxAQvHnWH0EqCtPwc4tKRg6ahamTpmA0SM7wYcat+Ykvv7nZ3C75z94ZlIcjPmnsb3WGQn9h0r3YmTrxoVwYkMS9BVt0FukMb5rPKK6jMSYUQPRJtwbcX2HY3znaKiTtuLLdp0QmPwTMmiMQSINm56dhfV2d54zdBo0EXfeeQM8FJuxel+j94KD6mx8ddfLWFHs+K5NwYL318LtzkfwEF1/+ADEq6uwPK0atUFdRblGo2vXaMfBLcGK8tN7sTUlCKNvuQVTJ4zHyE52q3dTzAYtUlNWwhLaFoNGiOt3D0dgm94YM6wPwv2j0bHfcIwb3xYn13wKm+cMTJ8xHfeNi8Om+1baPQmqjuKDlWtQUHsQv8z6DH7xvaV0m6MqYwFufmkBJH8IuQad+01AgNMGbDpsRG3aXtEG0YiR7cOuA4m485FxmDpuAmLLq7F713aseXULTt76Kp6eIfI4pCcivE3Ys3YpBg/rgOWbkuAU2xGDxw9BgjM900Zg+ICeCHJ3dOTibVj0QyZ6z7wDU26dgckVa/DdVvKjMqB05zf45aclkMZaGYZhGIZhmGa56oLdVF+LIiH0VizdioCZcUKKCJFUV42C4yew390f4yPcUVyYAT/fYGiEwFKpXaHXrkVJJZD0yxvo36k7nl79BP49ra09wfPIWD8Hk/qKF/uo/+AE7QgJQ48uany39Gv8+PVyjOvdQ7wYO6PL0JuR2OkwJrqo8c7GQtQZWh5cTensjhET70fZ3Hsw7YkPcaL44m+WRQfX4q5hPTDzow747YHuIJ+ANvGxiEs7id8+/AGvOb2J7u132w++JFbUV5ehwscbEREeEBoQZmMpioxO8E/wg4tMDpWTE4y1x1Fc5ThFoIrthESbESYLlXMtnhjTHW1i2+K9na1dsk2DoKAOKC87iUXrfoZ8VgLaHBO75d7oct0A+B7cgR+TlLh+XH94NPai6P54eqQnln/4BN5ZfBTVerNUD82x5aOH8eirq+Hl0Q/RDvNsz24dULzlCyECnBDg7SMJ+TMEJuCuUVFI+vRW3D97K4pN/ug5ti3CDn+MCZO+x4mqepjPNHGN6IMmOHcMFHmTQaEUUsmQjuJqJ0RF90EHXSl2HS8UVW2Di0cEuvSPw8Y5T+LT+btRrWtdEL4uN36OSU7Lcefowfh8Rx50ZzNzBtORLXhBPgDT+gxE4bz9KLA4frgUwR3x6IxeyH9/OLxu/BKnS0U5HT+1mLy9eGvWYMRGdcXja2iHDfmp21Cmcse0mR54acE21NSVodzNA2HRXlA1qf/da1fjlwPRmDapLZxUrogbOgIjNAsxNv4B/HKyQLLytobpj/4LhYcfwi3TH8KuLC01yXmYsHPRq/AeOgM+USXYfCpX3CGCMa9gVvcKfL5oM6ps545yKDz90MvDBZrz22DKTXgyYB9u+2wLjBAPn5pybK3UIiEhHNa6UuTkFKLSvSOen9UNSS90RcQd3yOzvBWBBm1W1Bbnw9nLF1HeHk2Hnc5B7eaLUdfdipwvZ2Has1/gdLl9EOlcipEj9K1nz1B4ir6sVKthq9+PvHIgvkN7xBw7hJ8++hFva15El7h9jnMuZObtt8Fz/UP4apeBZpRA0aYTHgx1w2srd6E4pxTFYZPhYa6Bvk8U4kXD07QkhZD3JWkncLDCgEmdEqB23OfWkoNYsGowZl3fEzUr1+JU5SXumbx0bLQpERfiC5lCAY3MjPkpGYBHEHpNnoz8k1uwI6/Jg4xhGIZhGIY5h6su2EuOb8WHr7+JTZaH8fXTo0CGt9M7V+DZRx/DyoHv4fHhgVA7ucJoMkDSlgK5LADiPRSJM18SQuoY5tz6K556boN93vt5xIy6E8v2nEZ29nPoKO0JxPC7nsI0+Q78UvcW7h8XLO1F6AAsWL0I382YhEVPDcHHW4VAaylyNTpMfQo/Lf8UXbLeRY+HF+Ji8je4xxh8u/kIVr5Whpum/wK6mk+73njhsY7YvnY/nlt4iyO/v4cQmCo1VAYTDHqLJHhlcic4iRddY50JjbpILncXwsnxhdA1oEEuh4uado7BB2sPITM9DU8NcLjZtxglgqOHYkqsBklpnfDsUPv8ZkLTpjMmhBXhQMndSAxz7JRwx8BHvscbt/ZE5oqfsXBrGi42TjL0sc/w2ZvT0JC1BYczK6Vy+g2cgTExKhR4e6Fzop/oF/Zj7WjQ6cY38cVLs+BxcjFmz9kGZaf78eEbz6Nnh8P45pU5OFXVWDsqODkLYVFrbCJuXUV9CbHiaUD/hAAcPH7UPrihdseAaffgrftnoWH9+3hlpRStoOUEjMJXp/bg2f5mvPPKc1iZXH7eYEUD9i3/CZah9VBWilyVrBJC7HJUrgY97/oa2xa+j0GFn2PmTZ8gvTlddzmE98Hzc7chPfsIPhwrvpurkbzrFDRJFpjd42D5ZB2SLWqoTaLvCQXeNP/9brwd78404B/P/4pCPeAdOw4ffr0Rzz1gwvOdp+GXVHtMgpbiPuBxHF7/A3oWbsaT73yNfK3J8YuDuoP48TMTBtjk0BaokLknCzXUp9aKPN18F8x7fsbJ86zssJhQZXaD6pwbRFDoi/4f34XoT97Fmtxo0U1U8BUiUttgQOHOL3HntAfx1men0PGReTiw+C10SPkELz06x3Fyy1CKDmg2mqC3XGJ4ReGCbjNfwNzFHyI++RV0eHBZM88XZ2icRPtUGZr0ZS9oxPPSN3EAXn0iDqsX7cPTc2ciwfFrc2QHdsWcBzvis9m/IS+S9oSi330dodh1EEtSFqLTDd0RqlFCXqHH2WFJ8dxxcYenUo5CbeNeM/IPbMTGcNEepnoEVe7AocxLDApqXOBntaFePM8aCXFzBWrpyd0PffwLsX6DPQoHwzAMwzAMcyFXXbCH9Z2Id776FQsWCCHl0Ipdxt6Cj955BF1XzMbyXBXiY9ugPDcFtfUW5Kavh1viZLQ547mtgLOrK2xCrF620c4vAc/883l8/dONONeBNRyTf/kCUxNMyKxorRVHhYg+t+DR23vAPbcY1R5ecDGaUac3oq4mG9b2HpA88yXkcNJogPpGYe2E2OH34o33v8Oj/S9XOMvg5ReFEJUWOw+lw2C2CfEZiNhgb+Qkn0SNvgGZp05CM7AfoiW/ezu56z/GUdf+aB/ZysnEzaHyRMeRk3DPUzPQybupFdMFbtFKYHAUAhx7ziBXIL7vJIzo6Y860b6aEDny6rSwCBFlEppO46Q+I8TlcqVobcWZgRuVxgd9xz2FpyYMRWhT//YmuCdOxx3jO0BvqITBKHYEdsdzD45HsCkXWl2jxHRBTLv20KYfQ7loi8rSQlgTOyBa6AQSwJGDhmGwUwl22xp7mAvajL4O1w0IxukyexC11qB2jcS0B5/F0IA61Gj1dktwI9WnMG+1F6ZEqFBu84fctxynC0rP7eNOTvBSq1FVI8SRzYo6cx6cg12kaRgePe7Bdy9OhN6YjVqaZ3IVMFQXYV9xPup9XNHg3xZDLGuQXuqPMBcT9h5KQYOxaQn80Ofeqei86Su8tN3hau6XiFdeuA8DnY+huOKc0rYAOQI6jcLtz0yF1VIJnfncu750/2IsjB2LMFUx3LycYM4/ieo6u3QN6TkF07oHoCI9Tfpux4LyzOM4YA1FXKy3Y99ZfHvcinduccXWbSlC94ZhZIIPdv6wHapRT+LN+68TMtaOZ59H8PETI8WnPPuOliBTwCcqHm7GVBw6mQ+qRplMDo2bG3T6WpjMWtEdrIj3pieHClED78KTtybCKaMIFz6lvNChQzuUHN+LUtGn8tNTIRs5HO2kKQjOiB/9MN768Ds82PfsU6h5vND7zo8wRbkCu6VgBeLp2PdWjDr4M7YfHoYJXSIQGd8Frjm7sCfXBoOuAmUKOaK69sewwRrs+3kJ0kizG8R9s24/uoR7oqZQDZc4LyQfzcVFx5Aie2F8hAH7TmbCWFWB/YYQ3NY7xv6bZwRuvXU6zMkH7N8ZhmEYhmGYC7jqgv1i+HV7GM/ddgCfPPc8XPvPgHvRUtwwfgSmvhKDV96ajnChz9JWfo6Zk67Doz8G4Z5/DIavOO/00o8wfcJIjB4/CT8dbUDersV4aMZYDB8+HIubvKf7JtyA3hQaXKIGhz//F2aKY4YPn45V2Tdj5qhYx2+Xj6mhBl89RmkMx+1v1OCOFyajQ9ggdO/jjKdvHoUbX8jEg69PAhmZy5J24IXbJ+G2t0rw9HtTzrz4C8WFocMSIGnFy8Q5oBPuvnM8spe8jLHi5fz6O35CxIR7oEn7EtNGj8G9J0bj09cGguRIxvpvcdvUUZj6hB/u+eYFdJDGBXbiP/dMw/ARo/Dod4doR6tRekehU8T51u7mqU9ZgWeffRbPvvwW9lW6oFfnnuh/22So5r+N5157D1kyDbrHB0tu/vt+fB2vvLdQmpPePszT4TYsh2dkKMLjfOxz4pugz9+HD//zCp597ll8ty0b3btEY/Ov/5Wu98KHy6AdPAUdA87OEg7rew8GhJzCey8+j7d3qfDAXT2l+iKUXm0w6QYhPpVKNJQcxVzK87Mv49vNYXhgyqXslBdn50c3Sv1k0m0fQhc6Gv3aB9oD8TkoTl6HPRGJePbFZ/D8009iZKQCmzdvQ1VTpaMKwujbp+Hwr//E8FHj8eOhthjXTYv/PGJP+/rXlmH4nQ8h4UId2iqq80+jMscH9z72PJ579l+4+/pTWP5jkcjDVJRveBPjR43AhCnv4pgUPl/0yzbj8eSsQix6bhYefuMVKU/Dpz6FjdPexO1daCmBlvOddI+Oxl0vJ2FA39EIdW8aJaIU++fuRbdpj+GlZ5/HU49eB/PprdifZvdecPaMxtS7H8eg7g6vGsF7d4k8v7gEHafNwMhmV4UIxOA3PsCDpMXVQRjz7FMYeuB9TBk5Dg8v2IBqtyS8eLe4d0S+7vt0O+In3W4/rUXI4BM/BLdPj8eG/8zCqBHDMfW/BxE3si/Up57D1JHX4z/KO/BCPz0+e8T+fLnzP2Y88q8p0rPkfHpNewE9VKswc+xo3L45BvNmj8GZdQycQzFi5GU+X4J64vV/v4qhjq/w640Hb81ESdBoxIjnhmeHGXj/8Si8Nn0Ext35CsrbTcbU/okY+vLHeMLyLm4YI/J60z14aXUwpj76pOgzT+PhMbEo2bYKGeU0etYM7h1x12v3o/jFmzHqurtRNeYO3NejcfBSheAeM/HKUxMc3xmGYRiGYZjzkV3NZd2sZjOMJjNUzs6OYGM2WIwGmKxyqJ3UsBnr0GCSQaPRwGzUi2PJmuYEVw/xki6O0+uNDoujCi7uzpCZmuyTyaCi+ZuGs66hzq7upKphU2jgpLKPPdgsRmkpLbk43mQySVZOudwZLm7qlo9OiKrRN9TBKGWALP8uUAsVZjbo0SC5eCqgcXOBUuRIr9XB7vRJ+1yhsBpgNNqg0jTWBRVRC4vIi9JshFnhBI1IzGY1QW80Q6l2hqqJKqb9Op0eZosNMrla1JlKXFcHI83LVWrg7qKEzWQUxxjOWPNdPZwgt4q86PUwOebvKpxc4OrUfJSyY8eOoaTkTBSvc7CaRbtZlKLdFA4xbYVJXEvmJPIvKtIi2sYANVwc9U5Q3escy5jJFEo4ifaSi9wZHHmUK1VQqxSw6kXdSN3O7v6vVslgbtDD5qQR9Wu/ms0iyk/TbTUiBdGnZHL6V7SnOI2slSq1SuTRJOrHXk65qD9nuQ0G0VhKJ5VU52bRp6T6kivhLPqfzGaGSfpd1JMjX3KRR6uxsd+J41wu3k+ioqIQFxfn+HYuZr3WYZGmfiry4qyS6s0q6kkn+ryT2gqD1PfFtUXZTaL/m2yir4iy19WbRX/XSAMZolDQNuhgFQWVUx9xVsAg2lMqp+jTTho3OEkHtgyKOm8U945M6Qy1ON+kq4NB5gSl1SruVw0UotBmQy0MFo24pgx6nc7e92QqODnJYLXIoHZ2En1O3MOiXeRKhdQuEqKPeVykj/0ehlpxTemTQiQj7mPqXCKv1Idloh7l4l4zi/6uUcvt94rOJK4tg8Egl/q7QtSXTk/3j0L0Icc9SO0tnkFqkRZFhNcZ6bvoGyarKIs4R1SfUd8Aq0K0k6h/Y1099NQf5SIPol9Rv7GI+qd+5uTieqZPthS6h3Sir0tNp9KI+1DkW1xXqjbRDm4aBYwN9WeeL/TckG4nq0WcZxL3rrg3qGFsVpFfHfT0vFQ6iXtftINI22iyiTYRdSRlzyaOqRdl0ogy2YeKLEZxjlkh0rCIJxTdAyrqkKLfm8QjRPQ3caLFUAedTeTNWSn1V0q3jhpYipUh0hL1KhNpU38Rp0l9kJ7PGlcn6XlFzwF7PlSw1Is6Ff3TWbQPBezUWUQbOYtnO7Wb4/modnaV0pSeZVaRjkb0G7NeXFMGj4t41TAMwzAMw/yduaqCnflrkZWVhYyMDCEO7aKXuTgqlUoS66GhZ3wnGIZhGIZhGIZh/lAuZkxk/gYEBgbC0/P35r4yhLe3N3x9aZIGwzAMwzAMwzDMnwNb2P/m1NbWIicnB5WVlTAajeDucBYZuaA7OcHPzw8RERFwc2sS5Y9hGIZhGIZhGOYPhgU7Iwl1g8EAi8U+k5s5i0KhkOZDk0s8wzAMwzAMwzDMnwkLdoZhGIZhGIZhGIa5BuE57AzDMAzDMAzDMAxzDcKCnWEYhmEYhmEYhmGuQViwMwzDMAzDMAzDMMw1yB8yh12n06GhoQEmk8mxh2EYhmEYhmGYS6FWq+Hi4iIFvL0STp06herqasc3hmH+P0hISLgqS2hfVcFOUcZpmTCtVsvLgzEMwzAMwzBMC5HL5dJSsh4eHtLnlkDv4MnJyWjbti18fHwcexmG+f/g8OHDqKiowNChQ6FUKh17W85VE+yUTF1dHY/mMQzDMAzDMMwV4uvrC1dXV8e338dqtaKoqAju7u6S2GcY5tpg79696Nmzp7RcdGu4anPYSbCTGzzDMAzDMAzDMFcGWctbgl6vh9lsltzqGYa5dqDBt8rKSse3lnNVg86RSzzDMAzDMAzDMGcxWoH9pQpUGmSOPb8Pie+W0Bg/6krnvzMMc3UJDg5GSUmJ41vLuaoWdhbsDMMwDMMwDHMuRvGKvC4b2JwnQ63RsfN34PdqhmGIP3hZNxusZiN09XqYLU2mygtxbzbo0VBvhNWxq2VYYdI1oL6+/symN5rF1X4PLbb9ZwzuX1bm+N56bFYz9Dojmhbr8rHCrNPBYObAfAzDMAzDMP/rUMQojZsKFc7uWJ9tg75lxvM/F5sZOq1Wcslv3GjAoTWULJgFmSwAY29djiLHvotjgyVvN2aO6AS1xhU+ASF4a3uV47drEJsVBr3unHqStgYDLNb/r3d8G/J3f4XxMhl6PTwbhXUXdjSb2XBhnmkTesp0jrCxwahr8rvQPY2/Wi1C3zWc/a2+QQfT75TZUl+Cr//RG0q1E+6bvVm6B2w2CwxNryFtQtcZmug6cfOsfmOo6EexeOCjrai54kXIhA416s+5Zn19wzll3/2mO5zVvhh5x1dIr2udWr2a/LGC3aLDkd/exNiEG/D1tqwz4tZUfRLfPH49eia8hiMt7dCWBhSc2oDZN9+Du+66y77dfhMe+mg1agx/3kikIW8v3n55IU7qWtNrSrH1hWfw9cFax3eGYRiGYRjmfxXyRNU1GOHp5Yo8mwuWp5lQa2jhO/CfgKkyA5vnvYKhQaEYMGoiJk4ch/7tA/DYt7modxzzh2Gpxpaff8D+Tdl48tfjqCwtxPODvB0/XoNUnMLzd4yQgvx1GnSdqKvxGNYzEaFdp+CDdUm4TEeKP52afZ+KvFLb2rexgzrBx8sTwW064OtDjlY2VeHktmV4akx7DB7rOPaleZBmYdv0SFr6b0wc2BWjxk3AhOsGoUf77nhpwSGU1l9cF+VuexMffZuKqf/8HK/eNgzOSkBbsh9PDXWHe3As+o0YI11nWK++GDb1XWxIyYXOZL9HfKO6YujQPogL84LyCtWrpS4fXz01He27DcF4Ktfo3mgfm4hnf92Hwjp7q/V9rgo/P+ePIxu+wbwtJ6D/f9bsilcFjs9XRGOU+HOwmVCUdAyZeZnI9YrDsB7RcIYJWbt3YPuhw0itjMLkBwbDqzwVJ3aehDo0Ei4qOs+G4lNHsDfNgpBwDzQNgm8qPYL3n/0FTv94A+8/eSemT5+O6ZOGw1fmhIBwPyiMZThxYBf07lHwcra3aNqhX3DCFIkoLxlyds7HCf8RCEmfj+WbD+JghQ0xoYHQqGTQFp5E0v4TKDqZjLWbt+Dg8STI/CLRcHIHVq7agD0HD8I5qgcCXEQWLQbU+figc1SQKJMZRcl7sHLxauwSxxw8WIGADrHwFGWpzdmOJcvXYOcesT8lEwbvCER4KqGvakBYt54IouCf4qY4tn4NVm7ahv3HTqDMIxptfWj+kQGZW+fiqDEEVUd+wrL1Io1CK+Jig+EklwHmOpzathEr123GPnHd1CwTAmPD4dr6VQMYhmEYhmGYq4zBYsP2PDOsUEMm3uFKhQIoLK1HqIcSLuqLz2tvyRrONIedAs+1ejm3mkx89dY/cOOT3yHxvn9hztdf4on7b8KQtsCK91LR9b7+CIAWqcuW4Oflq7Ft1y7sOpUN+EeLd1snexri/fj0/jWY88sy7KLfd2zB9uO1iO08EZOmxMOdjinci3c+/8X+u9h0Xm3Rxt8FBQdX4OVPf8DeXDm8hE4vzXBH2z6hcDGWY/+SRZi/ch12iOOPZRTCIzQOfi4UcbsYW96ZjbVZpZCb87Fh+SKs14ejf4QnzDW5WLd8Hpas2mS/1vEUNPjGIMZbvGOXHcM7n/14Jg8Vcl9EBvtJYtBSX4oda+dh/rIN9t/3H0aRIhRtQz1wTozvhjKsW7MCe5Py8Ni80/ju5VsxNNqCwws+x1ebPTHrkRHwo+OMlTi0cgnmCz2wXaR35HQ2XEPbIcCVUmvA0cUf4sddZ+ux+MBnmD1/H4qVdE1n/B97dwFnRfU2cPx3Y7ubTVhYeunuVGlQShAVu/VvvHZ3dwESCoiI0t3dzQILLNvd3Xfve+bupRQVFHGB5+tnZO+ZuHNnzsycZ86ZM4lbZzNl9jIiDLXQHV3M9F9XqPUqonanurjqtLyj4pD9S/nx5/ms3bCVzZs2sHXXUezaD+Tmvm1wsTs3wrUP6cztt99uHW6iZV4kMzccxLHVTTx93wgCHPM5PPVDbrv5UQpumMCsGR/w6N1q2utboEIgFbfkc+xQJI6t7+Wj91/mntt6kz79Fd5ZnEzd9j1oVcft9zXChSf44qHxbPIaxZMvPUFH/+p+FsoLE1nz02R2ut7IpBlTeevJBxnY2olFs95k8sJEwrt1o4GvA+VFuZTb1qVjp1Y4ps7mmx/WEpXgRt1wX7Scl7Z3Al/P2kKiLkAF9W7n7qffKMyNYc/mFEY//wlvvPQod41oyaHvPuabQ5k06tKXNv7O6NR29fEJJHrOJ6wtCqVfr3Z4Ofy9Ht415eXlljep+fr6WlMuzj+8R3EhnGnavT+196pMFFVOVWke+5MzqNW2FwHaAaNUlmSxZv10NkZlotWRV1Vls2ruF6xPLf7dCuorK0g2eRPkZznkq9n50rV7U9xtDWrHJ7N99S9EZZ25wxOx5VuWnDjTpGb/1F9Isg8mONiN3KUzmL42SqWayUvYy/QXp7Elvgq/4GDc83bzzBNv8uvmHNzV52CieOPV9WhdBpSnRTBj5S6yK0wUpe9l3bT5lLlpy1SDaQ9LjxZRnhHJjOU7yLXzsqR7GEwk7juuTnU57Jv4Fdu1tkGV+exfOJ1Ve5Lx9g+mlpeOTXM/Y0mUtr6lHFv6KW+/8QbRJm3ZTqT8+A1Tt2WqcRUkqRPi5vWHcfat/l6bggh2JpSqcUIIIYQQoqYwm6GkuITMrGyOn0giO6+IuEo7Nkb/6/XWFyzt4Ay+nL0Ova4j4x5+lAaWym17Gg9+lk+/HUJwRR67Zn3Jk2rcxkwXQgK8ODzvMe59/lM2xWRbmjBn7JrJHfe8xMLtmXgGqQDU11lbyGnx615k9G33sDnPm9AAB04s/IEn7xzHfFUUt3N2x8tNCwnt8FRl4tq13bApTmfe5Pe555GvOFrlQ6CvnvXfPMId705kf6q27RJY/MwzPPm/h7n77gf435PP8MzKkxRnHeG7l27jwU8WkefgQ2hoKFXZh5h/LJvU3V/z8IN3sTDVk9BgL7J2LuaVe+5gxs40TOWFLP1mHPe/8yPxVW7UUfP56OPZvDH6AmrMbXEN9MI1WP15Ir+6Nro0m2UzPubuhz/nYLEbIUGObJ30GHe++SXbErWKziK2f6/W+YOvWBVd/WrsxE1v8MyLrzFtU4z6zjKiVn/DC889wwtPP8uWLCfMcSv49M0HuO2XSDW1idRDi3j3+Yd4YlW85XeGBHhXB9YXoDR+B1/P20BRmYlRj75Oc+0OQ8ZRPpw0h/0VrQkPiuCp20cxatQoJq3T4iXF6Eyzfrdy1+julspRnT6EwHYqPS6XzNRCzve0R/7eH/hmmyONuw2hZ70/vwkV0LI/Dw/rRuWu+czYcEwL0YhcM4FnnvmKlXtS0GUfUX8/y4dfLiXB8oKyZNY+9wYvv/o60UUOfxncOnjUZ4zalkO7BluCfUyllJZAPU83NbhbpgEdHgHhNOndmoOLD3E0+789Ti9DwK441mPUTYG8M20dCalHKdhnT4cWgadrzl38GtIioCHJu6MoVnu5KnUHkftCGdK9nsr65zL4hzO2WzJf3NWPLl26MPTOJ1gXrbbyRWg09Cau7z2QgQNHcfeIxizZcqD6oFKCwuvS86YB9B+oxo9Vmao4lXY3DmOQ9vnOm2m1/S0OJVgntipKjCE6L4yug7VlquGeR7i5iQOFGYfYX2KmS6/q9JEjRzC0T9NzDqKKvDQ2xhdSq+8gBg0ZyNABw+nq7MSWVTGcaq8QPvhBBvbRljGWUQOLmXIgRgX6ZSQdy6DEoxV9BlUv/8ZbxtIrRF7lIYQQQghRo6iIvbC4lJSyKjJUCdjg7kJ2UjpBrn+/1u7SKiXxxElKClWZWnc94fXOLk/aEdy+IbrUQ8ye9SbLfAfwyKPjGD1mDPcOGU757HeZsWwPJZVZLPj0cbaVuXDDgw9wx5iRDO4YYl2Gkn+I6a//wpw1gdxx/3hG3jKe20aGkx25ivsW7cc7uAkt6tdSE3rSvOcgbhxWn7K4bcyb8iUH213PU/eMYeyYuxnRrxPbvprM/E0qiLY2VXYLacpDHyxiX0QMMU90ImHDdJ6eGEXb3uN56K7bVRl8JI8/8Tqvt69k6ddz+XGePXc9fAcjb76FcWO6Y5OznScX7VABewrbl64i0hhIn2EjGKXmu/3BV3n1nvZ/HQRX5nNsy36OHoRxH4yitUrKSd7DvO8+Zn94Nx6+V22z0Xdx60192DlxKvNXR1J8EU/zuvW7l9tVTDJiQBM83aJZN38/OSVaJedsJq5yUb/zYUusMbBXG7St+Nfy2D9rHlv3xmG67i2eGBSA1tC5MCWK44W5VBFA/Z5jef2RGzGr2OzJUd35cq+KnvW2eHj64G5pIaDi3aTFLJyt/gh1wSvA8ZyW0adEH5xFqp0trq0a4vMXLYF19o7UCaxHMLnMX7ZVHS/ncu/6CO/fUElG7nIOaTe8YvbwbkQJDnaPMLC7z3m//2w2tk74BnqRsvF1bugcSmiLMez3fpeZ0z+ma5C1pYhidPeja6NONM4+SXTKxcWal9rlCdgxUKv/GB5c/X8888kyTgy5nsZuZ75aZ+dGo9bubI7dSFx2ATumP0JUz+tp6n2ek5jBjT7/m8qmzduY/+5o4vet44kb2xP22ETStWj/Ajh4ulPdWt6Ad0gYVZsyiLeMUackR1u1w23QGpjobWxxszXi6GRXvaFs7XA2F1Dxm69xqt0YY9kEburQgJHvzicjvxxbteqetZoTEn+Q2/q2pW7dD9mdV0TlbxpplJZk4OxRSpMQf4zqS3W29jRpWI/GWckUl1VP4+Dhh4Ml9xmwddJRqvUaanQgsLkXx9b9H92b1+OOGccoKKnEqDWVF0IIIYQQNYb26GihyUyKozt2gd5kRZxgZDNn2te+0LrQf5vZ0grAUk2OLYbfFcHNFOenkRxXhKl+GHVcbNEZbPALakBIRTERsWmqfHySY7PzCfRwp1mgL4bfFkmzU1iSWayWtJ47WtXC168ew99aS5mdCrL053tIuIrCpDjSdpfQMawOXg6qfG60IzSkHo1K9xGblITJOpvRzkEFYSHUqVOHOu72pJ7cTUGZL7UD6uDqWB1z2Dm44qWC6s3pOeSYdvG/9v5qHULo88BEYit8sFMFcb3Rm+CGbtjv+IGbGntbmkb71fmCKPWvZdP8gQ+GBuHlHUDvhxfQ5rmFfPRwd0vtbXF6HCnbSmgbGoKvsx06vQ3BtesTXhZBfHLs72KKP2N088HVzqDWUa/WSyWomctKC0lLPE5ppVpmnYt53t9M5pE1fL3oa47qHXjj2fuoY71HYzZVqrygbdhwOndqTKNufbmreTvcMlN4ZPG26omsKktPMuHhkSwrMdK0dWPa1K113oDZVKkCaqORTsH+lhjrT2nxkPqB2nTamxJ+t91tazPy1pFkF2SzKz6VjLgIsstLcHtpGM21Ow4XKKj7y6zYGkNMwlKuj36WjjfcwdQ9KWe+T6/H3mijjoZtxCX/5rHvy+wyBeyaugz/+jbMuXW4q73WVuRsRmqFtSY8Lodly79n3nf1uOumjmiPd/+WqaiIwrIydQiDT7dH2bdvH/tWTaNfQhRrE6wR7kWorCjF7G7DP3ljpZNPC579YScLJzxHvcT53DeyDS+tTVcRe0Ne/HgG+5Z+S/fuEXx4+328/O56ss66m6ZXB25FpYGisorqDKLOlsXFpRQY7DD86d4xENjmZr5asI2f3roVVr/DXfeMZNr+GtybphBCCCHENapYRZc6FWy5xpzg9naedK7nah1TEzgQFFYbBxVUwgmSM8/tPCwnOppiFaDbaKNLyinXOo1WZdbKijK00rejVtmlc8DeF0vFUmHFeTofs7HBU6/dCWjDtH3ppKefGZL+16Z6mt8w2Nlh4wK5quxv0u4oqKGsvIxCnLGzVQGwdbrfsrXXmuJXqDK2ihnOvhdgMOKqBiNN+GzHueuQ/sZgjPYe3PryWt5/agADBqihSxMyk9/m8VtnE/8nwfX/LUjkyMqv6R+cz48zvmTiZq25uirnq3W0Ubs5r6ycSus2K1frX6CiHDsb++rA+x/Qqe1ptHVQf5VQehFd+VdVFLJn6UzWb3Gm7gNf8nDnU03BVVSm1kuv18LuNcQkVqedUsvpzA2mytw4Zr7Uj0eW6HDvMJyHX3iGDkF/HFFp+y9XbYe/Yi4tJi4pmkRcGTZA6zfh9wK638KAwhRiFy9n/pL1FDuE8l7/lpZxpoIUdm5ew9Klu0k7T2hYUZ5DWtrZTdzb0mq8+ud4BsknMvn9w8Vu2Nv+Vb39v+syBuzg2v42Xvi/m6h3nkjc1q8RAzoVMPedDzjU7wXaBFpH/EZZ0iFm/fA1m6MLrSkmMtNi0bk6W5oV6Q0OmHTFpOcWWIJ6Unez4oBlwt+ryGXvhm3Uu74BZzXYuWg5CftYfrKIOl3v4N0vv+WxngYK1MGYmxDFsRPxlAZ0Z9rUKbx6Tx/sTOWn7wZq7J39cMgrJ+LQcbRO7itLs9l9eA/ZDUJw+bO7RJUlHD15mP1pVYQPf5Wp075mZEszJZUX0bZGCCGEEEL867QadnNeLkEJkYxuaE+nGhWsV6vV/FZG96mtAtwf+PqD5SRbIpdSjq/4kucfmUuOd11aNA3Hdd9KtsaocnZ5CYf3LeW4T2O6tgrD3qYurW8OIys+iyNHki2B/Dm8GjK2sxt63VYWTdvHqSqmtD0T+OXwqXL92fR41g4nrHs9Ijft4GB6CZVlWezbtZHE0C60ahKKzXka42qCWt9Am4AENu7aRmxWdXPm5JM7WZruTL92/ng77Wf2x1tIt4zROnz/lYUHElXxOpaDKwsZ9coSlixZws9vDENrJ24INGLzF0Vsn+aDuP+pGwnNWslLzz3PJhXsuvk3oWGfBpzYtoeDyWqbmfLYv20tcSHtaBbeEHujI27ac+NqHfNics8TLP45o6MLYSGNCeAgu4+mWlP/WknKHn6ePpcEtR2fGtIdZ7szG9IhuAW9mvlg0G9n6aFUKnPSOZyVSr4KbJ+8rp5lmsLk3cz4+CGempSAsc89vP/mW9zRys8y7nz8Q7pQXlFJREziX/YFkHpwNd8u2oRbl1GM793UmnouY60uDLk5gJj9M5m5NAG/G99gUP3qcSVxm3jx0XEMHPgq204983yW/LQdTHrlGzaeyLL0nUbSZhbsBvdGftRvVN2JnYWK5RLyskmjHXWDz+2L4XK7rAG7OhXQvLmP9e/fcqRR9644e3Zk9MOd8LKm/pZdYF2aOmTwwQsPc+edd6rhLh78fh8tb7uRVr622LkG06FtK7Z/+0j1+JXZBP1mYXsmPF497u77mZfsx4PDLuC5lD9RWRjN4v/db10flWmNT/N/nf3RFSXy84TXuUdLv+tuvlyaT5dR6redFYgbnGvRv19PKtdO4+G77uTuR59jZ62e3NKnzpkMcz76KooiNvDtQ/dav/de1vrcz8gmNfj1F0IIIYQQ1yCt1WQTZxM317WhY5i7+vwPq1b/DR71+d9r37Fw8uOkT3iC0cMGM3jwMMY98BOeY2+ivmd9xj77CU/WLubj+25m8LCRvLw8m+te+YS7+zTFRu9Et3s/4bZGR/nxtXsZOngwt7633rpwxT6Awc9/xcIPb2P2R+MZocYPVsOoO55mT8b5aql0OAe04uGX3+EO26M8c9sIhgwfxw8HDTz7zusMbx/4+2b3VrVaj2TC58/gnTibe0YPs3zP6EdfYUmcnm73vMbMjx9m5YS7GWVdh5G3PsrqYwVUlJxg1pP3MmpodfqNT8/A+653ef/JftT604K5Kprbe9Bz+D3c1rkFTrvnc++YIWwtacp9L77HvZ5xvHb3KAYPHcXXW0t44q23GNutDrZqm3V/6Ctu8jvBr+/cxzD1nY9Pru587oLYuNLtxrHc3sOHle8+ZFnn8U9/iYo//0Qeqz9/hHkHPejSdwi9WgZZHss9zS2Mx177hg9vs2POc6MZMuJuPovx4omJn3FXcxdLDfaC797kmc+XkJlXRlXiYRZ+/L/q/fneT6QU/j4kD2g1jLalpWRv2EPi+R4Hj1nHGw/cYln/m5/4hNIOTzJ50ov0aXj+uEZv9KBT/5G4HDrIjmhbburf5rwts8/HzuhFzsl3uHecyk/aOo++hy3pN/LOe6/Sr7H36eC4JDuBPRHLSW1Qm1Cff9IW+5/TmbVbfpeA9oxBUlKS9dMpZirUzqmoMmDvYMvZ5yZzZSl5BSacPJwsHRxoCg/MZNj35fzw4R0E/MmtBHNFCTn5RZx+hbuNPa7OTthaj9qqiuqX4Vtahji64UIB5Ub1r63e8lqA/JIzt8hsHZ1xdrC3rJs2X2mpCTsnJ8uJ1VxVTkl+qToWXNVJSJu6kuLsfAxuntiay8gvrcLZyR6dmq4op+DMnUT1nd6ONphNFWo9VHpFdZW6weiAi5uTOihMlObkYXbxrH423WyipKCAovJK7aENbJ3dLc+oaNuvrDCbClsPnNW6a0xleeSYHNXyjVSWlVBYUHy6N0ajms9de6mhEEIIIYSoMbTSdrEqmNqpAuXF9DcUEnLhbUAzMzMtr44KCwuzpvxNplJyMvPOqgm1xc3Hw9r/UxVleXnklZZXP8ppsMHZ1Q0nrfMmxazKtMX5mRSeU1Wsx9beFTc3a59QFUWkZZ9bo+7s6YeTUc2rys0FxVW4eLjjaC37qqCBorz804+Pan1Mubi6Y2+JMisoSMumzMZOpblZnkM/xWwqpyA/n5JTTcX1RhzVfC5aGbuyhLSs/Op0K0c3b1XeNlGQkcPZMaVBlde1cv3vVFVSUJBPcWkFzh6+ahuo79bK9Oo7C6zbx9XLDweDtk3y1Daxrr/RRsUDanta19Ws/b6cLM55hblOb+k1302V9yuKcsgtrFDr4YWX+mwqLyA3X5X/bdzwcVMxzG++8xQbRxfcnR3Pib+qVVGcm0FBmR57NY2Lc3Uc9FsVRelkF1qXqGIYd3dn7LQAqcpEUWEuhSXneUbA3hlvF8ff35CqKmP2Iw7cuqEP73z3A0929Lckm6tUrJSbTfE5v13FjS5uuGp9FliTyizbwIyTismcVPCkpZvKi8lX8Ve5iiRdPFV+qQ7WLDFmbp5Kr7TB3ced37zVTn2n2t4FanuflUcNWksHDxdrvKcxk7RjKg/2uAvzE1P47sXx+DqeZyNdIC0ujY2NJTw83Jpycf7lgP3CmStTWPL0KyT0fooHBjWwpgohhBBCCHFtulwB++7du3n22Wc5ceKENUWIS2fnzp3YpS5lZLcHKBvyKJ+/9zq39mtPfn6edYqa5dj+dXz6UH1eOzSMr777lGnP3kbfXr14+eWXrVNcnKsmYC9PP8L0GYcJH92PDoFnvWNdCCGEEEKIa9B/UsMuxL+gqryQDbPe5qtFx+l5x0vc26+F5a1aNdHRn0fw0s/OtOx9G/fe1Rvfv3gc4q9cNQG7EEIIIYQQ4gwJ2IW48v3TgP03rfqFEEIIIYQQQghRE0jALoQQQgghhBBC1ED/WpN4nU6H0WjE1dUVW1tby99amqiWkpKCv391D4lC/Nskv129kpOTCQgIsH4SVyvZz5dOcXExlZWVlvKJOFdVVZWlWbWvr681pWYpKiqyrKOLy9XT15FWDNfyY3l5OXl5eZby9NlF84ttEn/o0CFsbM73ijQhxH9FO6Y9PDxq1jPsWmCuXQidnJwsgbr4PQmgxOUk+e3qJYHctUH286UjAfsfk4D9v6XlS+1Z14KCgtNBuzzDLsSVr0Y+w25nZ2c5mUqwLoQQQgghxF/Tys1a+VlrmSqEEKf8KwG7dqKR5u9CCCGEEEJcOK38LE3ahRBn+1cCdnleXQghhBBCiIujlZ8Nhhr6cmohxH/iXwnY5UQjhBBCCCHExdECdnmkVAhxNnmtm6jB0tn63XfMX7WJrBJrkhB/oqosnwMb5/Hdgs2kFJVbU8WVrZjYtUuZrs4FEZnWpLOYygs5sO47vlu2heQC2efiyleefpiff/yead8fJMdUQuzudcxS+X9nXKF1ipqnJHod3303k5Ub45HLtbg2lXJ8VySL1kVxNLkQkzX1zxVzYtsJFq0/xraoHCqtqX+krDiTHevUd+xNJqfkwr7hr5USfzCGpWq5a2LyrWmiprnqA/aY5Q/z4uubSMqMZNqnE1gakWEdIy6rijz2/DqRp++/ny83JFqSilL3Me3D+7n//u85WqKdpipI3rmY99U0Hy0+SJU5mln33MNbX/5AnJxDrkkpOz/nf4/czzMvridNSyiJZ+F7r/KAyiM/R1QXXkvjNvPWS0+ofLSU+KJ0lk17nXvems6x7GLLeHF5VeTE8vM3r6j9oR3bp4Y3mL06RhUL/o5c9k74iEfVuWBVnDXpLJUl2SydeA/3fDKTo5kSKlwaReyZ9hj3P/k8U/anW9OEym2kHlzEe8+pPD1nnzVNk8Oerz7gMZXXZxwosKb9fSUn1/DC/z3CQ4+sIKUyn/1zJ/J/Kv/P2ZdlneJ8ioicO4UX1TosOlZmTbtUzOTEbeObV88+ps8MHy3aT/bOidxzz5N8Pu0geda5Lp8CImZ+wzNqXR54YCJHTu+CdDa+8rxax4d5+5MdZFtThfhbSvLZtG4nH0ze+Lth5vZUVWYtZPMvG3hv0jbWHc3iwm4f57D1p628N3kzP21LVqXgP1ecG8+cSeo7Fh0l6ZLdoC7kwLLdfKSW++1uiZFqqqs8YM9j/y/f8UtiOhnHNvDzpq2U6S/JW+zExTLYYC46yvK5E3hh9WGVUEVu4kEWfj+BCROeZOF+VdA2lRG7ZxVTJ6wlOV/2kwAPo4HpP3zP9zMWEquVArOimfjzdJVnJvDhL7vVZUYVyY4vYNb3nzNBZ8DTMpf4L5mK0tm6crbaR8k0v3k8d40bjmfuQh6541GmrItRhRrrhKIGKyN63VQm/DCTdZYDT1Qz4O5kx47Na5jw8HyOWFNJP8EXc37gywll+NRxsCZeIrae9Hz4bZbt2cP/ev7ZqzlLSd6xlh/VuXF38l8V+y+WDmefBtww6l7uvfc6HGfN4Ic5C3HqMEZ9vpfBbevgc8Pb7FHX789e6YaXda7Lp4T4TSuZoX77hInPM/9AdZ4tPLiU56d+o85F3zF3cZQK64X4ByqKOXI4igVrjhJl48vQPk1OD90auKPTuTP00eFMeXsgI9v7Y2ed7c/5Muj/BjHljaH838B6FziPuBZdnQF71hGeHNvVcvDcNLmMY5NG0Krr/Syb+wM3NfXjre3W6cTlo3ekUZsuBIT4k78/inRTKQn79qPTh+PnZ2DzkRQqi/PZf3grkS070rNNgNp/1bOazWkse+Amgg0G9AYjz63IxFLmN5sx7fsGnUrXnvcy6Bvx2LdbKayEovSl3KYW0Puuu3mrWzfc1DROPsF8sCnHskxxZbBv3ZsXbe0or1hAUjrEHl1Mck4wQ4cbyfzlGKmkc2R+DHkJVbx52/WcLiqrvJG49AlLvtDrQxnz5CoyqzMNxRnLGK/XY1DjjAY9A77ai8n6vltxKXkR1qIl7bp245ahg6mfuJj9x5MwJ/5EX3Vu7nnzy3w2bhiBuj7MSoTyzGO8Nb4VBnWMG40GHJ3f41BVVfWxblWUtpTxlmNdz60fLKLwvBUMZpUfNvFgR+t5Qe1j3SsbLTcK0vZOZGhbHboHprHxNW3/q3NKp1H8cOA4ix5vYMkPvuHdmL5fivZ/pDInlo/va2fZtpbBYEOzTlOJthxDJ/i2UW3snZ1584sv6K/2o16vo//nu6z70Uz8+pfp3NB6/Gnj1Xm6+S0vczj9SnicQYd9vXBuDaqNR/rrLNtd/asSIpcTlRqB+ZkR3OBmxFwcx/SHh+Jvzcu+IQ2Zd7x62ohpXbEx6gh/dx4f3N0a3dBn2ZdaRGX09/S0npe8uj5OVLI1D5Zns/7L5+nf5kF+jawORM3Zx3n5rt7WY0UNXv50/L8P+XThj8So8W/0dccjpDFfbr90N1tsHL2o26Q1rVs3IUjbbzZ2BDZooT63poG/OzmrnqdN7wG8sOQoFWotprRvoq7hOt6cPJlhlnyg59GZhyg+Po1els8NeOTrzZbrNZhI2juTkc1OHbM6Qj5VeaZ6k12kXH56ei4x5iIOblhKbP6528BsrmL3p3VOn2f04cP5YU8iVWpcxvbP6agLYszDr/BAu2bYq/NBYP1H2BJ5gEdHd7Gcd3S61zlgWS8zVVGLaFE/wHot8WHA3ZOJKape6eOTh6Cr1YxHP/iS/j3Uthj8JI+q5QW0uYE51tZh7P5YLc+ZTkM/IbLmPu0gzsPRw40GdbxPDyGe9ursYMTTX133Qjzwdra1BFhmdeGpUoP2Tn1t0P6u/ly9HHVk4RngqebxIsDD/nRQdva0p4bfO2u8tnxr6imnvvvUcO74PxsnaqKrM2A3OhAS1pTm9VzUyTCIZm1bUdvXE5/gRrTt0JFAZ+t04rJyrhPODd6BOCw+RlRJBQmpqZR0789TzUJZvSWC3LJckuN3417XH39XJ3Xyqxa5OQ+bMe9w/PA0PFQB/tcXPmJvrpp/wRvUv/4pGn11SAX7qSx5sxOLHnuVucfPNHzbszgT/7dmkbXvC2wzs/n1vclnNZcTNV9j+rziQ2lFJRFJcWRE51PcoQ/Pjx5Hadk2Yo9lcyw/h3y3IbSoa51FE7mA1TYPUKYKzq/dEMtP26ey+kgmFTkrechvMLtvGM+OpEpOLriT3S+0J/iZZeT/1cNj4m8xl5eRlBRDgqM3Hq6nbqkUsm/1DKYdTyOkY2O8bPKZ88JY3t0XwuRt8ZSlr2W03QsMaf8/1iSdad47+918Xs2J4qMH+vPr0y/wxY7fN9euyF7EfaGDOdp4IifUTj3x01AMb/bgvjlxZ54pnPcmsSMqiN30DQO2z+HBG/5H1i1byFn/OqWHE1n241YytBK8+B2jRx3+99lqIg/tYvPmzWz45g4ijr7Fm1/vpMg6TUVJFTsONGBq0jZu69WMlY+9zLxkMxkHf+H5J98got4rROYUkxU1h9HWea4cAbS5rSGOXkbe+XEdJZWZHFwZReIxb97s156qknR+eO1e7tvlwcTDqVRUHuL+ikTefvJNDmSfyVQxk9S16rAdHRuGYFe8ngfrjSe++RDWJVSStfkTwgJcrFOeq7Ioga8eHcGH852ZsDaG0spKElZ+RJ8Bo/jfkLGEqmleWp1LTvxRHu7oVj3Tf2j9aj++TtrJ7QNa8sW4bnSYFsTMmE08NiCJL1euIjm/hNwTM7i347MYh84lqaiSwxPbkP76UF5enmwJpC/Gje98RTfbb9myaS+rd3Xg7ddusY5RyjP45eV+XPdcudo3lRQn7+flFrHc/eJU4k43L85gVUQ2N/60gdifxpAcNYFBd31Kx1dmsfq1Nuh1r/DVomRKYzZw+wNPE1d+NwcqVXlkx8c4/Ho397w0iaRC65kmO5o5EyeSXe6m9nMnbpk5nor4FLbsOUpRVSVRBzZg9PKg9f3DaSTl0qtAJlOfm0j3B+cwa3cqleSy+FX1+c7veXbqemZOWc5jz/5Az9sn8/7KBAosDWGS+OHxH9Q0U3lmVYLWEQ8Zqqzz/avTGPLkrzzw6nweeHk2N72ymqSys55ZLykl5sAOHnptAbc+8h1jXlvFlrhSTFrkbS4haudR3n1rBuNfUvO/OJMhavmTtmWTW6qOqLIiju/fwH23fceI/1Pf8eEm1sVf6DP34r9yFQbsJrLTMwn0CWdgJ18Mumb0GzmMNvWDqdeyNyPenML4cOuk4vJyqkWLZu7Y2axhy94EYhOyCa7Xm/bD62H4cQ3bMxJJPujNgKatCfF0tM6kQrZuDejbvSEOHj70UJ9NpiRKC5PZMHsjuZnFNDy5hi8mzGBTbApVjqs4dPxMRN52cCu6Nw/C6F2Ljur0WVGZRvmlbi0o/lWhrcfhU1TGng072X4gFd869WnWujchRVtYu+s4R/IycR3an26+Z71KsvEwxl9XH53eE+8A9bm0nPIyVaha9gXTbBzw6XorjfygdrMbCbN1pnT6PPZLy99L7CgLJn3D559/yeT1Rwm49UXG9m6IwXLVcab1dU/x87ptbNv2Jdc5bGHRxL2ENwihdWgABs82DLzJRGzWZlYeTbUsTXPnJzdTx8Wbzo1Cqet0iC2HLT0bnCNu3nvMNprJLTzM3MlfsGS/M2Z0bN9z5HRAyfCXua2p9W+lyfCBXN/AA6OPPy3VVIVFGZRe6seArxJl+QmsnPwCY+99jPe+ncKsrbEE5pVTdCKPU71G2DjYcPOTN1DL0Zmm9vbYE09BUQXpx48StRe6dmiKv92V+57pkLbj6dPYk/LvJ7MjJoPtCScoa3Uv/Vq4UJx/lG1zVuJemcLWuTP48os1JDYqJi1nPwkZZ/pYaPDMdJX3Vf5//0Gc9k5nkk6Pa4NbqP9nrd6VkrQtrJp5iKb9m9GxsT9aX+L+bcbyVq+Q6glqmFteGIR2Cq7Wjhcf6ou3nRuu7vVQG4WcChPHF3zIUgczaUnb+XHiF6w6VoeysnL2Hj550R3Y6YMH02ewGx+//wq76+lo6nMmEq5MOsiPG2JU0NKEyFVfMGHmAuJTTDgsP8HRklMFAx+u79KHFkGe1koDdzqF3UjvJiF4B6qtrRL3pCURvXcTMfsiaftAT8JVoltgE8J6ebNm60HiC6xHgmddRr0+nQ3afv5wBM373sctnnEc2raT1PQo5k/fgFeTPoxvWzP3nfhj6cdj+GVFhHU4SkRqyR/XUptMJGXqaXxDVz57pD4+6vPWNXvZnXKewmh+Mj9M3sTUE+VcN3YAE16/kQkvX8f/9auHi+GsMk5+ATsrQvjq1WE8c50LScfjWb4rnny1yIzDW3jni61kBjfjvRfV/C92oId9BXN+XM3Sw+mk7N/D/315glhHDx743yAm/K8j7QIdTleSiZrpKgzYK0jds5xPH32Ud2acpLJqGR888wpztxxg+6KvefZXaQ//33GnzU19sHOO5vuNy4k8XERQs4a0a98Ng3EFi6cuYF1VExq3b4PHHz7IY1ZBdxRFpTr06uyinWDsnVxxdfWgQZcxvPbpNEa3/qMn6FTQVhGn3ZgUVxCXljcxKqyYlCWrWHLSRPumDTCGdqZfUB4rf5zNoQQTQ/q0w+3PrjaFJZSUlGPW/+ZVOeaqv+yVVfxdNji6uODuE8SA8a+oQsN4mvn9QTWSXv+bi5EZ8x/e7lfjqlTR6A+q3vR6FQiq4Mdo76TOC+rc0KAvU6ZM5a1Rzc88MiH+tswjy/nola8w1e3HOx99yWev3kp967g/doScPLVbdDrLOdvHxdHSFP6K5dOCZ27pQEn5EiYuXU9iVB7X39abhs7ahUuPzqD+b2OHk7OLJQ/2GD+Nj194hJa1zn9h02szqC1jbOCGU3XSH7MeK5YmttUpVzyddl5Wx6yto/WYbTqYaRO/5In+DS7+mV6Vr8Kb9KZqSQKhPm3wdD7rxpAl/2n5zhZn7Xs8g+lx++N8Pu1emrte3DfpVAFErfIZ2v7445OWhZ1rI/rc3pmUFRtZtXA20/aV0f6Wp2nhY51AXDEMNkacHGytg43lMZc/ZGNDeNNgwoNc0DvZU1slVVSaKC49z2NAajGnstX+tTt469t1vDXlBHZ1fHExnpXh/HwY3TbAUg62t5x3TBSVmDBVFXNwyUmOqZTkqAQmfa/m/yGaE+pkoZWB0rPTOLgvi9KSKuybhNE52F4dDra4aI+HWRYsaqqrcP/YUW/A/Uz45S2ah17H28sPMP+9W2jS8ybmbDzM4ZdvtE4n/gtuddvT08aeo5++y369N53qBePQtD0PGFKZ8c33lAZ50qSunyrq/wVjAD3H9cbd14ntv5roevvt3K6GHv77iUiVLuWvKo6NadO1iIMHf2JTuhttmtbCoK9NxwENOLh6LnuOBNM8zNc68Z8LGvgo91UUk7b+Ow6nQsyBX4gtK8D+7tG0dbdOJC6RMK67eZzluLx9RH9aBLn94QVH59SVYY+050BkLLtOJmLK3MWCXwzU9enJgPAz9XOa8vRYVuzawYmSIdzcN8iaekbI8Ge5rbyQ/Ox06vcYVf39/Xw4vD4aqTT/5/Sq0GiXpT15Zm95xjdj72p2Wsf9KZ0Nvo2aUr89LDgaTUnllXyrzJaGN9xMl+IC5r3xEnNzQ+naLgx7Gx2Obo3pMnogmUczMNbpyi233c44lf+9zVGczD5/866AtjfSx1xF4aadxP3FI1sOvt244c6WRCw+yJaIJMsNx+zo5UxdmYZrAxfsPCEy6c96k695Gt70NEOLMsgqMtG+3xjLMTu0vQvHdyZeYE/bZ9MR2vM+Fh5eyYu3dMRJuxdiZQxqwe19QvFw2Mlic5vqc8PtN+C7PYnU4otpemdLvTY9qNuqKds/Wc0BzOQmRnBidQ79urci1PX8t130ts4063EjoYYlvPjCpxwtvJ3/jW2oliauNF6hwfTv3sA6hNHQW3uG/RJwCeKOW5vQUWXcEweOs2yjNhzi9fdWsTr1Qs6Z5RRp/SEYjYSF1+HmwS25ZXB7nn95FDNeH8xtnf0wqWBde4Ze5+f81zcIRY1xFQbsOuxcfXDxKMDRvgFdezTBw8aOxo3upnu3JjTxl1L5f8qvNWNHeeBQqsPZuweBXkawC6XDzS5gdqZp7b6Eh5x6ds+ArZMT9na2WFoC6QzYqc+OqqBo0BkJGPA8J1d/RmbMo7RwdsZZDeE3TeJEWiU667T2djbVmVx9tlefHeztqpclriBGOl7/tLr+VKGrHUCwl4s6yo3UbtIJW1sDNoNb0Sb01HGtx8bOASfLfq7e0TZ2TjipPGNUO97o0ptPs1bQbdsC+oSpwtMtv9L1w/0kv9EXx7MKduLv02k1ZXaOODn9wbGmjl17J0d1bBrPXIB0Ttz46kxe75LJY30b4VZnCMvtP2Dxzo/pWcsWo7ZP1fH7Ug9nPOt24v35fry/7GNGh3mo79NV72Ntn+vVPnbtx5eJGxlQNJNB4T6W84JzvVHMyynBrLfB3kFNa1vd0kJnsDl9nrBkl7PW7do+TajtqO3DkizmjWtVvQ0tw7tktRjOkx8/ROGMlwkPcueJyMZ0V9vMTh2LOrVHjQ5qPkdHqiucqo9HR7WNbdS+8W46kGeeeY4ma5+lto87AU3H8ov2bdZj9UpiCB3LCy86YCgtpUuPTvRuWltdsdQvtvdm3Avf8v3dIUwY2wZ3F2fc/Opy/8fa8+5m9EZ7tX3UtcjmTPHLUHsEy7e+TeKed+nk70zgdc+TklelplP5Uv1nsLVT29ABG+0c5ujP/R/9wku3mHlqSFPc1X4J6f4wa4ttaTviAW5p2YYV9zfFv34Lvtn5bzzno/ap2r9OjtXrc4rOaGfZ7/aW36WOSfvqY9ZSKWg5J2if1XnYcpxZPzto13YdrnVG8+2eH2h05AM61fO05LWgzg+wOr/0AlsRqO1i2UZO2KkvsHHwIKRJKD5u6pxgsFXf66iu/ep8Y/Ri6CsrWPuRD0cf7mjN02GMnL6aLJPZcj7Qjn87dX6wrKb2m7TPdlreVr/89L5TZZOQbnz/7Yc0qzWbLs4uNOj9Mrrbf2DCa3dRy0l/envYqg1wZisZqNOkF217tCc7swCb54fT20UuPOJsBhyDW/LupLvZ/ON9rP24PzeFG1V+yeBoyoUcDe6EhhkwlFWQl1OGg6c7dQI9LEOQjxMu9q7UCrDT4nmq4jPJsyxSOp27EujMWruqS8CkPaORlGT528fHBwcHaXz4Z1JSUvD3/4uH1YS4RCS/Xb2Sk5MJCDi3Flpcfa7G/Zyy5yvGtX0Gt6c+4YtX7yHwMlX3FBcXU1lZaWl+Lc5VVVVFZmYmvr4X1mrpcisqKrKso4vL+Tvlq+kqcyOZ+NQ9vPiLK9/s+pnR9c+f6bXfmZVV3VIiJOTCn3HX9l1ubi5hYWHWFHHJ5Kcy4Ye1TN9aQLsxQ/hk8G/LVJlMeeZXpuR58OBd3RnVzp5lL8/mvUQHBg3vyuMD62KXvZcnHt5FZC0fHrr/BgY2yOX7x1YzKc9Ep7HX8Xq9XJ5fk8GN7evjYmugKDWFX9dEkKMP4bmXuuObeYC3ntrF9oZhfPtAZ8J9HTi+eh53TkmnXf/uvDCyMZ62cUx7dTeL8srpdV0LutR1Vxmvkq2rtmDXvgc3+2fy9rS97EyGEbdeTyfvDNbPPsiC6GJ8buzLnJH1rL9HXEqFhYXExsYSHv73OlIzvKpY//5HtLi/oKC6LZd2V9XG5srtUOZy0HbclXrBEVceyW9XL+28K/v26ndV7OfSHLasWcjsecvYunUrS2dMZSsDefjJ8bSt727pQO1yqKiosAR9dnYX/YT0VU8ry2k3NLRyXE2k7TttHa/IfWeuJHb7L3z8+beYBzzGCzd3wPWslhZn035nSUl1l3tubhfe27+270pLS/H09LSmiEtG5btKswFvP29aNgmkoc9v86AaX6HDK6QWrRr64e9mS1U5uATXomWjWtTxcURvrqK8yoHaDWvRvL4vPk56TOUGPEN9adHYnwaedlTmlxCVmE9iah5phVV4NWnAA6ObU9dRxVVqfjMOhDQKoE1dT5xVUG82mdA7e9JCrVODWlorE3fC2wUT4lhBRk4ZSWo5SekFOAYG07VVMIFBAXSpY0O5rasqHOaRWAgBPl7UDfOjmVpGC78znT6LS6e8vNxyM+3v3gyVGvb/iNR4istJ8tvVS2rYrw1XxX4uL+Twgd0cjjn1Oj5bfIPb0qFT0GXtEFBq2P+Y1LD/i8wmsmMj2LnrGJ4tu9Omfq0/fERPatiFuLr80xr289/aE0IIIYS4lGydadquJ6NGjbIOw+h5mYN1If4zOq0mtQX9VN5v3+CPg3UhhPgtCdiFEEIIIYQQQogaSAJ2IYQQQgghhBCiBvpXnmG3vMpDe2eA+EPSUZS4nLRnZ7RX2Iirj5xLrg2yny8d6XTuj2lFwpre6dy1sO+0DqpOdTonz7ALceX7p8+w/ysBe5WtG2aDreVvcX760myq7KUXT3F56MtyqLLzsH4SVxM5l1wbZD9fOjpTmaUDMLNRekP+HVUk1Jfnq+vFhfdMfjnpTKWWdTQbr+6eD7TfqS+vfvPSxQbskZGRNfaGixDXKi1Otre3r1kBu8nB56o/mf5ThqIUTE7Sa7e4PCS/Xb0MRclq30ov8Vc72c+Xjq6iWBV+KqnSXmskzmWuwlCSicmxZvYSr6soUvuuSu27q7u1iV79Tn3p3+slPi0tjcDAQGuKEKIm0FrMaG9+kID9CiMBlLicJL9dvSSQuzbIfr50JGD/ExKw1wj/JGDPyMigdu3a1hQhRE2gPWqUmpoqr3UTQgghhBBCCCGuJhKwCyGEEEIIIYQQNZAE7EIIIYQQQgghRA0kAbsQQgghhBBCCFEDScAuhBBCCCEujapSchJjic0ptSZYlecRG31CDdGkZeRTeUm6PBZCiKufBOxCCCGEEOISKCV920o+H9+NPt/ts6ZBUfJ2Vi+Zzvvvvspn777PwhUHKKiwjhTiSlGWS2xUJBEREaeHI8eiSM4q4t+//1RGyomjxKXmY7KmaMpLMomKOEZyduE56eLqIgG7EEIIIYT4hypI27uEtUuiqN3urFf7lmew4/vF7CwN56OJM/lk4rfcM64bHrbW8UJcKfIT2LxmCXPnzrUO85g3fwGLlixlW1SBdaJ/SyEHVy1he0QK5dYUTXHeCdbNXcG+2HR1BIqrlQTsQgghhBDiH8mPW8OqyasIHj2Gto3cralQlnaY1bnJ5Mx4nfEDujF6zDi+W3NcggtxxXJtPojx48cz/vZbGd63JTY5MWxcspqY3zwFcjk4ezZl8PgRdGoQgNwDu3oZXlWsf/8jZrOZgoLqu0tmGyfQ21j+FuenryjEbOti/STEv0vy29VLX1Eg+/YaIPv50tFVVaCjCrPBzpoizjCjryyuLsddlJ1Muf4xan84nx6N3cg9NImZhf15rEswudFLWbA3k7Gvf83Dd99Nj6Y6Fkz6iIKALjQOdLuomqPqfWe+6ved5XdWllj+dnNzs/x7IYqLiy2Du/uZGybiEipO5+DRk1QEdOS6lsG4qe3s7R9KgC6RPUcicajXBefUbcz5dQcOvjZErfmFGfNXEJFSip86fa9b/AtLli1n3YZNbNm+l+g8PYFBfjjZnDoKqiiK28vcuXNYsnQtm3fuJS5fh79fGas/n8HeglKyko6yfdMmNqkhw7croYY41ixcT6lHCIE+zpbjqbI4i33r5vPLvCWsWbeFPcfjMHjUwd/dDp0OyjKOsGTWTOavWMOmbftIrvSgQbAXBr0aKf4VFRUVFBYW4uvra025OFLDLoQQQggh/r6MHBLtzHxyRxsGdW/BQ+9FwOTbuP/e+aQbbNHV8sPTyRFbO3v8a3egiU97MhILqbTOLsSVyYypooTs/DLMOlecHbQKzCpMRSdZNHsRu1LNeHh64+bihMFUQpnZiLO7N97e3ni62pF3dB1T5u+vbuJuriT72DZ+WriOpAIjbt6euDvZkHlkNztjcnD0dMfBoMfW3hVPNb+2DBdbbQ3MVJlMVJmrn6I3l+eza8lMVu5PRe/orqZ1w7Y0i/2bNxJfXEne8XVM/H4J0SW2uHt44+FiJGnHr0xafuKcpvaiZtGZtarxS8CkMktSUlL13w4+mI1nPb8kfsdQlILJyd/6SVx5zJTl55BfUIl7oC82pckcjjfiZ4wnNqVAFUL0GAwGPOq2xc+cQNSJeEqqbHCv34Ym/mdqLgridnEkpUxNa4dXYANqB1xcbcOFuhLzW3HaHral29GtSRNs1UXqHytLY+/SSHz79SDoXz49VZXmcGT3Oo7EetBlWBcCnf+9hmqGomS1bwOsn8TVSvbzpaOrKFaFn0qqbF2tKeI0FWwYSjIxOf69WqBTjk1vz4DUzzj5f52oyNjJ5x/8SMDQRxnTpa46Fe/l849m4dv/QW7pFYrROs+F0FUUqX1Xpfbd1d3aRK9+p14FWZqQkBDLvxciMzOTjIwMateubU0Rl1TGIWbMXUmaa2t6a499mE2UZMay92A0psDejLu5JRWR21i8bA8uzbrTp0tLvB3PlF/MKrjPSk8lM6+Q8vJSUo/tZ+9JB4Y9PY76pSlsXj6fAwVB9L6+F00CnUGdq9JiY8l3CaS+XyWrvplKboPBDOnbkFPFmMLMSJb8vBn/noPo3KQWJRGzmbQsg/pd+9O9dR3c7HSU5aQQnZiHd5ALe5csJUrfgP43dKSOpwM6FeBHbV/OrztKGfDAbTSXhlz/Cq3lS2pqKuHh4daUi/OfNIkvSi5i66ECXDztcbQ91fyijGOzM5g8NYcVq/OI9tDTOvBUk6cSdk9J4ZsZeazbX4R7iC213Iyc03CjKJdfX09nhVpep5Bzm0pFrk3ipAqIgtQ8pxxflcCnX6vlraweNq4rJLijK865Bfw0OY05P1enR8VXEdbGAXvLXHmseDKd763zWAZTFb3r25G2N4MfP8xivjW9vLYtYd5/vA2kifKVzkxuzDGORaTg2bA29tmbmLCsgrahZnUC3sS+FBM+7m4YVJyWsH0nRXbqpGjWUaJ3obbvmf0ev3w2R11qoYXpDq7eeLjan5uvL5ErMb9l7v+W19YnM6BNe+xPNxe7SFWVHN0ySwX+7tRziWXC+EnYjryR+uo6+O+pIufochZ8N4cC95Y0alkbN1uDddylJ02lL73ihFhiUstx8XDiUtwruhT+9n5WBcqYrTP5+LNv1bVpiWWwazKIkD9tZVtExKyn+WLagup5IjIJrB+Gt9NF3HiqzOfIshlMnTCJ5WoZWzZvxDP8Ovz+oqV17PrP+OiL79X3xuPWuD4BbtVX32oZ7P7wPSZGu9C+eQB/98G7a6FJfHHZLn6N+opjJj/qqODb5oIvLH+3Sfy5sg6eaRJvcPKgtjmepZNnsW7LclZu3UlVeDdu6tkWT/uLCddP7bt/3iS+sjSZVd8+zfezVf4+UU7T5mE4G39/ns7Yt4xf15dQr5mf9fngGBY9+R57CmpR1y+NSZ99zKL5c08fWxk6P+qFBGLzD0/50iS+hrI2iU+Pj+L48eMcP3GSpJwqgpq2oUePtgQ56lQAncjxBDPt+nSktvuZ81dp5km2bd7Cjl272H8ogiORUSRmFGCqMhDSuh2eJelE7I/Es00vOtb3waiOWZ3BBhcvH7ydVdlQV8LJXfsp9WpIw7rep89/5cWZnDgcj0udBgT7OJOwbREnTQ3pfn1HatlrFzAdRgdXfPx8sMmOZU9EJCUGRyqz44k6cYIT0fFkZWWRmpmCS71uhHlUL1dcWldck/iNnx9l1PBoJs0voKCsyppaycmFKczbVkqnmzwYOcaGtF8SmbK7UI0rYefncbyUbmb0bd70rVvFpKmJxOSf/fKCQja+lMbGiAwWHi22pqlgaEUcw/se5ak3sjmecW7Dq5SYHNK8DNyolqktd+RYT/zUcZWfWIJtkB1Db/Fm1M0e2OSk8NO6PGvnKMUcm59LcK/qeSxDK3VR01oX5Bfi1s7Rml7F8WeT2J1imemKlr77E5bu3KtOKNaEixQ9bygLjlk/XGXMaqNUVphU0UH7UE6xSYdPWHtah9fBv35z2nbqQaDuCFHGpnTrdb0aetGhvrdl3lOqKjJJSUygoNIBH193eUblEtOapiUe3ciuqExMri24f9brdPayjvzXmCnJK8HVsRfD7+hL8L9Yu/7vyGbLGz+x+LujKmy7eCXJCax8dTpfjKoepk09qM7i/5309cv58mbr+jyyiN2HMjCRwIYxCziZb53oN+xUAck/wBXjxRyQphJil6xmsvV3f/FLlHXEf0wdA+mRJ0gqbsGA2+5m9MD6LBzfl03x1vHnVUb8pink1R+hrmd308tvN+9+/QOZpotokFeaQ6LJSKN+t1mW0a+NK8vemErcmUv0b+Sz+e2uvBYVZpl+9G3XU9f77KCxlOML32PJ3vX8tCHqP2u6mZ01nZf2tmXozkfY+m93Cm1RSGTKezyyczyLs3KtaX+trDKKTYkz2Z4bz+mi1mVUe+APLLitufWTI4F9xvPQi0+q/XoPt9/5BA/eNOycYOZy2//TcBba9LXktS42P/LgT9utY86VH7OX9RtjreewPDa+PoiZnu3p2jEYu4J4lv1aRitLfr2boT0bsuE7rRn0H5xYxFXDreVQ7rnnHu65+y7G3zqaAb07EeZ51i1E7UHxs6tfqvKI3LOTHftisKvXhQEjxnDrbXcwpm84jrZmLYywNGmvUudMR0dj9ex/U0V5JQYVkNud5/CqrDJRVVVBduxB9uzZc2Y4nkylqfJvl/XFv++yxwfdH23Atx+60czPmqAprmTH3hKMbT1o18WF5q1qcUNjODi/iJycPJZMKefR8bUJb+FIj35OtDxUwu6T1lxlLmH7W4lENPRnXM9z79SG3FCbX1f7MaaZNeFsBnAPsqVRM0eaqKFpcwec1ezerX0ZeZMfbVs70qyVI3VddMRsV8HYqdmMOoIanprHkXB/VRg32NC6Z11G3+xtWcfwFq541i7hWMrfKe7+c/HL76Z3o74sSrYmFEYy9dYuPPjNNmvCBSqJY9MBP3zdg9DrU5kwwkB9bzV4DWXO3uqFH5z5YHWaZdDTOHAsW6pbcUHOZqZtHk3XhqrAeGgWj3Spni7M6xkOnSr3Ja7jtr71Lend239DrCU9n01vd6CRrzZ9IPc+tphMy8SZzB9/6rsa8PKEDSrQtYw4i5mICaHV03ToyudbEqzJZla8ZJ23+1iWH02rDrT/QEn0Sh4f8jjzItIsnwuTtvDGqOr5w56breY939n092lVpjIqjI6WO6UaW9ts5j3dl0eef5298cU0HPs2/xs9jlCbAyxecvjK6DXXVMTeaf/jOst+6MHPx7Wjo5KErV9yRzvrNvJ6nUi1gTMPTOCz92/koSaBNL73J6JPLOSpHqe240+n90Hq9ne4pXN1eqevd2m7q5o5lWWPeql0b267ay5p1nTznvcIs3y/gcEPv0NstrblzMx5Ql+97L73sT0xl7Id7/DAs5OY9fHLzF29kK/HvMxWLX+WJrPslVF0tixDT5evd2uJHP31MV565Q4eCnRS6T6Mv3ce6doXqmXv+8jB8p3Derfjxj5v8usB7Y6cmZhlrzFYW45XeyZuSqCiaANfDr2VN3+4n8fe/I6sokqOTR1cvb6dhzNvfyI1+pqYto8TpU44eiWRlW1Nu0BVpUUc3LYDmyE38MjPt1qGbvZJ6oiuprXEMldZh1P78vTOVrS/T6Wfnu7c8aeXcdb8v5vOqvjINmbHuPLgj+Ms63L7g03xMBZQaS4l92gmxRWnllM9/6nlGByccHa2x9L/jpZ+1rjTTqWdSteaEod60vuDEeq7BtF2+3w2HLdO+5+zw923Po1atCG89xMM7Lebqbu2sfuDe/nqy0VqO1RPlXt8Lk998BBb4/Msn73qtlDXszb0HnwHTTfsZ0tSFVun3sUTU3ecvgljip/O872fJ6J6ljOca3P9kNsZcl0nyzKadm6FY9Rc0v8o5jy2gAdi7+fDO/ur62srmjSvh4fjqQJwBbHrPueX6ECGD29pTfsv5BNXuJPd2XuIyP+SeUnV14dTtBuEVdZB5Qpr6pm0U8+YVue3M2mnU0+nWQdLqomisjhO5EeSWVFumV6jzXVm2lNL0NJPzXsm7b9g79mI8LObUxic8G/UzJIXwps0ppb28O1/JW0BM95szG0jh1vWp1/vkSS8vpHD1tHnZVbB+pt9uNthIj+9cBMhQW7Wpvw+1NV+kxra9upHW7sCkpP+m7KfuHyMzt74+/tbBj9fL5zt/qKlSFkRWbkF2LUcrIL0NjSpG0pIcKAqX2utuKoLiHq9HqOxkNTUIlTsfMZZ5wjLkW/+87et29vbUabKOFnVBefTtOuUva09NjautB71P15++eVzh5deYkA968SixqkZFXoqr9qqvG4uU5caa0nWQxWiAworVUFCj73OTL7628LFQLA9ZKjrZFVFCfumJXPM1ofh41yxu4gmSC729kRNz2LcDZEMan2YX2PK1GXxFBN5Kpjas7OIPTFV1O1sh6Ml3QaXEBu+ezCSEX0juOfZOOJzzroolldw4kgR+1dkcDDBgUZnPat8uXUe4sOXU1epEMREUsRJCn3S0GvNgNWFvCA9mv17dliG6AztwmKmLDeTtOMnOBqxl/0n01X4ZaYoJZZyNz1ePh7oMiOwGR/JiUwTmxeEM2X9Wsv3NL/la0vaicxy9qz9iqF33kkLSw2mCtL3bcehdxu8qlSBwxjA6K+TLdOu+HQ190/Yo2K8NFb9sIehTyzkaIaJr547zrczD1JRmEx88685nFpJxLFVhIf9wqoDWsEoF9N1ByzLOLJ/Anm5h4jKOreKoyxiEk/Hv8/uzAq2T30cp0PTOJZVSdaSu3graFf1+r/TgD37dlBeqfJbZQmpKcfILDoTKpdnHWfuho1kZ9thaYBapdZj2xIMYw9xODOPGS7v8fbGIhxcnbCxzyI9MYGkuCzcA3/fBM3Bqz61kvZzJCGBlMQYopMcuPH91Xzx9su0DjGSm5pISloKJXpXFUgY/+Mi1oXJjVrAqkWlfHJM7fe9z7HgydmcLM7hUI4NI6anq22cxHs9Xmfe2uo7N4e3OTB43gGOfDuCmM1LsX90H4fT8/gpeA4Lj2k1sjv4eVMBt0xUx3JmJq8m38NHq5OqC6tLp1NyTxxHYvbRJ/Q7fpq7j1JzNPNfKWD2CRPHjuyiZV45u2IzYPfbTGESm5PUPn4jmP1HorHr8BzfvHsPY554nZva17ae8MzkJB1G16wPv8So37B/Fo0/n8Aua3AaucGduyNzOHBkKWHu37J4dwqlez5i7PT3WK3y+bfv3Y9X6VHLtOaCFfz49l5eOmziwOaHWfvQ2+ykBw8v+ILHR/4f7/3f3TgeeJX7Zo5kg8p727/uyZJ5s0kuqKldu1SSvC4a74EtcLOD9LiMi8qTWtxgKFGhgipwJJzMoVwFs/XG9MdPnYdKTh5g/kOz+fqWH/ns5knM+vkoZSSxcfQiTmozV+RzaOJSNi1U5x3i2TDuR75WwxcP/sKGHQlUqGUlLprMh0/PZrZKX7o0icLU46x4+Qc13Qy+e3OdOr6Kz1nf8jITPiYdiYdS1XFeiHPjutRTQ966QxwyFbDigTmsmH6cjAPr+eD92axQy/3hxbXsW7OT9euOU6J205FvP+Xb135h2rjpfPTIXI6rPFBVms2hSfOYMFqt44hvef6J1eQZnQhu0prQ2g5QqnJakBOONbErl+I0EjO96V6nKeE3DeFI1CGO5ajtVllI5JajBBkG0dj/7Ca4VRTnppPr2pgGAToadepP6LZvOZysnTOL2fTpHWQ9ehfhf9Bq11SYwpEDu9gzfwn7GwzHT50mTQVJROzfZbkGHYk8Tl5pBUe3f0drm03cc0NnRtzQjhtuf5T5e+PUElSwvv17VhwsZNDoBwk869G2y81Uksa2zD2k2w9iiMGN1VnTSdQ2Q1UxaRk/cP+GxgzcrdZ/9xA+idlAamEkc3e60WlzO5Wm0g9+yrGCFGIT32bsxpaM2NGCjusH8Vn6MXXsVPLzDgN9N7Tl1p2DuH69Ey12TiMmeyfLkueSoMLJKSf7c1fEOjKK9jDlwM2M3t6eEVvq0n7zC2wtLaakbDuTdjah1+YO3HnoFS7yFv21o6KcIn1zvD2tn7386KU/TPK591+sqigtjGb5R/fxucP/EflUZ2v6KWmcsJandqxewurmDenYUNoUi98wGHFQgU7xyX0cik0iKTFelT02s2JbJMXWJjCOru4EB/uTtGMFy7YfIT4piYSYSLYsXci6oymYzHbY2VaSkXCMyKhES79hWedpvhbaqgP2RUlsXrWcgyfiSUyKJ2rfJpYsWkW8YwANAt04suQnVuw+RlyCWpcENT5iJ8tn/cyei7xJLy6fmhGwq0zcqrUDhYfzmT4hgxmTM1i4upIiGz1GDyf6DLVlyxdJzPhOjfsuj01xVdiqCLooIZU5X5aRaKhi1awMlu2sonBbEavXFf1lE8zWtzRg7qpGlmHKx7ZMuD+WuNPvT6wkZU8OC+fmUFjhQIizjbUQ6M1t1nnmLg1lcEUhb686K2AsKmXD8hzmrdYTPMABF+OZIPCyazWK16tWsP6kChTzywgOCMNSWaEC9vQTW5n303Q1fM6U1+eQUFxB8tZfmf7yO8ye8xPzNp2grKqc5PR83Jzr4OuiZvTuy52D6qsFVGI01MLf2cfyNaflH2fSj5voe29fLI8HV2SwL86dPk19VS6zIbRxD7q20JpVlGFj25RAZzVVQS77/TxxC/PBoAP/0K6Eboohx7kRtwxqY7nrqNPpcHOsi7Otdjc+jOG3NCVx33xmL1tPSINggp3PbfOTfHIVXTs1sTwT7ubTgGxHb5LzCrCv05u2hT+r/PMVi/cZ8fevg17l/vK8WH6a8ThLj51qFpDKnpnb8a3dk16Nqzt40mo9CtPX0VIV9G3Vr2vWfRC/7D+Cs18tfP1cSTiwm4PxnozsVX1r0sazPvUC1G9Sy3d0a0R4B1di9+zh6P5tlld7nFFE0sGDHD20j6SUCsI6h10R79DMPryXI/WGEqjdmAnpx8xFd1DPzoVGapvmbP5JbeO5HIk/K2zqXIfaHg5qX+oJ8K5H+bopTJjwPZG242kZXEVeylGKDu7h+Lpf+PG7H4murM9+FVBZamU73cf1TR2xcfKidWh/7I8lUFQRQOungjn661f88qsqyKbmWL4G37a0KpzL159/xerDHrSpV6c6/Xd0OPk0xMOxkrWzv2LGql2qyHVGo5s70cjeiMHGXeUhLaWcY7vnEnh/N+pgoFZoG/zrNbFMW7JrOVvrjaOOytqOjTszxHE5h895BKSMQ5tn4BWewjqV95ZtSUW/PIaI7DLr+BomN5r1u1wJb+FPgI0zRdHpFJf/pj1AQSr7Fhxg26z9HFqfzNk52mBvR2h4Ayr2nWT7vE1s+GkvexbHUWzK5eiKeLxG9ebBH29h9IN/9VxCCO3faknrwU0Ir2dLTEQKpVqhplKPq3dDhqhlDBzoQ+Kc1Rwz1lPTNSKgLJPjR7LPadLn3rgBjXSV7Ft8mC2/bmDTrAjiTubj1bsZzQwu9Pt2FP1ua1DdeU+0K+3Ucm9/qw+hZ62eWe1zt1ZtGPfjaG7qXMmxGBPFqUeISfRk6JRbeOiDRuqcZm1Cg4n86Fj2bt5HekhvmgVbk/9z+cQcXMgclQdnfPgoywpfoWcjV+wDWzPA/hg/74yjoiCG45EnqdW1Ja7Wiu1jKyer4/lzvpw4h/LRzWigTtQu/q1wb2RDxIETFMQvYdbm67iz4x9Xy1RkHGbZvB9ZG5VLnxY+2KtTQ3nGIZb8OsNyHVq2aq26RuWTnaquu+H3qOvrdjVs4PPuNnwxfTnF5hgWv/YqR3PcOLjkO+asOECVOs8vX7CD7Mt638tMXnkE0YWxDPK/j5FuzVWA/A6/qvNPZeEevjn5Nuv1DzGlnVr/dot5Qp0n4mPv5eV8b+4K3aDSVHqLx6lTsoL/HXuFeIdB3OQ9iDo2h/nixJrTx5GdQwf+r/FPfOzVhYrCR9hc0oIBAcMJpil31VvBlCYdOJbwKRNzEmnsfTM3ubYlp3wK02N2sivuG34s0HN/o41Ma/Y6nazLFL9RWqSu9BeqkIToRWw7mEWd3Dxif1d5Hsl6S3lqOku3xFCr9BirjsRYxwlhZetFg2ZNCbVLZMH0yUz5/keW7jyJzt4Bg1YA1th70KBlRzo2cCFu2zymTZ7MtFkL2JNUiouDnSq5ONOgVVNs846xeNYUpkybzubE31yfFV1gJ67v3BiH/KMsnv09UyZ/z5x1Bylz8MbZzp3mnTvRobEbJzcsYPq0yUyeqsYv20pilSteV2+3Hle8mhGwG4zU6x3AkGEu+LjrcXDQU1haSWldI842TrR/NpibOzrj4KTGVZg4XKanVpC6sLl7cf1TfipQUOlqnL2KdnSq4GSnhlPFpwtRK9yOhhEmik7PZEejGwN57f0ghner4sTCfPJ/G3vbO9G0oy05RWc9kOfhwt1PBPHaByE0KM5m/pE/fFjvMnAjfGwDtr/wBrsKXQlWJVBLAwS9Ad86DWjgXkRJcQlH5i3kqOWegw7HoA7c9dQ7vDa+C3YlmaSkbMOrQXOczqrQKEzczIw9xxnaWgveTyknfvN0shveR1drATU/Zh0Znt408D23F96MPZ/zZmQgz/a09mDq4oiDnY1lfxld3Pntfem9a98hwbYJ7YPOdLZksLHHzbUW+kIdBRW/fymMr3t1j2JGWwdsHaqrfZxcfSnXOeBgU0b0rr2YCk3qO3XYOAdwff8n6FJbm66Q/VO+Jdu/E5071Dmn51pbowFXx+qbA05u1t7Wbd2p3/Y6et0wlP7Db6Su9afa+relZb0gtH7SdEZ7arfux4AhQ+g9cAxD2p7d2YQHTfsPoHfPvlw3ZCT1Pf9hLzWXiwq80ZoBWz9qSnNPsGnRd8QV2qhj0Q/vU48unk3N1/D6e7njlt4EuDuRs/tVXpu+ixKdDoOtDfYOTmpeJ3xbDOOefo3UUah4uuKs3VlRTjdHVvny5afXkqumdXHzwt7RmjdCbuD/nn2J5kFO6NK389kr87A+EHEus3ZDbg1rFkdQbqu+09uHs3Pz71XfODKd1ez0NG1b/OlDXzrLjSGjncrnan0dPOtzw/8G0MC1Zl4Vc/Yd4mBEEVvfXs26+dHs3hlLZv5vbi7oDNjY26hjy0b9LoPl2D1NZ8SrZUtueKEvw8a3xse1gtjlW4hTwViJpyN+tbWTtHXaP5NyiHlvHqBYfYeNnV5tf2u6Oqhsm3lYWzwVU5hVhbuPu1oXB2q1bUL9eh7VzdhPsfel5V3dGKrWp+/1oVQlx3J0X5Kl5vx32nlzvtsIOnXsuwd6YaNypIO7sTr7l5ehD/PSTvm/UUHW/giO5gYw9KaG1s5KawK95bxpyYP1+/PyG7dSR2sAZh9A9+GNWPP1eo4e28jeuMZ0aOZffa1QjHbaMelOva538PjArhjUjrBxCaBt3TAyj61i++wJZIx7h1a1rDOch31oX5589ROee+FFzCe+ICK1DIe6/Xjmjc/UtfJLnnzkfhqp64Srl0EdY6eOJWeC1f50UtuzAHe63PYm3Rp6WdbfXl0v1Iphr/Jg9Znh77qQjHiGVgMelb6AraoMsi93MrPK0qmoKmd77i7Sy1KJqcin0r4uZ97FkUNKeSlVNCPM5UwvlyVFxzmqziV6vboeOTZkdN1Xeb9eV+tYdX3R2+KgdyXIsYmlxUp2xbkRotlcQWZxNJnqWLPTq/OKCvrfb/Ipt3o5kVaWTZG+P608/7tWCFcEFw/CzAkUaN0kaQrz1T4JxP28Lw2wxa/eIO594VVaVPzAC48s5NzuiXpwj8rHWl7WhtcH1mbmB6vPf+0RVz6XIDr17Eefxn/UisKAW0ADevRuj7/L2dd5A971WnFd/yEMGTJUDUMYPGgQ/W4YoP7uQz1Lg1wVktcKo0vfAQxW0wwdqgZtusHXqXKNu+Xa5te8D4NU2lDr+Hb+Ouyd/WnfuzsNA9ws526dzpawDjcwcJD6rqFqWjXdkCGD6d25OV7qEmxwr0v3vv3Udwyu/g41jTZ+0MCe1K6+uIoa6J9d7y4lFW236e7J8DFeDGmax5F0B5UhPasLZvbOdFbpw4c74acKSm2H1aKjvxFbVZjvqaVbh14t9Ti1caRbF8c/LyiZ01j6bar1ufQSds4oYOcdLjS0Kyfyx0S2rSm0PEtsNplJOllKpq0Oo7r+5W6IYsGpZxLTsvlmTin923hiKlYX7VVx7Ig/VbDN5eQC8Hb4bwMwxzo306O7rTq/tMTTet4wlRewcuGrxDe8hXseuYvOzqeOTgdcnbyws/ZmXZIVTfq6hgSHnDl6y3Ki+HnRRBxb3s8NLc+qvcw+xvQj3lzfo6l1uxcSv6kSb3NtFYSd2QZar99vbC7m3jv/j9ZB1j2UlUdBSakl+KvISjunpjPy+1Z8mTeae24cgp/LqQKIDv/wfgzs1xWHDSeJP097oLi06hrXitJCSgsz1F/5bJn8GPW7PMPwWx/hmSfGsH1fBOkq2DfYudEkvC/1vLQ6tkR2vfkZ731wI8P7DOCrVe/w2u0TiFRjSspVISmvuuCUl35uZ1J6rWeqvyr7aVHb6ajjN4y2NehA/Gte4a0Jj55LkvZ8VO523uvzFFtS84jLKya05zCGd4Af11VPezZzVQXLf7yDjfo26ngdz+hBzdmbX4mvfxNsGzUnsEM/blTpQYVfsjLe+vDV8lVsSiqjojCT3dFLKG1SG6eSRPYk2NLihltpVd+FyszqgzJ71eO8uMJEf7WMMaNuJNPJdP7XBamgoCjzJBXGQHoPHU/z/Dnsso46PxsatR9F6pcbiNFa35zcSdKJQ5YxDu370y32e6JVCa4oYhNziwbRvLry3cqWZt3uIHmrE+3Veg3o4M/uFUfJ/Itn0P4b6UT+ZGDEV0Poc0c7+jzegx5hetIyzq5DV5x9CL+hCW2GNaVxJ7/qGytWFYUpHJi9lTR1WNp4B9FykDqHJ+rQqfO7S0opWQkqUv7dfY9isrO05sZlZKXmVp+X85OIdPJT39GQ+i1cOf/jgS54BOlVQFNB42HhtOmiStuO2sM8p5SRtGY7B45mWdLcGtSlXj1HbNVh/EeH4oUyODhjPJRNnvqdRTkllsCqmh2BfXswpH9d6+eawpmQxtczSOVB7dirf6opsOLSYhyP+H/OE099S+3bxhB8VjP+ej1utkw/vH83/F2t52y9PWFtO5N3eD4vfxPEI+PDz9syqCh5OxuWf0KCtQOD8tR9nDhpsNyg/T0bGl73IHW/vZWlltNrNkeWbKG2bzCe+NLKut7aMLhnE/S1u9Pzhta4X8YmSVXmVHanzsHbdQCP1X6TR5t9x6M2xWQVTSPFVJcWdt7YFu7jzNXBnzCVTwy69ezJtrYCUlzc29NZZUBDJYR7qN8U0Aen7NTftAosIDJ/k5q3F+HuvjgZ3LB09qzo9XYEu7YkuLIIF5vuDPEfTz/P+pTlZ+Nm54JD1RGi8v/sJqLAqze9R/7CzM3Rlo8Jh2aTOKoTzc/7CIu9KhvVI7BhF0Y/N52xfvfz9B1z/6CGvoT4owcpb+DBb9ogiquFvQf1Gjalkf8fRbY6HNz8qN8oFHf735zrVCDtGRxG8xYtaNGsCXUDvHBW18km4Y3wOX0hVfGGszd1G4bTQk3XPLwxof6e6hpYfQIw2DgRWK+JZRnauABnNb29G6GNGuDn7nC6KKoz2uEdVI/wZuq7WjSnaVgIHk5n3q6ls3UjuH5jmjXXxregacN61LK0hLROIGqcyx4nLH3xIP1HZTHj4xwGNTvEY/OqH5gojc3i6ZH7CQ/cR7ubTLwxtwGdA621N4ejLenhoZH8nOnGvU944+Pw+1ylN+qwP9W7lxL18wla1Y7jnV8reW/IcUY8GU9CrlYja0v8uhTaa8sMjOTObGd2vBmsUm3xamjLd2+p+dS4ZnUi+P6AOw+84Iu7Wqy7KuS80EubRw2t4wkZF8q4cFsMKqC3SSzh1U5HqscFJlP0Ym3ubH/mrvp/QWdwpdeD3zCuvffpg1QLVuyrSmgQ2pwgd3uyfr8ZFTPF8XspuHUYAacKylVb+bTbQGj+MePahGJWhWRLh8Hmck7uXUxggA/NA6p7QDfnZ5JaxwXfdo2xtyy/krjVH/HpB4e5dfCjNPW2p7S0nCp3H3rkFJBzMJ7ComJOHltPgip4+5qj+blfcz7Vz2bS2F64GkxUVJowH53KIz/FUFJSTF5CNIcDKnE+u/pfCW02jm2b9pBUUkhy/H4CygpUMF4b94BiFuzZS0mZCrwzdpLrXIS7Xkdp1lG1XgP4Ya92+W3EPdE5bNwZwfI1S3nouud45fv7aKy1Sgi9md37D5BbksLWVUt4rEf76i+8BrnVHcz1N3nwbAsnwpuqwubrr9KnXmN1zHjw9sBQwr/N5/PHHNmbmoJOb8TWxga9ugpof3fqfjexLzVQx4gTve/zZcb/dcHJvx1je3oy99F6NFfpT34zjrvHtcVRTW83uA2lH9elVePObE15iLHDWmDfaBAfjljGA80CeeaLKBo3DaMiuwTP6z6hb+z16rh2onmPjxl5a38C1L6rGxhExJNPM3Xhccz2dhgMtgS37wlp7zCoiROL/F5nnO16cnJ16NU4rTWFdtHUqlKNNnYYVT6xbfkYs+9/g8GBwTz/wX4qA5qrKdR/Tn25+aVufNDWiQ43TGHghGfpqOIa7bcabatrAO06vMLU+5bQX61Xu27P4TWwNy3UhbXGSU7mYK8g2oR542cZAlVA7kJM/Jlg46/Y2LljWxrNl90+5aW22rCZgMljaOTlQfObgznyza+83O5Tvnr51K25QFo97sjCGz7l7TG/cDzHHmeteWDD9vS3P8RHbSfww2dHydeqtRWdwYDxVPNBDNS7ezStYjfwjvZd/deSmlB2VoFDBc+NHdj52s+8bFmXSazcY0/4qMY42dSny9t6Zl//DbM+OkCR1mrg7C7h9XqVT9RntSy90Xj61W46lZ+0v538wglqlGD5nZMnxFN5Oj4qI3n9bo5EXfg2uxz0RhtsbH7TGuIU22AG3KQC8PzudO8UZL3JpbV6cbC0Evo9db0Lqk8fZw+MI/vQy/W8d1NwcvHnxMZ19G+szhMq7/e66UU6vLOETkHnXSi2tW9m0g8qGOqhTR/Me5lNeOr+Ab9/HZk6RrVnQS83U856dlTWppHnbbTxbkp9564M8r6RZJXf15Tb8XCTrxhh8w3D1qn1XxfGU5FL1TG0llleTnwfG6TSVPq2pzlk05eprWdRr+Rdhm/Xpm3EU1kHOHUL70D+19y4sxb35h3nqfoL6ePuRIhjJwLts/jgaG267V5J/dov8Ix/A3492YFW69W5Z+tN/FLpQrfgZxjlms4L+z3ptvNuNhgcsFV5+7z7/VpmdOGG55ZRa0IzS97s/10dZj8/8Jybj6dor9Wyta3ehrZuoQx+dz/dSh7mhUcmk1BqwM5+MuPUMrTlhAd6M2pjGLOeH1GDWtcIIa4GOvM53d7+fSbt1WZJSdV/O/hgNp5bIM1IqyA2ukzFi5fk664IelWwDA2zx8v794ULQ1EKJqczjecupbSd77O44Dru6tPKmgKp295gYclN3NurIfEbp/LFhzNJbNSEltHe9J70MkEn1hJxxI52t/TAnRPMfP57Wr3yJk1ONfk8/iNjnpxo/aBpxcNTP6GjXSKLN6/Fo9EQuodqna5VkRqxlm27c+kyZgS+2hXQVMaBxR/z7ncrLHNqnD0G8eRXT9GodB9vv/MBh04k4x3wOC9MGEqt9N28+sYHHIs9VaivRa/bn1TBmicrb7yLOZa0Jgx/4imG9NKeKz9X7MLRPDdJzRvQlBGPvMLwcK0Zeg7LX7uR77XOwOv04fH/e5h2IR5U5MexYOnXuLZ+hhsanFXtVJrEqi+24zmiN21CPSjJjGDOlw+zbI8aN+QVZt3Tq3q6K8S/md+uBZW5Mewr8KRdsCtl8Rt48cf93DR2PJ1C/vt33RqKktW+re5v4Z/ITy8kOynP8rrCf5t94U7WpTWhR8dalGecapd65ajTyp/c2BRyVVxedGQP612bcu8NdUg6fG69m52zHQGN/t47V3/rUu3n3yvm+OdjecH7feaMbWBN+3NVKkid9+IMbG66gyGda8yD+hdMV1GsCj8mqv7Oe+3/JdWdztkwx/AobzX+jIb/1f1+cxWGkkxMjheTb4tI3raXqpA66riIVjnKmcAm9bFP38fJTHUcuNcitF59XO31avGlJB3ZQbL1rQK1GnUgxOvCw1tdRZHad1U1at/9G/Tqd+pLq/vWCQkJsfx7ITIzM8nIyKB2betjh0KIGqG4uJjU1FTCw8OtKRfnsgXsB/YWsWJRrpru2gnYbW119B/qYXkF3G/V6ACq4CDLNxroOfBUE/eLoC6kmXEHiM/1pXnLwPM3SRaXnQTs/0zJyRnc/cJOenUNIiczztLPwSNjRxHwX76ayOpSBXJx+5M4timGyrLf9wtxqXW70YuoQl906XkkHzj1/skrR79HOhK1cjtRlg4GXWj7WCsc80vZOHWnZfwp7oFudB5z5sbpP/FvBexlyYt4+vapjPxhLl0v6BRRQeqmH5i4Jp8RD91PE58a2FrkL9TEgF27du6Pf4aD+i709xuGz391avlbAfthJgS0IeLRrwgvjiQu7gglAfVoW8uO+NRCkrPMdBzzNCN71CVj58t8PjcBd3tvyD1BRd+PeHnIhb9LSgL2PycBuxA10xUTsItzSQAlLifJb/9UHicXrCRSe++kKsg2atWOur7ONaKp6b9X8ypqkn9rP1dkHmV9rD092oae91n036skP/YI6UVOBDeqd1GvU60pamTAXlP8g4A9a3IMT/f3J3/H+4z79BhvfjWZ1q45bPr6TXaWd+SuR0YS+Zk9Hzus5odHumJfmEhEnhvhgRe+HyRg/3MSsAtRM/3TgP38D5MJIYQ4ixv1ho5k4I2jGXhDL+rVkGBdiH/Kxrsx111wsK4x4lqnOWFNr8xgXfx7QkP8La3qbG090NdqTbD2lJnRBndHHfblRWj3O5vdNpWQT0ZxQ+t69Oz+Ptm/74VSCCHEb0gN+39EajzF5ST57eolNezXBtnPl47UsP+Jf1DD7rqqlDFNoXDfJG7+oZypnzyED4Uc+u5VNqaHM+bx23GuKsXg5ICBYvZOGMv9Wbey8/nh1uX8Nalh/3NaDfuBAwfQW1+HKoSoGbRw29fXV5rEX2kkgBKXk+S3q5cEctcG2c+XjgTsf+JfDdhv4tDr75DctweBaq60oz+ywvMuvhvbo3oxF0AC9j+nBey5ubmEhYVZU4QQNUFhYSGxsbHSJF4IIYQQQlxuPrT+33OEW18+blurFTdf35bq7nZt8W3Vl7ZdW+BgdKXlmGak7tjKHjUkuozmzaGdLFMJIYT4Y1LD/h+RGk9xOUl+u3pJzeu1QfbzpSM17H/ib9WwXz5Sw/7npIZdiJpJatiFEEIIIYQQ4ipQUVFFREQ8e/dGkZdXYHn+WVzbJGAXQgghhBBCiBogISGTpKR0MjIyVdB+xFI7K65tErALIYQQQgghxH+spKSCmJgU/P2d8fFxJi0ti8TEZKq09yKKa5YE7EIIIYQQQgjxH0tNzVbBeTn29gZsbLTBSFxcEuXl5dYpxLXokgXsOp0Oo9Fo/SSEEEIIIYT4u2xsbKx/iWtBaWk5iYkZeHg4UFFhssRWbm7OKojPJCcnxzqVuBZdsl7itcXk5+eTl5enPum0CL56hDg/c5XaRtLAQVwmkt+uXrJvrw2yny+dU8UeKaecX03Oa9fKvrP8TrMK3DxwcbnwHvGll/grh8lUZQnQtSbw5eUVVFaaLLXrOTm5+Pu7qSnMltiqrKySw4ejcHd3omnThjg42GNvb2sZHB0dMRjkunAl+Ke9xF+ygF1TWVlpOVGUlJRYMpkQQgghhBDiwun1eksw5ubmpgIygzX1r0nAfmUoKChVQXiCCtjLLK/FNpurLAG7TleFh4cjdnZGS1pVlRZL6SgqKrEE81popd2rOnW/ysZGT8uWDQgKCriofCIuvxoVsGu0xRUVFVFWViZBuxBCCCGEEBdIawZtb29vCdi1vy+GBOxXhtTUHPbtiyY42EcF2lpKlSVmOhW4Vwfx1TXsWiil3cDRWVu9mExmSyCv9UF39OgxlV7I4MH98Pb2towXNVONC9iFEEIIIYQQl5cE7FeG7Ox8duw4gru7q2WoqqoO0rWe4LW/q2vWqwN2rel8eXl1ml5vwNbWRgX5RhX0p7J9+yaCgjwYNmwo/v7+1QsXNdI/DdjlwQchhBBCCCGEuAxcXBypU8fb8rq29PQcFZjr1aCz1KZr/4JOBehakFdGcnKumi7bMmh/p6bmc+TIcbZsWaeC90ratm1j6etAXN0kYBdCCCGEEEKIy0B7VVtYWB2aNatNVNQJkpLSVKrWNr56qKzUWksUqyA9h/z8MioqtEDeoIJ4PQkJCezduxknJz3Dhg2hRYsWlkcoxNVNAnYhhBBCCCGEuEy0oL1+/bp07dqc+PhYYmKSKSioIDe3jNTUAvVvKXq9Lba2Dmqwx87OkaKiQuLiIvD3d2fgwP40adJEjbO1LlFczSRgF0IIIYQQQojLSOvZXQvaGzQIITMzn+zsMhWol1NerlMBvb0lWK/+tzpgLykpwsXFVgX5nWncuLEaJ+/pv1ZIwC6EEEIIIYQQl5nWA7zW87udnRNGo50lQLez02rVzww2NtWBu6urB46Oznh5ealp7KxLENcCCdiFEEIIIYQQ4jIrLy8nPT0PJycPS016dW26syVAt7Gxs9Ssa0G7wWCLh4c/ZWVVFBQUoPUoL64dErALIYQQQgghxGWWmZlDUZEJV1dPFZhrwbkjubnpbN68kK1bl5CTk26tcbdXQb27GrzJyMiiQuuJTlwzJGAXQgghhBBCiMssLy8fs9moAnEXFbgXsH//erZvn4u9fSEhIY4kJ+/m6NHtlJWVWAJ3Z2dPUlJSKCkpsS5BXAskYBdCCCGEEEKIy8xg0KtgPJ8TJ3aza9cisrKO0Lp1Y266aZhlGDSoN97eFRw5spqoqF3k5KSowL6ISu3db+KaIQG7EEIIIYQQQlxm/v5+hIS4kJERga+vLf369WHAgP6WXuC9vb2pX78+11/fhy5dwqmqSkavz6d27RB59/o1RmdWrH8LIYQQQgghrkCZmZnk5uYSFhZmTRE1nRaG5efnW/ado6Mjnp7as+y26HQ66xTVtGfW8/LyLIOrq6tlOu21cOLKUFhYSGxsLOHh4daUiyMBuxBCCCGEEFc4CdiFqJn+acAuTeKFEEIIIYQQQogaSAJ2IYQQQgghhBCiBpKAXQghhBBCCCGEqIEkYBdCCCGEEEIIIWogCdiFEEIIIYQQQogaSHqJF0IIIYQQ4gqn9RKfkpJCQECANUUIUROUlJRY3uAgr3UTQgghhBDiGlVcXExycrL1kxCiJnFxccHPz8/66eJIwC6EEEIIIYQQQtRA8gy7EEIIIYQQQghRA0nALoQQQgghhBBC1EASsAshhBBCCCGEEDWQBOxCCCGEEEIIIUQNJAG7EEIIIYQQQghRA0nALoQQQgghhBBC1EASsAshhBBCCCGEEDWQBOxCCCGEEEIIIUQNJAG7EEIIIYQQQghRA0nALoQQQgghhBBC1EASsAshhBBCCCGEEDWQBOxCCCGEEEIIIUQNJAG7EEIIIYQQQghRA0nALoQQQgghhBBC1EASsAshhBBCCCGEEDWQBOxCCCGEEEIIIUQNpDMr1r+FEEIIIYQQV6iqqipKSkqIiYmhsLDQmiqE+C+EhITg7OyMi4sLOp3OmnrxJGAXQgghhBDiCqcV6XNycsjIyCAoKAgnJyfrGCHEfyE+Pp6ioiLc3d2pVavW3w7apUm8EEIIIYQQVzgtYNdq1/39/SVYF6IG0GrYGzduTFxcnKX1y98lAbsQQgghhBBXuLy8PMrKyixNcIUQNUf9+vWJjo62frp4ErALIYQQQghxhTOZTJZaPL1eivdC1CR2dnaWm2l/lxzRQgghhBBCiH/OXEVeZiYHIlM4kVZM1X/UU1ZlWSHRah0OxOdSXPH3myJfWqUkaet0Ip2knFL+fNOYKS3I44Q2fUwO5f/yhqzMrd5nkWp7FVZYE0WNIQG7EEIIIYQQ4o+pQDw9+gSzlx5k9s4kis4KgrVgb/3GCMu4nbF57Fu3jodeX8gHy+KoMP03EXt+xjG+Uuvw0NS9xOWWW1P/a8nM0dbp3ZXM3pXKn8fFlSQdOcj72vRf7yTjX77pULBvg2Wfvf79bk7kWRNFjWF4VbH+LYQQQgghhLgCFRcXU1paiqenpzXlUjKTGnWIbyceYGVKBdd3DMHDzmAZkxt1jC9/3MHCbQV0GtSUcH8PGjeqTadwf4I97fnDjrHLc9mxej/Tlx+j1L8u9dys6ZdASX4Km1Ylk+TtxZB2wfg4Ga1jLo+SEwd4a9ZhjsRVENbUGwdLqg0e/r60bleHNg198HG25Y/7DNdh6+BESL0AOrUJpmGACzb/4LVgp5UkMX/6Xn7dnYBLSG38rX0TGhxdCK0fQpeWQdT3d8bh8m6uq155eTm5ubn4+vpaUy6O1LALIYQQQggh/phOT2Cd+nQOt4XEdPZlVFpHFBMbnUlWphna1adHLQd8Q0Lo2zmM9qGu6P8sxqwqJf54POu2Rl11tboVmSmsVr9r26FMSq1p4ExDtV36dqhDo1pOfxGE6XH28qG9Nn1Lfxz+dENehIp8Du+OZt3OWJKKrGmKrV+wZZ91Dq+Fh501UdQY8h52IYQQQgghrnCZmZmWWrywsEktTOgAALHBSURBVDBryiVWkcfGeRv4eEEKgUNv4MtRdSA/jSnTVzN1SxEjHr+V/7WE9fMX8+K8bHqNHcRLAwIpSt3LW0/tYntYXT7ubeapSTEE+QXRu30ps5ZmUV5pxsbeDjsnB/oPbUGH3GjeWpRAiU1tJn3XjzrFiXz/+Sa+P5hPz3tH8nJPZ6I27ubDX44TV6KtmJnK8grCOrXl6TEtCXXTk524h7ee3s2OhvWZ9GBnGvvYW37CGTnMf+lnPkxypF1TNyqzsjmRUkGp2cDo+4ZyTwcvjIXH+OC1XazNr745UWWqpLTMjdc/HUhXH0cMuUl8PnU9P+8qZNijtxK2dTofJtdiXHNbdu9OJDJT6wDQgIODkbCOrXj1Zkdm3rOWXzzcGTu+Fw+288VcWUHa8U28+E408XZGDCouN5WXc8tzd9A1bzvvfnaEo61bsPKx9pRl7LduRz9udS5h4YkyS0dm/o0b8uRd3Wnhq8cUsYLBn6VY1teyXcoq0NVvwoxnOuGTH8db321jzaFCKtFhZ2+LjZc3z9zXlebxaxgyKZtGrRrz/ENdqWtfSUHJMT6+dwubtOkwUVzmzvvfDqaNky3G7DjembSRJQeLGfG/W6mz42e+2au2T7kLz7zTn/4hrn/SeuDaU1hYSGxsLOHh4daUiyM17EIIIYQQQlzTqijMLaS0wmT9fB42TtQNrYW/u44D2yKJrzCTk5lHfHQhuPjTu1F1E/k/lJLKdxvKaBseRLNmtblxWBfub+duaS4+4onxLPtiNI/2rY1t9dR/wpaw7p359nM1zyQ1fHMzrw73I3rjLj5aEctFPe5dXkaVaxBPvzCeX5+oh6cK/Jct2ML6hHJwbcj/fTSu+jvU8NMTrVXgn8sLjy1h71m105ptC9eysSyI9g18ad6rGx+PCbak167bmGlq3q/uaoGP02+2T2UREXMXMOLtk+jaN2fKl9XfM3l8XQL+7DX6KaW49+/HYjXtq30dSD10kp/XHSenzIwx/IbT67ts0s2828uN4mNHeWnKAXI86vLig63p62aDnaMD/3tJTfP+IHrWc/9NcG0id+9mhj2whb0hAbz7rjZdT3rWLeLJe3/il8gCNcUZ2xZvwHvErUx6oDmNXXN5+5PtpFvHiUtDAnYhhBBCCCGuaSpgz0xk04oIooqtSb9jpFZtL+r52mNIS2FXsons9CTiUww07laXuvZ/8eBzUACPPtCXj58byHN3hONlTf678qKjmLVoLz8sPszOuCocVdr+hHRMVRcRsdvZERzsgZ8KkJ2aNWKAO2TnFXMiMdMalOawbb76DjUs2p9JToUWOmUTmWgZeVqPUf0tv+vjezvROfgC34OfHc2kDXkYbG1o3qkhQdZGAMG9+nJddbx/fkE+NPWztwTZYe1CqUslEQlZFJRo3diZyUuOZoFlnY+yJ19tiyozRWm5pJ9pm/8XCti1JQOTyYxzo7o091FJXsHc2NBRfWcJSxcf5ewnGHqq397V34Cjoz322m9IK1ZbSFxKErALIYQQQghxFSuJOsRrn6/kuY9X/MGwhs/mHmHSvL28raZbcvw3VchWRi9v2oa44mAoZ8X+RFJi00l0dqVfcz8cjJcprKgsYN+67bw3cSsTIgoIDXInwNPuAmrm/4oDbh7qnwoTFaUVFEUf5u0v1/PlokNk23kSWssRB5tL2NC7tJxkFUwb9TrqeP+9HvcMDg6WGxXZJeWUV1URu3olL3+zjRVHcnD18yTE4+/0HldOYb4J7aFpvYuDdbva4uJa3ULAlFd21nP54nKQgF0IIYQQQoirmH1IAx4a14XHx3f942FMQ1q5+3DnvV3oUae6X/PfMbjSuVsATo4GTi7ayZz9ebjX8aWhn4vl+et/zh5PLzuMNtaP51GRm8/23cfYHG/m9hvb0q1tbVrXdcbFOv7vyyU5Qf1jb4O9ip9P7o5h0850CurX59br69At3BsPp0sYOrk60sygp0oF7Vk5BdbEi1ORl0+O+re2mxOOxhRWzIxlT4aOsO6NGdyxDp1Cf/vs/oVwxKeWjaXDQFNaHtUNLopJT6tE6/jMxt8ZV0uauFwkYBdCCCGEEOIqprO1w9vTCd8/HIxkpRq47cVedFWfnW3/KETQYRsWwnAXG8qLc9ibYKRBbW/8/k7X4vYOBKhA01591c9bDpGVV0JhWRXetdxUYGzAVJXH8fhilV5KSeWZZu429ra4eDhgMJSSnFJOVnYhaZl55FvHXxSzmdKSMrJyi9k1fRu/mIw0rxtInya18fF3xMVOhym+gKSCYlJSC9W0p3rH/3OutTxwU5sktzCVvZHF5BZXaC3Tz+XemMfHBeJiU8W6BTvYmax+q1qPHVO/5/tI6zTnU1lJXn6JmjaRuTOiSHBw5/o2gXi7elKnsS12ZZUUpueRnldMTOJvWkq4uhOm9l1pRQVrDp4kK7+UsrO2bTVnul6vfr+XHcWHj7HyiFqvyEgmHi7Czd2XB8a1UlOIy0newy6EEEIIIcQV7p+9h92IT6A3rg4X0rDcGU/HPFKrnAip40u3DqGEB1hfU6YC4IL8AvKqHGjatDbNAhwxVxaTkWbCqY4fXRv74mZ/qvM1e0KCbC3PVrsX5LH1UCql9o40bd6ADm5FJJbpiTkSp9KzybVxJDDAnfBmdQgP9qCRvxNVJjOp0QlqfAoplfYEe7rgU8+fPg29MZtKyEhX3xmqfaePCp5/2yFeKZHrDrM120xhXiHHjicTWeRA/dD6PP1Ye4JtVGxb24/6JrXuOhOH9sVxMrMCexc3/P1cadM6jDpOFWTkqpW3c6J5yzAaepzVxMAjiC5OmcSX2BJ/Qs1bZKRxiAP5iWXogr1o0TiQ+l722AWFcWN7G9KO5bIjQv1W9T2RJc60VssPMBaTXaDDPUzr0M+biqJUNq1MJlEF2+lJWew5mEG+uw+DhrVlVKcAbNX2rNfJG9voYhJz89ihllVk746rmzNhatu3auKHq9GF8MZwPEOHMTubrcdzqBXkiTfFxJU40qCuHy0a+uDsFcDI/j4YjuaxK0qt14kinF0DefWt62iqVdqbyknLLcfo6ExLta713aCyVG3zwkqcPb3p2jmIS/ha/SveP30Pu7zWTQghhBBCiCvcv/5at6uK9bVuyY4MG9mVR/uFXoJn4P9dOcnW1+M1DOPbBzoT7vsHjy2IGkde6yaEEEIIIYQQQlyFpIZdCCGEEEKIK5zUsF8MM+XFZZRU6bC1s8HBpubXYZqrKikprqTCYMDZzohB6xVOXBGkhl0IIYQQQgghLpgK1B3tcXO2uyKCdY1Ob8TRWa2zg40E69cYCdiFEEIIIYQQQogaSJrECyGEEEIIcYXTmsSfPHkSDw8Pa4oQoibQeonX/N0m8RKwCyGEEEIIcYXTAvbU1FQCAwOtKUKImqCkpITs7GwJ2IUQQgghhLhWSadzQtRM0umcEEIIIYQQQghxFZKAXQghhBBCCCGEqIEkYBdCCCGEEEIIIWogCdiFEEIIIYQQQogaSAJ2IYQQQgghhBCiBpKAXQghhBBCCCGEqIEkYBdCCCGEEEIIIWogCdiFEEIIIYQQQogaSAJ2IYQQQgghhBCiBpKAXQghhBBCiGuEucqEyWTCbP2sqVKfTSYzh6Z05P2d1sTfqDJVoCa5aJX5SSyc9R5LjxdbUy4ds6mcyqqLXSkzpvJKzjdbVXkh62e/yuxDhdaUmsms9kXFxfxuc5Xav+f/zaeYCtOZOOl5PtyWbE25PCz5sbLqnPx4Staq5xjzc5r107/NTFWlWpeLzk//PgnYhRBCCCGEuCaYSNkzgw+//YLoHJMlxVyayaLPvua72UcIu3M7T7e3JJ/DpALZOZ/04scDBdaUmmH3JwE8uiTT+ulCRTO5zUPMOU9cqrd1pufoVxndzNmaUjMd/qEHY39Ksn76a3mxa/nimyfYmVhqTakpSjky+wcmvrGEzDJr0lm8rnuHWaP8rJ/+bekse/BNpq+Ks36uOQyvKta/hRBCCCGEEFeg4uJiSktL8fT0tKacjx57G1i7PhHn2mHU9XGkJOsE6yM2EthzKLVSfiHC1Bx/Yw67jm5l36ptrFuzhnIHMz9Nn8Hx5Coc3P3wKdrPxpxa1PO0oSBxOzvjC6nl5YWp8CSrvv6exdu3sz2xisYNg7CtKOTEiYPoAzpQ30t9+Vnyolcxa85C1m/aSWyVPw2DnUjbv4xZvy5h6659uIW1w9tBzb9oJyfTDvLz3CUciknBNSAMr9Iovvp2Ijtj7bBR3+Fbuz7lUXOYPGslW/cfpcAzlHoe9pB5mE8mzGT79v2k5NvjaNrL7GmLiawspDjDjTpNfbCzro9Wc514Ygep1MJbl8KqqTNZuHEzJxIz8andEBdb64SK1nJg7bJfWbBsvVr2dpzrd8LP0TrSKiV2P7tzHQh1L+Xg95vJC6uLS2kCB4/uASdf0rf8wPfzN6j5j1GID0HBrmTtnciO4ibUVduWggR+2ZFAQKA39npd9ULz4/hx5vesjSjBoNbBM7Q5+pTV/DRnAes378Tk35IQd2P1tBqzifi9y/luzhoSk3JxCm5OgF0yq76axiJtPyVU0qB+EPamEvZFbKfMtz2dg8vZ/eVkVtvXpYVnJRGrl/LrouVs3p6Jf4uGuJ+9G81VnDyyklVbIti3fBlrt1dQt1NtnMvy2LFhCXMWrLBsnyLfFpbfVJCwhR2RkRyat5Q1e5NIjl3C6u3RJGY6UrdDKK6nfqdSEruJFWnehDkXs+vIFvatrs6P2/bYENY+gLM3t9ba4tiRNazfuJ9dK1awbruJep1CcCrNZvOaxWr9V1rWo7RWS0I91A9Q2/Gnn39h1doNHImqwN0jj3W/zGRrYhqJ0S6EdQg8Z/n/RHl5Obm5ufj6+lpTLo7UsAshhBBCCHGNsPGqTTeXBKJjEzGbISfmGMWx9WkR4kLyto9ZHQ+mogxW/zCH1UeKcPPzw9nBCTdnG9w8fXFzsqP48Bx+sjYbzz25goXbd1NaYUZvsMNVTe+nhsrDn/PN1j9uzlyedohvf11HGi74+vioQHUHUWpZHy9fQ6WjJx7Omax9ay5xxXkcmPYpU7bl4OfjScGh/axddJxio72aRoeDuw9eHm6Y4jfxxtrjuHn54mFXyrGt3xGTl86G12dz0katk5cDpUUp5JY74ah3wM3HD08V0Bus66Mxm8qI2ruUvcl5RC79hA1pRvVbvNSIPNJTzq0C1hlscXX3tvxWP9sYZr2o/Zazmck6vIs1Px0hP+0Ar7zxNJN355KfEs3+rQfIMxmwc62e38uugMVbV7I/tQibshh++nEv2gMEmUd/Zc/JGMt+Ok37Xkc9dm7eeHt7oss8xIRf15KKM77eRvbMfp1DGdZprYx29ri4OOLp7YuzncGy7tp+1b7bFPkNE7eeXVufyeY3XmZVlhteDlXEb9rIlnXxOHip6W2O8PPPByixTqnRmrRHLPmRH5ckYqeWV3LgZR5aEq2iTAPOLh7V28evmPWPTyGyQOW3qGW8P3MpxW6ear+742zviouzOz6+rtieidUtio8tZNq+gtP5cdXh6vyYvfVh5h8+97EFc2Upe+bP4pe1adiraYr3Ps0Ty2PUehhxdj21HoVseHY6JwoLODRzGYdiK/FV6Q6maBLz7HAwOuPqofaJrxNn3fL4z0nALoQQQgghxLXC4E7XgR2ZF5duef47PX4XjoOGEWxvHX9KUC2a3TiY0WPHEh7WmC6tfOjUfyRdmoZgc3aUexaD3onkmHloDXi/+nYRO6KLrGN+Ly9lF84BtbllzJ3ccstY7r6tL5zIIaxeP8bcchs3j74fV1etBl1bRhAtO1/P2HFjGNi+NY4JOZS71qZnUwP1e9zEgN5dMKcsZ9N3X/L6q6/x5hvv8/3sPURlmijUr+bXj1/FtsOtjBzUnSZNwmliH0aXYTfTv28oTtWr8xu2mEqj+HnGOxzxHcjYm0bSpPa5rQMMTkYqtq5lovqtr340h8Xbojg3hNThW6cB9W2Os3/LEfq9PoKE2RtIqazC07kzwW72BDkWWrbVGx9+yPQNO8koKMez3f20jXuMDZEprP8FmoU0wtXmrJDNyZ/2jRwJ6TyMGwf1x6lgt0oKYezNdzFmzN3Uds3kp4hE68SKzoBXYB1at23A9UNH0yrIEb3OhbSEBZbv/vKbhWw/cWrNizmy4EN2+/firqduZWCoA7GH1jDpuw944w31Oz/+lJ+nHiDdOvVp7i7UGXQDw1VeefK+61iz6BB5NrbY5u5lztdqvlcnMGuXmq+8evKQhq25fvQYho/oTrM6HWkX3oObRrfH96za9d85Kz+O6+dLXKp1YWfz8qDekH6MtK7H+uVHyLe1wy5zKzO/0NZjEj/vOURGuYES/UFW//QuuQ1Hc/MtI9U2DSLMsxkdew7l5pub4G5dZE0gAbsQQgghhBDXDB12jdtw65zDbCuN59BWPZ3a+Z1T02xhb8TGzqimPr+Kqir1f62jriqtVbRFwopv+PbQWNYfP8bi9zricG6Mew6z2YStUY9RV/0NRns7dGa9+lobFVBaUtDblVNp6enOHke1PhqDwXDe2k+zuZJO933BwaPHiDoZw84F0+kT6kvv9zaSEn2c0m88aX7jQ2yIvbDO7xqM+IXIyJOMirkf9/aD+HDH2Q+9m4jd/BOLqzz5duthjm/4iPM8+o9HrQACwmJZu9+fnj3GMLRoBtM3HmBncABO2Zt54IbVvLfxOIc2/8qd14dWz2SszYDbb+XbBYtIa+FDi2a1f79vznJ6O1o2mh6d0Ui5ybpD/kD6mi/4aPsI1qn9tPTDbrg4WEccTeLghkN8GpWo9oHWx4Hav+ZGjH/5V/YdP87x6BR2rBlDSPXUZxjVPnGyUetpRq93wMZsJufkOj7ZeYQ7p+zgeOSv3GWdVOOg9rXxT2Lz8zorPxptzn+bBVs9NirT6dV6GLT1qDKTeXQx7x9I46lZu9V6/Myt2nRme1re+TnbDsXQfn0tgpt3ZfLePMsiaiIJ2IUQQgghhLimhND14e1Mf/sb9voNofFfVCfqdHqc7T2I3b6OQzFp6L0CiVj1K6tWrWTdoiiyU6qns/Hzxat2LHtWrWPbvlz+LG5082tNwsl45i6bz8qVK5n540rMoXbsiFzKkqVLWb1qOtkxd9C+7h93AOdaqzEl+zewbc8hbPz7UrpoDd+uWMGq5UtYsnwtUfHH+PzrKWo9V+HdfQI39mpOqQorfesbOLRxDdt3p6jP55PF6omT+HnRUtKCbuf1Mf1xrjJRYR2rcXByx0NXzN6t61m17RCHrOlns3F0JWVXDPuLc3BzC6HLje6sm7KRGxoGq5HuBNZxIfnQKtZuWE9c2placZ/wvjTbNYvooibU8T3rwXkrZ++6cHgzG7dsp8K1NYnRCcxdOp9Vq38lIVXHzc3ODamNds7Yl5VzcNNaTmSUYvTxw7dePHvVftq6N5vK6v4HoXF9bv74F+Y2Oc5rk2azNbqQgIZm4vfNZdHc5ZbtOGvJ5nOaxFuUFhC3d7Mav4B3Zi7nqXE98bZzoZm9Pal7trFq3Q6OWCc9lx5Hd0cK8o+zYc0Rcv5pD+1FeZzcvUmtx3zenLGCx8Z0xdvBjZYq0I/buYVV63dyTJuuPJUFc39kztxF5Db/kefGXE8+lXgE2hJ3dDur18T8prXEf0s6nRNCCCGEEOIKd2Gdzp3h7lmP3buO0ePmUTS1dgZnrqrEwb89ddzMmPV2hATWwd/ZFp3egJujL1Fbt1DiVZdmnbvQYMdaNsQW4d6oEc27taRxQC2cvGvhEq8C6INFuDUMo1nLbjT3d8Css8HLrzbejmfqio0uAbTwyWP31t1ERiXg1HM4/Zu1pLkxm01b9hKbUkm/px+lsQdUVRrxDq+Hv6uNpTbfXv3GWqHu1KrTntwNq4gp19Gw01Cub5XC5lUHiY7LwOjWmNYdmhJavIv5GyKITymlaYvB9O/UiLCWsHHVZgpKg2nSxp+znwbQnhd38wunoe9JVq/bx4mYVDyDuzKyfwtcT1ft63F28yU3I5W9ew8Q692E0Y3CadQhkFOV1RY26nc7BNGycTi1Qz1x9Q2mlkM4zTvVxcXJl7DGh1m7MpKcYiN1W/Wnff0QtY1sMJWXkpKdR9j1A/6fvfsOzKLIGzj+Te+9914JEAiE3kGQrgiIgFhQERTEgmDvvaEiICK99947BAghIb333nt78iR593nygAFR8fROeZnPXY5nZ2dnZmf3/vjtzs7Q2eL6lHi/MHXsSPP5Y8SUVeEhnfdg50quSv0Yn1JC12nv0c/55qEN2lLQqlfbRGRYGDqePfH3ccc05wwhkTUYe0jXqUtfOtrpS9dJA1s7H3r2H4FT1l7O1fgwdGgwlq2lXIm4RkpGBjrBo+ht3+4hinRBEi9s5oAU+KtXltE86GXeGuqMtr4pejWNUp1XSdK2Z4DiU4S+fphoNqNl4oqXvQ0a6poYWRlSWpnA1WvN+A/0waz9sPjWZtTMpPbZSNe93f1Ii1SGdUDbxHwqivkHYs5v53hkOa0VpbTc9zqvD3JEx8AC3fJqwq+Gk6zrxAC/Dvj164xLSyYXL16R+kw6J+sJzHywM86e2sRGhhKfaEaXwa78XWsF/NVJ59RaJarfgiAIgiAIgiDchUpKSpRBgaenpypFuFslHf2IJbl9+GD6AIz+TbOf3YZiZv29a17mrNN8vhzmqkr932tprGLT+vdI9pzHOwOcVKn/DjU1NWRkZBAQEKBK+XNEwC4IgiAIgiAIdzkRsP//Iasto1rNGAv9f3m0rtRKfW0FjRpGmKrmGfhHtLZQV1dFk6YRJjq/99X//95fDdjFN+yCIAiCIAiCIPw/1Ex9ad1N357fDbQNzO84WG9pqqO+oR7F59/NDRWU1stVe65rRdZQTb38v/WOVg09A7O/LViX1ZbQeP2b+pu00FhZj0z+GxMjqKmjb2D6h8G64rOPhvpKmn5/Xr5/FRGwC4IgCIIgCIJwx2QFURxNq1Bt3bnq7POE5d5+mrf/jiw2j1xJmGrr/6OqrHNcCD9HlQzydj7F2M0Jqj1tWpvqCdn1CTtvWbf89mSUxKWQlV8thfn/A61yyjIySU8r5/pjhrjj7xF1yzrybSqJXHWe+Pw/OR1ccz050RnkldQpz6mptpCIcyvJ+PdOCv8rImAXBEEQBEEQBOGOVYb+wPTdKaqtO5d5fAGfnClVbQl/B1OP4QztfR+mv56b7j9QLQXF2zh+IQvlanr/bVIwHXfgKPt3J92YeT5w3Ld0t1Vt3MSM4BeG0dnJWLV9h2QlnF62n3ORRSheqmsbOdDrvhfxMmvbfTcQAbsgCIIgCIIg3EuKInh59gxGjhzJjGdWkFgDBVe+46lpIxk5ajSrwquV2fIufsm3m5bzrpRv5JRZ/HAyFVl1LGuXXKBixTymPvcaZzOkUCvnLFMmPSiVN5GFH15AGZJXXuPzB8cr63juzS9ISgjn210lXPhsOtOeep4rBcoqfkMqaxV1Kv6efpejicXKYKsmZT8vqtK/3H31NkOnqzn7eVudI59/m/3J5ap0BTm54VtZ8Hjb8duU63tBWcJOXpvdljbx6/Nty3mVxvLegmeUaVMe3csvC66pyKo5vfHjtnqkv/dPFLWlV6Tx/fsvKNNGjfqQ8FsGIcjro9n8+Ae8+cazyjxv7klq2yEr5dyKD5mqLG81bY9CZKSd+oFZU9rqePpAGjQWcuTrN5iszDeSIxlSlSmHOHb+MOXKgQut5Jz8gTnK/R9xNrftOraXsudR5bEjn36ZjTElqtQ2VVnXOBq/mm8+epYxI9cj1Uhl2nE+nN9W3weny9oyttPaLOPcpsf44M23eFRR7lu7UJx2U1kaqz6e1VaX9LdHeVLVRK3ZzuYvP2D8+LFM+XQXR09+y7IV85mwcD1FzS1E7JpNqHKZwDrCVs1pO/7RWSwNi+fyl0eJyKpC3hCj6sfZyv1t/dhKaeopPpzVVl9bP7ZQnB4uBetL+eS1xxn9/hGKq3IIOfw5Scpbo5ozn4xW5p/33rekKq9XOptHf8B3377alv7DPkrrbjtG/39GTDonCIIgCIIgCHe5O550rj6bTQt/JLfHGB4d5k5F5HZiNPw5evw0wx96hL4ODez5/CU8nj+CU4QU1O/y59AXTyBLOszxkCSGP/4WOkeeplvqVBKf744Bufww4xhunz1IX6NmDp8/TqnrQLqcnsMZ/x95tqcGeQV5aGv6UHFyOB9prmD1RCcMjU3R/s3PjeXUlVRIIRvkX13K5jxXXnp4OMde6k3jo5cY6ZlL2DUDBvV3R0f7l/ePCVvG0C9+JvHP9SAzMZUmnVqi5iTS8fLzdCqI4JNVn+DQ910e8ivgx4CN9Ln0FtFHdtHi1pfJXZ0oOXYazQf7kfTRHor8ujJyqCull9bwSfM41o9r169S+NRYX0N1XaO0kcAy35X0jP8B28ObOJNhxvCZ/TAp3k+E5mPc5992iIKs5iRvB7+Nx4qNjLeO4rVRexh79gc6RC9ny9Z8hi58AdeMtfQ/4sfpeZZ8tvscA/o8QC9HI6JDLmJlmc/pq9UMHDMDW8MwLocH081yOwfT1Rg54ilkux9ifPR0dr/ch/yD85hR8BBx84dzZvuH5PovZHT9GnqetufczP5UZJzkYkoG/e5fgKtJW/tamgs49NISUjuPYPLoLpjqlLPqp8UUu01gZj9zjszvhfZrJTzi15ZfoUXewIo3A7nq/hPvPmDPibdGETLyLEtGmlFXW0294qlK4QFenShjUdwEct54hXXyAbw9734MdVsJX7WesNoAHp7bF2cTfU583RnZuEgC0l5iQognh2dPpKwwg8zsQso3F2C+YBwDXKJ5q/tbuEv9+MCNfvyRkZaN1FZXKx/klBxYyMTG54mcYsiql7bTOmIYY4b6Y9SUyZFdH+A4eh2GJ0fQO+l5kp/rSPyWfSQ1BzDhWTO+1+tN7e4YXupYwM8vXabzx9MZ7nVnyyXejph0ThAEQRAEQRCEO1NbxZWuHenVzw9rK0u8h86ir2kSPbvY0MvbEysrf+z8vdgVl67MPnBQbzwsrbC3d8TKRkYzWugb6qBuYIq5qQk6NSWcqNnIc8P7E9x3MG99cwB5JVh6WbL55UF8eb4KIzNn7N0MMdRTR9vQHHOz3wvWJbI6QlfNJjA4mFGPf01IQpMUI1tg6dzCkvee43CCHj6drdDSardmN9XkxHdg8aMjsLS0JahPH3p285Ja26ahVoaf/lDu6+or7R9Iv+fWcTy+Ht+6NDbPWs7pxAIMew/ApbaWyLIDLHrpQfpI9Y9dsAGtojLlw4PrWlsbSQ5ZzjPjgggOfpivyiqQtWhh7NnKxRMv8dORq9QYDaC7260zm2lgaTaYoAAnqX/6MGrYYZKzminHDKthk+noYYnlkP7M2LibxAZzrFIvM++jDWSUVuDZdSBW5lYknFrC+1vOUFnlQ2CvW1YKV1ND18cDJ0tLgntPoiW1ikLVLoWC7FM0rHheanMw901ayLpzLdQ2ylR7pcBQQwtdLX0MjUyxsNSnubECa5NiRvbugZ2lFyNGDuTrC9Gq3L8wNzeld7fOUh53ht8/mC0JGVIgX0zIN4t4sGt3gkcu4HhVvXTvKPjSu1NnbG2sMDfSQ1fHCAMDEyykYP2XwLSewnRHXrxvuHStpHu0QzeGjQhqt8a91I+mg+jWvh9zWpEXJfLVwqfo2j2Y4Qu2UtXQjLqmNjpaBhiZmGNprMsvd0wV2XEBLHlCcb84491LixydMCpqmlBXG8mgYFcsXVzw0TNEUzGj3z9IBOyCIAiCIAiCcK/Q1MSkpJzy8nrlJFwNpWkUNxpQWNZIpRS8tdJAY0U5dkYGbfn/iJY2Fh6D+OlkFGlpqcQcX8dTPcww8PmMK7EpzFDbzJQXFvHTlTzlsPb2mspSORKWKtV4i7gNjFk9iLNpKZxdP59uyuW9y3Eaeo6T6z+k+dR79H59HQU3zYiuia5BKVeyFAPyW6mtqKC8rPpGnRoaalQ05VNco3grXkFxvAMWxgZ0fHgehxPexnTLVzw6ciqnijQwdujCGysOkJCSRnL0BT4b74d+WzFKjRXZHLpykvu/u0pa/G6e1tZCMU27jsf9fLErjtnOp5g3dQAvH81THXEb1UVcy/XA0lwNrZYGGgpzqFPEzuUlJNvboadnyqOvfEXcj+O5+OFcHh/yPalGvXlrSSQr7pfxxqzxjPop4jdmwJdTkp+BhZkhuqoUBV1dc3zHL+NqWhppybFs+/hZ3M20VXt/TV1di7pGLQoqFP0ooyg3Bw8L1ev426om51ouflamFMWf4UqrEd+GJpF26ispTP8zNNDRqyausG32ucb6aooLylQB/y2u96OpTLr3zqBm8hihiWmc+bKPKsNv0ULPsJTQDMX9Iqe+XOqfJlO0NP994bHGOxLVb0EQBEEQBEEQ7kJ1dXU0NDRgbv4HQ3c1tLDMiWf1jj2cP32cy+ercBo8kKaU4+zYc5AzJ47SYN2Th4f0pyVjNxcaujIm0EUKUjNIyUrB1msYVkbFXPxiCykVxZh6dSOw8jwfrz9N9KXjnLmWjJGDO2Unv+X7HUeJTpNjZeFDcJ9u+EjHHVp6mMScFGz8gqg+8xlLoowY2cuLm8JGdRlx4Wu4FppA5NVrFBr7MLy7G6e/msPaSxlSTKuDg28ww3p4YngjwNJC37SEvetXEHIqhLMRKRg72lK2Nw+rp3rgqgk5mSfYs/0wZ07upU7/RR4ca0n0rhWs3HCBTD1o8nHmgSH3492YwLYdBzl3/iynz52hxjSQTi7tJjtrbaI85iKn9l/hXGYSqUdL6TJ/HK1xe1i1YjWX0qVgsM4L74eG0Nvml1C/WZbO/g9+4nhhIhf3hZDt/BSzJnlg0VJB/MGd7Dx2lhO7SzCZP5XRFiVsWbOMDYeiqTduxtmrL9422exY+T2HYyoxbbHFa+B9dDeSgu8KNbw8g2hO2MIXm8IpjDrH1thiHn5oIsH2BmTGnaPaqi/B7s4k7/iCLaGRXDxyhuRyfTy93TC60flqyEvi2X78MGfPadJphB8thens3rWBUydOEq8WwJyHxtPulJTLpF3d9x5bTxQSeXEfl7NdWTRrIo7aVURcPMPBk6Gcz0ojI9SSsS92ouZkBOVWHnQOsEVDTY2G8nhOntwk9YkhPbu4k3d5Gc2+z9HRqYrTB9dz7PB5Tl28QrOZC2oRRej08cXVtJB9H6y4uR8neqBVmUXIue2cCg0lPT2WqxZjmN/Tgercs+w7dYAzpTb08NYlK+Esxt6T8HIsZteaH7l0+gKRiY107/MQ/t4yLn5wFvuXJuJhUEPirmS0+/vibtn+kc2fI5PJlJ+rWFtbq1L+HPENuyAIgiAIgiDc5e74G3aFhnIiYhKprGlAz9CHTt3soDSJ6MQ86prUcO7UG3czLepLEsiS2+Fja4K8oYKyyjIMzd3R16om7fRVCgzN8PQLwFqtlJDwRGTyZnSMLfDy9UevOobwxHKaWzQwsXLDx9cR/ZYyYkOiqdIzxKeTC2GvraX24Yk8EOykath1TeTHXCCxRBt9fS0M7BzxdrClKuMM0VmK/QY4+/nham2IevtR8dJxRfEXiStsQdfUGm8fF2TxFeh3dcCYVurLsklMSqOiAdy7DsTZsImSrBSSMwpRvHfX8giij5MRNFYSE59ISUUd6lrauAYE42zSbp3x1mYq89JISM6l3tQUy0ot7Hr5o1+bS1JSCuX1itHpbnQb4CK19BeymtN82nMVdp8+jqeBMZ5dO+JorHg730hRegop2cXIcCZooDtGTXWkpSSRVdg2c51Dxz646paRlBhPcZUixZJOvQMwbMynTDofc3M7WktiuBivmkjOylUKTp3R02ylojiLRn1nbAw1qM65yNUUxdlqY+XkhZebFe2mAaC5poDIuFSq6hzoNtAVHWk7KSlBWaeVX2862Nz8Rl7xDfvmj7oSZfcFI7z0MffsSidHY8UMe2SmJZGeVw4WFtjWmOHcyxZZej71+mbY2hgqh6c31RaRnBRHkZorPTu7UJ97lRaLbljoySlLu0ZUVg1aeka4+/uhnVuJupMlhoTwSY+ff9WP8vpSUpOiyVdUaWlBralUpqORdLunEZuURbWBD718TKguyUTHwg8jbel+iQshrqgVI0t7fLy9MdSuIfNMFsa9/THTklESX4qGiyVm0n34n/qr37CLgF0QBEEQBEEQ7nJ/KmD/N6hNYdmeVIYP7oub7R0Ov7/LyWrO8N3wkww++C5dfm9k+V1EEbDv+HogtUOP8VgXI1Xqf1dT7Vm+HXacwYfeuyv6UQTsgiAIgiAIgnCPu+sCdkG4R4hZ4gVBEARBEARB+B9roTonh/TIQn6ZZ/wfIq8lNTGdQsVY9/9vKtPYeC7t1xPz/RnN9WSlppNbUqucaPD/lyoSdlwgs/00/r+jtamOhMsHWLPmBEnFd3jQP0wE7IIgCIIgCIIg/CFZQRQ/nrpMmWp29hZ5E02Nzf+VILBZVsS+xXOZO3cua45F0iBVmXj0dY6l3C7IaqFJ1kTzP7z81h9roSw5nLNbQym//fTuv5Z7kVnLQ6hRbf5H5JWEnb9IdGrZjVnzf1sDiQe/Yv68ubz27kfEqD6JpzqeldK1UFyPuXPfZfPJJOqbczl0I20uq46EU6eauL++JJ7N3/+y783T2W07/nYFHH/5J8LaPvX/Q7WFMRz7/gApUrDe1PzHvfFvIAJ2QRAEQRAEQRD+UFN5GvuvxVMtUyywpY6JqxvewfbotO3+W6lrGuHkboNuayWOTk5oaUB22Equ5ikmTLuFlNe3ozf25r+s1P3v1Ep1TjJRpxOpbr8i3b+KFrademKV9CMa/qNxUCz1LgXrS55+ntROU3jkkUd45IGuZOdkUlaZQ/jyeLxGSmnj+5C9dieHYkppbqxi55oFXGwJ5iFFfunPPXw51yrbavgnVWcnU9Y8kGfmj6GD7S3r2P9LiYBdEARBEARBEO4lmcfp38UdTU1NOr16CEUcVXXlR7p8/iYfSmmamm5MnneUtlWwVRoLOb5hGxEvP4mHhQEzd+eScvAAm947RzkJLLafwaiximM1Gfn8W6x6ZQCGupo4+bzAxTJVGUXHmKyjLeWx5L5HfyS1VpV+G2rquti6euPq4oCjtTka175n+JuFvD7IiuHPfkha+zeq9VmsXbaJ8/FFUkhcyBcj29qhOW4BV/JueTddfpkXO7gq93t2G8SJTEjeNZWvT6VJO1vIj9zC0q/eIqkcivc8jfmChUxX9skIvjuejiLOvrhuGl0nT6G/Mn0WZxsVDzDkpJ36hvu82+r++LKiMii4soS3P5jERDs79PUe4t0fH2HessdwN5rKroxKGqviWDiw7Zh+r66nsqEFmuu4tGI+/oryOz5KtXKB9l9LP/IJ3ZVtmMC6yELFGmsk7lnNnL5j6Nq1rcwvw1SZVYr3zsLxm6ttG1XRfDT0G06VtB+1oIGJoy8eluo4eXfCTFeq58IPxA97kQ+e7EXPnj3pOWgML08fioO5LmpqFvgGSWmDRzO4eyyphRXUJ+8l/NgUXnx+Kv0V+aW/x+a/R+dbJoi7tHIirn164as4h6HvknXhY2WbNYPH82O4dD4K0jn9/GzbufSY8z05VYor0EpR3C6mK8/Rn3kZBW15aSRmx6t0c2rL/+zem+5gSSGb3n+UdzdPwXX8S1zKqYbLn7TV6TWMr06mKq9vzqZJuD/zLGOl9Iff20DpP/ylhQjYBUEQBEEQBOFeUZPGD99cYManx5A1yfmh03EWrY+lSQqCmrfpMVYupzJrG4N99hGbXq86SKJjw9CpE+nyxUpSS2v5aby1FDe1Sv9tG4be2nyWcR/JkRfF0Kmxlrx+y6mol7Pi6bOciS2VgtAUlo9bT+edIYSGbGd8QB0Xzybd+ffvXZ7jyPs2fHiqmCNLX8fdVJWuoGhHi6ItULrnNZYGbSE5v5L0jx/D0UARTF/XQNiOxWjO+Zzk4jpCjy3DoaFWGRRKR6vytDsn6V/tE958IPVJztmBbDx/gArF2PwKsLV8jJ1SeuKmQoa9d4rKglg2hIQxY1chcnk8BhOGsiNTEf61EFvqyMvhydTVb+ftpzeyeNZq0qo38ICrASc+7U311OOEhp7h0fpzbE+spCLrMCcONrIxX+rP6LUY6d+8lJpS0xnWvnWeL6U65JmzWff1dlKUw+zz0HTryqaTUnrkchZ/v43rz0sUrMbOY9HP27lU00jRtWs0P9GF7sZSVP6b6inNrcHV3PKmJfTU1No2WlvLSYkKJ/z8ac5f7Yy7jSmykmzC+9lhocqjoKamrlzGrb1WDAia9g0R8nIO9T5Iv9BhyBtKOfHI/bRczKRaugwZa+5jq8c5KuU1LOsWznfHommWVbFr27f4f58t9XUci11tleWVJR5lZ3Qe8386L/XnEVw3zOWUKu5vY8PDr/7M61N3kr3vS3qqn+W+h7I4UySn5vgbJF06RrgUxLc2t2CcP5hl0vXd/NZULH6ve/4HRMAuCIIgCIIgCPeKhnpSAv3w9bNWBmCOVh2xPpPRFtQ95E9H6R9tbWNMzLwUKX9CX2wsVD+9PPFxN0NDKt/QMoi40nKoriSjqYIre1bw48+biUqrx9Do7x/CbtF5EsMqL7B283ZOnsuisrH9+tm6uAQPRzv9BLsP7WHboRjKDX7/O2atRzvjIv1r69QTo1o9yhTfPZvoYjbUHUsp3cP/AdTSCilulOOh25tgV0UneNHtmVOEScG3gr+fGw4Gt4v6yslPbiTxxGZ+/HEdV2VqmGtoIK9poLXfFLysVNlupzCP8oFzCHSQfju4MikyhrAixQ47bCz7YqF4oGFhTX9F0k386LsonuO7QzkcVoOnpQO6Wr8XEmqio69FdaPUJlVKey3NqRxY+yM/rr+E68xpjOlkgbquIZb5dcq17X+XlgY6NuZcvwueCZbuPk0tTIzUUKuuoKkJ8rJPMXlELym018Xdrwu7U3Jpba3AqKEfIzrYqY5UaKGhroqS6Hj2b14t9ec2Cpxd+d1V38qKOfXMNPqYS3eG1A+dY2XkK0YbSP/HMHjAD3tVtn+aCNgFQRAEQRAE4V6hrYNDSiaZmeXKAKy4Io3yQFuM2/b+9+gbYCsFo50f/4Rly5bx2XtP0stHB42qaJbNWk5ctSrfX5Qen8Xs9z7h6UE2pG45REi0MopVqSKvLJA5i75mZjdj0q4dZ+OlLBQvpvPKpAa0NlOVm01eblvuXzSRnRyOlZkuptI5/KKBuCun6NzJC1Mp+MyVxZBQUCWl55C4tws+Tn/0jbQR5k66+Iybz2KpT5a9Mx8XOz009AzRiU9TDsWurSy88cb/JmaWGEXsIlkx6ru4gFMebviYte36I16D30Lj3GecbDSnY5Azmre++r6JFq5BA6nZt4KDqap2NBZyKjSO0moZGprdmPeF1PZl7/PwAE90pOhSz60/gQ1b2H0lR9m3CslH15L0H8ycZ2ndhZOXY6WeloLpzGT6OlihpmaIumE8uSWKDpKuaYvioYsa2roG6PsE8thrn7BU6s9P50zG6PeW+Dc2pcveY8RIl0xWWUKKmyYWJv+NGRn+GhGwC4IgCIIgCMK9wtCZx8d4svG9GQQGBvJ6tD+zpne88Zbz9+i5BTA2cj+T+gbz9sn2A63vgLY7078bS+wj/ZT19p79Dqfym1Gvz+bEzyfJbTf6XkHekMXGj1/ho69WsnzHCWqlyM+/zzOcfqI/z7z/I4rPj2/HRieP8VL77p/2MmFutnT1bv+aWh/N0lVMHxdMv4kLCY+3YVywO+7dHqb281kEdu/DczuT0Lw+UkBS+NkUqb1BDF2ewgMjB2CpIwXsFQUcfHGslN6dMZe9Wf9UZ8ytPRkYYMfqp3tL6UPIn7edCV63Bn8aWHp4UFa9mhE9FnIir4l+s1ejvn4U3aU+CRy0lLwmGcZ23XG0Oct93QN59pvjyOS3CdgN+vDAw2a8OUA6bsDPdJ39AB31Vfv+gJ6ZJ15dAjB18MDd/Nbh9rVcXvo8bxxuZMn8CZzJBiOP8bz83CA2399Fee0Cuz/Hmbh6tPQ0VcfcTNsqgEeeHkzY50MIUuSX/n6qCMThPxha7jZpGwHhY6X+6cbCS3a8MDgADS0TOncNZMPI7gQ+/SGxFYpv8NUwc+/HcG8Dvnqsj7LO4TMuI/u9G9t+CNvmNTO2dyDdZizGrFdvOjv91x9d/Wlqrbd9ZCMIgiAIgiAIwt2ipKSEiooKPD09VSnCX1W0+ymCMmeRPS9IldLm4tqZfG/0Khse+LOfDfw7yKrzOLR+NhZjd9NXMaRe+K+qqakhIyODgIAAVcqfI96wC4IgCIIgCIIg3ELL3INudr8e1m5k5Yn3Pz0T2V9Qk3SS00bvECSC9buCeMMuCIIgCIIgCHc58YZdEP6dxBt2QRAEQRAEQRD+kqJrP3MkOkO19ffJvLiKI8nt1/n+f6Qkhvdee4Fp077mWtuE8H+TFkpTTnPs6H6Kb/m2/9+tgOMvriC0XLUp/C1EwC4IgiAIgiAI9zgzr1H08Gi/TNYvriwN5NuL/1lEWpFxhcSS63OF/31S983k5b2pqq07VcKpRd+y82K+avvPyGPf4w/RyceHPkPeI7yikdiTq2h168vrb07G648mhP9T1GltLCKvOFY52d6/WVPWXj6Yupu2ifWrSdp7iay76iHDv58I2AVBEARBEAThHtHa3ESjrJEW1UexzU2N1MmaUdcxRl+7bdZvuayOmtpaaioraWhsoDgvWQoey6mta1Dmr29qW7u8tUUulSWlKTebaZDyVyr+aupoav79r25bm2XU1ajy1zUpl5hrkTdSU92W1tiszEVzYyONdXVUVVVRKf01KmZMl+qtKs0mq7CUqupqFM1pkTfcOLZGOh8lKV+NtF+RVl3TgFxeT1leHoXFZVJZjVKLW2lqqKNa0YYbdf4We8aseo8ZRUEs3PAWXYzKyThvgKW+C7aOlui3W+2tVWpL5fXCWluQ1TUiV3Z4K7J6VRsbZCg/TJb+Ry6rlfYrM9NUX4Wi+eqarthZd5CuiZw6ZVvb9jfL6mlsattS/FaUVVlZJx1zm/5ubaJOdW619Q2qay61oa4trVpxPVWHtTZLfa/MW0ODqvwWuYx66VrWqK7Tr/tHKqu6kJz0Qsqqa6U2tN0XzdL53Ci/LUk6Ten+UJVT29B2vRVp9dfvgXrZ9YzIpGuiTKusV533vU0E7IIgCIIgCIJwj6jKOMb3P31HbH7bMPXwXa/x5p5kko7MZ9mpSClgauHIz7MY89grzHvoIX7e9jNvbWpk67uP8ca364g9/h1ztycoj61IPcL3K97gWkGjtJXKWin/Q9Lf6MfmsPZy0o1g8FatTfVEnvyBZ2eOZIKU//4XNpDTUMKp7W8xc9pYqYzhfPtTLGVNVVz+6kvenz2fh6dOYeIDo/hsUxqNpXGsPljAucUv8NhTc7iYXsG5Ax8w8/HxyvofXbGZYikALD23k0enTVOmPT37G05evsyxjK18/+4spkzZTWpFCrs/fY6p4xTtHs7Ki6qg8Q5UZUdyMnkjP3w2j4lfnEGx+vp11dd+oPuzR1AsO95cFsUPL6/hQoYUqGZf4f2XBjP+oQd49p0vicyrlQL0Eg6vnERInuLICvbN9WS5dBnMfYK5b9horBujeb/vXM4rlrFrruLc2rdZdyqGloYCDn32HqMUfT5qAZ+dTVMU0I6cksvf8ux9inMbz4uf/EhqSQvVWQf4+kVFHz/IzAWfcDGlTArkq4hc+SXPKvph/FN8uD6MWuni5Z5dw7xhj/Pci1L6iN48uz3/xrrqbao4v+5bDsZ/x7NzP+JoQrEUYJdyZdN7PPTgGKY89T7nEitQxOwFMWt5Z844ZVtmf7CWzCo5hXG7mS/dA4rrM+LDzdRI0X1Dfjw/vbmAsYrzGvEuP6T/rd8a3JVEwC4IgiAIgiAI9wgT5+74apqTU1hCK3mkHCln4hBfbloxvEEH176P8+2xY8yeNpsvH9dl+uc7+XrhUzgbqfL8ijdjP3mKIUOG0McsneOXom+/friksSKDK/FpjH1tL0elOjZPcaU2L5GwbHWeXXKQY8d2YrPjSfYlN0i561DzGsWm7fvZtvRlNLdfpdiqE7PG2zNk4Up2bl5Ll9ZLrD0ShYnnQGX9duc/5EhKOTFnQ7Gw9+bdNcdY+c2D+Pv3ZbTHdF75bAMHD0zGsiSNxKIU+s3/jN0HttPf9M4DdhPXIEb4PcFL76zk6FvDMFGlKxh3e4S3Ur/lgBRs5obFoxbkjJ+tMSn7ZlMxYAuHjx3mjcAcPj7R9uDjd5l0YfZrWaw7W4i8LIMEutDN1x319N18sDSZ3tL5Duldyw87L1CrOqSNnJgjyyjrPZK3f9rFe3Mexlq7jqs/Pcv2uv5SPw3GrjyaM2FxyKqusOLVvRgOkMoaYEXI2pOkKt+yyzBwDGTRV8c4tuEdQnacuunBhNQ4Bj+1kAc6LmD9qg8Z3cEGDSlgNxn0JseO7OA5dw+KkoqkltRxdvk8IvUU12cQOlc2sDepjsKoE1yymMjbyzaz47FetKqrkRW6l52na+inOK+eKbzwzUXu9RH2ImAXBEEQBEEQhHuFljldvVtYF56APPEgm60epaO5at91JjoY+VhioNq8I6n7mbMwCgMvL9wczNDRUqXfRrO8HjMjGR62FspgxHnQACya1HDS88bFXFGrPc4D4skoVIwCsMTZ2hotTTU0jEy4takKssZKrE108fPxxUuqf/j0b+jlYEKn6VN4aGRPSvY9xLNv/kh82c2hn7F9EGOmzMOv4RzPPbWAL1ILVHv+KltGfOhH2OZzHC2qk4J7L8z01KmuSKRHR0900MbG0Y2LucWq/L/Pafjz6Hy/lvOxeega6GNtIfVRVTn53X3pKJ2vV4/RfDe5hxQst6dL4LQlPN7XkcTdHzPnuy0k1JRTUdxCx46BUj/50u/BRxjezROtmgrKtTvSoZNUVscBzH5uOHZaiitjgJFhACaK7/MNjQlQUxb8B7zxc5YO0NTCUEcPPWVaDbXlWnTo0FGqtwPDn57DECddPPrP4s1hDkSt/ZxFC0+QLW+loaWRxq6+dFCcV98pbHukwy3nde8RAbsgCIIgCIIg3DM0sOndjz6bj/H8Jyd4eFafPxeYS07nKMZvyylPTyX7YlsaFSmEOnXhkQmj6eXrpArUbk9bx5jsIgMuJGZKpUD490vJ0GslsvIMYVllUkos4UuHEexjqsz/R/QM7KhJscfYpw8PTJjAoI6aVBYVcTi2Bp/gEQx/+Cvu867gQEqR6giFForykikq9GHI+Mf5cGoAew7GUFmVxXeLvmPZsbRbhn//ORY938c9cx77pP7p2c0NLSnYtbYfxPoDijfhdSRGXmZGRw9l3up6GUWVtVAez4mjt6nVbCjTh1zhvV1h1Lp0wVZfCuFsHemZcQH77hOYMOE+zOUyKURvL4N965ro/+BDTHlwIp4GTcTntWLrocG5fAOGSv00oXcHmqSGNVs74KZ2CXWXYVJZE+hoW0er8ivzv4sF5q5qZKo5cr+i3s52ZDarEXtkGy4DHmDGvMl0zYolKq8ZI0NdfCvyCRigOK/BaBQWo60q5V4lAnZBEARBEARBuIeoa0tB6pMJ7Nd6gOGuba/CNXSM0Ndu+62jZ4yRzi/vNXs+vILIR/wZN+d9ijs8wKItL2Jr6830d5PRG2KElroUjQZN423ZHDrY9mDu8qs06umiJiVr6hqjr4hW29Ey92Ta/YFcfr8Hjra2jGvuQXfnYJ7q0Yk1U/2lsoegt38799troGWgj56eFooS1NS10TPVVb5x9RvxBubvj8Y3sAenW/rz6vNmbJzXDXupvP4Pn6LV1hq/yl08PMADF59glh0awvzhPej/nAs/vTIEZ9cfyNNV4/T2obi5eNH10SjWvTseEylQbZY3I//VB/i57Jz0It/qnOT1sYu4Uq6OtqEBejptE/XdSk3TgMChT+DYuxuuJm0hl+fUTUzKnYCHrTvvFoxj3mB3tKT+6eDUn2+HeGA7YyP295lL/aXM3o42Lr0H0aW4kD6ezii6G5fpvPlaT6YG20r95cUP0RVtWW9wpYvLhwTY2eHe/THyq1y4r6MzPV+O4PWSx/CR+sm2y5tEpdWjrtWT+fvnsm+0t1SW1H/bUzBqVZPuEz0MjXXaAkap701MdH8VPGq4PETXbgvo2Xsqa6/ko21pjG7bAVL/6KIj3Udq0hUb/spp/I+Mw11Rb98t6Bu0YG2tzmg/Rzz87+f0pNE85KSJW78nGRRYzbAAxXn5sa/FUVnPvUytVaL6LQiCIAiCIAjCXaikpISKigo8PT1VKcI/qbUsiW9XfkivR9cQbKNKFO5JNTU1ZGRkEBAQoEr5c259SCIIgiAIgiAIgiD8FXWF6Ae9RWcRrAt/kQjYBUEQBEEQBEEQ/kZqjv14arDHzbPvC8J/QATsgiAIgiAIgiDckdR9M5m79Zpq6xfXlvqzMlq18a+Wztr+y7mq2vq7lMSdYeMLx7ized//WbVFIayZtgfl0u//MzJSD33HeGtrxny4m9om8VX2nRIBuyAIgiAIgiAId6S5sYrqRsXc7jeT15dS/+vkfyE3Hj37DEGqrfZqYtbz0ohNZKm2/4wWuYzGGhktqu2/TfEJphl9zK8fkfyBshCe9/iMUNVmewbWvZmxfhz2qu2/TdkF5rh+yhXVZnvNddWcy06j9+5r7Ht9PAa3TEQo/DaNdySq34IgCIIgCIIg3IXq6upoaGjA3Px2K5W301xLRkQW2XkXORcSSWpmHsb2HhhRRtSJLMoaT3E6NBeZsS1GVdc4fiqEqNgkWi08sDbQoDRuG+dzTGjKSyYuPY9mfUusjHXJv/gFOW6vEGzXTEVWJGfOniciKg6ZuSd2Rs0UXpPyJ4ZwMSyatKxc1NXlRF88xZVrJRi7u2Ki1UJ1fjwhZ08TFhlHsqYdvpa/tzhcFUl7D3EyKpq4jEIwtMDSSEc5m7ySdJ7pV7Oo09PDWE8LWU0BmalJqBkbkXcyk1YPc1qLc0kJjSEiOYrwfDnqKXvYdjgPNTdjLC0sack5Qq66N+Z6inOKIqtKDVNjQ8qTz3HgZChxcXE06NlgZ6pPXVEayZeb8RrrjWLZ8hvk1aRcDuHspTBiE5MwcPDDVENqe8gFzl4OIylVC3sfC3SaKkm4kEVR1VlOn40ht6QKUxs7auIPsnJ1OBoddFDXtMDeXIvimFMcPnuVpIxctCycpfZpUJl2jH3Hw4lLzaZBxxTNwotsXHcRmYvUFWoWOFoZ3HhTK28oJuNyGbrOJmhVZ7P30EmiohMorNDAwl5qy41Xus1UZmSSHhNPaFQ4kZHRNFt4YWOoAbJSIo+f4lxENHnFBti6GlKVcJL16y7T5KqG/JY6a7NDpX3LaWz2wc7BBivtEs7vPkJoXB5NWmZSf+tJecuI3xdBcmkilxLLsLSxxFBbsSaAnPKUdPJLmzE0k8pslZOTdIYKTSdMdZvJizjM4fORZBeWY2LrjIFWNcn7MlD3sUSvuY7MyEyqNXQwNtD+5f74H5LJZMoJIa2trVUpf44I2AVBEARBEAThLnfHAXtDHrs++IrTRYU01DSQduk4V0v96O6Zz7dT3iXdRwq8iuQY6MOpw9uJzqmmoTKHjOQ4rLx70pq2jZVxWtjKa8hKuUpUTgXefgHUhX+lDNgDNCI5dGgjsRn1VFXmkhFXikNnB2K/+Jw9yVJw1tREyqWDnIiTodZcQuT+74lymcwAiwopcNzAmehCZLW1xJe00LerB79a4eyGGtKOniOiuIQ8KZhOqqzBy90PI21ViCgFapHblxGu4USgqxX58UfZJwXqnl0sOTxxP1qze6BxdRcrP9hOnoketRrm2JSe4tD5ekw7uuDj7krxrhGcNHmJHnYyEg9+zpEcE4J8PajODOVsRDoVBbFc3N+I96gOaBen3yZgbyTn7Ha2bT5PoXTelTkXKDfrj0niDrZtv0yJXEZxbCJhOrZ0tyrh59kfE23cTE1uCRFR16iw6IB99SU2bUrGrLstVraeWFQfY9PhEEpKGyjOz6BMCrKdLBr44uf1FNe0UF1UgUxLHxNS2bclFl1/C0wtvfBzMlUuh6dQVxLG7oUJOE5xIP3bdaxJKUazroyKahmW7h2wkq59mwaSdq9hzcaLlOtAdfoJzp6xJXi4ORkbf2DzyWzqW2pIjcsi19QGh9pr7NgSh24HC8ysvPB1MrlRZ31eFFv3HaJBqwP+Aaakf/k6e7L0kFflcT6tGnsvZ2wN4lkyZAExbs40Nmnh4+UiBeSKZfPklISdYE9UOZ5+7ui2pLH79Y1oDhqCXto6Fm46h1ZjMwWJcVSUWODkV8fWQfswebkPdo0F7P/kAHkWjvi5m/4jw8v/asD+T7RZEARBEARBEIR/jBXePZ/k5VcW8My0EWicDqG4QZHuTNeRC1gw6wm6aUVTb+rD7OcX8fL8l7FviWFHXGHb0f7DWLBgAQufeohmeT5JJXXKdGihPCuSfZu2sXv/EQ4fPsnODd8Sp/yw2wivXo/zinTchKGdKTcPYOqzC3h5uh+rrqSiLm8kOy6Og+mGjHzyOd4aG4i2sszfYoFn53qpjsOcOHiQMxfjKa9rVu2TaJnS8z4fdia3faldlBaJZqf7sb0RjCpoY+YYxNQn57Dgod4E9htFN7fRPPPkAwTYGv3m21hjWyvqpXoPHw9h57ZQcn61ZrtKUy0JWfU43DeNFxcu4JXXPmWYWyOxmTLcRz/KS68u4Ll5XtQsOURWreIAewKGzGPBK/MZ16cDsoJqHAP74K3ZnxnzZjOuqyX5V46zefNBDh06zIG9e9l7cC955SXkH4vmzDFHJr80mwd7d8DLvzs++gOY9tJ8pvR2+Y2+bKWw5BxRZw/iPeFlZk6/Dxdj1a4b9LDx7MvM2VK73noK23MpVNSXEJKux4BnnmXBqy8zbagRhZvD0PEIxkevP9NfeoGHeznfVKe+cxCjBrkx7olp9HeoZFuiLzPfl+611x+lZ2kq0RH5tEjdqGPgwbAJT7Dg0RG4muqqjtbGvpsfhGcSl19F4dllHPKeRDfrFtKk9rjfJ7Vtwas8MTGY3LzdZJY1qY77HTVJ/PTMdIYMHsyUJ5aRUK1K/xcSAbsgCIIgCIIg3FMsMDLQVQak2oaGmLU00qyMdR0wUwVszfJ6zE200dfSRE1NB00DA8rqlVE95rqKuc/V0NLWp0VbG1nbwZJW6Tg53UY+yeqt+9m79zDHzh5nmJNinyE6UllK0r86JtK2hhSg6ZhRIpWrZuzM3LdWcvmjYFYO6IR34GZS2nLfXtJ2Ok9s4n0paF3//Sv0l+K5W+n69WT0qr1szS0k6WIDXTrZ3BL8aKGvYyK168+EREVse/9ZDF9fx95NXzPJy+G3A6rWFmRaRhiYmqApZVLTtcbGRB2ZtgmGpsZoSGkaBkaYl1fSoOxCW0yNpE5RU0NHU+p7ZSHttSCXNTPuha/ZI533oWOnWb/sIzr49GLp0QPs22rPV+aeTFu0m7zrz1B+lylD3t/MmSMHkf9kSufRT3Mq49YDdTDUM0JLQ7pbdHTb2tQsp0HfBguTtjnwdbWkPJU1yO70A/4mGTUWPlgphiJoaWPRJKepri3I1tQwx0hfdZ+0o2HWkRFDLhOZGcP5jfk8/mh3dGmmqcEAT0sTKYcamtJxLXrVyJruoCEGnjz69XJlP/70/eN43fQdw7/Ln7k7BUEQBEEQBEG469VQkJlMfHw8xw8eIW1cHxwNVLtUTKw6Ex6RzomrV4iNO09JZikP+Lso99UUpEvHRnP+6H5sMrXpaGOmTJfCKoytHUnLS+TstWtkZWeTfOIo4Xfw9rI2P5lD237kUpEVT2/7jFlGWVSUt1JxbSOTFi4mprztYcENmjoYj9BDLTuLzIxCKspU6e2pezDpIwu2PDmdVYFP0sP8979gVtM2lALTXFLScqhskKNrbEvExQvEx4Rz4WwaJaWKXBoY6uuhI68iOz2Ti/UNvz3RnLYezvJU4g7t4+q1eGJOrWRzmBzXxniuHTxERGQ8UUfCuDp5GB6/erOtomGAmWUJ6YnJ5JSDtZcrJ04cIjwri+ykRK6FhhNzeS3L94eRW2DDI7veZoBnOjK5HibmFWQkJJJZUnv7NtYksnjNPhJT0vGbdJSnxnaQAv0a1c7fYWhGh9Jj7N8VQnxcPJcTcskfFYytkR6mFtfrrPvtfrF0ZnDsu6zaFU/8xQgO2tjiHGijeE7x29TU8Rn6HIUvP8KrQQu5304RxhrgGFDEFzt2KO/HayGZmJYPwdHSCGPbaELOxhMbEcaFzFR+dXtI5Wnr62NoaIiBvg6K5xH/VuIbdkEQBEEQBEG4y93xN+xNFVw7vIe9585wNeIyNXrTWDi3ByYtjZQWquM1xAtFCVqmLnQzSWTL2u2cuBBP16eWMMxdm6baAiJOnFJORpfRYs+YObPpYKVJY0Um6s4j6eDmgr9hPSd2buPQifMklfdg9GgX1KUATs/THRc7I2S1lcgMnOnqJgX69aXkaHszMcCCjPhw1q/fzvnzCfh98injPVpIOHICPYdA+nXx4vrn6UpmjnQv3cIPG0JIL9HDrUdnunr5YvzLjGlKulJ/FJ6JYtITM1XDvZuoymnGbognxg21NLUaS8GiC/oaUmBk5ERr/c+sO1GOo48vXbv2JfWnH9gRl4epryeB3brh7eiKtYUhq1eu5nyxjF42HQge1QFTeQOyRkMcu9pyfSC3Yii3tY8P9ckX2bBjDyFx9oyfMZhOXXyojjnLul17iSoaxodvDcC8RUZ5cSvOvTywls6hsb4BbWMbnNz98ffcwbLV4VSZ+dF/0Ai6yy7xw8/7OXcpkRbjHgySrlnO1rWsPniUsGw5nSbMZaCPBx7uR1i+9AR5+v708LXi+nvr1uYGast1cRrgi13eQb5fs4czF+OwcJrMo2O9+GWqv1Zk1XWoGVvj4m0j9X8jlbmauAzyp0OvjuTs38Tqwyep1x3N/KeDMNa1w9P9MMuWnSLf0J9gn3Z1tjZTV1uBuUsvHIytCJzYgwtff8XOsHL6DB3PiO4OaNFIRbbUB4M7Yn67MfzqTaQnxTJu+vP4q54RmXoMoHvWVr5Ye4ICdXPGz5mBi5EZHt1KWbF0A3F51Xi796Nbd3ccrQ3uyknn1Folqt+CIAiCIAiCINyFSkpKlEGBp6enKuU31GWwat5+jB4bz4Q+jv9IAHPH5CUc3ngeHc/u9O/tcGMCM+FeJCPj2JesSu7Nq7MH3OZzgX+vmpoaMjIyCAgIUKX8OSJgFwRBEARBEIS73B0H7C2NFGWUo2FljoXR70/r9o9raaKssgZtXSMM9X79XbNwL2mhuiCFah0n7M1+b7m/f5+/GrCLb9gFQRAEQRAE4V6hroO1u+2/P1hXUNfC3MxMBOuCRB0jW++7Llj/O4iAXRAEQRAEQRCEX0nZM4NvTsSrtv4zNWVZZFY2qrZi+EjzIQ63rQ7379Mi49qGlXz+5umbJymrz2bDjxs5HVXw2xOp/WWFHJ23naul9artP1ZZmECJaim7ksMvof3hJeXv/5nCg0zW+5RY1eZ1dZmHWLLyCnc0Uf0dqC3NJiIigojEbGqammlpKmPz/FH4dn6SlcfTkany/X8lAnZBEARBEARBEP4rru17nzdPZau2hN9mw32LHyLI4s7fIJ9eM5HtMcoF3P9V9F3uZ86T3f+m78xbKYo+xPNzn+O5JQfIrZEhL79EYthgdl5ayZND3X5jjfn/P8Qs8YIgCIIgCIJwl7vjWeJpIjNkI19+tYTNO/cRYdKFAS7GFEev55Mvvmfzjv00eQzGz0qbssTdJGn3pZtDOSe+uIB2kA8mWpB1YiG7KnsQaFlP2I7VfLX4R7bvy8Cpfw9sf5kiHSrC+GHhYo6Fx1Iu18fXy5CIT85S5J3N2mWriazQpYOXK/paahRE7OPLt79k475odH074mGhQ2XuVdZ+/Q7LN+5jX6MTY/xtqS2MZOOyt/hhtZTW5M4Yv1/PvB21/yV2nkhn14of2ZKsRv9e3qhVZHD++FIObTnDug1XsezbA/X4vXz19ldSnfnY9/TDXl+dgpjLHD96nHPX9rFr+z4MOo/BzaCK6KgsjB3dcLExpPjqVua/s5h9+9Ix9vPCxVyPxDNL+XLDEU6uX8+WFA36WScxd+EX7IvJw9LNBydjHRoT9jL7tS+l4y5Ta+yCl7M5mjdm/Ssn7LtQavzsMGmp4tKRT9m/+wqb1qxhR7YZg7o73xyYph9i7vurCb+WRoO2Bc4tCXyXr4bbhqUs2RcL1m64Oxqj0SIn/tRaXv/4B6neQpz6+GN7yycG1eGreP7tpdL+faTV6ODt5YGeZjoHXtrMybSj/Hg4DTc/T6wLj/P0q59L+S5SoeOAl1U5u77JRe68np9/2Ee+ui1+bg60lFxm/9laTLnMkbgSXOwd0W5t5FroaUKKdPGyUydi9Su888MuzsdmY+3ZGVvD35pSUA0zS1vq0KBD/5EM99Xj4nfP8cXhJBLU5Lh5eGOv/LyjWQrsrxB6Jh8zbwd0peJiDy0gQq0PnubNJOz/ire/WsOJ86HYdBqMrUEJIZ9cQtbbFfOWeuKOhhCfr4Gdi8nfPrnhX50lXrxhFwRBEARBEIR7RGNeFMuvFeA/agazZ8+mU0UCJTmX+XxXMu7DpvHsrIco2vQ0F/NUB0jU1SxpNrjEpXTF29xMTixUw9Zdi+yLZ7h6SY1RT85m9kRd1i0+zU1Lrht40m2IH973T2PykG6YKqIoTlFkPJDZj49Biua4mllBS9M19r0ZSufpUjlTvTi8+iwl8gYunN1NovuDynYOasygpLGKY6d2k+r8kDJtQPKjbElsq6q9uMtbOF1lz0OzZxCY9SVvHS6hqa6YY6ePU+bem8dnj8VN8yo7XvsR1wekOkdr8cLio6ph8E0Y2PgzfoqUPsiUF6ZtIkOZrlJ8jG9ezGO0VP/sByz58nQUTc2t5MVfIh6/tjrTP6X/Pm1mP/UIncqqiL+YQyOJrJ24m26Kch/rjaEUY8rlqjKVakk9mkB+vZxmWQ0Xzh0gzawz02dPwytkJvuTVNmus+nKyF4WDJg4k/t7+aOnJaWtKMBJatek/g2ERkvnWttMQ8Zhtixp5EFFe0ep8eyOyLbj29HzGKLsz9lPPAhnE7gYlU8LRVzespwKh/uZPWkwzs0RvHz/JgIflvI9HIS6Ri21yrHoK9B2kdIm9efk5SiSKutoqkwlLCIPbRNTEs6nU1DbSFNDBVnRq9EzMifz4HxWNgyV6nyGYR6GxIdcoLxJ2ZQ7oIt3r2F0chjKow8Ow8Ps+hMidfT1m0mtjiGzTNGwOE6/roO5nQ75oUtZENHI1CdnMaG/Mxff20hGXQ1Je+MobGlVTsSYG5lAfIJ0n7QV9q8iAnZBEARBEARBuEfo6OghC9nPjM+OY+rjx+iRg2kujsbf3577+/SnS+AQnNzN2BSVrjpCChi0jHHsGEBpeCL1iVd4f/JwRhhBUfoFvlv8HMP7BRM8ag5b18aRrzpGScsUW2cLzN388HG2QUf5OnkQwwYEEdgrmC56xqjJ5LTkRLPx4CdMHCKVM2wq331+lnQ1dXTLCvnusx8JrzflwUljMGqqJXn/u3w8dTTBwcE8/mY055NL2upqx8DQkH4DBtA1sA+TRwbz7ZVkZbqjszO9evWSztED45JksnvM58H7Awkc25cpm/dxUvmQwhgbBymtq/Q3ZTJTU06RVao8vE1GFJ+cf5mHpPqDxz3G4a1nKVAEfbp6WHYKlOrsiLt+BQ/3HEZg9yB6OhsgzyuksckCLd/1fLnwZUrshjEi2A2D3xnLbW1rS5++faS29mdAxzwqbv20Xd8GN3tdHL064WZngaYU1anNGszAwEB6de+GgYE5zVK7GtMu896e5xiraO/EZ7l6IIxiVRHXqRvmsb6btL//GF768QhZ9W1hq6HBQAb27UqgjzPGpSl8NU0KzAdL/TJ4AlOHBGGlJx2rPpv+A6W0Ht0I1tNDs/mXr/y1rQPpr5lCSE4tDRXx5B0aTyevJrLCk1j/4gTpGvZi5NSZbDwfRW2D6qA/pImZnTNWhi74e7lgqnt9tIAahg6umCTUEX0lg5wdX/Dl4w/S3aCJwhR9Hu47nu5BXenaoz/anjuJzf73fUrwW0TALgiCIAiCIAj3iCY9R17/fje1m+9n5YieDAz6npRWXSpr5NQ1KV75ymiqrcVMr93YdjUN7B0skBdsYtWeg7zRz1uRiKaWB1Ne2k5WTYNy2G986MO4tx3x52jr07n7h4SV1yvLKS98nc5qWgQ99BblF75EZ/vrBBq+zKUmdWwDRrHsRDZ1Uj5ZTT7vDrJUFXI7DZRlleNsaqTabkdLG42ybKoV8+E11JFnYozxLQF0U1kB+eZmGLQfQa6tQ8cpX5NSJdUvq6do20s4KaLlP9KkQZ9vygjf/RkRn3Zi0Gs/UyD1+X+bmr4JQ+euJLNa0d46Cn6egZVqX5tydj09itYDRcjKkvjuifswUe25idRf5tl5VChi+aZayqtrafrDGfgMCBxmz+IfjxB96TxRzwSjWE1fS1edR1fFUau4hnXVbPrwaWwMoTrnEpGFfyGQ1rVnwMOtVOTt5qfD5qx+pIuUqC7dpw3kVVXS0tpKS1MDzVXG6GorRnvU0yiD1mY5tQ01XJ8a8d9GBOyCIAiCIAiCcI+QFSayedU3fL76IpYPDmJYLytsrILRrMpm5Y+fs/jbz0mTezOlo53qCAU1zJ06Y6bRwIH4QAb5WEhRhCYOAfaoFx9g6adfs3jxYr48GPGrIcXmtk7I969h49FQyuvbZjS/lbpNIF07XGXlO18qy3l302nq5Y2E7f6G95bupcTZlZEjXTBtMcLVtieX1n/EF1K+xZ/+wPlcVSHtyGrKOb11mVTWx6w4rs6KMb9e/1rTuhOdZMdY/rFUzoeHyX76QXopY/8K4kN3sFwq/7MFh2l4axr+7SNY17482bqf9z6Ujlv8JT/suaoMBP9QQyorv3ibn7aekzplEn6ejmj8xY+lLS19iNmylP0hMdT9xlhuXbeeDC7ZxUefKNr7BT8cTFDtuU4Hz07BZJ1Yw+JVmziVUXT7wNU+iM+qjrPoM0W/L2X7uRTu5HmDUeA4Xs1YwaKj6jzX11lK0cdz4Bjy97/P54pr+NkKdp9Jolq6NWLXDuTR3SltB7ZTkBTK6ZNnOHM+jPya358T3rrDGAwv7eZ0l4fpL92moI1DZydyorby/XeL+XH1JrQMZ9DR3hr3nvms+fxblq5YxbmkfP6t79zFpHOCIAiCIAiCcJe700nntPUNUJf+09TUir6+HX0ee4gARxv8HY1oqpOjqW1O8Jgn6WitiZaBDTa2Hlga6koRrg72JjZ07NIJL2crNNXV0bd0wtnZkmZ5M1r6+jh1609Hy5tnOTe2dsGusQ41GydcHRyx9XHDtYsLRpqaGFibY+NhhbGBFW5dfdFqkPJJ5dh07kmwoxn6RibUVjdI7bSi24yH6OlkjJ27O7YmTTS36KNv1pFePV0xVny/3U7Cma9J0xtJgIMNnSc+xjAfI9Q1dTGzdMXRzhlDbXXUNMxx6uxFc3U1apYdeXxiD6x1NNEx0sfQTBsdqR2mrsOZNaUzxupaGJmaY29ngaGpEx26+dNYWyu1ywjvzl1wtzFB38QKd0epfGM99C1ccXbzxlpfAx1TM2w9HLFycMFTv4zSJn2MrPwYN7gnzpb67d6eamJkb4mtpyVGOtqYmLvgaO+Oia46Ombu2DkGcOsE8uY2/mhLfaYYCu4q1dfBzV26blKZ2gZYWNpib26CrrEjnh1ckdUr+tEY/+7BuN10jbSw9QpCVl0hXU87evTsSc9AZ0wNjTB3ccbJ3x7pNKS43pIuA12pKKlC39SVLoEdcLK1wN7HGc+O1uhqaGNqYYmDvTn6eiZY2dljb20onZ8Bdl2MsfEfSS+3tgndDKXgv5ddCxUNOlK/2eHr54ezjT4GZh74Sm3xvuVEG2qr0ZTuET9PD3xc7TDUN8Xa3RkXD7NfzxDfVM6V+HrGPzgadzMdZZKehSeB5tqU1bZiZuvJgInDsdPXw7aTDbLKWul6W9Ot71B6SIG9pbne3/5G+69OOqfWKlH9FgRBEARBEAThLlRSUqIMCjw9PVUp9659n/qSOeAyz/W87eBu4f8tGUkHP2NfUSdmThmDic6NKfj/UTU1NWRkZBAQ8OuRHndCBOyCIAiCIAiCcJcTAbsg/Dv91YBdfMMuCIIgCIIgCPeQ5up8wrKKUExuLqjISoiLL+K/Pw3cv0RLI4XJORSW1nPTbSCvJi21kIa/9eaoJvXkSS6ERVJUe/t5DITfJgJ2QRAEQRAEQbiHyKtyuZReyJ8ZaNtcW8K5iEskSgHef1VDLseXX755eTgVWU0GV7Zeovj35x37z5SF8PHnZ29eR/7/M1kJp37Yw4nQPG4KoWtTWP3TCYqa/r7Aui55Cy98tJbTF69SWCMC9j9LBOyCIAiCIAiCcA/RcejGcwM6oqF+59/4NtcUcOziaaIK61Qp/yV1mez57AzZqs32ZNUpnP/pNIV3vGa38G+QcWopPPEurz//BB1tfmfxeeG2RMAuCIIgCIIgCPeIssQ9PP+gK64LN9LU3Er03ndYd63tvXLCptHM3lcs/Woi7fT3TOwj5XN1xf+HMNIv7+PIm58yZ1gXZqyOUua/rvLy97y0N0OK6usI37iJVcvCqaaCAy/6syGugcRdX/OgVI6iLNfZuyiXjqnPOMe8n9/n7e7dpXQPRkzYQQ71XN29gkOlnzDO05dJ34bctNTWxZXTeP/cpwwPmMrKM5nK4euH3m8rd/gLX5Ncepu1zRK3tdXr2plpL24iSzFAoOQkTynT+jL3g/PK9lwnK4rjk7XLOZZWodwuj9rJJ88cpED6nbx7Gh18pOMCezHviHS+tyiN3cIzY9va4/bcnrZyi6N48bGRyjS/Fw9IvSKpTeHHJ95h1uN+Uro3Ix/5kLUfLGSwsk2fEqPII8m98Alj+rWVN2RdnCr1F3XFsWz4diyzxoylo5TH8/m9yvKLrv3MF9/OYVaXLvgGzCckv5jDnz5HD2X5HxPddrikiENLJuDn7Urn4H4cTlclX9dQxvYvZynrd3V9nautIK/IZNmSWYzu20dZp/fc3RzbsLAtz5xvyay8ZVG4tAM88lkqp18YyphHl3L62Od88O3LzPLxpVvfNwnLz2H7osfooqxjMfGKY+oy2Tj/Q2ZN66Qsd8Cot9jw3QeMUuZ5l2vKgm9WdvqztjZIfw9+tIuqxj9cJP6uIQJ2QRAEQRAEQbhHmPuM46M33sbaQlv57bKstowaWVtwI6vJp7i2mabSDLbElDDgs9Mkp6WzzjEP0x5jGP7+qyw5FsGaxzop819nYmHHzs1nyK2v4dqVZWxNOElRWRZRG2fS2V8X77HPsebaVUJDQ1lqMpGPDpfSKq+nZFsVvj8fID01nqf7fM2x8CaCxj/F/RYL2ZOSwNa5vTFQ1aHQ68n1vNnvVY7EbODJAS4Ub5vCS1XLicxI5PMe6Ww7fp6mm+K0DNbMPMbC3aEkxJ/mvdl+tNYks/S+FwjYlUFGzCY8Ta+x9Uw6ctXXAdrWDgwoMKA2Oh8ZLeREHEDnsT7oX1vLkzH92HP8Ime3fk23pNe4lNfuk4K6IvaF5GI/fRfRKWlcHtJMQWMJ+37ah23wa1JaBgd7bmXSj5E0t8ioKqok+NmzpCWGMdU1jfNqY9iZEcni+7/keFgL9VkX+OhiM49/c0LZb3MyJ7Ar+eZPGFqbZcRl1eP30mIiMsL5qPIRPjxSTHNjFacTNHns0FkSYj7HNnYLESlWrL8mnfM+M8bM2Eyxsp9aCZqympiEDPa8MZpvX91Gbrsqss7v5NKVvuyX6g9da033d85LbZdTWWXMsA/WS3WG8XrRZD7nMTJijzA/V05M0S0jMNxHsfI5Ax7+8QL71j6Lu2Ylh2P1eCk8irDzr6N7Zg0p8u7sj5HatrOZaXN3UybVUV1SReD03WSkp/Nqn0z2ZvRkbUYUSydu5OClXwfjZgNeJCZCamfobu4/fYbd8VWqPXc/EbALgiAIgiAIgnCDlr45AbpqHN68gV279lOsE4Cmat9teQbzTkYa0cXZ6NpNIdDbgYSQC0QvGkCAFFRmhOznlbmzePSJJ/hgV7tga4QX/tZSSK6mjq1dL1XincvJPMacR4Zjgg5uvkHszy6mqbl9MGdNx5m67H/jCTaeCCGzVA1DWRFJfRfycBdpt6EJPRpbUY/NpeHGp9UmeA2pJqYyhvLyBE5dsGNQBxMqyhPRP7+c55+ZyewXP+BEVgfUW9q9TdY2oIuFFllrtrJ9/R7CdFyxrGkkw9MR274+GEkdaNd5GP6bo8lRHuCCvbVqeLiHGfZ9nTGV6nbwUic+t5S62nxar6xm8cLneULqt01JfdFo/vXnCM5OtnRwspGujzm9RtxPSF6hMj0w0AdnAz0UMwvWqJtjPmgcTqbSjo7dmXXoGHFlilw2WJsboSFFhKYdO3NffRZVNYr0NtXlyWyMXcorUv1PfHaMkbrythEPZoYYmRoo7wnFevzTAn3BwBhnvVJKim55w34bPYIDsNOSjpY3UWHghvOAIVgZSju69ubh42dJVg5DcMD2+nrxdkZYD/PAAsU6/JrESNf5VnlRq1nw/CSpr15iaWQKf9yKu4cI2AVBEARBEAThHtXQ3Ex+rSIQLCcvrG02N1kT+PUew7oPH8Uo7xzfTFhC3O9+uu5E75nZ/PzlMup7jWKyZj77VxzGtbOL4sNzzoelYDH8TXbt38Yb9/194YeJmTcXIhJpQE5ZUQ5+poZoqLX7Lr+hgrIOL7J//3461R9l6cY1nC1qwTLjJNdypf2NDWRJcWOrrYkUeLYdomDpNQytjGx2bHqPwu7T8DUGPT0rzJxm8PW23ezfu4NvFj6Ku6mu6ggpLpaCT9OAnnywZQGBshR+fvVRzhZKYXRJJdXpxShGaFflJVEYaCcF5n9MW9sYM4fxvPL1OvZJ7V//7St0UTzc+E2FRO5OJMjBWrWtIvWHTmsddamxVCg+B8jP5qKvNzb6bbuvK02PJt3NEZN2n5jrGFswbOgUlm3eL/XhVj4e44GRat/fQl0DXVkZ5WnJ1Coi7NwMrnm5cz1O/zNi971Ky8Pr2L9jOU939eL/05fyImAXBEEQBEEQhHuUrYs3iQseYfTozzhb3TaMWL25lrM7f2DC5GdZcuQSri+MwcfSim4NJWyaPYW39yUr87Xn0rM7NXuNCOzqhE8/B2Iz3OjdQQrvtA3o4KdL+ra5TBj9BvsLfj2c+SZGfgx74CgvjnuQVzdH0n5Oeh1DT4zcLjNn0uvsvpqP46il+EVNY9zoMbxxuIbpfYPQ1mgXsEu/iw6+Lp3baN5akYuRXjBeHgFMn+nN5smjGT3uBU6WONF7kCc67aMiYzemBDbwwzdaDJrkiyIsN/OfyANO55j18FipvMm8/sUJStqtAadGE6kntzB3/HTe3HuM9JFP0MPBjGHdPInb+SFjpTbM2G/Jky8FY6I65vcY2HdnaAf46Y2JyvY/PmczObf5RL8w6hRvzJwg5ZnIbo+FLOh1a8CugZN/EBZlJ5gzTjrnSRGMWDIDD2XAHslPb89Utm3+JzIGzx+GjY7yKCWHjsMIbDnHtAek40aPZ1n0bRrwV6jr4tO1Cxrx23hC0bbJyQz7ZBIuvzwHuWO+PWZQ+OFMRj/3NkfSCvmDu+yuotb6Z9ZzEARBEARBEAThX6ekpISKigo8PT1VKb8t6/grjLnkzZVFM9FsbaS6rIpGdNDTa6JFyxwTKWirr62muq5tYLGuiSXGOlJIWldDdU096kbmmOrdMki+pZGq8hYMLPTQaJZRUdmEvpk+2mpqNDfVU11VjaxZCx2dJjT0LDHQkFPd2Iy+ri6a6lLZDTU0axqgq6mGvL6UsuoWtAxMMDXQloJhFSlsaaitoKpODUNTI/S1NWisKaKyDjR1DTA21FeW9YtWZDXlVNQpImt1dPSMMTLSRr1FRmVJhXTOGujqG2FoqEiT2l8DRsY6yvpam+oorWjF1Kpt6LeCvKGC8mqZ1Aw1tHSk+oz1Fc8EVKS6VP2jHF1vYIa1gZbUL01USefeIJOjpmuChVS+equcuioZmoZ6aKtDQ0OtdO76GGipI68roV7DHCMddZplNVRW1yGXClTX0MPEzAgpyw21BRGsWf8R1v2/oL+rHjrGlpjoqktV1lEvV0NPVw9ld7S20Fgrta2uQQpk9TG3NpSue4vUl9XUSNdYEdyqaxhhprh2Uttqa+XoGuhKvSPlqaumSvn6W/HGXSpfu5W6xgbUtfSkayW1vaoU9K2k31IdVfW06knp7Rspufmcaqlv1sBAuu7KwRCtzTTUSO2oV8wYYCC1TepvKa1e6md1fR10NNWRNVTTqK6PkXS95fVl1KmbSvfjzXUo5kSoKKumSVMTrRYN9EyNlffSv0FNTQ0ZGRkEBASoUv4cEbALgiAIgiAIwl3uTgL25toiNn76FG+ubWTe8iXMu8+jLaAT7kqKWeJ37f8Jl8Ef0/c/eS0t/E+IgF0QBEEQBEEQ7nF/5g27IAj/O381YL95LIEgCIIgCIIgCMJdqZAzb54mX7X1d1G8yY64doqyBlXCv1hjZSZRV/dR2H4B+/+6RrLP7eWbhQtZeT5LlSb8XUTALgiCIAiCIAjCHasI+ZoJ2xJVW3cu/fDzvHuyRLX132CI61C3285kXpp4nl2fHCD/Pwi6G0qTiI2/SOXfvVZY2QU+fnA7fzrErQjj3WEbSFNttqepa4qtvS+Gf/c06RVXeGfI7euUV+SyJyqCRu+eBLncyRz4wp8hAnZBEARBEARBEO5YU0ki57OrVVt3rjb/KtEF/80Vsg1wGeAihe2/1lhVTE58HvU31lv/F2gsIfZ8dtva5n+GrIzY0xm0WzL9Bg0dE6ztvFDMd/e3kuqMOZVx27bWV+fR0lJA7yHDCXQyVqUKfxcRsAuCIAiCIAjCvaKlicrwPdw/uC++vr70H7KIC/l1hG5/jv49vfD18+btXVHUNkHKnhlMffNlnpHyeXYbwIurz1JdepXF7x6l9JOH6PvA4xxKKKf07AYCgwLx9QniwSe3El8voy55K0/4dpTq8GbUYy9w9co53lxdyNGXB9D//gc5m6Nqz23Fs1iqU9E+z0EPs+xsIk03zbqVz96pC1geViH9bqUwYitfLvmMpNJrfGbwMZHUEbV6Ke+On0rvvsH4vrCfg9L5fbD7TYZ1eZ59yWVc+FCfdXGKsmq58M14Pj2cCs2NnF+7SFmvr687E98/RU27pdtu1VSbzsa376ODny9ePQfx4r54qpMPs3Cgom/9GDpqJWGVDbSWXWSe1yLe/VQq19uD+596nfCCMk4sfZ99ZZ8wqp9U/6EkaqrjWDsvSDrWh95jp7Mzogh5YxU73vPCS2qTT79JLD4ezsl1X3O05RvGBQ9hwZYo2g8aqM4JYeua+cSUyKg4+DUOnlKdPj148o1tZN+0ln45Z97+iHeeeIzOnTvSsUsQn+3PQ04TVZGbeMw7QGprDx6evZPE2jLOrfmSo63fMDZ4KAu3Rf9SZ2sz8Wd28+EHm5k2eDqrw0uoyD7C/LHu0nl4MuvdzeRXN1Ode4T3OzzAA5OG4zvtS9LrflkiLvfcO7ywfDcNza201OSx+qfP+f5sJrWVkXwxzUUqx5txM14iNLWOltZrfGL4GbGKA6vj+WL0NxzOqFSW8/+VCNgFQRAEQRAE4V5Rm8nPOxKZ9s5G4hMS2Ld8OM3Jx9iW5sqXu64RH3sJ38hFbIlve3+b1tiBzxLiubThFTpUHyCHIOZJQarFwu2c37WK+63S+ODtC9z/5FzeWDQLJ7ur7LyYRvi+JTRMnse6E1dZ/flL2DsG8/5jNtz3xRnOHtpJf0dl8b/Bj8cPLOONN95gXv9WLodeoOqmV+N2DHnFgxApkG9oriM1tRVzo/txsmj/WrmSBuf+bD54kYRvRjPyoe95Y/z7HIv4jjFe5qo8t9DQJmjMM6z44g2p7mfR+3o5x4tV+36lmfTjq9jv8CzXYuOJPLqZp2yL2ffTYbxfXUlCQhxfP9/E5qXnKFc2PRTXiQkkhJ9hXDdX4tNrGPjsm4wxX8iBc7t59X53Ura+zKrmiVLdrzM5yI64U4cpkq7NmydG8Obn+wjZuYQJHezoPX0+96m/wJ7QE3w2uZNynfhfK2TP5yeZ9PJ7HL5wlPeeDUb/V4uTF1PvNZGQsChO/bwI+bpLFMnSWf/+fu7bFUZCzGEe6ZbP/j0ZBE1/ifvUXmBv6HE+mdjxlzrVNPDtP05q82Q2nFzPY12NOPvdS6jPPy/1QSgTys+w7opiVgE5cjMTZn+2l4T1L+Gm/8u1cgiaintmOKHFzVTkJtFcWsfQzvbESG3aO/KEVE4UH0v9E3LwCGWNdzBfemMhF7dvZf36zRw+FUfl37x8/P+aCNgFQRAEQRAE4V7R2Ei2tyuubmbK9cZNPAfia1RMB3cjnIwNUFMzxdjFjWt5bZFqxw6emEg5FeuOG9zu8+T6WpIVwXd1OaWVdbi7d2WwqzU+I+fR16qWmCMr+HDVAZJlf2IofO4FXn5hD3GlpZRLZSrWIb+Vgc8gAmI+5WRyJfkNYZj0cEdPta+NBS42Lhjoaqi2/5hi/fJTBz9hS1gqpaUV1Lb8KsJtp4maChtG+/mioaaGvrENfv4OVNsFE+BjJe1Xw9zUGpekLNW378Pxc5f+0dLCVs8AM0XSTRqoLJZjoSGX6i4HUwcCunbA0CmYryf7UpUYwtoPl3AmqpzmOxrWb03/dybgLsvl2Oa3WX0ojGr5rcMFHPB2tEdTQw1NU3MUrVZczwKvUfT11ARtHVzVtTFIL6L+d0Ya3KyKmqIgRne0l36b49wrn9hcxbwF2pga+mFvrqPMdRN9F8Z3r+PNIxkUxJ+j3HISzib1lBf68Gx/xaoHuph7tFKmk01D4x2cfEsTtWVlUj+WUVlVT/NdviaaCNgFQRAEQRAE4V6hq4dHVCKJCcW0SIFMWexerlXacTW+gtTyKlpbpSA5OYHeLoqA6w4YGNGxKgOHPo8xb97zPDyqL3bqeYSHWDDhqTlMGNQLk6ZCQpKKpRD3ZrVxO5n2yS7KVNs3FEexWS1IKm82k4d2weI2MR567jzxoCsv/bCErLIe9HMzUO24My2trWSVVEFdIXHh5TTUS2nyRkry4ukydh7zHhuNo97vzdymjbFFLuvDryGXOrK6PIfwq+mYZp7iyjXFG+VWikrzSO7sicUdLZGuh7mdFonq3syYJ9X/+MN0cLWgLO4oJf1mMmvOCLp4N5KVeJ7KO5k4ryqJXYWBPPfcXIZ3DyK7KI6Y4tt99X4LQ2OcYjZyOEa6Wo0NJLU0Uu1rj4EUv98ZU0wczrI+NEP6XUzKMWe6udq27fpN2jgPn8Wwc5N45UdjBk32Rh8DLB0jefdgjLS/jqI4dawaPNDX1ZDu0WRKK6C+OFu6d4v51aMgPUeGPj2r7f4ZF4T53z0B3/+YCNgFQRAEQRAE4V5h6Mazc3qwasEwdHW06fNoEe4DRjK3SzpP97ZEV9+JuAEbmex7uyi5jdXomTy+oBfOwSPYluvJhx9N58MHPNHW1qXHg3O4Vu+Ko+YHeFvoY+kzitPXzBjf053AkW+h9rg7LgE9OJxeR+y5nXT0c+NXA9Q7T+ALjcdw0nblwYW7yb7tS1VNLEY9zIStG2ntOgSrPwjKrNwDqNVYho/ZJDbFFhM86XuODbFEu/vjnGyoQFNPKlHHgI52PVncwxrtsa+QUilF8b9JHY9RC5hb+i2mBjq4dRvJZZ1uTHzjSTLfG6/si8c+MmTe8/0x/q2Iy24MUx57hU7O3VmwPQ6v6Wt4q2Yu1traaFsO59tt+Zh5uHC4nxX6Jk4MWxmJQY/R2LkO44U33yPI2ovHfrrCbVtp7IRnyCR0dPXw7PcB9TV96Ol5BzO4a7jz5I/Pc2agFdpGHVlz3pmpD3ZE1/Y+5r/9Dl1tfHjy57Db16mkxZBX92H5mZfUB/Zs8RrMjOA/Ctgl+p48OdSTnDED6GqoGBWhQdDsTSw63kUqx5TZB+LpP3kk5jqBTPy2mCHW2gQ9/hH15fr89p36/4Naq0T1WxAEQRAEQRCEu1BJSQkVFRV4eiqGEN8FWvLY9dJJLJ4aQX9/S1WicK9qrk7gy3nf0fvzJfS1UCX+P1FTU0NGRgYBAQGqlD9HvGEXBEEQBEEQBOF/q0kTs0e60sFRLAMmQENOAukT5v+/C9b/DuINuyAIgiAIgiDc5e66N+yCcI8Qb9gFQRAEQRAEQfjbZZ9+iw2h6aqtv0MKP3d7hQu3zDLX0hTJlsf3kafa/m9pyAph0cadpJbfPGtbdeR6Pjicotr6OySzMmildLb/mfgDb/PK8UzV1v9GzP53ePXELXXKa7hy8hBHQzK540nihb+dCNgFQRAEQRAEQfiVxspMiqvvZEry33Z+zVM8uvt66NpAwbV0qm+ZLl5dqzOTV43hDuel/4+1NFaRXlxKfdPNy7U11xSRfUsQ/9d48eTVJ7mzsQ5NpBzcwJIXt5CrakJdWRYZFX9iGby/wW3r1DSk++D7ua+3C3c8SfzvKuP0G4/jo/44h8sU09Y1ELtpFUvf3kfx//Z07yoa70hUvwVBEARBEARBuAvV1dXR0NCAufmv5ly/RQu1xenExSeQnplDubYFNoZaNJSnERMnpWXl0mpoi4muOmWJu0nS7ksPFx3y44pQtzBBWx1q88PJbrLEXKeZ0sxUqawkMnNqMbCxRK/9sueyUkL2bCSkyppOtiYYG9dx6YMz6EwOoCYzhfImDUyNDNFQq6EwtgotawPkZclExSSRkZ1HFUZYGOu2e8PYKrWzhML0HFJzMsjIyEQutdVMR05xegmlZUnEJ2VQqmWOrZSWnppAQlIaOfV62Fno01yWwp6YLJzRoLQon/IqHUwVdWZf5HilB2M6WiNvqCAjKYKElBxyWgxxMtVDXl9GQU4Siak5ZGZmUqJuhFppMtEJaVIbDbEy1kNNsaj9DXXkXipC09GAxoIiivNySUpPIytb6lsjG2XfXtfa0kTapX2cjyhD284BawdTymN2c6zKjc5NhdJ5yjC2N0NXXY2mumJSE6NIktqRo2aKk/Gt86O3Up4Tx7XYVHJycmjWt8JUX4PGylIKU7NJz8skvUIdWws9qvLTuBaTKOWrRNvCgsq4PZyodqWTrK1OEwczdKR7pbK8jNpGdVqr4smoN8NCKo+mWlLzy9HU0UVbo4mc+CvESf1VIdfG3NgADamtt1dPxskcbAIrOB3rxLABNlTExJBZoo9/Px8MNJvIjQ8lViqrXKaBibEhLdL9EFejh42BFsiryYgsRdPOCI3GKjKTw9uuU7NB23WSrl1BQRp5abmkplegf9P9WE9eqHQPOxij3dJIUVoJDVra6OtoSPfORaISpHIqpL42NUZXU43qwnTCoxOk/qlH39IEfa3//D23TCZTfq5ibW2tSvlzRMAuCIIgCIIgCHe5Ow3Y5dVZbNm+gn1HLxMXG0+0zJJ+zrB76/dsPx5KQkw4mcUVOHsF0pzRFrB3t69l3wc/UxHYF3eTao7NfYGQDqPxq45l35KNHIu4RvSVaLI0POjiY/bL29iaRDZ/vZKLuTUYmtrh72VA+CerSfTQJebMQU6eKMWtW0ds9aNYO/Ey9pPtOLxlCTtOKNqRSFaNEQFd3dBXFad4G51+bBM/fryVKyVZxJzbxslQM7oFG3DkvcUcjr9ARGQi+dYBuOVcYsmKHVySAsLwuFjK7AII0Mhjz7lL1EQnER4byYljIeh064VLVbgyYB/tb0bMpY0s37GHmIhkTiaew8t/OLoFh/lqxUccDyshNfYo23ZG09SQydn92/gpXo8HB3VQBtS/iOc7l21Yv92VwlU/smrTKcIzEog6v5PIdH969LW7sRRZS1MdYQe+Zte5HIqqzAgY6I88cgdbT1SjlnGVg9t3URI4hO5mLYSeXc/q3YeIuZbEsaQz+HcYjvUvnSPF662kXtzK2t1niQk7xqUQM7qOcKfs/DaWv7WOy+U5xFSa0dOxgk0f/8jOiBjSLlym0GsQDtm72H6iChR1bpPq7DKMHuZNXDx2mJgiA8xLl7Nglw3j+jsgyzjOd/uv4uDVAXn0F6zYdJarkdFExxVg5RuAvfFvrbGnCNgjaOgyiMBTB4gK7oldTsKNgL362ucs33iKsGuxRMfmYObhh1n+Gt5cCkOGu0ttO8x7n6TSeZwf+Zc38cOOXTeuk4f/CPSLT/Lt8vcJu1JKdEwlHv27YXPjmUYyy/23Y7qoL7b1OWx5bRcFji74aSXx2hcfcTUmh8iYImwD/XBqyWTThxvYGR1G8vlEzhk7MsLzP1/J4K8G7GJIvCAIgiAIgiDcI9RqS7kanUmq6SDe+uobXhvoQnX2BTJbnZn/1nd88803eNYcVa5Vfp2mjht+Y+3JiMyiqSCcJRqP8miALtnhJ9h9OITsinLKK0LZ8OlpClXHKJl0YcTUXnSf+SavTrsPawPF604tAsc8z+JvP2Q0BpSU17blVZAVkXgpn6LcHsz7+gvmj/JHT7XrF+oYunRn3qIPWfz9p3gmfkpkkSJdC5deL/DVV4tZ1N2EixnZ2N0/i+++Xcx3E7U5+tF5lGdk1oEJb33A4m++ZOIgGccuZ3N9hH5LUy2X9n3NyauVlJeXU7V/GRsipSBWomHXiTmvvsvixS/S52ISzqNfZvFnC/CJKiK9+eYh9jdTx9Rb6usPPueLT+ZgcjSO9p/wa2jrERA0nYcGPcZ7X06ng5EU7KppYdt9NC8sXsynz1tyKaaKpppCzuxbQUh0W9uqd37DzrgaVSkqamrYewTgLO0vr6jmyMqztH2VroaBY1dmL3ifxU/3pyXtHOetR/O91DeLv1/AYGddKYs2dj3G8KKyTnMuRLed93X2vefQPXoj0VWNZIaXEWDqgauZnMsr32F3RIXUpgpiDq/mSGyp6ojfY8uQLwNIfe1ku/ulhrBV77AtTFFWOfEnt3A0MhfjoKcY3bqa2GIZqZdT8Hi8G87NjVze/znHrqiu08GfWBehuk5GLoyYu4gvFz9DxztZgKDqGmEnNPHo/AQfvDoNPwsDmlMP8cn6Y1Qq+rHqPD9vCaFSlf2fIAJ2QRAEQRAEQbhHaFh14PVXP+TrB3V4p0snps65SHZTDbYWOpjqakuhnR66ZubkVrYLBtU1sbO3pil5C2eOb6TLhM5Y0IqswYSAwU/xyhuLWPT+UjaueUAKxf6IE3ZmOqCphYH0134EPSY+zH/vPT5935UdAYFMfXkH2bfEpEjtMzWwQE8xNl/PGlu7PBqU3z/bY25i2DY0vbWFWgM9tO3N0FFmc8YiuVQKCSUGOlKaupRPCqRN3JDXN9KsSJe0Ssfpmxnx6JzXWLRoEV+svcr8ngbKfSY62uhqto0d0NJwwNJECqy1dLCRAsna311zSzGs31Q6Rg01fUPuaBE7bQ10XE2VIwv09G2ktqrR0tKEmZ0dTz4v9bXUtq82xvJM15sfZ7Q2F7L3p4/QHDeXRfOnE2RqqNqji4m+pXL4t0JzUyO1Xk6YakkbJq74WUrnpajTxVT5gOR6nTfR9WDSkGze3hHK5eYWGj19MNRspL5Gk0fmviO16U2+XruRmb3sVAf8Pl3nhxje6wj7rl1/fCGjpqKVh+e+qyzry5/XMmuwl3Q/WuHQ250t+45wMteSnm6Kdd9a0TPSZfps1XVaE8rLvduGGhhL94CJro503B1yn8SmbW8TWLOHp/s/w44rxbTW16E14Qlek8pe9NEPXHp3HG13wT9DBOyCIAiCIAiCcI8oTbjCpWvh6LkM4eOQbxmcEUY9npwPLyIsM5vq6lQKomMZ5+emOkJBHXu37tRpFvLWPh+mdZeCMnUNzGyaqCq8hlzTGicnJwpizkll3UxdQ4PWhlrqGmS0/MFq0nUpxzkSnYK+VTeeOrOOkfaHKKpQ7byhBXlTA7U1NdScW8O7F1+lo5dq13WaOrjnllB6KJSsshpST+0hek4PlGckl1FXV0tlRRJhp/fRt7OXFM62UdeQgvKGTsReLsZQOh8nrWgup9z0SOG/QE2qV53WFqldNQ3If6OPtHSkUL/IjYT4GswUbdMI42rGzW1rVTx6kPrGzc8XJ0MtrqrdvixdUxvcVu8gNF/qw/ANfBNap9rzezRwf3oBQQu/IqZQRv9O9tJdYYlrJ132XU7BVNEmWSGXSxuV3/x/835P3jydpTr2dvTwGTWCwq+/I0S5bY5HFwN2nInHRFFWcxkRpVK71NTw6TISi8PvkG6ugYeNmZSkiX5zEDHnCzBQ5NWO5WLyH02Lpy7dFtdITq2hNCuZkNxUyqXUol2zOFjlTq8nnmXuc/rUVJSi7uhOcOhq8lqlsp2MSbiW/jdNuvefEQG7IAiCIAiCINwjLBwdyQ0/xRMPjWXs2PcxWr6Ifl0G8t5YA7a9PYNxDzxLyyN7GOIihVSWfjiaqT6SNrbkfisPHujnj52h4j2sFu6DpzJ+kCFfPzNRKmssP7T4YdKW+4aA/pPw+HE+877ZSm6VLi4DAzBXfuKsjYWPLWaG2qipm+DY1RZzp45oX9zDrEljmTBtEcnDltDfUVlMO+Vc2PkpMxTtf7uc9WefxlNDF1tvB6xNVR8saxnTf/pDmDQf4TEp31NpT7N/Rgc09MzpkHOehU9M5oHJ88kas5qpnY3QNHHCx8YAdW1D7p/1NB1lnzFDOp+xT0dg6SzF//pWODu4Y6iteG9rjHNPb4wVEZymIW5BTpj8KqIyxHWgi/S/mhg5OmDvaIYUk0uBuQkOgbY3HhC00cSpWze0TE/yzKSvCatoxMjGlw5WbW/Ptcxc8bPRRdPInofnTsA09R0eUbRtVjIWDsosN6ir29F9yAN885y0f+lJxna0V77R1zOzxsHbRjnaQMG0w0QefkydhVOlfC9n09tHA2NbRZ1t11rTzA1/qU6kwNjM0gZrc33VG+tgen+oj6VnX+xVt0XvVxJ5qu5rpiraNP8sioEHaupaOLoG4WZ685kq7hlTNyfsbAxRfPJvbD+Qh7+YgZ+bBYo53bq/nMpCze+Zpihr7iHUVGvJmVg74B40jQCH3hhJ3aKmqcPQZ54jWOMrHlPkfeoKVtL9qqVngZODB0bXT/QmvszY1pGlT41lzpdbcfDshrfUWOuBM0leJJUxdjLv5fVnbC9vNJwn8+J7qn4cO52LDbeex/+WWqtE9VsQBEEQBEEQhLtQSUmJcmIrT887W0zs7iQjee9Wjp3T4YH3J2L3z8ZRgnBHampqyMjIICAgQJXy59zu8YMgCIIgCIIgCMK/jCZ23foxfHovzBTfXwvCPUAE7IIgCIIgCIIg3AXUMbR3waOTI7r/7U/LBeFfQgTsgiAIgiAIgiDcha7wlccSklRbdyT9AF1nr7l5+bm/U/ohuj2/igLV5j8iP5Rpb/9ISH61KkGlpYnq0jpUn4aTffptXl65karG31uW7nZakFXX0iC7Pr/+7bXKG6msb6DlT3yALa/M5sDOHziVfuv0hb84/5Eh6+NUG/cAEbALgiAIgiAIgnBvMLVggIkRynnv7jXll3i503dcU23+54o5+sJnbD6bo9q+vdrEfUxeuo2CGpkq5Y8pJgAc9eBsBrndvGTdvUzjHYnqtyAIgiAIgiAId6G6ujoaGhowNzdXpfwWOfmRB1mzbhOHjp8h0ciPbvaGlCfv5+c1mzh87Bxyx2DczbUoS9zN8XNhbN66izNRSdSpyQk7vI2d+45SadsdX0tF2Csj4/xGlq3bzdnLEWg4dcHJRFNqUDo7v1jK1pOXyS23wN3PEu3aVLZ9GktmzWo2bjpDYYsJbo52aKu3kh1+gG9WbOLMmRKsOrphrf/rj9STjr/L9+vOcCarBkcnZ8z1irj4bS7e84KxqExnzdp17Nl/mIiYRpw6emLcnMfxlatZd+AwUYlynALcMVLM7m5mQ0dHU2qLEziwfglbD0hlNloz0NOqraJ2Eo+9y5L10v4EqV1SnVaGTVza8DE/7zpDXqMuLk6O6EhlVqZdYO23q9h/RspbZMkzD/XAsLmO5PMHWLd6C0fO5GAV1Alr1UT2t1WXwd7FMWTVrGL90Sy0bN3Ry9zC4p92c/JyJOUW3vhZ6lGfdoJPvl/P6dOnSSmswd7NG0PpUrRURLH202XsUbQhU4PR9/XEyeh6hTKyLm5h+aYTZMvzqdRwwr4lgrCsSipOhbA75DIFWo74OJqgQT2xuz5n6daTRGaUYOnkhbn+L98g1OSFsWPTWs6kZJISZ4h7Z8hOvIyasQcGWnVE7f6aYtPOlF7aw4ad0nVOS6TRIRgfg2pOHtzG2i17OFNoTHCAHWqVWRyMukjS9gNsOXIEA7cuVOZEUKVpi3l1FO9+8aN0T5whOqcKG2cPTHXVyTr3ERW+r9FJN4dtWzawffdBLl2pxLGLb9va8te1NJETcZx1P27g0JkqnHt5YqbeROaVSC6dOcz+E3s50ujOQNdb1zb4e8lkMuWEkNbW1qqUP0e8YRcEQRAEQRCEe4SsKJ6fQ6JQd/AnKCgIraw4yvOvsWTnJWTWPnTt4kLc5lcJL4SyhF28dzlPyicF4a1pHFq2E7mFL0Fm+by+7go1UnklMVvYFiUFzQFd8XczJeHAHrLqizj99ltcUZfySsF3dspZdl7NRS4F7FvffYaE1iCCPEw5ePYKcSU1NBeeZsPnKThJ7QmyL2LRodi2xrZTeel75oaZKNvs0niOC1GR/DIiu4rI9YfJLDOmS9cgPKzyySmuJHzFPuJrzJXHWKilcPxEMjI9R0b0cKVVCubCzm/lZKOTcr9ZfhK3Lvleeek75u5pwlfa79xUS2FVKQk7p/FWkpl0jBc1h6XAODSbltZEdr30ATUOUvsDPNHXbXt/X5oUyrmtSVgHKM63gpXfneeWQeo3q8tk96fziJBJ+f29MCk6z9tnCvHt2IWO7qYUhC4huRw0jBzoKp1nUGcf6q/FceZkGg2ks3XSk2RbSemdfDE3vvUNtQaGFraYaTjg1zUQL1tDKQXiU0ox7BBABzc9Uo5K5ZdB1sk3WJFpL51jIFayIiKuRFB9fRy9RMvAFEs9O1y9OkrtsJWC7kxiI49QrBzFXkvUzk+JLtXC2MIcfUdXOgV2wcW4haSTBzl1qgT3TtI1KljL7P1pyCuy2P/DIeLUbeki9bO5WgXx0SGkljUp1hVUXpugoA7oJMZy4VAMdTeueR0J+06SnKpOhy5BdLDLI+OW7xDqSi5z4Kt1qLtJZVinM/Ob01S1NJJ5aTuHTidh7yml2xmqcv97iYBdEARBEARBEO4RWmpSkH3xBG9uS6fLiJFMH9kbWWEE1s6OTBw3idGjH8HVWsbG6Cxlfn+fYCltFEM6BeKp5UO/YSMYPeE+/NdFkYeMgsRotn/zCc8+/RTPzH6F5Xv2kJeVzzm1Acx4dgyjH7if4bZq1ByNoVI5Mno8A0aMZvT4kQQZGoCsiea0EN7f+TavzpzJzNde5+C2EIqVtf8iPexrjn30PjOlPK+8uoR1J9NpbL7+cbQWcv1Y9q54mUSLIYx5aApBZmVcC9/LFx+8oDzmhUWLOXg0nUrVEWrSf1oLc/h57THKbAJ5Zsr9yjXL20u78hWDprzJpNGjefSZKfRzNyT+oCaPPz5b6pOHGTKkiFOpUTTnRXHN8XEefVw6r8HBmBgq3mq3UpYawoqfP2TebOm8XnyTVV+FkttW9O8YSX9F/wzohUnVea4s/5Bnn3qaZ599iSXro0ktqUfbClKfeZqZz8zl7e8PEF1QSXNxEnsNZ/LE09KxQ/viYH3r2Whg7uSJnZYffe8fTg8PC2XA7tmhK4NGSscMH0EHqwyqGmtIuXCRVe+/IvXbM8xb+DrbzoRT09hWioKOiR0uJl507jmYkfd7YKRKv4m6DlaOdhj5BzJUus86WUJiUy26YyYwdfxoHhnfnZbXT5CmyBvgRvAY6b6S+tm5fbONDGjcI/XdzDksWryJS4UVNN343F6DZr00jm15jRjNzoye8gS9nVW7VOqKsynyn84j06Tze2ogA75cx8UixR4n3P3GMGKUlO79RyNS/nkiYBcEQRAEQRCEe0SrqTcf/bif4hW9+MjXmeDgn0ltVaOltRXpv4oc0NKCupoU2Ut01K8PhVZDQ0MLdXUpXUrTaWxBETspso1d9DNJ2fkUFhYTsncVQVKArtbSrCxTQSpZOkZKUxZpgJZiWLq0oSX9KYMRdU0C564kPqeAguJSqjfP4tbB6YqcD39zleyCAopLytn/xkQMtdvaSKsWvpO/4GJiEcOudcGrczDfXS6XjhnIR3uuUCAdU1Qcy7rPByLFjW3UNOg57XPKT72PbPmzeBgu5PItc6hJZ4y8uUXRelqlPlFMnqam3oJc+q3Q2qJoleK8pL9W6aSk5rQ0y6V+bDtv1Gy5f8ZqInPzKSgqpyBrFt6K45rqKS6vQnbjgUN7Bmgr+kdJneCZP5CYnSf1bRHXDq5jiHsTR9+YxqUvwyjITmDDa5OxU2RVtKFZS9nHra1Sm1Vt/CNaUmWKS6qmpq64rEqK83l2fTx5yr4uZv17M7HRb9v3W5oV/aPooOZG6n97vjjlvXWjPzUUvSfR0UBT+n2rqJ/u4zGPfRTkp3Dog6fpoEpXkvrbfcSrHI4u5qHCh3Hz8OCDsyWqne0o70PpX+mayNWl+pQVaqKprq36/e8nvmEXBEEQBEEQhLvcnX7DXp1+lW27dxCZJwW5wz2xLDKgy8juRIZeJC4zl4K0cLJyqhg9YiLaObu50NCVMYFOVGbEkRTXjM/wzpg0JLJrWQX9X+mDTWsxOw4cp7Cqjuz4BBITitDx98Ti/Cq2R8iozEvkck4TNvf1Ici0iB1f5jHgrf7YNJURFpaLg78X9laa5Kz/nsuVupRlhnMyTk7PAAdVi9vooc3aDzZSaSYnJ+IScdUWeDvWceW7XLyfdePyvl1cDoujzmI43iZ6NAX2oC+X2X4iCVljERGxiWRVN+PubKt8s9za3MSFte+wK1ULO38b7MrU8RrdH6d2I8n11LRYvGk3LfVVhF6IRGblhKvJMT4/mINeeTLRZ1sJ7DcMb38Lin/awZmmWiqSL7E3TZ8nxgdj1JJPxLHdxJXUk5+VxJGIbDoHelIVvpGF68PwC+yEld6N6Fw5JH7PkhyCF/RVBuHaahqc+HE/MWr1lMTHEp+ch7aNB7q5Z7mYZ0hrcRxnLqfT6uRPr35OaP60kQOtTdSkhnE8uZHBA4LbfcMuaa4j9uhBMkxbaVWzwLAmlCvllgzoFICmvJKU2OMY+kzF1SCZb34+gYZaHamhUaTUSn3kaIXejZhaTll0BCGFRVSVGGDnpk7cxfPEptWTV5TA2fXHcJv8Kh2MCrh0NorG8mJarLxwKM3g6qHLZFQWEBkWSsHkh3nEqprDiQV08g3E2USHloZKElPi0HbojkNjKKkxumjUpxEWGkeDhQ/dg10pCvmICs85VETt5sTZa9SbDSTQVI8y/14Mbf+KXq2a9E2rCC9vJSckkr29RvDiYDsKrsRQJPVw554O/N6UAn+Xv/oNuwjYBUEQBEEQBOEud6cBu46eFBQXFZCUnEFZGfSa+zQ9PBzpaCsnLS6Z3MIGuk1eRE9HLdQ0tDC29sXT2kT6rYGBhQ0OntboSL+1ja3x6eGAhZUPnc0aiInNoKisHkPbIII6OuPVuwv1kZdIKGvEI2AoYwa4oqumjraRJX59nDBQU0NT2xB7R2uMzT3w9LUkPiZOalM1TkF9CXC4eUi3rkM3enrEExlVRlmVPr6BAbhZG6GlY4pjDzfsW0tJSEwkp7AMI8cHmDFa2t/RH6PyLKKycqmSq+HUpTfeZrrK8hRvkTU0WoiMUNQpw/epxxjhcfPgbl0paAzWu0qoVGeDnSd9pPI8A8fgU3KJsNQaHAcNYXAvP3Q1LbDrqEHE1RjUTVzoFNiNXr52mJg5Ym+nR3ZSEnlSZ2t2G8EARw0SD4eiZ9uZXl090G7/YlnqHy1DC7x7OKL4slrL1JXuHWqIC8+guKwOA0t/Aju64ObhS0pkKKV1TTj4BDGkmzd2tg50GGJB6MUI5Drm+HXuSQ8/J4y1r4+QkOhY4RmQTUR4CRrWnvg5W0h97467rRWa6upo6hhhZeeLo3cfeukkcTWhmLJaPTz8OuLp0PbNextdrDwNyEqXzqvQkq6D/bFp1SYzKZl8ow6MG+mHq29PqU2WeFYUE52eiZ5XL3p0dkNTrYjEpHRqPR7inbG+aEnnrGNgjre9PcY6ihqk+0LHACtrB1w9uqAVe4WkOhnmHh3pEdQBJwcTtLV0MXMdgKdBNRnJ8WTml6Fm8QDPTvSl/UAALT1b7NzNSIuKJlfegUXzBmOjqYG6ljbmTvbY2xu1O6f/nr8asKu13hizIQiCIAiCIAjC3aikpEQZFHh6eqpShH+lpmIO7r6IgWt3+nW3E98n3wNqamrIyMggICBAlfLniHtEEARBEARBEAThf0HLkmEPjKRvkK0IxIQ7Iu4TQRAEQRAEQRD+NRorMihvUG38I+RU51VSL//1xG3NNQVkVLSbMv1PU0NLUxON1gYK08r4R0/zv6oVWU0J5VU1bZO+3aG68kxqm1QbgpII2AVBEARBEARB+NcouPI9IXmqjTvSSEF4LKlZlcoZyP+6KuI2XyWjWkZLUx3pCafIrmxbiLzk8ALu2xCn/P1n1WSc53i6amG5iqu8M2AFMW1b/w/JSDr6Bav3nfhTAXjapWUklas2BCURsAuCIAiCIAiC8K/hMuwLRrmrNu5IDbGb9nImNIfbrpT2p5nT48XB+JnpIq8v49zBzwnN/Stv1dsUXviej87nqLaE2wm4/2O6/Gdzs/2/JQJ2QRAEQRAEQbiXFFzh2RkT6Nu3LxOmfUdcNeSFfM6UcX3p268/y0KrlNlyzn3Ap+/PV+brO/EJvtqxjVeffkC5/dGZttegRdd+ZsnHsxg0aBB9R4xlwZZDfPXqFGWehQcUwWkjaUfOcnJ7PHWKA4qP88UT+1G8QM+98Amfr/6aRYryR03h04OJUm5I3jmFTfGKzE2kn13OzAek/VKecVsSkBXH891rU9vaJP3tTIbK9DD2xyzn4zemM6DvSpJpJi9iG/Mnt+V5/ViporCbNEavY86hdOlXCWff/pFD0WU0N1ZxbNPzHEvN5NTCPUSU1FEesZ0Pvr/EG9OG8tH2K8haoOr/2rvzsKjK/g3gN9uwLzrsqwq4Em5oWlqaaS6lmalpruWCueT2aqa5Vi6pba+pqUhm5r4i5oYaLvkqCIYgKMoOwoAMDDBsM78zZ47lVqn1uxrw/lzXXJzne55znnPOzB/eni3jJ8wVx5+OvZdzH3pW/9eN+rEHTl2MS9nCXhWcxdcLjyN60VAMmrkScbkVYr9Ta/T9Ji3ZgAzhe9ApjN+JMeL6h+Hb4zdQJQxw+dACjJw9B2OF+mcH4qR35utlnl2K5aEr8aFumbuOo7AmHJilX//gD77AFXHMRHzXdTYWLQxGh6FzcPTaTZxY3FPs02Ho+/gxTv8u8/jvu4i1fhPm4pd0/YX7caEdMfuzFRip6ztqGaJvqcT6/c6v1Y3ZGcNmb0ai9Gr0Sz+8jhNpuqlSRH83Ad9fKkZ1aT727l+C6cHj8Kawzo2xlbiwbTjOZgq/x3OfYUXoCv0+9RyIxWFXpX0Cotfp90n3mb/pBFT3ncEvjtmEV18Rfo/C/KETZ0PapRqLgZ2IiIiI6GlRmopN83ejce8FOHY8Al8FWyD+fARm7y/HsM924fjRTZD92AtHUwB1wTWs1QYhIuIoQse2QMqmU3jtg02IWPkmvvzhJHSRvVyZjh8rfbF5Txj2/HcoNF+sQb0hqxGxajRWb/1ZiMMalOTmIz9LJcRo3QJ5uBF7S7x3W307GetPqDEh4ji2Lx0A28vf4roQrlQ50cgUsqAyJRIrfj6LVxbtFLZhGwZnJaDEsTHeWxgqtCMQ8cNEhL+6Brn1WqFH01H4z/wQHIsYAfe8RByK3I2X54UJ/XagyYZxOJKrG/x3RhZGMFl2BqnZyVh77ht8HSHE/EoF8hIc4exoAsXVHCgrquHQoi9mjWuL+RvDMaNva/E1bGZ77DFYGH/jh9U4EXUeVffdpJ1/ZBaCDo/FzojDmNtFg8jDO5Bv2Q7vfdgZLWaFYNMn76OZs0zo+TmMWwv7sXsd6srUOHUtSzhaUVjX8xgG7xTqeyYh68R5ZJZXoSg+CdlprTFHGHdKr2YwMtKPpaMu0B/H8cK87csGQn36c1xIVSN2zfPY2XKrcAx+wsw2DrgcHYPSahVuXtgAk46LEBEyH62yfsRbmsni8dyx4H20MFEgJ2IB2h8agu0RR7C4b11cPBSKbOH7KE4/g/D8JlgeEYYlLWMQcVH4kdxHcXASXj0/AbuEfd+wYBAayvV1ZeZFKMp0U9VQpschQ3eLQXUlco5dR4XfUHwrjD8s0AyFWTG4LSRz9e0b2HCyTNynHSuGwOHX1UgSfhuKQ9PQOfI94dj+hG+mvgh7rQLV9z1qwLb529h94DAijoZhbDMfRGz8BdKNCDUSAzsRERER0dOiVIWY9i0R1NYHFuYyeHQYjRfkN/BikBNaerjA3NwbLoHNceCq7uwz8LKPN2QyGcxMXNDQ41l4u9lC5lUf3fal4pbYA2jv7gYbC0vIzOzgWbcjGtdzgMzdE6/tTcVfXQDeufOz8JCZw9beGY5umrvOVmtRVmyM55y6oZ2vq7ANHhg4pS9sylJxaOF49GrZBm17foDTVdXQGhnDxNgEpqZmMJOZoEqdh7j9RzClfye0bdsDy68moVR/0cBvTOp1QafO8bhwIReDJ42Fb3wskpTXkWv7EvztpU4CIyMTmJgYw9RMBlPhr47lxPZoLBwTV9dAmFs8+N77zLSjmDd5KFxl1qjv3xKnC9XILSmHiakxjHXbaGoCfd6ego5tZJDZ2aOpQx246E6bZ6UiMisM47q3Rduuo7A3LBE5uuv8Ha3g3O8ZeAnjmhrfldYl+uMog5NLExh7eSO1OANpCWocm/OqcAw6YPiiL3A5qxhaIdxayHrh+WechO/LFHLvVmhyaC56LtqH7OJK2Dl6IzfjBD4YPxDuMit4NWiOKLUG6UX6s+ldhXHkMge4eVvCzPze/6jQSb8ZjlnvvQUX3W9Gt58Pbuq9AlxQr0N91BX6m9zXt1OntuI+2dpJvw1huIyUnzB7wmDh2P7R+jVQ5Z3E8mc7oG27F/DOJ1tw8/5EX8MwsBMRERERPS1MTVHnlgL5ihIxHJflJiJbbYusPDUKysqFWinU+Qp4Odjq+/8jyqGuUItnQstupYiXwz8KE1MtcsoykKfSXQytxs24G0iPP4VYC2d8cTIKMfvmw0ff9R7GJhbwerYTlu84heiYGMQc2YUgD2mmxNjYEV5+SoSdzYKDZw8Mqn8JKz/5DsmBfrCS+jwpa2s3RMUlC3utQUlxvhBeTWAhhMtHYmUDH6ce+Orw/xAjbPuJ8DF4xvIRlxWUKbNhlFMGuaUdrO2N0Wn2HpzXHYOzJ/D+m+1gbip1lBRqXBESHondI+ywdeoCrF13HpUWrrgUf1M44hqUqgrgKCRGazMzaYk/Z23jiZjsPGGqGhWF5agS74MQYrSQtovVFUBFMXIyhSPzhBna2sYDl+6sXymsv0Rf/10pokKWIuvDLYi5eBZrZvSDgzSnpmJgJyIiIiJ6Wti4Y4C/FXb9dyGCxwbjo0WRUHt1gJ9ZGlZ8FIxx497DNYfX8FYzR2mBv8sMzn5WiI9bj8nCeKtPP/ye7wcZwd6zATztsrDmo7EIDh6LTZeK4eDkC+PbKfhkxgQEbzkrrcsa9do64PT+FXgv+ADy6/qiSUMv7F6mWy5Y2M+DD5zpNzI2hpW1HywylKjj7YVWvQKQsCUT3Zu5ST30TMyt4Wrpin3zJ+G7iAQ85E1vD/DoMBt+V8ZirLDNC7dGo1PztnCzkaFO845w3LgAc1f9iBu3/+DR6Q4t0W+MBhvHStv+XQTUjzDo1b2fi8foP8tC4FCvM9p6OCNw4ExYCIFffwxW4FB0DvTPur9L9v8wdcpEzPhsJ5S+TmjyjAd8201Dw6Rp4nLzQn9GUEB71Hcwlxb4c96dZ0J2ULfts7B272UopS/bo1F3HJ0r1BeuwbmMwkf8DTzI68XpsD6kW/9MfLMrRrwt417m8G/xPBJ3LUXw5OlYc/aGVK+5jLQCaZqIiIiIiGoghUKBwsJC+Pn5SZU/UVGMpORUqMoqYG7pDb8mQjhXpiE5TSGEQyO4+D4DDztT8X3ot6od4S23FhYphLJQC3uPupBVFyIloQKugc4wVmUjT20OV3ldoLII+ellsKvnAgttMVLiSuDSwhXmFSqkp6Uiv6gcDm7uMFMKIb6xXBzzVlUdYf22qBb6FAljWNh7Qns7HsXWTeFipYW6MBsp6TkoFfKtvEEgfGyrkZWRhpz8YiHc2kNeZgfXZk4wLc3H9ZRMlKiF0NnKFcbFecKYGRCGFLiLNUtx539XoboNZYEG9p5yYZ+UuBl/G47N6sHWtBK3byhh5lUXNqZASX4WUtNyYe3lDzfTfFyrckYzJyvxoWk55eZwr2MjXeL+u5LsaCRmC/HRTg4fby/YyIyh1RQjLeYaSuyd4OPugPzkUjgGuMBKI4x3uximlrawtTJDVUkekhPTIZ48lnuhubcjygrSoTBxQb2HBOfksDGYd7kVpnZvC1NzK3jU94fcSndWvgqKG5eRVqjrZQP3Bt5wcdDg1uU82DT1EfcN6tu4nJiKqmoNZNb28PKpD3sLY5TkxCAxS6jZCN+Pjw/szHW1aBRaBep/G8pUKI2d4Wx7/1G9M6YZLCxMYO/qAbc69tCUCft0VdgnSzvILcph7tRY+H41yC/Ig8bSCc7W+jP4RbkJ0No3gYU6DblVDvCS20FTWQJlUYHw2/CCpWkV8oX1pxaWI2n7IeQ16IKR77yo35c7hH36NSkVlRrAzLKOsM+OkLtY49GvU/hnqVQqpKSkICAgQKo8HgZ2IiIiIqIa7rECO9UqNw6OxXLFAHwzvItUqcVuhaOvR28cECb9ewUj5L/L0d7LQj/PQDGwExERERE95RjYiQzT3w3svIediIiIiOgpp0w5gdg03cO8/lmKpJOIzbnzBm0ielwM7ERERERETzljUwvITB8eDRL3j8Ge+Acex/1IMqO249RN3VvX/1lZ51Zg7dlHfd78HUrErN+D0/H5UpvI8DGwExERERE95Ww926OJu1xq3Svn1y2IMbCz5MqbxxB5Qym1HlUZMs7G4Hr2k/3nA9G/gYGdiIiIiOgpkX9lGxavXoSEvAqxHbNvMYavu4ArB4Px1dFoQKvBwZBheO61vmhvY4MZS2ag+8ISLO7lhW6j5uD8geUY/WO8uOztawexYtV0RGXpwnw0Zgv9bYSPdZu3sf1yFv7wZWRaLTIvrEHf56zE/vZDfoRCq0bcgQXo1MhaqFlheWQ5qrVKnF28EosGD4CbmyPkbt5YfFwBbcZpfLDmJraNag0v/wDsv1aN60dmoF0T3bI2aLXmPKo1WlQnheP5lv5iLeDZD3Hw+H6sv7wYwa82gdxpJRKkzSEyZAzsRERERERPCblfR/gZ+SA7Rwi+KELKudMY0avNva88U5igfuupOKRSYdkHy/DTXGvMOpiOI+s/RqM6Up8HtMIHiWcRFhaGkEFaHIk8i/LKhz/buqLgGnafSsRrn1+HUhjjbHctMlKjsD0uB9MPZkGlugzLca9jf6ruXeWZKGjQD/E3c5F8dDnUX0Ug07MDlgTXx8D1UUi/FocupqewLFKNQfN3iOMPT3oHu5PycDLkDLq+PR9XsoQx9r4O36a9MSpwFtaEJSA/byqa6DeHyKAxsBMRERERPS3MnRDkrcbBhBuozvwJB3PGIdBdmneHkzXk7TzhIDUfya0oLJ61FpvDw3HifDKUpVL9ISorVHCTl6FVfXfx3djNhgyCR7kRGtu2RYC7vVDxQ7NBZ3H5ZrEw7YWmPj4wNzOGqdwZ92+qjro0D5Y5UYiNPI5wYXyFfATcrSzR8I3msCiOxc/hn+E7IaRXGOmvKiCqSRjYiYiIiIieGmbwbN8CVjtP4ItVR+A3qQMefuf6H4vJ0z20rRrF2VnIvaKvISMSm4o74ONln2DSgPZwtpbqD2FqZo3cQgvEpd0S1gIk7dmHHHMtrpfEIPFWkVBJQdK+IDT2shH7/xVzS7mwV+3R492ZWLpsGWaN7gJnlCJJ0wgj3l+InoE+yL8Wjm3x9z0Fv1KJi9t3YN+Rq1DrNoTIADGwExERERE9RczqtELfjifwcXIQhjT/6/PoLXrMw7m3W2Hg1CXI9XsZfdaNR4MGgRg68zxKfKVOAb0xVjsF7Rp0xIQvTyKvSqo/hKyuL15p44/9HwbBr0EDdEtwQEPP5ujR0A5fDHxGWHcHKD/ait71ZdISD/LrOBYmC15Hy/Yv4rSmA4Z2B/47Ngi+wvpe6r8D+ZbWsEhYj36dGqPNqx/gWFRn9G8fgDaD5Fjzn+5o3HStEOjLkRUXj6vXFah6+NX7RP86I61AmiYiIiIiohpIoVCgsLAQfn5+UoWIDIFKpUJKSgoCAgKkyuPhGXYiIiIiIiIiA8TATkRERERERGSAGNiJiIiIiIiIDBADOxEREREREZEBYmAnIiIiIiIiMkAM7EREREREREQGiIGdiIiIiIiIyAAxsBMREREREREZIAZ2IiIiIiIiIgPEwE5ERERERERkgBjYiYiIiIiIiAwQAzsRERERERGRATLSCqRpIiIiIiKqgRQKBQoLC+Hn5ydVar7KykpcuXIFly5dglqtlqpUW7m4uKBLly6wt7eXKrWDSqVCSkoKAgICpMrjYWAnIiIiIqrhamNgz8jIwJkzZxAUFAQHBwepSrVVbGws8vPz0b9/f6lSO/zdwM5L4omIiIiIyODozqqbm5tDLpfDxMSEn1r+adWqFTIzM6Vvn+5gYCciIiIiIiIyQAzsRERERERE/5DsX1Zi2tFUqfX/J+nsNvxwLg2VUptqJwZ2IiIiIiKqkbJ/Xo3OnTvf9QlFsm5GYTK+nLcZ4VfzxX6PLf0k3nx9M5Kk5uMoSDqA0NhcqXW/ElzZ+iU2/3ASqr+ZtLOunsbPiXmoktr/X0oTwzB65V4U/I0nn10/9Almbr2MMqlNj46BnYiIiIiIap6YVXhxQjKW7D6BEyf0n+V95uD0FUBbVYb0lBzkq8qh0WggZk2tFlphWtcWa3cFUF1d9yxucb7ur7oQV+JyUCK1H6Drc19dXF7422zoceRNa3OnqK9rpXG11Si5lY6cnNuoqta1xU73rktaRmr8tr36bb53zD/z25j3LffbMdCNI9XEbZD66Zf5fV5VaT4S03JRLtXvuOdYSjWde+riDC1K8lORnFuM6t9q9KgY2ImIiIiIqMYpvHUDps82hJNZtVQBWk/OwPBGJYg9fgAXI0OxcuIgdOvWDYdTqpAZtQ3ThnUT2127tMMbXx1GUYVuqWSEBAVgRkg4FgnzRn04GwsX/YBiZSjGC+3R0xfgyj0n6itw8/AaLJmzCtcK9Oe3VVmXsHRRMHZdvY0r33eB04oLQrUS149/jikfzULIgrfQrddrGL1hP/ZFHEDoxo/Rt1c3DNh1FTmXd+LTJXMRk10urivj0Er0GRGGbF0jLQKv9+4lbvNLHXti3Kfbkab6q3PqGqhyL+PbOb31+/rSYMz76jTyNdUoTNuFuW1fEupd0XH0NOy6lIZqIUArU8PwyUuvYNbE6XhTWOb5wN7YeFmJauUNhGz9Ccnhq/DWK90wPHg9EovKkRu7D3Pf6Ceu/9V+/bH+SBLKqnTr34N54vq74eUX+mHxzmiUXd2L91Ycx8V109C72xiEnEhGFUP7I2NgJyIiIiKiGsehWR+8XHUQ85esxvr168XP0WvFgKk1WnTpjTYdR2Laqm04duwYutczhUfQW1i5+ZjY/mnbUgREfoHTab9fl34tyhbBwryQxZ9i3ty3YWs/EquF9oYV89FMLnUSyeDZ+nlAW4SY5Fvi2eWsxPOorOiJDg3q6LvcpeD6bbgNXItjhw5iw6jeeF3YtpHvzMW+8GPY+WZDqdcf8O6C/WGHxG0+uHk6jLMvITq14J4z2g8ozcbOr0LxS+BccbkjB77BqN7uMClIwvIpW+AWGibUD2PnO01wdMtx3CzRHwNlpQ0CRszEDmGZbXO1WLUyAvn2DfDuoB7w6zUB248ew/ffjoZvRQLWbT2BpjO+xrGjR/DtzD7IObUB1wqUOLdqPqKmbtQf410L0L2lE4z9+2LN9C5oM2YlDhxbj3df8oWpkTgkPQIGdiIiIiIiqnk8X8CnC+eje9O6sLKygpUmHVumTcbOKyqpw32K0vD96iUYP348Js39Dr9WVENZqj+rrdN1zAtwlqb/ilkdX3RtVIbElJuo1hQh4Uw4XHp1gJNM6nAXr/at0cLTVmo9rlJEb5oibvOMjzciOlKFotK/OMNefAtnEzzQu7W/2DSxrQvv+r5wUF7D3l+fw3MBNkLVFG71mqEgtgAp5fr1uTo5oLGnM0yEaW+/rqhOVKJEnHOv4ltJuJqTgLANizB+wkQsXHMAP+cVIatIg8BX+qN8/Sxxe6d8ew4VZraQ6VZIT4yBnYiIiIiIaiQbr5YYPHiw/vPuDAwOPIQ10RnS3LuUKbB74xZEqfwxctxETBg/HG08pHlPwtQazTs8i6jvY/Br9mmcP9UFLwbJxbD7zynFxZD3MSq1DSZOnIiJowcj0N9VmvfvqaxUodKrKQaPGidu19QPFuHr2R/hOa868HhhMkK/mS/UR+KFyjjs3v4ziss10pL0JBjYiYiIiIioxold3RhrL5ShrEz6ZJ/Dzh9kGNG6MWBti+Z2SqgyC8R56jIVMjVl8G/dDI18feBpnoWkGGlFDyN3RQ/zBNxIEZYtr5AeDncvM99OmPz8fnQLHAbTWcPQyEya8acs4dDIEbkm+VCqVCirEiq2daEwKUR6wW1hW7MQvnm11Pc20sJTMLB9V/j4+MDOohAVynhp3p9waYIxPeMxd8tRcd+Vqddw/kwkMj06Yfkb3yNkd7pQL0T0mYNo8GYDtLM1lxZ8OFu5Fyz/dxtJZaVQqyvh6N8Z3XNTcClFK26Xj9wM14WDmZCXhI1zDkGrq/n4o1FLOUxs1eKxc3RqCvUvmbhVpkZlNQP842BgJyIiIiKiGqf5wA3IXNAf/ftLn+Bj6H/mGoY0FWZaeqPrCDfE7pwhzoss9kS/F59B+g/TMUhoD9tthJeGPgNna905cUu4tmoDd2txtXp12uG9TyuwYUJ/TJn3GRILpPo9bNDqlSF4vsNU9G71+73r1i7N8Zx4CbwRLOt4op6HG2Qmd27aNoN/mz6okxuFccPfwqgDybD3aIk35O7YPnOUsK3r4Db4EwQ0lkMGD7zx+WxcXD1G3IclG87DMbAPXKSA7eDqh4autg8JdJYIencRlmYeEpd7e/wynLluLwR+O3RfshOtQsYJ9SGYe8kVA17rChuZMUwt5PBs1gi2dy7pt/FE65ausNBNez2LT8dkYOmAARg/fTOStfUxYvkSuJz6Ulx//5Ef4eJVGeo7NcELHQ5jnK7W/23MOe+APq/1hIOFMeq2740+7t9hUv+p2BKZyofOPQYj7eO8G4CIiIiIiAyOQqFAYWEh/Pz8pErNd/36dcTFxaFTp05ShWq70NBQTJ48WWrVDiqVCikpKQgICJAqj4dn2ImIiIiIiIgMEAM7EREREREZHHNzc1RUVKCoqEiqUG0WHx8PZ+dHfU7/04OXxBMRERER1XC18ZJ4XVi/ePEiTp8+LT48jWo3T09P9O3bF3Xr1pUqtcPfvSSegZ2IiIiIqIarjYGdqDbgPexEREREREREtRADOxEREREREZEBYmAnIiIiIiIiMkAM7EREREREREQGiIGdiIiIiIiIyAAxsBMREREREREZIAZ2IiIiIiIiIgPEwE5ERERERERkgBjYiYiIiIiIiAwQAzsRERERERGRATLSCqRpIiIiIiKqgRQKBZKTk+Hg4CBViMgQVFZWin8DAgLEv4+LgZ2IiIiIqIbThQKVSiW1iMiQyGQyWFtbS63Hw8BOREREREREZIB4DzsRERERERGRAWJgJyIiIiIiIjJADOxEREREREREBoiBnYiIiIiIiMgAMbATERERERERGSAGdiIiIiIiIiIDxMBOREREREREZIAY2ImIiIiIiIgMEAM7ERERERERkQFiYCciIiIiIiIyQAzsRERERERERAaIgZ2IiIiIiIjIADGwExERERERERkgBnYiIiIiIiIiA8TATkRERERERGSAjLQCaZqIiIiIiGq4oqIiVFZWSi0i+jfY2dnBzMxMaj05BnYiIiIiolqgoqICeXl5UKvV4D/xif5dRkZG4qdevXowNn7yC9sZ2ImIiIiIajiNRgOFQiGeWXdycoJMJpPmENG/obCwUPxPtIKCAjRs2PAJQzvwf6pw6sF5BFg8AAAAAElFTkSuQmCC)"
      ],
      "metadata": {
        "id": "o3_UVYK7Yu9J"
      }
    },
    {
      "cell_type": "code",
      "source": [
        "n = int(input())\n",
        "for i in range(n):\n",
        "    word = input().strip()\n",
        "    size = len(word)\n",
        "\n",
        "    if size % 2 != 0:\n",
        "        print('NO')\n",
        "    else:\n",
        "        middle = size//2\n",
        "        if(word[:middle]==word[middle:]):\n",
        "            print('YES')\n",
        "        else:\n",
        "            print('NO')"
      ],
      "metadata": {
        "id": "VNvjrqecYw1B"
      },
      "execution_count": null,
      "outputs": []
    }
  ]
}